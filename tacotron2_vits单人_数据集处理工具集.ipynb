{
  "cells": [
    {
      "cell_type": "markdown",
      "metadata": {
        "id": "E2k2feEG7yqa"
      },
      "source": [
        "## 补充说明\n",
        "\n",
        "1. demucs和slicer2可以自由选择，demucs默认放在前面以求slicer2分得更细；<br />如果因音频过长出错，可先执行slicer2后执行demucs\n",
        "\n",
        "2. slicer2不是AI，是算法分割音频\n",
        "\n",
        "3. 清除缓存会重置对应步骤产生的影响，但会删除对应步骤产生的数据，谨慎操作\n",
        "\n",
        "4. 默认勾选`wv_show_log` 以便于排错，如果觉得输出的东西太影响视野可以勾掉，还你一个清爽的界面\n",
        "\n",
        "5. 如果执行过程中出现一时解决不了的错误想要保留中间产物，或者demucs分离人声后想要保留背景音，<br />可以在导出时在 `wv_export_way` 填2，将过程中产生的所有文件打包保存到云盘\n",
        "\n",
        "6. whisper转写有一定出错概率，能找到原台词一般还是原台词更好"
      ]
    },
    {
      "cell_type": "markdown",
      "metadata": {
        "id": "XO6XCA2ebBNV"
      },
      "source": [
        "## 准备"
      ]
    },
    {
      "cell_type": "code",
      "execution_count": null,
      "metadata": {
        "colab": {
          "base_uri": "https://localhost:8080/"
        },
        "id": "TXnb0kKXBkRa",
        "outputId": "ac1fabcb-b096-4407-a99f-8cb1b52cbfdc"
      },
      "outputs": [
        {
          "name": "stdout",
          "output_type": "stream",
          "text": [
            "Mounted at /content/drive\n"
          ]
        }
      ],
      "source": [
        "#@markdown 加载云端硬盘\n",
        "from google.colab import drive\n",
        "drive.mount('/content/drive')"
      ]
    },
    {
      "cell_type": "code",
      "execution_count": 10,
      "metadata": {
        "colab": {
          "base_uri": "https://localhost:8080/"
        },
        "id": "aujPs55mCAbZ",
        "outputId": "e87eadc3-89c3-4be0-a12b-c3fd87485626"
      },
      "outputs": [
        {
          "name": "stdout",
          "output_type": "stream",
          "text": [
            "Reading package lists... Done\n",
            "Building dependency tree       \n",
            "Reading state information... Done\n",
            "ffmpeg is already the newest version (7:4.2.7-0ubuntu0.1).\n",
            "The following package was automatically installed and is no longer required:\n",
            "  libnvidia-common-510\n",
            "Use 'sudo apt autoremove' to remove it.\n",
            "0 upgraded, 0 newly installed, 0 to remove and 21 not upgraded.\n",
            "Reading package lists... Done\n",
            "Building dependency tree       \n",
            "Reading state information... Done\n",
            "p7zip-full is already the newest version (16.02+dfsg-7build1).\n",
            "p7zip-rar is already the newest version (16.02-3build1).\n",
            "The following package was automatically installed and is no longer required:\n",
            "  libnvidia-common-510\n",
            "Use 'sudo apt autoremove' to remove it.\n",
            "0 upgraded, 0 newly installed, 0 to remove and 21 not upgraded.\n",
            "Looking in indexes: https://pypi.org/simple, https://us-python.pkg.dev/colab-wheels/public/simple/\n",
            "Requirement already satisfied: librosa in /usr/local/lib/python3.8/dist-packages (0.8.1)\n",
            "Requirement already satisfied: soundfile in /usr/local/lib/python3.8/dist-packages (0.12.1)\n",
            "Requirement already satisfied: scikit-learn!=0.19.0,>=0.14.0 in /usr/local/lib/python3.8/dist-packages (from librosa) (1.0.2)\n",
            "Requirement already satisfied: pooch>=1.0 in /usr/local/lib/python3.8/dist-packages (from librosa) (1.6.0)\n",
            "Requirement already satisfied: numba>=0.43.0 in /usr/local/lib/python3.8/dist-packages (from librosa) (0.56.4)\n",
            "Requirement already satisfied: audioread>=2.0.0 in /usr/local/lib/python3.8/dist-packages (from librosa) (3.0.0)\n",
            "Requirement already satisfied: numpy>=1.15.0 in /usr/local/lib/python3.8/dist-packages (from librosa) (1.21.6)\n",
            "Requirement already satisfied: decorator>=3.0.0 in /usr/local/lib/python3.8/dist-packages (from librosa) (4.4.2)\n",
            "Requirement already satisfied: resampy>=0.2.2 in /usr/local/lib/python3.8/dist-packages (from librosa) (0.4.2)\n",
            "Requirement already satisfied: scipy>=1.0.0 in /usr/local/lib/python3.8/dist-packages (from librosa) (1.7.3)\n",
            "Requirement already satisfied: packaging>=20.0 in /usr/local/lib/python3.8/dist-packages (from librosa) (23.0)\n",
            "Requirement already satisfied: joblib>=0.14 in /usr/local/lib/python3.8/dist-packages (from librosa) (1.2.0)\n",
            "Requirement already satisfied: cffi>=1.0 in /usr/local/lib/python3.8/dist-packages (from soundfile) (1.15.1)\n",
            "Requirement already satisfied: pycparser in /usr/local/lib/python3.8/dist-packages (from cffi>=1.0->soundfile) (2.21)\n",
            "Requirement already satisfied: llvmlite<0.40,>=0.39.0dev0 in /usr/local/lib/python3.8/dist-packages (from numba>=0.43.0->librosa) (0.39.1)\n",
            "Requirement already satisfied: setuptools in /usr/local/lib/python3.8/dist-packages (from numba>=0.43.0->librosa) (57.4.0)\n",
            "Requirement already satisfied: importlib-metadata in /usr/local/lib/python3.8/dist-packages (from numba>=0.43.0->librosa) (6.0.0)\n",
            "Requirement already satisfied: appdirs>=1.3.0 in /usr/local/lib/python3.8/dist-packages (from pooch>=1.0->librosa) (1.4.4)\n",
            "Requirement already satisfied: requests>=2.19.0 in /usr/local/lib/python3.8/dist-packages (from pooch>=1.0->librosa) (2.25.1)\n",
            "Requirement already satisfied: threadpoolctl>=2.0.0 in /usr/local/lib/python3.8/dist-packages (from scikit-learn!=0.19.0,>=0.14.0->librosa) (3.1.0)\n",
            "Requirement already satisfied: certifi>=2017.4.17 in /usr/local/lib/python3.8/dist-packages (from requests>=2.19.0->pooch>=1.0->librosa) (2022.12.7)\n",
            "Requirement already satisfied: idna<3,>=2.5 in /usr/local/lib/python3.8/dist-packages (from requests>=2.19.0->pooch>=1.0->librosa) (2.10)\n",
            "Requirement already satisfied: urllib3<1.27,>=1.21.1 in /usr/local/lib/python3.8/dist-packages (from requests>=2.19.0->pooch>=1.0->librosa) (1.24.3)\n",
            "Requirement already satisfied: chardet<5,>=3.0.2 in /usr/local/lib/python3.8/dist-packages (from requests>=2.19.0->pooch>=1.0->librosa) (4.0.0)\n",
            "Requirement already satisfied: zipp>=0.5 in /usr/local/lib/python3.8/dist-packages (from importlib-metadata->numba>=0.43.0->librosa) (3.13.0)\n",
            "Looking in indexes: https://pypi.org/simple, https://us-python.pkg.dev/colab-wheels/public/simple/\n",
            "Requirement already satisfied: demucs in /usr/local/lib/python3.8/dist-packages (4.0.0)\n",
            "Requirement already satisfied: dora-search in /usr/local/lib/python3.8/dist-packages (from demucs) (0.1.11)\n",
            "Requirement already satisfied: torch>=1.8.1 in /usr/local/lib/python3.8/dist-packages (from demucs) (1.13.1+cu116)\n",
            "Requirement already satisfied: pyyaml in /usr/local/lib/python3.8/dist-packages (from demucs) (6.0)\n",
            "Requirement already satisfied: diffq>=0.2.1 in /usr/local/lib/python3.8/dist-packages (from demucs) (0.2.3)\n",
            "Requirement already satisfied: lameenc>=1.2 in /usr/local/lib/python3.8/dist-packages (from demucs) (1.4.2)\n",
            "Requirement already satisfied: julius>=0.2.3 in /usr/local/lib/python3.8/dist-packages (from demucs) (0.2.7)\n",
            "Requirement already satisfied: tqdm in /usr/local/lib/python3.8/dist-packages (from demucs) (4.64.1)\n",
            "Requirement already satisfied: openunmix in /usr/local/lib/python3.8/dist-packages (from demucs) (1.2.1)\n",
            "Requirement already satisfied: torchaudio>=0.8 in /usr/local/lib/python3.8/dist-packages (from demucs) (0.13.1+cu116)\n",
            "Requirement already satisfied: einops in /usr/local/lib/python3.8/dist-packages (from demucs) (0.6.0)\n",
            "Requirement already satisfied: numpy in /usr/local/lib/python3.8/dist-packages (from diffq>=0.2.1->demucs) (1.21.6)\n",
            "Requirement already satisfied: Cython in /usr/local/lib/python3.8/dist-packages (from diffq>=0.2.1->demucs) (0.29.33)\n",
            "Requirement already satisfied: typing-extensions in /usr/local/lib/python3.8/dist-packages (from torch>=1.8.1->demucs) (4.5.0)\n",
            "Requirement already satisfied: retrying in /usr/local/lib/python3.8/dist-packages (from dora-search->demucs) (1.3.4)\n",
            "Requirement already satisfied: omegaconf in /usr/local/lib/python3.8/dist-packages (from dora-search->demucs) (2.3.0)\n",
            "Requirement already satisfied: treetable in /usr/local/lib/python3.8/dist-packages (from dora-search->demucs) (0.2.5)\n",
            "Requirement already satisfied: submitit in /usr/local/lib/python3.8/dist-packages (from dora-search->demucs) (1.4.5)\n",
            "Requirement already satisfied: antlr4-python3-runtime==4.9.* in /usr/local/lib/python3.8/dist-packages (from omegaconf->dora-search->demucs) (4.9.3)\n",
            "Requirement already satisfied: six>=1.7.0 in /usr/local/lib/python3.8/dist-packages (from retrying->dora-search->demucs) (1.15.0)\n",
            "Requirement already satisfied: cloudpickle>=1.2.1 in /usr/local/lib/python3.8/dist-packages (from submitit->dora-search->demucs) (2.2.1)\n",
            "Looking in indexes: https://pypi.org/simple, https://us-python.pkg.dev/colab-wheels/public/simple/\n",
            "Collecting git+https://github.com/openai/whisper.git\n",
            "  Cloning https://github.com/openai/whisper.git to /tmp/pip-req-build-5tg20212\n",
            "  Running command git clone --filter=blob:none --quiet https://github.com/openai/whisper.git /tmp/pip-req-build-5tg20212\n",
            "  Resolved https://github.com/openai/whisper.git to commit 7858aa9c08d98f75575035ecd6481f462d66ca27\n",
            "  Preparing metadata (setup.py) ... \u001b[?25l\u001b[?25hdone\n",
            "Requirement already satisfied: numpy in /usr/local/lib/python3.8/dist-packages (from openai-whisper==20230124) (1.21.6)\n",
            "Requirement already satisfied: torch in /usr/local/lib/python3.8/dist-packages (from openai-whisper==20230124) (1.13.1+cu116)\n",
            "Requirement already satisfied: tqdm in /usr/local/lib/python3.8/dist-packages (from openai-whisper==20230124) (4.64.1)\n",
            "Requirement already satisfied: more-itertools in /usr/local/lib/python3.8/dist-packages (from openai-whisper==20230124) (9.0.0)\n",
            "Requirement already satisfied: transformers>=4.19.0 in /usr/local/lib/python3.8/dist-packages (from openai-whisper==20230124) (4.26.1)\n",
            "Requirement already satisfied: ffmpeg-python==0.2.0 in /usr/local/lib/python3.8/dist-packages (from openai-whisper==20230124) (0.2.0)\n",
            "Requirement already satisfied: future in /usr/local/lib/python3.8/dist-packages (from ffmpeg-python==0.2.0->openai-whisper==20230124) (0.16.0)\n",
            "Requirement already satisfied: filelock in /usr/local/lib/python3.8/dist-packages (from transformers>=4.19.0->openai-whisper==20230124) (3.9.0)\n",
            "Requirement already satisfied: tokenizers!=0.11.3,<0.14,>=0.11.1 in /usr/local/lib/python3.8/dist-packages (from transformers>=4.19.0->openai-whisper==20230124) (0.13.2)\n",
            "Requirement already satisfied: requests in /usr/local/lib/python3.8/dist-packages (from transformers>=4.19.0->openai-whisper==20230124) (2.25.1)\n",
            "Requirement already satisfied: packaging>=20.0 in /usr/local/lib/python3.8/dist-packages (from transformers>=4.19.0->openai-whisper==20230124) (23.0)\n",
            "Requirement already satisfied: regex!=2019.12.17 in /usr/local/lib/python3.8/dist-packages (from transformers>=4.19.0->openai-whisper==20230124) (2022.6.2)\n",
            "Requirement already satisfied: pyyaml>=5.1 in /usr/local/lib/python3.8/dist-packages (from transformers>=4.19.0->openai-whisper==20230124) (6.0)\n",
            "Requirement already satisfied: huggingface-hub<1.0,>=0.11.0 in /usr/local/lib/python3.8/dist-packages (from transformers>=4.19.0->openai-whisper==20230124) (0.12.1)\n",
            "Requirement already satisfied: typing-extensions in /usr/local/lib/python3.8/dist-packages (from torch->openai-whisper==20230124) (4.5.0)\n",
            "Requirement already satisfied: chardet<5,>=3.0.2 in /usr/local/lib/python3.8/dist-packages (from requests->transformers>=4.19.0->openai-whisper==20230124) (4.0.0)\n",
            "Requirement already satisfied: urllib3<1.27,>=1.21.1 in /usr/local/lib/python3.8/dist-packages (from requests->transformers>=4.19.0->openai-whisper==20230124) (1.24.3)\n",
            "Requirement already satisfied: idna<3,>=2.5 in /usr/local/lib/python3.8/dist-packages (from requests->transformers>=4.19.0->openai-whisper==20230124) (2.10)\n",
            "Requirement already satisfied: certifi>=2017.4.17 in /usr/local/lib/python3.8/dist-packages (from requests->transformers>=4.19.0->openai-whisper==20230124) (2022.12.7)\n",
            "fatal: destination path './slicer' already exists and is not an empty directory.\n",
            "Looking in indexes: https://pypi.org/simple, https://us-python.pkg.dev/colab-wheels/public/simple/\n",
            "Requirement already satisfied: pydub in /usr/local/lib/python3.8/dist-packages (0.25.1)\n",
            "Looking in indexes: https://pypi.org/simple, https://us-python.pkg.dev/colab-wheels/public/simple/\n",
            "Collecting opencc\n",
            "  Downloading OpenCC-1.1.6-cp38-cp38-manylinux1_x86_64.whl (778 kB)\n",
            "\u001b[2K     \u001b[90m━━━━━━━━━━━━━━━━━━━━━━━━━━━━━━━━━━━━━━\u001b[0m \u001b[32m778.2/778.2 KB\u001b[0m \u001b[31m13.1 MB/s\u001b[0m eta \u001b[36m0:00:00\u001b[0m\n",
            "\u001b[?25hInstalling collected packages: opencc\n",
            "Successfully installed opencc-1.1.6\n"
          ]
        }
      ],
      "source": [
        "#@markdown 安装依赖\n",
        "\n",
        "wv_show_log = True #@param :{type: \"boolean\"}\n",
        "\n",
        "def do_install():\n",
        "  wv_log_option = \"\" if wv_show_log else \">/dev/null 2>&1\"\n",
        "  !sudo apt install ffmpeg {wv_log_option}\n",
        "  !sudo apt-get install p7zip-full p7zip-rar {wv_log_option}\n",
        "  !pip install librosa soundfile {wv_log_option}\n",
        "  !pip install demucs {wv_log_option}\n",
        "  !pip install git+https://github.com/openai/whisper.git {wv_log_option}\n",
        "  !git clone --recursive https://github.com/openvpi/audio-slicer ./slicer {wv_log_option}\n",
        "  !pip install pydub {wv_log_option}\n",
        "  !pip install opencc\n",
        "  !pip install pypinyin\n",
        " \n",
        "do_install()"
      ]
    },
    {
      "cell_type": "code",
      "execution_count": null,
      "metadata": {
        "id": "RtkRN_ZHRvGL"
      },
      "outputs": [],
      "source": [
        "#@markdown 定义常量和引入库\n",
        "import os\n",
        "import whisper\n",
        "import librosa  # Optional. Use any library you like to read audio files.\n",
        "import soundfile  # Optional. Use any library you like to write audio files.\n",
        "from tqdm import tqdm\n",
        "from slicer.slicer2 import Slicer\n",
        "\n",
        "WV_RAW_DIR = \"raws\"  \n",
        "WV_WAV_DIR = \"wavs\"\n",
        "WV_OLD_WAV_DIR = \"old_wavs\"\n",
        "WV_RAW_WAV_DIR = \"raw_wavs\"\n",
        "WV_TMP_DIR = \"tmp\"\n",
        "WV_FILELIST_DIR = \"filelists\" \n",
        "WV_FILELIST_FILE = \"list_source.txt\" \n",
        "WV_WHISPER_TMP_DIR = f\"{WV_WAV_DIR}_before\"\n",
        "\n",
        "wv_whisper_model = 0\n",
        "\n",
        "def wv_clean_empty_lines_for_one(filename):\n",
        "    file_in = open(filename, \"r\", encoding=\"utf-8\")\n",
        "    content = file_in.readlines()\n",
        "    file_in.close()\n",
        "    file_out = open(filename, \"w\", encoding=\"utf-8\")\n",
        "    for i in range(len(content)):\n",
        "        line = content[i]\n",
        "        line = line.strip()\n",
        "        if len(line) == 0:\n",
        "            continue\n",
        "        if i == len(content) - 1:\n",
        "            print(line, file=file_out, end=\"\")\n",
        "        else:\n",
        "            print(line, file=file_out)\n",
        "    file_out.close()\n",
        "\n",
        "def wv_clean_empty_lines_for_all():\n",
        "  for _, _, files in os.walk(WV_FILELIST_DIR):\n",
        "    for file in tqdm(files):\n",
        "      wv_result_file = f'{WV_FILELIST_DIR}/{file}'\n",
        "      wv_clean_empty_lines_for_one(wv_result_file)"
      ]
    },
    {
      "cell_type": "code",
      "execution_count": null,
      "metadata": {
        "cellView": "form",
        "id": "_4pTh4hrgjxt"
      },
      "outputs": [],
      "source": [
        "#@markdown 清除上次解压缓存\n",
        "wv_check_if = False #@param {type: \"boolean\"}\n",
        "if wv_check_if:\n",
        "  !rm -rf {WV_RAW_DIR}"
      ]
    },
    {
      "cell_type": "code",
      "execution_count": null,
      "metadata": {
        "colab": {
          "base_uri": "https://localhost:8080/"
        },
        "id": "OCgeabZOA-HC",
        "outputId": "90671629-c383-4db1-a130-6f8f2a8d285c"
      },
      "outputs": [
        {
          "name": "stdout",
          "output_type": "stream",
          "text": [
            "\n",
            "7-Zip [64] 16.02 : Copyright (c) 1999-2016 Igor Pavlov : 2016-05-21\n",
            "p7zip Version 16.02 (locale=en_US.UTF-8,Utf16=on,HugeFiles=on,64 bits,2 CPUs Intel(R) Xeon(R) CPU @ 2.30GHz (306F0),ASM,AES-NI)\n",
            "\n",
            "Scanning the drive for archives:\n",
            "  0M Scan /content/drive/MyDrive/dataset/\b\b\b\b\b\b\b\b\b\b\b\b\b\b\b\b\b\b\b\b\b\b\b\b\b\b\b\b\b\b\b\b\b\b\b\b\b\b\b\b\b                                         \b\b\b\b\b\b\b\b\b\b\b\b\b\b\b\b\b\b\b\b\b\b\b\b\b\b\b\b\b\b\b\b\b\b\b\b\b\b\b\b\b1 file, 146133145 bytes (140 MiB)\n",
            "\n",
            "Extracting archive: /content/drive/MyDrive/dataset/Caitlyn_567.zip\n",
            "--\n",
            "Path = /content/drive/MyDrive/dataset/Caitlyn_567.zip\n",
            "Type = zip\n",
            "Physical Size = 146133145\n",
            "\n",
            "  0%\b\b\b\b    \b\b\b\b  7% 35 - Caitlyn/File0036.wav\b\b\b\b\b\b\b\b\b\b\b\b\b\b\b\b\b\b\b\b\b\b\b\b\b\b\b\b\b\b                              \b\b\b\b\b\b\b\b\b\b\b\b\b\b\b\b\b\b\b\b\b\b\b\b\b\b\b\b\b\b 12% 49 - Caitlyn/File0050.wav\b\b\b\b\b\b\b\b\b\b\b\b\b\b\b\b\b\b\b\b\b\b\b\b\b\b\b\b\b\b                              \b\b\b\b\b\b\b\b\b\b\b\b\b\b\b\b\b\b\b\b\b\b\b\b\b\b\b\b\b\b 16% 64 - Caitlyn/File0065.wav\b\b\b\b\b\b\b\b\b\b\b\b\b\b\b\b\b\b\b\b\b\b\b\b\b\b\b\b\b\b                              \b\b\b\b\b\b\b\b\b\b\b\b\b\b\b\b\b\b\b\b\b\b\b\b\b\b\b\b\b\b 21% 92 - Caitlyn/File0093.wav\b\b\b\b\b\b\b\b\b\b\b\b\b\b\b\b\b\b\b\b\b\b\b\b\b\b\b\b\b\b                              \b\b\b\b\b\b\b\b\b\b\b\b\b\b\b\b\b\b\b\b\b\b\b\b\b\b\b\b\b\b 26% 112 - Caitlyn/File0113.wav\b\b\b\b\b\b\b\b\b\b\b\b\b\b\b\b\b\b\b\b\b\b\b\b\b\b\b\b\b\b\b                               \b\b\b\b\b\b\b\b\b\b\b\b\b\b\b\b\b\b\b\b\b\b\b\b\b\b\b\b\b\b\b 35% 155 - Caitlyn/File0156.wav\b\b\b\b\b\b\b\b\b\b\b\b\b\b\b\b\b\b\b\b\b\b\b\b\b\b\b\b\b\b\b                               \b\b\b\b\b\b\b\b\b\b\b\b\b\b\b\b\b\b\b\b\b\b\b\b\b\b\b\b\b\b\b 43% 208 - Caitlyn/File0209.wav\b\b\b\b\b\b\b\b\b\b\b\b\b\b\b\b\b\b\b\b\b\b\b\b\b\b\b\b\b\b\b                               \b\b\b\b\b\b\b\b\b\b\b\b\b\b\b\b\b\b\b\b\b\b\b\b\b\b\b\b\b\b\b 53% 267 - Caitlyn/File0268.wav\b\b\b\b\b\b\b\b\b\b\b\b\b\b\b\b\b\b\b\b\b\b\b\b\b\b\b\b\b\b\b                               \b\b\b\b\b\b\b\b\b\b\b\b\b\b\b\b\b\b\b\b\b\b\b\b\b\b\b\b\b\b\b 62% 325 - Caitlyn/File0326.wav\b\b\b\b\b\b\b\b\b\b\b\b\b\b\b\b\b\b\b\b\b\b\b\b\b\b\b\b\b\b\b                               \b\b\b\b\b\b\b\b\b\b\b\b\b\b\b\b\b\b\b\b\b\b\b\b\b\b\b\b\b\b\b 69% 370 - Caitlyn/File0371.wav\b\b\b\b\b\b\b\b\b\b\b\b\b\b\b\b\b\b\b\b\b\b\b\b\b\b\b\b\b\b\b                               \b\b\b\b\b\b\b\b\b\b\b\b\b\b\b\b\b\b\b\b\b\b\b\b\b\b\b\b\b\b\b 79% 434 - Caitlyn/File0435.wav\b\b\b\b\b\b\b\b\b\b\b\b\b\b\b\b\b\b\b\b\b\b\b\b\b\b\b\b\b\b\b                               \b\b\b\b\b\b\b\b\b\b\b\b\b\b\b\b\b\b\b\b\b\b\b\b\b\b\b\b\b\b\b 89% 508 - Caitlyn/File0509.wav\b\b\b\b\b\b\b\b\b\b\b\b\b\b\b\b\b\b\b\b\b\b\b\b\b\b\b\b\b\b\b                               \b\b\b\b\b\b\b\b\b\b\b\b\b\b\b\b\b\b\b\b\b\b\b\b\b\b\b\b\b\b\b 99% 563 - Caitlyn/File0564.wav\b\b\b\b\b\b\b\b\b\b\b\b\b\b\b\b\b\b\b\b\b\b\b\b\b\b\b\b\b\b\b                               \b\b\b\b\b\b\b\b\b\b\b\b\b\b\b\b\b\b\b\b\b\b\b\b\b\b\b\b\b\b\bEverything is Ok\n",
            "\n",
            "Files: 567\n",
            "Size:       188244980\n",
            "Compressed: 146133145\n"
          ]
        }
      ],
      "source": [
        "#@markdown 解压\n",
        "wv_show_log = True #@param :{type: \"boolean\"}\n",
        "def fun_unzip():\n",
        "  wv_log_option = \"\" if wv_show_log else \">/dev/null 2>&1\"\n",
        "  os.makedirs(WV_RAW_DIR, exist_ok=True)\n",
        "  wv_raw_path = \"/content/drive/MyDrive/dataset/Caitlyn_567.zip\" #@param {type: \"string\"}\n",
        "  !7z e {wv_raw_path} -o{WV_RAW_DIR} {wv_log_option}\n",
        "fun_unzip()\n",
        "\n"
      ]
    },
    {
      "cell_type": "markdown",
      "metadata": {
        "id": "o9SHa9Xy3rZ8"
      },
      "source": [
        "## 处理流程"
      ]
    },
    {
      "cell_type": "code",
      "execution_count": null,
      "metadata": {
        "cellView": "form",
        "id": "JYEL8yrEg6eO"
      },
      "outputs": [],
      "source": [
        "#@markdown 清除上次demucs缓存\n",
        "wv_check_if = False #@param {type: \"boolean\"}\n",
        "if wv_check_if:\n",
        "  !rm -rf {WV_WAV_DIR} {WV_TMP_DIR} {WV_RAW_WAV_DIR}"
      ]
    },
    {
      "cell_type": "code",
      "execution_count": null,
      "metadata": {
        "id": "0pJb6NAxV1M3"
      },
      "outputs": [],
      "source": [
        "#@markdown ### 使用 demucs 去除背景杂音？（用时较长）\n",
        "wv_use_demucs = True #@param {type: \"boolean\"}\n",
        "# #@markdown 在过程结束（成功或失败）时删除临时文件？\n",
        "# wv_use_demucs_delete_tmp = False #@param {type: \"boolean\"}\n",
        "#@markdown 显示转换过程日志\n",
        "wv_show_log = True #@param :{type: \"boolean\"}\n",
        "#@markdown 选择模型\n",
        "wv_demucs_model_name = \"htdemucs_6s\" #@param {type: \"string\"}\n",
        "\n",
        "# (raws -> wavs)\n",
        "\n",
        "# wavs  -> raw_wavs\n",
        "#       -> wavs\n",
        "def fun_use_demucs():\n",
        "  if not os.path.exists(WV_WAV_DIR):\n",
        "    !cp -r {WV_RAW_DIR} {WV_WAV_DIR}\n",
        "  !mv {WV_WAV_DIR} {WV_RAW_WAV_DIR}\n",
        "  !mkdir {WV_WAV_DIR}\n",
        "  wv_log_option = \"\" if wv_show_log else \">/dev/null 2>&1\"\n",
        "  for _, _, files in os.walk(WV_RAW_WAV_DIR):\n",
        "    files.sort()\n",
        "    for file in tqdm(files):\n",
        "      old_file = f'{WV_RAW_WAV_DIR}/{file}'\n",
        "      new_file = f'{WV_WAV_DIR}/{\".\".join(file.split(\".\")[:-1])}.wav'\n",
        "      filename = file.split('.')[0]\n",
        "      !demucs --two-stems=vocals {old_file} -o {WV_TMP_DIR} -n {wv_demucs_model_name} {wv_log_option}\n",
        "      !ffmpeg -i {WV_TMP_DIR}/{wv_demucs_model_name}/{filename}/vocals.wav  -acodec pcm_s16le -ac 1 -ar 22050 {new_file} {wv_log_option}\n",
        "  # if wv_use_demucs_delete_tmp:\n",
        "  #  !rm -rf {WV_TMP_DIR}\n",
        "\n",
        "if wv_use_demucs:\n",
        "  fun_use_demucs()\n",
        "\n",
        "# "
      ]
    },
    {
      "cell_type": "markdown",
      "metadata": {
        "id": "L_Pbm1eEHEUa"
      },
      "source": [
        "关于demucs模型选择 （摘自官方[readme](https://github.com/facebookresearch/demucs/blob/main/README.md)）\n",
        "\n",
        "The list of pre-trained models is:\n",
        "- `htdemucs`: first version of Hybrid Transformer Demucs. Trained on MusDB + 800 songs. Default model.\n",
        "- `htdemucs_ft`: fine-tuned version of `htdemucs`, separation will take 4 times more time\n",
        "    but might be a bit better. Same training set as `htdemucs`.\n",
        "- `htdemucs_6s`: 6 sources version of `htdemucs`, with `piano` and `guitar` being added as sources.\n",
        "    Note that the `piano` source is not working great at the moment.\n",
        "- `hdemucs_mmi`: Hybrid Demucs v3, retrained on MusDB + 800 songs.\n",
        "- `mdx`: trained only on MusDB HQ, winning model on track A at the [MDX][mdx] challenge.\n",
        "- `mdx_extra`: trained with extra training data (including MusDB test set), ranked 2nd on the track B\n",
        "    of the [MDX][mdx] challenge.\n",
        "- `mdx_q`, `mdx_extra_q`: quantized version of the previous models. Smaller download and storage\n",
        "    but quality can be slightly worse.\n",
        "- `SIG`: where `SIG` is a single model from the [model zoo](docs/training.md#model-zoo)."
      ]
    },
    {
      "cell_type": "code",
      "execution_count": null,
      "metadata": {
        "cellView": "form",
        "id": "HH1fNg39gyj-"
      },
      "outputs": [],
      "source": [
        "#@markdown 清除上次slicer2缓存\n",
        "wv_check_if = False #@param {type: \"boolean\"}\n",
        "if wv_check_if:\n",
        "  if os.path.exists(WV_OLD_WAV_DIR):\n",
        "    !rm -rf {WV_WAV_DIR}\n",
        "    !mv {WV_OLD_WAV_DIR} {WV_WAV_DIR}"
      ]
    },
    {
      "cell_type": "code",
      "execution_count": null,
      "metadata": {
        "cellView": "form",
        "colab": {
          "base_uri": "https://localhost:8080/"
        },
        "id": "5xpXueT0DBdg",
        "outputId": "1e0618d7-09c4-4e24-9324-827dc82f4878"
      },
      "outputs": [
        {
          "name": "stderr",
          "output_type": "stream",
          "text": [
            "100%|██████████| 567/567 [00:03<00:00, 147.86it/s]\n"
          ]
        }
      ],
      "source": [
        "#@markdown ### 使用 [slicer2](https://github.com/openvpi/audio-slicer) 分割音频？\n",
        "\n",
        "wv_use_slicer = True #@param {type: \"boolean\"}\n",
        "\n",
        "#@markdown 下面的参数可以不改动\n",
        "wv_slicer_threshold   = -40   #@param {type: \"integer\"}\n",
        "wv_slicer_min_length  = 5000  #@param {type: \"integer\"}\n",
        "wv_slicer_min_interval= 300   #@param {type: \"integer\"}\n",
        "wv_slicer_hop_size    = 10    #@param {type: \"integer\"}\n",
        "wv_slicer_max_sil_kept= 100   #@param {type: \"integer\"}\n",
        "\n",
        "# wavs -> old_wavs\n",
        "#      -> wavs\n",
        "def fun_use_slicer():\n",
        "  if not os.path.exists(WV_WAV_DIR):\n",
        "    !cp -r {WV_RAW_DIR} {WV_WAV_DIR}\n",
        "  !mv {WV_WAV_DIR} {WV_OLD_WAV_DIR}\n",
        "  os.makedirs(WV_WAV_DIR, exist_ok=True)\n",
        "  for _, _, files in os.walk(WV_OLD_WAV_DIR):\n",
        "    files.sort()\n",
        "    for file in tqdm(files):\n",
        "      audio, sr = librosa.load(f'{WV_OLD_WAV_DIR}/{file}', sr=None, mono=False)  # Load an audio file with librosa.\n",
        "      slicer = Slicer(\n",
        "          sr=sr,\n",
        "          threshold=wv_slicer_threshold,\n",
        "          min_length=wv_slicer_min_length,\n",
        "          min_interval=wv_slicer_min_interval,\n",
        "          hop_size=wv_slicer_hop_size,\n",
        "          max_sil_kept=wv_slicer_max_sil_kept\n",
        "      )\n",
        "      chunks = slicer.slice(audio)\n",
        "      for i, chunk in enumerate(chunks):\n",
        "          if len(chunk.shape) > 1:\n",
        "              chunk = chunk.T  # Swap axes if the audio is stereo.\n",
        "          filename = file.split('.')[0]\n",
        "          soundfile.write(f'{WV_WAV_DIR}/{filename}_{str(i).zfill(4)}.wav', chunk, sr)  # Save sliced\n",
        "if wv_use_slicer:\n",
        "  fun_use_slicer()\n",
        "else:\n",
        "  !cp -r {WV_RAW_DIR} {WV_WAV_DIR}\n",
        "      "
      ]
    },
    {
      "cell_type": "code",
      "execution_count": null,
      "metadata": {
        "cellView": "form",
        "id": "BUxuP9PxhEI7"
      },
      "outputs": [],
      "source": [
        "#@markdown 清除上次whisper缓存\n",
        "wv_check_if = False #@param {type: \"boolean\"}\n",
        "if wv_check_if:\n",
        "  wv_whisper_model = 0\n",
        "  if os.path.exists(WV_WHISPER_TMP_DIR):\n",
        "    !rm -rf {WV_WAV_DIR}\n",
        "    !mv {WV_WHISPER_TMP_DIR} {WV_WAV_DIR}\n",
        "  !rm -rf {WV_FILELIST_DIR} /content/whisper-vits-japanese"
      ]
    },
    {
      "cell_type": "code",
      "execution_count": 15,
      "metadata": {
        "colab": {
          "base_uri": "https://localhost:8080/"
        },
        "id": "hoorYo08S694",
        "outputId": "f5257bcd-ccb7-47a5-ff74-d4757386354f"
      },
      "outputs": [
        {
          "name": "stdout",
          "output_type": "stream",
          "text": [
            "Looking in indexes: https://pypi.org/simple, https://us-python.pkg.dev/colab-wheels/public/simple/\n",
            "Collecting pypinyin\n",
            "  Downloading pypinyin-0.48.0-py2.py3-none-any.whl (1.4 MB)\n",
            "\u001b[2K     \u001b[90m━━━━━━━━━━━━━━━━━━━━━━━━━━━━━━━━━━━━━━━━\u001b[0m \u001b[32m1.4/1.4 MB\u001b[0m \u001b[31m18.1 MB/s\u001b[0m eta \u001b[36m0:00:00\u001b[0m\n",
            "\u001b[?25hInstalling collected packages: pypinyin\n",
            "Successfully installed pypinyin-0.48.0\n"
          ]
        }
      ],
      "source": [
        "#@markdown ### whisper 转写 (用时较长)\n",
        "\n",
        "#@markdown **单个音频不能超过30秒，可使用前面的slicer2分割**\n",
        "\n",
        "#@markdown 0 - 不使用whisper转写\n",
        "\n",
        "#@markdown 1 - 直接使用whisper转写\n",
        "\n",
        "#@markdown 2 - 调用 [auto.py](https://github.com/AlexandaJerry/whisper-vits-japanese/blob/main/auto.py) 进一步分割音频\n",
        "wv_whisper_option = 1 #@param {type: \"integer\"}\n",
        "#@markdown whisper 语种\n",
        "wv_language = \"Chinese\" #@param {type: \"string\"}\n",
        "#@markdown whisper 模型\n",
        "wv_whisper_model_name = \"large\" #@param {type: \"string\"}\n"
      ]
    },
    {
      "cell_type": "markdown",
      "metadata": {
        "id": "x2jwAR4fLSWe"
      },
      "source": [
        "关于whisper模型选择 （摘自官方[readme](https://github.com/openai/whisper/blob/main/README.md)）\n",
        "\n",
        "**Available models and languages**\n",
        "\n",
        "There are five model sizes, four with English-only versions, offering speed and accuracy tradeoffs. Below are the names of the available models and their approximate memory requirements and relative speed. \n",
        "\n",
        "\n",
        "|  Size  | Parameters | English-only model | Multilingual model | Required VRAM | Relative speed |\n",
        "|:------:|:----------:|:------------------:|:------------------:|:-------------:|:--------------:|\n",
        "|  tiny  |    39 M    |     `tiny.en`      |       `tiny`       |     ~1 GB     |      ~32x      |\n",
        "|  base  |    74 M    |     `base.en`      |       `base`       |     ~1 GB     |      ~16x      |\n",
        "| small  |   244 M    |     `small.en`     |      `small`       |     ~2 GB     |      ~6x       |\n",
        "| medium |   769 M    |    `medium.en`     |      `medium`      |     ~5 GB     |      ~2x       |\n",
        "| large  |   1550 M   |        N/A         |      `large`       |    ~10 GB     |       1x       |"
      ]
    },
    {
      "cell_type": "code",
      "execution_count": null,
      "metadata": {
        "colab": {
          "base_uri": "https://localhost:8080/"
        },
        "id": "wO-D3qS5De4h",
        "outputId": "5286c05d-d839-451c-8ce2-62f57304ab2c"
      },
      "outputs": [],
      "source": [
        "#@markdown 转写方式1 - 直接使用whisper转写\n",
        "\n",
        "# snippet in https://github.com/openai/whisper/blob/main/README.md\n",
        "\n",
        "# load model\n",
        "def fun_use_whisper_way1_01():\n",
        "  global wv_whisper_model\n",
        "  if wv_whisper_model == 0:\n",
        "    wv_whisper_model = whisper.load_model(wv_whisper_model_name)\n",
        "# use model\n",
        "def fun_use_whisper_way1_02():\n",
        "  os.makedirs(WV_FILELIST_DIR, exist_ok=True)\n",
        "  wv_result_file = f'{WV_FILELIST_DIR}/{WV_FILELIST_FILE}'\n",
        "  wv_result = open(wv_result_file, \"a\", encoding=\"utf-8\")\n",
        "\n",
        "  for _, _, files in os.walk(WV_WAV_DIR):\n",
        "    files.sort()\n",
        "    for file in tqdm(files):\n",
        "      audio = whisper.load_audio(f\"{WV_WAV_DIR}/{file}\")\n",
        "      audio = whisper.pad_or_trim(audio)\n",
        "      mel = whisper.log_mel_spectrogram(audio).to(wv_whisper_model.device)\n",
        "      options = whisper.DecodingOptions(language=wv_language)\n",
        "      result = whisper.decode(wv_whisper_model, mel, options)\n",
        "      text = result.text\n",
        "      if wv_language == 'Chinese':\n",
        "        text = traditional_to_simplified(text.replace(' ', ','))\n",
        "        # 叠词且语气词小于5，则将该音频标注为语气词，方便后面筛掉\n",
        "        if (has_modal_particles(text) and has_reduplication(text)\n",
        "          and len(text) < 4):\n",
        "          print(f'wavs/{file}|语气词', file=wv_result)\n",
        "          continue\n",
        "        # text = remove_punctuation(text).\n",
        "        # text = chinese_to_pinyin(text)\n",
        "      print(f'wavs/{file}|{text}', file=wv_result)\n",
        "\n",
        "#繁体转简体\n",
        "import opencc\n",
        "def traditional_to_simplified(text):\n",
        "    # 创建 OpenCC 的简繁转换器\n",
        "    converter = opencc.OpenCC('t2s.json')\n",
        "    # 调用转换器进行转换\n",
        "    return converter.convert(text)\n",
        "\n",
        "\"\"\"\n",
        "  将中文转换成拼音\n",
        "\"\"\"\n",
        "import pypinyin\n",
        "def chinese_to_pinyin(chinese):\n",
        "\n",
        "    pinyin_list = pypinyin.pinyin(chinese, style=pypinyin.TONE3, neutral_tone_with_five=False)\n",
        "    result = []\n",
        "    for pinyin in pinyin_list:\n",
        "        # 将每个拼音的列表转换成字符串，用空格分隔每个拼音，然后加上声调标记\n",
        "        pinyin_str = \" \".join(pinyin)\n",
        "        result.append(pinyin_str)\n",
        "    return \" \".join(result)\n",
        "\n",
        "# 判断是否有叠词\n",
        "def has_reduplication(text):\n",
        "    n = len(text)\n",
        "    for i in range(n-1):\n",
        "        if text[i] == text[i+1]:\n",
        "            return True\n",
        "    return False\n",
        "\n",
        "# 判断是否有语气词\n",
        "import re\n",
        "def has_modal_particles(text):\n",
        "    modal_particles = ['嗯', '啧', '呢', '吧', '咳', '啊', '哦', '哇', '呃', '嘿']\n",
        "    pattern = \"|\".join(modal_particles)\n",
        "    match = re.search(pattern, text)\n",
        "    if match:\n",
        "        return True\n",
        "    else:\n",
        "        return False\n",
        "\n",
        "# 去除标点符号\n",
        "import string\n",
        "def remove_punctuation(text):\n",
        "  # 去除标点符号\n",
        "  text_without_punctuation = ''.join(c for c in text if c not in string.punctuation)\n",
        "    \n",
        "  # 将空格替换为逗号或移除空格\n",
        "  words = text_without_punctuation.split()\n",
        "  new_text = []\n",
        "  for i in range(len(words)):\n",
        "      if i == 0:\n",
        "          new_text.append(words[i])\n",
        "      elif i == len(words) - 1:\n",
        "          new_text.append(words[i])\n",
        "      elif (words[i-1] in string.punctuation) or (words[i+1] in string.punctuation):\n",
        "          new_text.append(words[i])\n",
        "      else:\n",
        "          new_text.append(',')\n",
        "    \n",
        "  return ' '.join(new_text)\n",
        "\n",
        "if wv_whisper_option == 1:\n",
        "  fun_use_whisper_way1_01()\n",
        "  fun_use_whisper_way1_02()\n",
        "  wv_clean_empty_lines_for_all()"
      ]
    },
    {
      "cell_type": "code",
      "execution_count": null,
      "metadata": {
        "cellView": "form",
        "id": "snc5RYR_TyNA"
      },
      "outputs": [],
      "source": [
        "#@markdown 转写方式2 - 调用 auto.py 进一步分割音频\n",
        "# import logging\n",
        "#@markdown Forked from: https://github.com/AlexandaJerry/whisper-vits-japanese/blob/main/Whisper_Vits_Japanese.ipynb\n",
        "def wv_split_way2_01():\n",
        "  # logging.setLevel(logging.INFO)\n",
        "\n",
        "  print(f'1. dependency')\n",
        "  wv_use_split_repo = \"https://github.com/wind4000/whisper-vits-japanese\" #@param {type: \"string\"}\n",
        "  wv_use_split_branch = \"fix-regex\" #@param {type: \"string\"}\n",
        "  !git clone {wv_use_split_repo} -b {wv_use_split_branch}\n",
        "\n",
        "  print(f'2. prepare')\n",
        "  wvj_audio_dir = f'whisper-vits-japanese/audio/'\n",
        "  # !cp /content/whisper-vits-japanese/whisper/transcribe.py /usr/local/lib/python3.8/dist-packages/whisper\n",
        "  # !cp /content/whisper-vits-japanese/whisper/utils.py /usr/local/lib/python3.8/dist-packages/whisper\n",
        "  !rm -rf {wvj_audio_dir}\n",
        "  !cp -r {WV_WAV_DIR} {wvj_audio_dir}\n",
        "\n",
        "  print(f'3. whisper transcribe')\n",
        "  for _, _, files in os.walk(wvj_audio_dir):\n",
        "    files.sort()\n",
        "    print(files)\n",
        "    files = \" \".join([wvj_audio_dir + file for file in files])\n",
        "    !whisper {files} -o /content/whisper-vits-japanese/srt_files --language {wv_language} --model {wv_whisper_model_name}\n",
        "\n",
        "def wv_split_way2_02():\n",
        "  print(f'4. run whisper-vits-japanese/auto.py')\n",
        "  %cd /content/whisper-vits-japanese\n",
        "  !python auto.py\n",
        "  %cd /content\n",
        "\n",
        "  print(f'5. final')\n",
        "  os.makedirs(WV_FILELIST_DIR, exist_ok=True)\n",
        "  !cp /content/whisper-vits-japanese/filelists/train_filelist.txt {WV_FILELIST_DIR}/{WV_FILELIST_FILE}\n",
        "  !sed -i \"s;/content/whisper-vits-japanese/sliced_audio/;wavs/;\" {WV_FILELIST_DIR}/{WV_FILELIST_FILE}\n",
        "  !mv {WV_WAV_DIR} {WV_WAV_DIR}_before\n",
        "  !mv /content/whisper-vits-japanese/sliced_audio {WV_WAV_DIR}\n",
        "\n",
        "  wv_clean_empty_lines_for_all()\n",
        "  \n",
        "  print(f'\\n6. done')\n",
        "\n",
        "if wv_whisper_option == 2:\n",
        "  %cd /content\n",
        "  wv_split_way2_01()\n",
        "  wv_split_way2_02()\n",
        "  \n"
      ]
    },
    {
      "cell_type": "markdown",
      "metadata": {
        "id": "hOdM9Rwa3hS0"
      },
      "source": [
        "## 导出"
      ]
    },
    {
      "cell_type": "code",
      "execution_count": null,
      "metadata": {
        "cellView": "form",
        "colab": {
          "base_uri": "https://localhost:8080/"
        },
        "id": "I4g4GLbuFnUW",
        "outputId": "7b6e2011-9955-41e1-8c63-ee217d418d9c"
      },
      "outputs": [
        {
          "name": "stdout",
          "output_type": "stream",
          "text": [
            "\n",
            "7-Zip [64] 16.02 : Copyright (c) 1999-2016 Igor Pavlov : 2016-05-21\n",
            "p7zip Version 16.02 (locale=en_US.UTF-8,Utf16=on,HugeFiles=on,64 bits,2 CPUs Intel(R) Xeon(R) CPU @ 2.30GHz (306F0),ASM,AES-NI)\n",
            "\n",
            "Scanning the drive:\n",
            "  0M Scan \b\b\b\b\b\b\b\b\b\b          \b\b\b\b\b\b\b\b\b\b\n",
            "WARNING: No more files\n",
            "filelists\n",
            "\n",
            "  0M 1 Scan  wavs/\b\b\b\b\b\b\b\b\b\b\b\b\b\b\b\b\b\b                  \b\b\b\b\b\b\b\b\b\b\b\b\b\b\b\b\b\b1 folder, 569 files, 59562686 bytes (57 MiB)\n",
            "\n",
            "Creating archive: /content/drive/MyDrive/dataset/YOUR_DATASET.7z\n",
            "\n",
            "Items to compress: 570\n",
            "\n",
            "  0%\b\b\b\b    \b\b\b\b  1% 30 + wavs/File0031_0000.wav\b\b\b\b\b\b\b\b\b\b\b\b\b\b\b\b\b\b\b\b\b\b\b\b\b\b\b\b\b\b\b\b                                \b\b\b\b\b\b\b\b\b\b\b\b\b\b\b\b\b\b\b\b\b\b\b\b\b\b\b\b\b\b\b\b  3% 40 + wavs/File0041_0000.wav\b\b\b\b\b\b\b\b\b\b\b\b\b\b\b\b\b\b\b\b\b\b\b\b\b\b\b\b\b\b\b\b                                \b\b\b\b\b\b\b\b\b\b\b\b\b\b\b\b\b\b\b\b\b\b\b\b\b\b\b\b\b\b\b\b  4% 48 + wavs/File0049_0000.wav\b\b\b\b\b\b\b\b\b\b\b\b\b\b\b\b\b\b\b\b\b\b\b\b\b\b\b\b\b\b\b\b                                \b\b\b\b\b\b\b\b\b\b\b\b\b\b\b\b\b\b\b\b\b\b\b\b\b\b\b\b\b\b\b\b  6% 56 + wavs/File0057_0000.wav\b\b\b\b\b\b\b\b\b\b\b\b\b\b\b\b\b\b\b\b\b\b\b\b\b\b\b\b\b\b\b\b                                \b\b\b\b\b\b\b\b\b\b\b\b\b\b\b\b\b\b\b\b\b\b\b\b\b\b\b\b\b\b\b\b  7% 56 + wavs/File0057_0000.wav\b\b\b\b\b\b\b\b\b\b\b\b\b\b\b\b\b\b\b\b\b\b\b\b\b\b\b\b\b\b\b\b                                \b\b\b\b\b\b\b\b\b\b\b\b\b\b\b\b\b\b\b\b\b\b\b\b\b\b\b\b\b\b\b\b  9% 63 + wavs/File0064_0000.wav\b\b\b\b\b\b\b\b\b\b\b\b\b\b\b\b\b\b\b\b\b\b\b\b\b\b\b\b\b\b\b\b                                \b\b\b\b\b\b\b\b\b\b\b\b\b\b\b\b\b\b\b\b\b\b\b\b\b\b\b\b\b\b\b\b 10% 76 + wavs/File0077_0000.wav\b\b\b\b\b\b\b\b\b\b\b\b\b\b\b\b\b\b\b\b\b\b\b\b\b\b\b\b\b\b\b\b                                \b\b\b\b\b\b\b\b\b\b\b\b\b\b\b\b\b\b\b\b\b\b\b\b\b\b\b\b\b\b\b\b 12% 86 + wavs/File0087_0000.wav\b\b\b\b\b\b\b\b\b\b\b\b\b\b\b\b\b\b\b\b\b\b\b\b\b\b\b\b\b\b\b\b                                \b\b\b\b\b\b\b\b\b\b\b\b\b\b\b\b\b\b\b\b\b\b\b\b\b\b\b\b\b\b\b\b 13% 94 + wavs/File0095_0000.wav\b\b\b\b\b\b\b\b\b\b\b\b\b\b\b\b\b\b\b\b\b\b\b\b\b\b\b\b\b\b\b\b                                \b\b\b\b\b\b\b\b\b\b\b\b\b\b\b\b\b\b\b\b\b\b\b\b\b\b\b\b\b\b\b\b 14% 94 + wavs/File0095_0000.wav\b\b\b\b\b\b\b\b\b\b\b\b\b\b\b\b\b\b\b\b\b\b\b\b\b\b\b\b\b\b\b\b                                \b\b\b\b\b\b\b\b\b\b\b\b\b\b\b\b\b\b\b\b\b\b\b\b\b\b\b\b\b\b\b\b 16% 102 + wavs/File0103_0000.wav\b\b\b\b\b\b\b\b\b\b\b\b\b\b\b\b\b\b\b\b\b\b\b\b\b\b\b\b\b\b\b\b\b                                 \b\b\b\b\b\b\b\b\b\b\b\b\b\b\b\b\b\b\b\b\b\b\b\b\b\b\b\b\b\b\b\b\b 17% 111 + wavs/File0112_0000.wav\b\b\b\b\b\b\b\b\b\b\b\b\b\b\b\b\b\b\b\b\b\b\b\b\b\b\b\b\b\b\b\b\b                                 \b\b\b\b\b\b\b\b\b\b\b\b\b\b\b\b\b\b\b\b\b\b\b\b\b\b\b\b\b\b\b\b\b 18% 112 + wavs/File0113_0000.wav\b\b\b\b\b\b\b\b\b\b\b\b\b\b\b\b\b\b\b\b\b\b\b\b\b\b\b\b\b\b\b\b\b                                 \b\b\b\b\b\b\b\b\b\b\b\b\b\b\b\b\b\b\b\b\b\b\b\b\b\b\b\b\b\b\b\b\b 19% 120 + wavs/File0121_0000.wav\b\b\b\b\b\b\b\b\b\b\b\b\b\b\b\b\b\b\b\b\b\b\b\b\b\b\b\b\b\b\b\b\b                                 \b\b\b\b\b\b\b\b\b\b\b\b\b\b\b\b\b\b\b\b\b\b\b\b\b\b\b\b\b\b\b\b\b 21% 129 + wavs/File0130_0000.wav\b\b\b\b\b\b\b\b\b\b\b\b\b\b\b\b\b\b\b\b\b\b\b\b\b\b\b\b\b\b\b\b\b                                 \b\b\b\b\b\b\b\b\b\b\b\b\b\b\b\b\b\b\b\b\b\b\b\b\b\b\b\b\b\b\b\b\b 22% 129 + wavs/File0130_0000.wav\b\b\b\b\b\b\b\b\b\b\b\b\b\b\b\b\b\b\b\b\b\b\b\b\b\b\b\b\b\b\b\b\b                                 \b\b\b\b\b\b\b\b\b\b\b\b\b\b\b\b\b\b\b\b\b\b\b\b\b\b\b\b\b\b\b\b\b 23% 136 + wavs/File0137_0000.wav\b\b\b\b\b\b\b\b\b\b\b\b\b\b\b\b\b\b\b\b\b\b\b\b\b\b\b\b\b\b\b\b\b                                 \b\b\b\b\b\b\b\b\b\b\b\b\b\b\b\b\b\b\b\b\b\b\b\b\b\b\b\b\b\b\b\b\b 24% 148 + wavs/File0149_0000.wav\b\b\b\b\b\b\b\b\b\b\b\b\b\b\b\b\b\b\b\b\b\b\b\b\b\b\b\b\b\b\b\b\b                                 \b\b\b\b\b\b\b\b\b\b\b\b\b\b\b\b\b\b\b\b\b\b\b\b\b\b\b\b\b\b\b\b\b 25% 148 + wavs/File0149_0000.wav\b\b\b\b\b\b\b\b\b\b\b\b\b\b\b\b\b\b\b\b\b\b\b\b\b\b\b\b\b\b\b\b\b                                 \b\b\b\b\b\b\b\b\b\b\b\b\b\b\b\b\b\b\b\b\b\b\b\b\b\b\b\b\b\b\b\b\b 26% 148 + wavs/File0149_0000.wav\b\b\b\b\b\b\b\b\b\b\b\b\b\b\b\b\b\b\b\b\b\b\b\b\b\b\b\b\b\b\b\b\b                                 \b\b\b\b\b\b\b\b\b\b\b\b\b\b\b\b\b\b\b\b\b\b\b\b\b\b\b\b\b\b\b\b\b 26% 160 + wavs/File0161_0000.wav\b\b\b\b\b\b\b\b\b\b\b\b\b\b\b\b\b\b\b\b\b\b\b\b\b\b\b\b\b\b\b\b\b                                 \b\b\b\b\b\b\b\b\b\b\b\b\b\b\b\b\b\b\b\b\b\b\b\b\b\b\b\b\b\b\b\b\b 27% 160 + wavs/File0161_0000.wav\b\b\b\b\b\b\b\b\b\b\b\b\b\b\b\b\b\b\b\b\b\b\b\b\b\b\b\b\b\b\b\b\b                                 \b\b\b\b\b\b\b\b\b\b\b\b\b\b\b\b\b\b\b\b\b\b\b\b\b\b\b\b\b\b\b\b\b 27% 161 + wavs/File0162_0000.wav\b\b\b\b\b\b\b\b\b\b\b\b\b\b\b\b\b\b\b\b\b\b\b\b\b\b\b\b\b\b\b\b\b                                 \b\b\b\b\b\b\b\b\b\b\b\b\b\b\b\b\b\b\b\b\b\b\b\b\b\b\b\b\b\b\b\b\b 28% 172 + wavs/File0173_0000.wav\b\b\b\b\b\b\b\b\b\b\b\b\b\b\b\b\b\b\b\b\b\b\b\b\b\b\b\b\b\b\b\b\b                                 \b\b\b\b\b\b\b\b\b\b\b\b\b\b\b\b\b\b\b\b\b\b\b\b\b\b\b\b\b\b\b\b\b 29% 172 + wavs/File0173_0000.wav\b\b\b\b\b\b\b\b\b\b\b\b\b\b\b\b\b\b\b\b\b\b\b\b\b\b\b\b\b\b\b\b\b                                 \b\b\b\b\b\b\b\b\b\b\b\b\b\b\b\b\b\b\b\b\b\b\b\b\b\b\b\b\b\b\b\b\b 29% 173 + wavs/File0174_0000.wav\b\b\b\b\b\b\b\b\b\b\b\b\b\b\b\b\b\b\b\b\b\b\b\b\b\b\b\b\b\b\b\b\b                                 \b\b\b\b\b\b\b\b\b\b\b\b\b\b\b\b\b\b\b\b\b\b\b\b\b\b\b\b\b\b\b\b\b 30% 183 + wavs/File0184_0000.wav\b\b\b\b\b\b\b\b\b\b\b\b\b\b\b\b\b\b\b\b\b\b\b\b\b\b\b\b\b\b\b\b\b                                 \b\b\b\b\b\b\b\b\b\b\b\b\b\b\b\b\b\b\b\b\b\b\b\b\b\b\b\b\b\b\b\b\b 31% 183 + wavs/File0184_0000.wav\b\b\b\b\b\b\b\b\b\b\b\b\b\b\b\b\b\b\b\b\b\b\b\b\b\b\b\b\b\b\b\b\b                                 \b\b\b\b\b\b\b\b\b\b\b\b\b\b\b\b\b\b\b\b\b\b\b\b\b\b\b\b\b\b\b\b\b 31% 193 + wavs/File0194_0000.wav\b\b\b\b\b\b\b\b\b\b\b\b\b\b\b\b\b\b\b\b\b\b\b\b\b\b\b\b\b\b\b\b\b                                 \b\b\b\b\b\b\b\b\b\b\b\b\b\b\b\b\b\b\b\b\b\b\b\b\b\b\b\b\b\b\b\b\b 32% 193 + wavs/File0194_0000.wav\b\b\b\b\b\b\b\b\b\b\b\b\b\b\b\b\b\b\b\b\b\b\b\b\b\b\b\b\b\b\b\b\b                                 \b\b\b\b\b\b\b\b\b\b\b\b\b\b\b\b\b\b\b\b\b\b\b\b\b\b\b\b\b\b\b\b\b 33% 193 + wavs/File0194_0000.wav\b\b\b\b\b\b\b\b\b\b\b\b\b\b\b\b\b\b\b\b\b\b\b\b\b\b\b\b\b\b\b\b\b                                 \b\b\b\b\b\b\b\b\b\b\b\b\b\b\b\b\b\b\b\b\b\b\b\b\b\b\b\b\b\b\b\b\b 33% 201 + wavs/File0202_0000.wav\b\b\b\b\b\b\b\b\b\b\b\b\b\b\b\b\b\b\b\b\b\b\b\b\b\b\b\b\b\b\b\b\b                                 \b\b\b\b\b\b\b\b\b\b\b\b\b\b\b\b\b\b\b\b\b\b\b\b\b\b\b\b\b\b\b\b\b 34% 201 + wavs/File0202_0000.wav\b\b\b\b\b\b\b\b\b\b\b\b\b\b\b\b\b\b\b\b\b\b\b\b\b\b\b\b\b\b\b\b\b                                 \b\b\b\b\b\b\b\b\b\b\b\b\b\b\b\b\b\b\b\b\b\b\b\b\b\b\b\b\b\b\b\b\b 34% 202 + wavs/File0203_0000.wav\b\b\b\b\b\b\b\b\b\b\b\b\b\b\b\b\b\b\b\b\b\b\b\b\b\b\b\b\b\b\b\b\b                                 \b\b\b\b\b\b\b\b\b\b\b\b\b\b\b\b\b\b\b\b\b\b\b\b\b\b\b\b\b\b\b\b\b 34% 212 + wavs/File0213_0000.wav\b\b\b\b\b\b\b\b\b\b\b\b\b\b\b\b\b\b\b\b\b\b\b\b\b\b\b\b\b\b\b\b\b                                 \b\b\b\b\b\b\b\b\b\b\b\b\b\b\b\b\b\b\b\b\b\b\b\b\b\b\b\b\b\b\b\b\b 35% 212 + wavs/File0213_0000.wav\b\b\b\b\b\b\b\b\b\b\b\b\b\b\b\b\b\b\b\b\b\b\b\b\b\b\b\b\b\b\b\b\b                                 \b\b\b\b\b\b\b\b\b\b\b\b\b\b\b\b\b\b\b\b\b\b\b\b\b\b\b\b\b\b\b\b\b 36% 212 + wavs/File0213_0000.wav\b\b\b\b\b\b\b\b\b\b\b\b\b\b\b\b\b\b\b\b\b\b\b\b\b\b\b\b\b\b\b\b\b                                 \b\b\b\b\b\b\b\b\b\b\b\b\b\b\b\b\b\b\b\b\b\b\b\b\b\b\b\b\b\b\b\b\b 36% 222 + wavs/File0223_0000.wav\b\b\b\b\b\b\b\b\b\b\b\b\b\b\b\b\b\b\b\b\b\b\b\b\b\b\b\b\b\b\b\b\b                                 \b\b\b\b\b\b\b\b\b\b\b\b\b\b\b\b\b\b\b\b\b\b\b\b\b\b\b\b\b\b\b\b\b 37% 222 + wavs/File0223_0000.wav\b\b\b\b\b\b\b\b\b\b\b\b\b\b\b\b\b\b\b\b\b\b\b\b\b\b\b\b\b\b\b\b\b                                 \b\b\b\b\b\b\b\b\b\b\b\b\b\b\b\b\b\b\b\b\b\b\b\b\b\b\b\b\b\b\b\b\b 38% 222 + wavs/File0223_0000.wav\b\b\b\b\b\b\b\b\b\b\b\b\b\b\b\b\b\b\b\b\b\b\b\b\b\b\b\b\b\b\b\b\b                                 \b\b\b\b\b\b\b\b\b\b\b\b\b\b\b\b\b\b\b\b\b\b\b\b\b\b\b\b\b\b\b\b\b 39% 231 + wavs/File0232_0000.wav\b\b\b\b\b\b\b\b\b\b\b\b\b\b\b\b\b\b\b\b\b\b\b\b\b\b\b\b\b\b\b\b\b                                 \b\b\b\b\b\b\b\b\b\b\b\b\b\b\b\b\b\b\b\b\b\b\b\b\b\b\b\b\b\b\b\b\b 40% 231 + wavs/File0232_0000.wav\b\b\b\b\b\b\b\b\b\b\b\b\b\b\b\b\b\b\b\b\b\b\b\b\b\b\b\b\b\b\b\b\b                                 \b\b\b\b\b\b\b\b\b\b\b\b\b\b\b\b\b\b\b\b\b\b\b\b\b\b\b\b\b\b\b\b\b 40% 240 + wavs/File0241_0000.wav\b\b\b\b\b\b\b\b\b\b\b\b\b\b\b\b\b\b\b\b\b\b\b\b\b\b\b\b\b\b\b\b\b                                 \b\b\b\b\b\b\b\b\b\b\b\b\b\b\b\b\b\b\b\b\b\b\b\b\b\b\b\b\b\b\b\b\b 41% 240 + wavs/File0241_0000.wav\b\b\b\b\b\b\b\b\b\b\b\b\b\b\b\b\b\b\b\b\b\b\b\b\b\b\b\b\b\b\b\b\b                                 \b\b\b\b\b\b\b\b\b\b\b\b\b\b\b\b\b\b\b\b\b\b\b\b\b\b\b\b\b\b\b\b\b 43% 248 + wavs/File0249_0000.wav\b\b\b\b\b\b\b\b\b\b\b\b\b\b\b\b\b\b\b\b\b\b\b\b\b\b\b\b\b\b\b\b\b                                 \b\b\b\b\b\b\b\b\b\b\b\b\b\b\b\b\b\b\b\b\b\b\b\b\b\b\b\b\b\b\b\b\b 44% 259 + wavs/File0260_0000.wav\b\b\b\b\b\b\b\b\b\b\b\b\b\b\b\b\b\b\b\b\b\b\b\b\b\b\b\b\b\b\b\b\b                                 \b\b\b\b\b\b\b\b\b\b\b\b\b\b\b\b\b\b\b\b\b\b\b\b\b\b\b\b\b\b\b\b\b 45% 259 + wavs/File0260_0000.wav\b\b\b\b\b\b\b\b\b\b\b\b\b\b\b\b\b\b\b\b\b\b\b\b\b\b\b\b\b\b\b\b\b                                 \b\b\b\b\b\b\b\b\b\b\b\b\b\b\b\b\b\b\b\b\b\b\b\b\b\b\b\b\b\b\b\b\b 46% 270 + wavs/File0271_0000.wav\b\b\b\b\b\b\b\b\b\b\b\b\b\b\b\b\b\b\b\b\b\b\b\b\b\b\b\b\b\b\b\b\b                                 \b\b\b\b\b\b\b\b\b\b\b\b\b\b\b\b\b\b\b\b\b\b\b\b\b\b\b\b\b\b\b\b\b 47% 280 + wavs/File0281_0000.wav\b\b\b\b\b\b\b\b\b\b\b\b\b\b\b\b\b\b\b\b\b\b\b\b\b\b\b\b\b\b\b\b\b                                 \b\b\b\b\b\b\b\b\b\b\b\b\b\b\b\b\b\b\b\b\b\b\b\b\b\b\b\b\b\b\b\b\b 48% 280 + wavs/File0281_0000.wav\b\b\b\b\b\b\b\b\b\b\b\b\b\b\b\b\b\b\b\b\b\b\b\b\b\b\b\b\b\b\b\b\b                                 \b\b\b\b\b\b\b\b\b\b\b\b\b\b\b\b\b\b\b\b\b\b\b\b\b\b\b\b\b\b\b\b\b 49% 290 + wavs/File0291_0000.wav\b\b\b\b\b\b\b\b\b\b\b\b\b\b\b\b\b\b\b\b\b\b\b\b\b\b\b\b\b\b\b\b\b                                 \b\b\b\b\b\b\b\b\b\b\b\b\b\b\b\b\b\b\b\b\b\b\b\b\b\b\b\b\b\b\b\b\b 51% 300 + wavs/File0301_0000.wav\b\b\b\b\b\b\b\b\b\b\b\b\b\b\b\b\b\b\b\b\b\b\b\b\b\b\b\b\b\b\b\b\b                                 \b\b\b\b\b\b\b\b\b\b\b\b\b\b\b\b\b\b\b\b\b\b\b\b\b\b\b\b\b\b\b\b\b 52% 300 + wavs/File0301_0000.wav\b\b\b\b\b\b\b\b\b\b\b\b\b\b\b\b\b\b\b\b\b\b\b\b\b\b\b\b\b\b\b\b\b                                 \b\b\b\b\b\b\b\b\b\b\b\b\b\b\b\b\b\b\b\b\b\b\b\b\b\b\b\b\b\b\b\b\b 53% 312 + wavs/File0313_0000.wav\b\b\b\b\b\b\b\b\b\b\b\b\b\b\b\b\b\b\b\b\b\b\b\b\b\b\b\b\b\b\b\b\b                                 \b\b\b\b\b\b\b\b\b\b\b\b\b\b\b\b\b\b\b\b\b\b\b\b\b\b\b\b\b\b\b\b\b 54% 324 + wavs/File0325_0000.wav\b\b\b\b\b\b\b\b\b\b\b\b\b\b\b\b\b\b\b\b\b\b\b\b\b\b\b\b\b\b\b\b\b                                 \b\b\b\b\b\b\b\b\b\b\b\b\b\b\b\b\b\b\b\b\b\b\b\b\b\b\b\b\b\b\b\b\b 55% 324 + wavs/File0325_0000.wav\b\b\b\b\b\b\b\b\b\b\b\b\b\b\b\b\b\b\b\b\b\b\b\b\b\b\b\b\b\b\b\b\b                                 \b\b\b\b\b\b\b\b\b\b\b\b\b\b\b\b\b\b\b\b\b\b\b\b\b\b\b\b\b\b\b\b\b 57% 335 + wavs/File0336_0000.wav\b\b\b\b\b\b\b\b\b\b\b\b\b\b\b\b\b\b\b\b\b\b\b\b\b\b\b\b\b\b\b\b\b                                 \b\b\b\b\b\b\b\b\b\b\b\b\b\b\b\b\b\b\b\b\b\b\b\b\b\b\b\b\b\b\b\b\b 58% 345 + wavs/File0346_0000.wav\b\b\b\b\b\b\b\b\b\b\b\b\b\b\b\b\b\b\b\b\b\b\b\b\b\b\b\b\b\b\b\b\b                                 \b\b\b\b\b\b\b\b\b\b\b\b\b\b\b\b\b\b\b\b\b\b\b\b\b\b\b\b\b\b\b\b\b 59% 345 + wavs/File0346_0000.wav\b\b\b\b\b\b\b\b\b\b\b\b\b\b\b\b\b\b\b\b\b\b\b\b\b\b\b\b\b\b\b\b\b                                 \b\b\b\b\b\b\b\b\b\b\b\b\b\b\b\b\b\b\b\b\b\b\b\b\b\b\b\b\b\b\b\b\b 60% 359 + wavs/File0360_0000.wav\b\b\b\b\b\b\b\b\b\b\b\b\b\b\b\b\b\b\b\b\b\b\b\b\b\b\b\b\b\b\b\b\b                                 \b\b\b\b\b\b\b\b\b\b\b\b\b\b\b\b\b\b\b\b\b\b\b\b\b\b\b\b\b\b\b\b\b 61% 359 + wavs/File0360_0000.wav\b\b\b\b\b\b\b\b\b\b\b\b\b\b\b\b\b\b\b\b\b\b\b\b\b\b\b\b\b\b\b\b\b                                 \b\b\b\b\b\b\b\b\b\b\b\b\b\b\b\b\b\b\b\b\b\b\b\b\b\b\b\b\b\b\b\b\b 62% 368 + wavs/File0369_0000.wav\b\b\b\b\b\b\b\b\b\b\b\b\b\b\b\b\b\b\b\b\b\b\b\b\b\b\b\b\b\b\b\b\b                                 \b\b\b\b\b\b\b\b\b\b\b\b\b\b\b\b\b\b\b\b\b\b\b\b\b\b\b\b\b\b\b\b\b 63% 382 + wavs/File0383_0000.wav\b\b\b\b\b\b\b\b\b\b\b\b\b\b\b\b\b\b\b\b\b\b\b\b\b\b\b\b\b\b\b\b\b                                 \b\b\b\b\b\b\b\b\b\b\b\b\b\b\b\b\b\b\b\b\b\b\b\b\b\b\b\b\b\b\b\b\b 64% 382 + wavs/File0383_0000.wav\b\b\b\b\b\b\b\b\b\b\b\b\b\b\b\b\b\b\b\b\b\b\b\b\b\b\b\b\b\b\b\b\b                                 \b\b\b\b\b\b\b\b\b\b\b\b\b\b\b\b\b\b\b\b\b\b\b\b\b\b\b\b\b\b\b\b\b 66% 391 + wavs/File0392_0000.wav\b\b\b\b\b\b\b\b\b\b\b\b\b\b\b\b\b\b\b\b\b\b\b\b\b\b\b\b\b\b\b\b\b                                 \b\b\b\b\b\b\b\b\b\b\b\b\b\b\b\b\b\b\b\b\b\b\b\b\b\b\b\b\b\b\b\b\b 67% 402 + wavs/File0403_0000.wav\b\b\b\b\b\b\b\b\b\b\b\b\b\b\b\b\b\b\b\b\b\b\b\b\b\b\b\b\b\b\b\b\b                                 \b\b\b\b\b\b\b\b\b\b\b\b\b\b\b\b\b\b\b\b\b\b\b\b\b\b\b\b\b\b\b\b\b 68% 402 + wavs/File0403_0000.wav\b\b\b\b\b\b\b\b\b\b\b\b\b\b\b\b\b\b\b\b\b\b\b\b\b\b\b\b\b\b\b\b\b                                 \b\b\b\b\b\b\b\b\b\b\b\b\b\b\b\b\b\b\b\b\b\b\b\b\b\b\b\b\b\b\b\b\b 69% 412 + wavs/File0413_0000.wav\b\b\b\b\b\b\b\b\b\b\b\b\b\b\b\b\b\b\b\b\b\b\b\b\b\b\b\b\b\b\b\b\b                                 \b\b\b\b\b\b\b\b\b\b\b\b\b\b\b\b\b\b\b\b\b\b\b\b\b\b\b\b\b\b\b\b\b 70% 423 + wavs/File0424_0000.wav\b\b\b\b\b\b\b\b\b\b\b\b\b\b\b\b\b\b\b\b\b\b\b\b\b\b\b\b\b\b\b\b\b                                 \b\b\b\b\b\b\b\b\b\b\b\b\b\b\b\b\b\b\b\b\b\b\b\b\b\b\b\b\b\b\b\b\b 71% 423 + wavs/File0424_0000.wav\b\b\b\b\b\b\b\b\b\b\b\b\b\b\b\b\b\b\b\b\b\b\b\b\b\b\b\b\b\b\b\b\b                                 \b\b\b\b\b\b\b\b\b\b\b\b\b\b\b\b\b\b\b\b\b\b\b\b\b\b\b\b\b\b\b\b\b 72% 432 + wavs/File0432_0000.wav\b\b\b\b\b\b\b\b\b\b\b\b\b\b\b\b\b\b\b\b\b\b\b\b\b\b\b\b\b\b\b\b\b                                 \b\b\b\b\b\b\b\b\b\b\b\b\b\b\b\b\b\b\b\b\b\b\b\b\b\b\b\b\b\b\b\b\b 73% 432 + wavs/File0432_0000.wav\b\b\b\b\b\b\b\b\b\b\b\b\b\b\b\b\b\b\b\b\b\b\b\b\b\b\b\b\b\b\b\b\b                                 \b\b\b\b\b\b\b\b\b\b\b\b\b\b\b\b\b\b\b\b\b\b\b\b\b\b\b\b\b\b\b\b\b 74% 446 + wavs/File0446_0000.wav\b\b\b\b\b\b\b\b\b\b\b\b\b\b\b\b\b\b\b\b\b\b\b\b\b\b\b\b\b\b\b\b\b                                 \b\b\b\b\b\b\b\b\b\b\b\b\b\b\b\b\b\b\b\b\b\b\b\b\b\b\b\b\b\b\b\b\b 75% 447 + wavs/File0447_0000.wav\b\b\b\b\b\b\b\b\b\b\b\b\b\b\b\b\b\b\b\b\b\b\b\b\b\b\b\b\b\b\b\b\b                                 \b\b\b\b\b\b\b\b\b\b\b\b\b\b\b\b\b\b\b\b\b\b\b\b\b\b\b\b\b\b\b\b\b 76% 456 + wavs/File0456_0000.wav\b\b\b\b\b\b\b\b\b\b\b\b\b\b\b\b\b\b\b\b\b\b\b\b\b\b\b\b\b\b\b\b\b                                 \b\b\b\b\b\b\b\b\b\b\b\b\b\b\b\b\b\b\b\b\b\b\b\b\b\b\b\b\b\b\b\b\b 77% 457 + wavs/File0457_0000.wav\b\b\b\b\b\b\b\b\b\b\b\b\b\b\b\b\b\b\b\b\b\b\b\b\b\b\b\b\b\b\b\b\b                                 \b\b\b\b\b\b\b\b\b\b\b\b\b\b\b\b\b\b\b\b\b\b\b\b\b\b\b\b\b\b\b\b\b 78% 466 + wavs/File0466_0000.wav\b\b\b\b\b\b\b\b\b\b\b\b\b\b\b\b\b\b\b\b\b\b\b\b\b\b\b\b\b\b\b\b\b                                 \b\b\b\b\b\b\b\b\b\b\b\b\b\b\b\b\b\b\b\b\b\b\b\b\b\b\b\b\b\b\b\b\b 79% 475 + wavs/File0475_0000.wav\b\b\b\b\b\b\b\b\b\b\b\b\b\b\b\b\b\b\b\b\b\b\b\b\b\b\b\b\b\b\b\b\b                                 \b\b\b\b\b\b\b\b\b\b\b\b\b\b\b\b\b\b\b\b\b\b\b\b\b\b\b\b\b\b\b\b\b 80% 475 + wavs/File0475_0000.wav\b\b\b\b\b\b\b\b\b\b\b\b\b\b\b\b\b\b\b\b\b\b\b\b\b\b\b\b\b\b\b\b\b                                 \b\b\b\b\b\b\b\b\b\b\b\b\b\b\b\b\b\b\b\b\b\b\b\b\b\b\b\b\b\b\b\b\b 81% 486 + wavs/File0486_0000.wav\b\b\b\b\b\b\b\b\b\b\b\b\b\b\b\b\b\b\b\b\b\b\b\b\b\b\b\b\b\b\b\b\b                                 \b\b\b\b\b\b\b\b\b\b\b\b\b\b\b\b\b\b\b\b\b\b\b\b\b\b\b\b\b\b\b\b\b 82% 499 + wavs/File0499_0000.wav\b\b\b\b\b\b\b\b\b\b\b\b\b\b\b\b\b\b\b\b\b\b\b\b\b\b\b\b\b\b\b\b\b                                 \b\b\b\b\b\b\b\b\b\b\b\b\b\b\b\b\b\b\b\b\b\b\b\b\b\b\b\b\b\b\b\b\b 83% 499 + wavs/File0499_0000.wav\b\b\b\b\b\b\b\b\b\b\b\b\b\b\b\b\b\b\b\b\b\b\b\b\b\b\b\b\b\b\b\b\b                                 \b\b\b\b\b\b\b\b\b\b\b\b\b\b\b\b\b\b\b\b\b\b\b\b\b\b\b\b\b\b\b\b\b 84% 509 + wavs/File0509_0000.wav\b\b\b\b\b\b\b\b\b\b\b\b\b\b\b\b\b\b\b\b\b\b\b\b\b\b\b\b\b\b\b\b\b                                 \b\b\b\b\b\b\b\b\b\b\b\b\b\b\b\b\b\b\b\b\b\b\b\b\b\b\b\b\b\b\b\b\b 85% 509 + wavs/File0509_0000.wav\b\b\b\b\b\b\b\b\b\b\b\b\b\b\b\b\b\b\b\b\b\b\b\b\b\b\b\b\b\b\b\b\b                                 \b\b\b\b\b\b\b\b\b\b\b\b\b\b\b\b\b\b\b\b\b\b\b\b\b\b\b\b\b\b\b\b\b 86% 517 + wavs/File0517_0000.wav\b\b\b\b\b\b\b\b\b\b\b\b\b\b\b\b\b\b\b\b\b\b\b\b\b\b\b\b\b\b\b\b\b                                 \b\b\b\b\b\b\b\b\b\b\b\b\b\b\b\b\b\b\b\b\b\b\b\b\b\b\b\b\b\b\b\b\b 87% 517 + wavs/File0517_0000.wav\b\b\b\b\b\b\b\b\b\b\b\b\b\b\b\b\b\b\b\b\b\b\b\b\b\b\b\b\b\b\b\b\b                                 \b\b\b\b\b\b\b\b\b\b\b\b\b\b\b\b\b\b\b\b\b\b\b\b\b\b\b\b\b\b\b\b\b 88% 529 + wavs/File0529_0000.wav\b\b\b\b\b\b\b\b\b\b\b\b\b\b\b\b\b\b\b\b\b\b\b\b\b\b\b\b\b\b\b\b\b                                 \b\b\b\b\b\b\b\b\b\b\b\b\b\b\b\b\b\b\b\b\b\b\b\b\b\b\b\b\b\b\b\b\b 88% 530 + wavs/File0530_0000.wav\b\b\b\b\b\b\b\b\b\b\b\b\b\b\b\b\b\b\b\b\b\b\b\b\b\b\b\b\b\b\b\b\b                                 \b\b\b\b\b\b\b\b\b\b\b\b\b\b\b\b\b\b\b\b\b\b\b\b\b\b\b\b\b\b\b\b\b 89% 535 + wavs/File0535_0000.wav\b\b\b\b\b\b\b\b\b\b\b\b\b\b\b\b\b\b\b\b\b\b\b\b\b\b\b\b\b\b\b\b\b                                 \b\b\b\b\b\b\b\b\b\b\b\b\b\b\b\b\b\b\b\b\b\b\b\b\b\b\b\b\b\b\b\b\b 90% 535 + wavs/File0535_0000.wav\b\b\b\b\b\b\b\b\b\b\b\b\b\b\b\b\b\b\b\b\b\b\b\b\b\b\b\b\b\b\b\b\b                                 \b\b\b\b\b\b\b\b\b\b\b\b\b\b\b\b\b\b\b\b\b\b\b\b\b\b\b\b\b\b\b\b\b 91% 545 + wavs/File0544_0000.wav\b\b\b\b\b\b\b\b\b\b\b\b\b\b\b\b\b\b\b\b\b\b\b\b\b\b\b\b\b\b\b\b\b                                 \b\b\b\b\b\b\b\b\b\b\b\b\b\b\b\b\b\b\b\b\b\b\b\b\b\b\b\b\b\b\b\b\b 92% 545 + wavs/File0544_0000.wav\b\b\b\b\b\b\b\b\b\b\b\b\b\b\b\b\b\b\b\b\b\b\b\b\b\b\b\b\b\b\b\b\b                                 \b\b\b\b\b\b\b\b\b\b\b\b\b\b\b\b\b\b\b\b\b\b\b\b\b\b\b\b\b\b\b\b\b 93% 545 + wavs/File0544_0000.wav\b\b\b\b\b\b\b\b\b\b\b\b\b\b\b\b\b\b\b\b\b\b\b\b\b\b\b\b\b\b\b\b\b                                 \b\b\b\b\b\b\b\b\b\b\b\b\b\b\b\b\b\b\b\b\b\b\b\b\b\b\b\b\b\b\b\b\b 93% 553 + wavs/File0552_0000.wav\b\b\b\b\b\b\b\b\b\b\b\b\b\b\b\b\b\b\b\b\b\b\b\b\b\b\b\b\b\b\b\b\b                                 \b\b\b\b\b\b\b\b\b\b\b\b\b\b\b\b\b\b\b\b\b\b\b\b\b\b\b\b\b\b\b\b\b 94% 553 + wavs/File0552_0000.wav\b\b\b\b\b\b\b\b\b\b\b\b\b\b\b\b\b\b\b\b\b\b\b\b\b\b\b\b\b\b\b\b\b                                 \b\b\b\b\b\b\b\b\b\b\b\b\b\b\b\b\b\b\b\b\b\b\b\b\b\b\b\b\b\b\b\b\b 94% 554 + wavs/File0553_0000.wav\b\b\b\b\b\b\b\b\b\b\b\b\b\b\b\b\b\b\b\b\b\b\b\b\b\b\b\b\b\b\b\b\b                                 \b\b\b\b\b\b\b\b\b\b\b\b\b\b\b\b\b\b\b\b\b\b\b\b\b\b\b\b\b\b\b\b\b 95% 563 + wavs/File0562_0000.wav\b\b\b\b\b\b\b\b\b\b\b\b\b\b\b\b\b\b\b\b\b\b\b\b\b\b\b\b\b\b\b\b\b                                 \b\b\b\b\b\b\b\b\b\b\b\b\b\b\b\b\b\b\b\b\b\b\b\b\b\b\b\b\b\b\b\b\b 96% 563 + wavs/File0562_0000.wav\b\b\b\b\b\b\b\b\b\b\b\b\b\b\b\b\b\b\b\b\b\b\b\b\b\b\b\b\b\b\b\b\b                                 \b\b\b\b\b\b\b\b\b\b\b\b\b\b\b\b\b\b\b\b\b\b\b\b\b\b\b\b\b\b\b\b\b 96% 564 + wavs/File0563_0000.wav\b\b\b\b\b\b\b\b\b\b\b\b\b\b\b\b\b\b\b\b\b\b\b\b\b\b\b\b\b\b\b\b\b                                 \b\b\b\b\b\b\b\b\b\b\b\b\b\b\b\b\b\b\b\b\b\b\b\b\b\b\b\b\b\b\b\b\b 97% 569 + wavs/File0567-broken_0000.wav\b\b\b\b\b\b\b\b\b\b\b\b\b\b\b\b\b\b\b\b\b\b\b\b\b\b\b\b\b\b\b\b\b\b\b\b\b\b\b\b                                        \b\b\b\b\b\b\b\b\b\b\b\b\b\b\b\b\b\b\b\b\b\b\b\b\b\b\b\b\b\b\b\b\b\b\b\b\b\b\b\b 98% 569 + wavs/File0567-broken_0000.wav\b\b\b\b\b\b\b\b\b\b\b\b\b\b\b\b\b\b\b\b\b\b\b\b\b\b\b\b\b\b\b\b\b\b\b\b\b\b\b\b                                        \b\b\b\b\b\b\b\b\b\b\b\b\b\b\b\b\b\b\b\b\b\b\b\b\b\b\b\b\b\b\b\b\b\b\b\b\b\b\b\b 99% 569 + wavs/File0567-broken_0000.wav\b\b\b\b\b\b\b\b\b\b\b\b\b\b\b\b\b\b\b\b\b\b\b\b\b\b\b\b\b\b\b\b\b\b\b\b\b\b\b\b                                        \b\b\b\b\b\b\b\b\b\b\b\b\b\b\b\b\b\b\b\b\b\b\b\b\b\b\b\b\b\b\b\b\b\b\b\b\b\b\b\b100% 569 + wavs/File0567-broken_0000.wav\b\b\b\b\b\b\b\b\b\b\b\b\b\b\b\b\b\b\b\b\b\b\b\b\b\b\b\b\b\b\b\b\b\b\b\b\b\b\b\b                                        \b\b\b\b\b\b\b\b\b\b\b\b\b\b\b\b\b\b\b\b\b\b\b\b\b\b\b\b\b\b\b\b\b\b\b\b\b\b\b\b\n",
            "Files read from disk: 569\n",
            "Archive size: 43303745 bytes (42 MiB)\n",
            "\n",
            "Scan WARNINGS for files and folders:\n",
            "\n",
            "filelists : No more files\n",
            "----------------\n",
            "Scan WARNINGS: 1\n"
          ]
        }
      ],
      "source": [
        "#@markdown 导出方式\n",
        "\n",
        "#@markdown 0 - 不导出\n",
        "\n",
        "#@markdown 1 - 导出filelists和wavs\n",
        "\n",
        "#@markdown 2 - 导出全部文件\n",
        "wv_export_way = 1 #@param {type: \"integer\"}\n",
        "wv_done_path = \"/content/drive/MyDrive/dataset/YOUR_DATASET.7z\" #@param {type: \"string\"}\n",
        "\n",
        "def fun_export():\n",
        "  if os.path.isfile(wv_done_path):\n",
        "    print(\"指定的路径已存在文件，会修改或覆盖原文件，请更换文件名\")\n",
        "    return\n",
        "  if wv_export_way == 1:\n",
        "    !7z a {wv_done_path} {WV_FILELIST_DIR}/ {WV_WAV_DIR}/\n",
        "    return\n",
        "  if wv_export_way == 2:\n",
        "    !7z a {wv_done_path} /content -xr!drive\n",
        "    return\n",
        "fun_export()\n"
      ]
    }
  ],
  "metadata": {
    "accelerator": "GPU",
    "colab": {
      "provenance": []
    },
    "gpuClass": "standard",
    "kernelspec": {
      "display_name": "Python 3",
      "language": "python",
      "name": "python3"
    },
    "language_info": {
      "name": "python",
      "version": "3.6.13"
    },
    "vscode": {
      "interpreter": {
        "hash": "8b3c7a71debec0ade8db23b15ab55904003f0618d8ed712f631fa726b71db4f5"
      }
    }
  },
  "nbformat": 4,
  "nbformat_minor": 0
}

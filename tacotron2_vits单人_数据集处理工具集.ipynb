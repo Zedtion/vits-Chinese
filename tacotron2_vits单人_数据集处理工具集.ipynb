{
  "cells": [
    {
      "cell_type": "markdown",
      "metadata": {
        "id": "E2k2feEG7yqa"
      },
      "source": [
        "## 补充说明\n",
        "\n",
        "1. demucs和slicer2可以自由选择，demucs默认放在前面以求slicer2分得更细；<br />如果因音频过长出错，可先执行slicer2后执行demucs\n",
        "\n",
        "2. slicer2不是AI，是算法分割音频\n",
        "\n",
        "3. 清除缓存会重置对应步骤产生的影响，但会删除对应步骤产生的数据，谨慎操作\n",
        "\n",
        "4. 默认勾选`wv_show_log` 以便于排错，如果觉得输出的东西太影响视野可以勾掉，还你一个清爽的界面\n",
        "\n",
        "5. 如果执行过程中出现一时解决不了的错误想要保留中间产物，或者demucs分离人声后想要保留背景音，<br />可以在导出时在 `wv_export_way` 填2，将过程中产生的所有文件打包保存到云盘\n",
        "\n",
        "6. whisper转写有一定出错概率，能找到原台词一般还是原台词更好"
      ]
    },
    {
      "cell_type": "markdown",
      "metadata": {
        "id": "XO6XCA2ebBNV"
      },
      "source": [
        "## 准备"
      ]
    },
    {
      "cell_type": "code",
      "execution_count": null,
      "metadata": {
        "colab": {
          "base_uri": "https://localhost:8080/"
        },
        "id": "TXnb0kKXBkRa",
        "outputId": "ac1fabcb-b096-4407-a99f-8cb1b52cbfdc"
      },
      "outputs": [
        {
          "name": "stdout",
          "output_type": "stream",
          "text": [
            "Mounted at /content/drive\n"
          ]
        }
      ],
      "source": [
        "#@markdown 加载云端硬盘\n",
        "from google.colab import drive\n",
        "drive.mount('/content/drive')"
      ]
    },
    {
      "cell_type": "code",
      "execution_count": 10,
      "metadata": {
        "colab": {
          "base_uri": "https://localhost:8080/"
        },
        "id": "aujPs55mCAbZ",
        "outputId": "e87eadc3-89c3-4be0-a12b-c3fd87485626"
      },
      "outputs": [
        {
          "name": "stdout",
          "output_type": "stream",
          "text": [
            "Reading package lists... Done\n",
            "Building dependency tree       \n",
            "Reading state information... Done\n",
            "ffmpeg is already the newest version (7:4.2.7-0ubuntu0.1).\n",
            "The following package was automatically installed and is no longer required:\n",
            "  libnvidia-common-510\n",
            "Use 'sudo apt autoremove' to remove it.\n",
            "0 upgraded, 0 newly installed, 0 to remove and 21 not upgraded.\n",
            "Reading package lists... Done\n",
            "Building dependency tree       \n",
            "Reading state information... Done\n",
            "p7zip-full is already the newest version (16.02+dfsg-7build1).\n",
            "p7zip-rar is already the newest version (16.02-3build1).\n",
            "The following package was automatically installed and is no longer required:\n",
            "  libnvidia-common-510\n",
            "Use 'sudo apt autoremove' to remove it.\n",
            "0 upgraded, 0 newly installed, 0 to remove and 21 not upgraded.\n",
            "Looking in indexes: https://pypi.org/simple, https://us-python.pkg.dev/colab-wheels/public/simple/\n",
            "Requirement already satisfied: librosa in /usr/local/lib/python3.8/dist-packages (0.8.1)\n",
            "Requirement already satisfied: soundfile in /usr/local/lib/python3.8/dist-packages (0.12.1)\n",
            "Requirement already satisfied: scikit-learn!=0.19.0,>=0.14.0 in /usr/local/lib/python3.8/dist-packages (from librosa) (1.0.2)\n",
            "Requirement already satisfied: pooch>=1.0 in /usr/local/lib/python3.8/dist-packages (from librosa) (1.6.0)\n",
            "Requirement already satisfied: numba>=0.43.0 in /usr/local/lib/python3.8/dist-packages (from librosa) (0.56.4)\n",
            "Requirement already satisfied: audioread>=2.0.0 in /usr/local/lib/python3.8/dist-packages (from librosa) (3.0.0)\n",
            "Requirement already satisfied: numpy>=1.15.0 in /usr/local/lib/python3.8/dist-packages (from librosa) (1.21.6)\n",
            "Requirement already satisfied: decorator>=3.0.0 in /usr/local/lib/python3.8/dist-packages (from librosa) (4.4.2)\n",
            "Requirement already satisfied: resampy>=0.2.2 in /usr/local/lib/python3.8/dist-packages (from librosa) (0.4.2)\n",
            "Requirement already satisfied: scipy>=1.0.0 in /usr/local/lib/python3.8/dist-packages (from librosa) (1.7.3)\n",
            "Requirement already satisfied: packaging>=20.0 in /usr/local/lib/python3.8/dist-packages (from librosa) (23.0)\n",
            "Requirement already satisfied: joblib>=0.14 in /usr/local/lib/python3.8/dist-packages (from librosa) (1.2.0)\n",
            "Requirement already satisfied: cffi>=1.0 in /usr/local/lib/python3.8/dist-packages (from soundfile) (1.15.1)\n",
            "Requirement already satisfied: pycparser in /usr/local/lib/python3.8/dist-packages (from cffi>=1.0->soundfile) (2.21)\n",
            "Requirement already satisfied: llvmlite<0.40,>=0.39.0dev0 in /usr/local/lib/python3.8/dist-packages (from numba>=0.43.0->librosa) (0.39.1)\n",
            "Requirement already satisfied: setuptools in /usr/local/lib/python3.8/dist-packages (from numba>=0.43.0->librosa) (57.4.0)\n",
            "Requirement already satisfied: importlib-metadata in /usr/local/lib/python3.8/dist-packages (from numba>=0.43.0->librosa) (6.0.0)\n",
            "Requirement already satisfied: appdirs>=1.3.0 in /usr/local/lib/python3.8/dist-packages (from pooch>=1.0->librosa) (1.4.4)\n",
            "Requirement already satisfied: requests>=2.19.0 in /usr/local/lib/python3.8/dist-packages (from pooch>=1.0->librosa) (2.25.1)\n",
            "Requirement already satisfied: threadpoolctl>=2.0.0 in /usr/local/lib/python3.8/dist-packages (from scikit-learn!=0.19.0,>=0.14.0->librosa) (3.1.0)\n",
            "Requirement already satisfied: certifi>=2017.4.17 in /usr/local/lib/python3.8/dist-packages (from requests>=2.19.0->pooch>=1.0->librosa) (2022.12.7)\n",
            "Requirement already satisfied: idna<3,>=2.5 in /usr/local/lib/python3.8/dist-packages (from requests>=2.19.0->pooch>=1.0->librosa) (2.10)\n",
            "Requirement already satisfied: urllib3<1.27,>=1.21.1 in /usr/local/lib/python3.8/dist-packages (from requests>=2.19.0->pooch>=1.0->librosa) (1.24.3)\n",
            "Requirement already satisfied: chardet<5,>=3.0.2 in /usr/local/lib/python3.8/dist-packages (from requests>=2.19.0->pooch>=1.0->librosa) (4.0.0)\n",
            "Requirement already satisfied: zipp>=0.5 in /usr/local/lib/python3.8/dist-packages (from importlib-metadata->numba>=0.43.0->librosa) (3.13.0)\n",
            "Looking in indexes: https://pypi.org/simple, https://us-python.pkg.dev/colab-wheels/public/simple/\n",
            "Requirement already satisfied: demucs in /usr/local/lib/python3.8/dist-packages (4.0.0)\n",
            "Requirement already satisfied: dora-search in /usr/local/lib/python3.8/dist-packages (from demucs) (0.1.11)\n",
            "Requirement already satisfied: torch>=1.8.1 in /usr/local/lib/python3.8/dist-packages (from demucs) (1.13.1+cu116)\n",
            "Requirement already satisfied: pyyaml in /usr/local/lib/python3.8/dist-packages (from demucs) (6.0)\n",
            "Requirement already satisfied: diffq>=0.2.1 in /usr/local/lib/python3.8/dist-packages (from demucs) (0.2.3)\n",
            "Requirement already satisfied: lameenc>=1.2 in /usr/local/lib/python3.8/dist-packages (from demucs) (1.4.2)\n",
            "Requirement already satisfied: julius>=0.2.3 in /usr/local/lib/python3.8/dist-packages (from demucs) (0.2.7)\n",
            "Requirement already satisfied: tqdm in /usr/local/lib/python3.8/dist-packages (from demucs) (4.64.1)\n",
            "Requirement already satisfied: openunmix in /usr/local/lib/python3.8/dist-packages (from demucs) (1.2.1)\n",
            "Requirement already satisfied: torchaudio>=0.8 in /usr/local/lib/python3.8/dist-packages (from demucs) (0.13.1+cu116)\n",
            "Requirement already satisfied: einops in /usr/local/lib/python3.8/dist-packages (from demucs) (0.6.0)\n",
            "Requirement already satisfied: numpy in /usr/local/lib/python3.8/dist-packages (from diffq>=0.2.1->demucs) (1.21.6)\n",
            "Requirement already satisfied: Cython in /usr/local/lib/python3.8/dist-packages (from diffq>=0.2.1->demucs) (0.29.33)\n",
            "Requirement already satisfied: typing-extensions in /usr/local/lib/python3.8/dist-packages (from torch>=1.8.1->demucs) (4.5.0)\n",
            "Requirement already satisfied: retrying in /usr/local/lib/python3.8/dist-packages (from dora-search->demucs) (1.3.4)\n",
            "Requirement already satisfied: omegaconf in /usr/local/lib/python3.8/dist-packages (from dora-search->demucs) (2.3.0)\n",
            "Requirement already satisfied: treetable in /usr/local/lib/python3.8/dist-packages (from dora-search->demucs) (0.2.5)\n",
            "Requirement already satisfied: submitit in /usr/local/lib/python3.8/dist-packages (from dora-search->demucs) (1.4.5)\n",
            "Requirement already satisfied: antlr4-python3-runtime==4.9.* in /usr/local/lib/python3.8/dist-packages (from omegaconf->dora-search->demucs) (4.9.3)\n",
            "Requirement already satisfied: six>=1.7.0 in /usr/local/lib/python3.8/dist-packages (from retrying->dora-search->demucs) (1.15.0)\n",
            "Requirement already satisfied: cloudpickle>=1.2.1 in /usr/local/lib/python3.8/dist-packages (from submitit->dora-search->demucs) (2.2.1)\n",
            "Looking in indexes: https://pypi.org/simple, https://us-python.pkg.dev/colab-wheels/public/simple/\n",
            "Collecting git+https://github.com/openai/whisper.git\n",
            "  Cloning https://github.com/openai/whisper.git to /tmp/pip-req-build-5tg20212\n",
            "  Running command git clone --filter=blob:none --quiet https://github.com/openai/whisper.git /tmp/pip-req-build-5tg20212\n",
            "  Resolved https://github.com/openai/whisper.git to commit 7858aa9c08d98f75575035ecd6481f462d66ca27\n",
            "  Preparing metadata (setup.py) ... \u001b[?25l\u001b[?25hdone\n",
            "Requirement already satisfied: numpy in /usr/local/lib/python3.8/dist-packages (from openai-whisper==20230124) (1.21.6)\n",
            "Requirement already satisfied: torch in /usr/local/lib/python3.8/dist-packages (from openai-whisper==20230124) (1.13.1+cu116)\n",
            "Requirement already satisfied: tqdm in /usr/local/lib/python3.8/dist-packages (from openai-whisper==20230124) (4.64.1)\n",
            "Requirement already satisfied: more-itertools in /usr/local/lib/python3.8/dist-packages (from openai-whisper==20230124) (9.0.0)\n",
            "Requirement already satisfied: transformers>=4.19.0 in /usr/local/lib/python3.8/dist-packages (from openai-whisper==20230124) (4.26.1)\n",
            "Requirement already satisfied: ffmpeg-python==0.2.0 in /usr/local/lib/python3.8/dist-packages (from openai-whisper==20230124) (0.2.0)\n",
            "Requirement already satisfied: future in /usr/local/lib/python3.8/dist-packages (from ffmpeg-python==0.2.0->openai-whisper==20230124) (0.16.0)\n",
            "Requirement already satisfied: filelock in /usr/local/lib/python3.8/dist-packages (from transformers>=4.19.0->openai-whisper==20230124) (3.9.0)\n",
            "Requirement already satisfied: tokenizers!=0.11.3,<0.14,>=0.11.1 in /usr/local/lib/python3.8/dist-packages (from transformers>=4.19.0->openai-whisper==20230124) (0.13.2)\n",
            "Requirement already satisfied: requests in /usr/local/lib/python3.8/dist-packages (from transformers>=4.19.0->openai-whisper==20230124) (2.25.1)\n",
            "Requirement already satisfied: packaging>=20.0 in /usr/local/lib/python3.8/dist-packages (from transformers>=4.19.0->openai-whisper==20230124) (23.0)\n",
            "Requirement already satisfied: regex!=2019.12.17 in /usr/local/lib/python3.8/dist-packages (from transformers>=4.19.0->openai-whisper==20230124) (2022.6.2)\n",
            "Requirement already satisfied: pyyaml>=5.1 in /usr/local/lib/python3.8/dist-packages (from transformers>=4.19.0->openai-whisper==20230124) (6.0)\n",
            "Requirement already satisfied: huggingface-hub<1.0,>=0.11.0 in /usr/local/lib/python3.8/dist-packages (from transformers>=4.19.0->openai-whisper==20230124) (0.12.1)\n",
            "Requirement already satisfied: typing-extensions in /usr/local/lib/python3.8/dist-packages (from torch->openai-whisper==20230124) (4.5.0)\n",
            "Requirement already satisfied: chardet<5,>=3.0.2 in /usr/local/lib/python3.8/dist-packages (from requests->transformers>=4.19.0->openai-whisper==20230124) (4.0.0)\n",
            "Requirement already satisfied: urllib3<1.27,>=1.21.1 in /usr/local/lib/python3.8/dist-packages (from requests->transformers>=4.19.0->openai-whisper==20230124) (1.24.3)\n",
            "Requirement already satisfied: idna<3,>=2.5 in /usr/local/lib/python3.8/dist-packages (from requests->transformers>=4.19.0->openai-whisper==20230124) (2.10)\n",
            "Requirement already satisfied: certifi>=2017.4.17 in /usr/local/lib/python3.8/dist-packages (from requests->transformers>=4.19.0->openai-whisper==20230124) (2022.12.7)\n",
            "fatal: destination path './slicer' already exists and is not an empty directory.\n",
            "Looking in indexes: https://pypi.org/simple, https://us-python.pkg.dev/colab-wheels/public/simple/\n",
            "Requirement already satisfied: pydub in /usr/local/lib/python3.8/dist-packages (0.25.1)\n",
            "Looking in indexes: https://pypi.org/simple, https://us-python.pkg.dev/colab-wheels/public/simple/\n",
            "Collecting opencc\n",
            "  Downloading OpenCC-1.1.6-cp38-cp38-manylinux1_x86_64.whl (778 kB)\n",
            "\u001b[2K     \u001b[90m━━━━━━━━━━━━━━━━━━━━━━━━━━━━━━━━━━━━━━\u001b[0m \u001b[32m778.2/778.2 KB\u001b[0m \u001b[31m13.1 MB/s\u001b[0m eta \u001b[36m0:00:00\u001b[0m\n",
            "\u001b[?25hInstalling collected packages: opencc\n",
            "Successfully installed opencc-1.1.6\n"
          ]
        }
      ],
      "source": [
        "#@markdown 安装依赖\n",
        "\n",
        "wv_show_log = True #@param :{type: \"boolean\"}\n",
        "\n",
        "def do_install():\n",
        "  wv_log_option = \"\" if wv_show_log else \">/dev/null 2>&1\"\n",
        "  !sudo apt install ffmpeg {wv_log_option}\n",
        "  !sudo apt-get install p7zip-full p7zip-rar {wv_log_option}\n",
        "  !pip install librosa soundfile {wv_log_option}\n",
        "  !pip install demucs {wv_log_option}\n",
        "  !pip install git+https://github.com/openai/whisper.git {wv_log_option}\n",
        "  !git clone --recursive https://github.com/openvpi/audio-slicer ./slicer {wv_log_option}\n",
        "  !pip install pydub {wv_log_option}\n",
        "  !pip install opencc\n",
        "  !pip install pypinyin\n",
        " \n",
        "do_install()"
      ]
    },
    {
      "cell_type": "code",
      "execution_count": null,
      "metadata": {
        "id": "RtkRN_ZHRvGL"
      },
      "outputs": [],
      "source": [
        "#@markdown 定义常量和引入库\n",
        "import os\n",
        "import whisper\n",
        "import librosa  # Optional. Use any library you like to read audio files.\n",
        "import soundfile  # Optional. Use any library you like to write audio files.\n",
        "from tqdm import tqdm\n",
        "from slicer.slicer2 import Slicer\n",
        "\n",
        "WV_RAW_DIR = \"raws\"  \n",
        "WV_WAV_DIR = \"wavs\"\n",
        "WV_OLD_WAV_DIR = \"old_wavs\"\n",
        "WV_RAW_WAV_DIR = \"raw_wavs\"\n",
        "WV_TMP_DIR = \"tmp\"\n",
        "WV_FILELIST_DIR = \"filelists\" \n",
        "WV_FILELIST_FILE = \"list.txt\" \n",
        "WV_WHISPER_TMP_DIR = f\"{WV_WAV_DIR}_before\"\n",
        "\n",
        "wv_whisper_model = 0\n",
        "\n",
        "def wv_clean_empty_lines_for_one(filename):\n",
        "    file_in = open(filename, \"r\", encoding=\"utf-8\")\n",
        "    content = file_in.readlines()\n",
        "    file_in.close()\n",
        "    file_out = open(filename, \"w\", encoding=\"utf-8\")\n",
        "    for i in range(len(content)):\n",
        "        line = content[i]\n",
        "        line = line.strip()\n",
        "        if len(line) == 0:\n",
        "            continue\n",
        "        if i == len(content) - 1:\n",
        "            print(line, file=file_out, end=\"\")\n",
        "        else:\n",
        "            print(line, file=file_out)\n",
        "    file_out.close()\n",
        "\n",
        "def wv_clean_empty_lines_for_all():\n",
        "  for _, _, files in os.walk(WV_FILELIST_DIR):\n",
        "    for file in tqdm(files):\n",
        "      wv_result_file = f'{WV_FILELIST_DIR}/{file}'\n",
        "      wv_clean_empty_lines_for_one(wv_result_file)"
      ]
    },
    {
      "cell_type": "code",
      "execution_count": null,
      "metadata": {
        "cellView": "form",
        "id": "_4pTh4hrgjxt"
      },
      "outputs": [],
      "source": [
        "#@markdown 清除上次解压缓存\n",
        "wv_check_if = False #@param {type: \"boolean\"}\n",
        "if wv_check_if:\n",
        "  !rm -rf {WV_RAW_DIR}"
      ]
    },
    {
      "cell_type": "code",
      "execution_count": null,
      "metadata": {
        "colab": {
          "base_uri": "https://localhost:8080/"
        },
        "id": "OCgeabZOA-HC",
        "outputId": "90671629-c383-4db1-a130-6f8f2a8d285c"
      },
      "outputs": [
        {
          "name": "stdout",
          "output_type": "stream",
          "text": [
            "\n",
            "7-Zip [64] 16.02 : Copyright (c) 1999-2016 Igor Pavlov : 2016-05-21\n",
            "p7zip Version 16.02 (locale=en_US.UTF-8,Utf16=on,HugeFiles=on,64 bits,2 CPUs Intel(R) Xeon(R) CPU @ 2.30GHz (306F0),ASM,AES-NI)\n",
            "\n",
            "Scanning the drive for archives:\n",
            "  0M Scan /content/drive/MyDrive/dataset/\b\b\b\b\b\b\b\b\b\b\b\b\b\b\b\b\b\b\b\b\b\b\b\b\b\b\b\b\b\b\b\b\b\b\b\b\b\b\b\b\b                                         \b\b\b\b\b\b\b\b\b\b\b\b\b\b\b\b\b\b\b\b\b\b\b\b\b\b\b\b\b\b\b\b\b\b\b\b\b\b\b\b\b1 file, 146133145 bytes (140 MiB)\n",
            "\n",
            "Extracting archive: /content/drive/MyDrive/dataset/Caitlyn_567.zip\n",
            "--\n",
            "Path = /content/drive/MyDrive/dataset/Caitlyn_567.zip\n",
            "Type = zip\n",
            "Physical Size = 146133145\n",
            "\n",
            "  0%\b\b\b\b    \b\b\b\b  7% 35 - Caitlyn/File0036.wav\b\b\b\b\b\b\b\b\b\b\b\b\b\b\b\b\b\b\b\b\b\b\b\b\b\b\b\b\b\b                              \b\b\b\b\b\b\b\b\b\b\b\b\b\b\b\b\b\b\b\b\b\b\b\b\b\b\b\b\b\b 12% 49 - Caitlyn/File0050.wav\b\b\b\b\b\b\b\b\b\b\b\b\b\b\b\b\b\b\b\b\b\b\b\b\b\b\b\b\b\b                              \b\b\b\b\b\b\b\b\b\b\b\b\b\b\b\b\b\b\b\b\b\b\b\b\b\b\b\b\b\b 16% 64 - Caitlyn/File0065.wav\b\b\b\b\b\b\b\b\b\b\b\b\b\b\b\b\b\b\b\b\b\b\b\b\b\b\b\b\b\b                              \b\b\b\b\b\b\b\b\b\b\b\b\b\b\b\b\b\b\b\b\b\b\b\b\b\b\b\b\b\b 21% 92 - Caitlyn/File0093.wav\b\b\b\b\b\b\b\b\b\b\b\b\b\b\b\b\b\b\b\b\b\b\b\b\b\b\b\b\b\b                              \b\b\b\b\b\b\b\b\b\b\b\b\b\b\b\b\b\b\b\b\b\b\b\b\b\b\b\b\b\b 26% 112 - Caitlyn/File0113.wav\b\b\b\b\b\b\b\b\b\b\b\b\b\b\b\b\b\b\b\b\b\b\b\b\b\b\b\b\b\b\b                               \b\b\b\b\b\b\b\b\b\b\b\b\b\b\b\b\b\b\b\b\b\b\b\b\b\b\b\b\b\b\b 35% 155 - Caitlyn/File0156.wav\b\b\b\b\b\b\b\b\b\b\b\b\b\b\b\b\b\b\b\b\b\b\b\b\b\b\b\b\b\b\b                               \b\b\b\b\b\b\b\b\b\b\b\b\b\b\b\b\b\b\b\b\b\b\b\b\b\b\b\b\b\b\b 43% 208 - Caitlyn/File0209.wav\b\b\b\b\b\b\b\b\b\b\b\b\b\b\b\b\b\b\b\b\b\b\b\b\b\b\b\b\b\b\b                               \b\b\b\b\b\b\b\b\b\b\b\b\b\b\b\b\b\b\b\b\b\b\b\b\b\b\b\b\b\b\b 53% 267 - Caitlyn/File0268.wav\b\b\b\b\b\b\b\b\b\b\b\b\b\b\b\b\b\b\b\b\b\b\b\b\b\b\b\b\b\b\b                               \b\b\b\b\b\b\b\b\b\b\b\b\b\b\b\b\b\b\b\b\b\b\b\b\b\b\b\b\b\b\b 62% 325 - Caitlyn/File0326.wav\b\b\b\b\b\b\b\b\b\b\b\b\b\b\b\b\b\b\b\b\b\b\b\b\b\b\b\b\b\b\b                               \b\b\b\b\b\b\b\b\b\b\b\b\b\b\b\b\b\b\b\b\b\b\b\b\b\b\b\b\b\b\b 69% 370 - Caitlyn/File0371.wav\b\b\b\b\b\b\b\b\b\b\b\b\b\b\b\b\b\b\b\b\b\b\b\b\b\b\b\b\b\b\b                               \b\b\b\b\b\b\b\b\b\b\b\b\b\b\b\b\b\b\b\b\b\b\b\b\b\b\b\b\b\b\b 79% 434 - Caitlyn/File0435.wav\b\b\b\b\b\b\b\b\b\b\b\b\b\b\b\b\b\b\b\b\b\b\b\b\b\b\b\b\b\b\b                               \b\b\b\b\b\b\b\b\b\b\b\b\b\b\b\b\b\b\b\b\b\b\b\b\b\b\b\b\b\b\b 89% 508 - Caitlyn/File0509.wav\b\b\b\b\b\b\b\b\b\b\b\b\b\b\b\b\b\b\b\b\b\b\b\b\b\b\b\b\b\b\b                               \b\b\b\b\b\b\b\b\b\b\b\b\b\b\b\b\b\b\b\b\b\b\b\b\b\b\b\b\b\b\b 99% 563 - Caitlyn/File0564.wav\b\b\b\b\b\b\b\b\b\b\b\b\b\b\b\b\b\b\b\b\b\b\b\b\b\b\b\b\b\b\b                               \b\b\b\b\b\b\b\b\b\b\b\b\b\b\b\b\b\b\b\b\b\b\b\b\b\b\b\b\b\b\bEverything is Ok\n",
            "\n",
            "Files: 567\n",
            "Size:       188244980\n",
            "Compressed: 146133145\n"
          ]
        }
      ],
      "source": [
        "#@markdown 解压\n",
        "wv_show_log = True #@param :{type: \"boolean\"}\n",
        "def fun_unzip():\n",
        "  wv_log_option = \"\" if wv_show_log else \">/dev/null 2>&1\"\n",
        "  os.makedirs(WV_RAW_DIR, exist_ok=True)\n",
        "  wv_raw_path = \"/content/drive/MyDrive/dataset/Caitlyn_567.zip\" #@param {type: \"string\"}\n",
        "  !7z e {wv_raw_path} -o{WV_RAW_DIR} {wv_log_option}\n",
        "fun_unzip()\n",
        "\n"
      ]
    },
    {
      "cell_type": "markdown",
      "metadata": {
        "id": "o9SHa9Xy3rZ8"
      },
      "source": [
        "## 处理流程"
      ]
    },
    {
      "cell_type": "code",
      "execution_count": null,
      "metadata": {
        "cellView": "form",
        "id": "JYEL8yrEg6eO"
      },
      "outputs": [],
      "source": [
        "#@markdown 清除上次demucs缓存\n",
        "wv_check_if = False #@param {type: \"boolean\"}\n",
        "if wv_check_if:\n",
        "  !rm -rf {WV_WAV_DIR} {WV_TMP_DIR} {WV_RAW_WAV_DIR}"
      ]
    },
    {
      "cell_type": "code",
      "execution_count": null,
      "metadata": {
        "id": "0pJb6NAxV1M3"
      },
      "outputs": [],
      "source": [
        "#@markdown ### 使用 demucs 去除背景杂音？（用时较长）\n",
        "wv_use_demucs = True #@param {type: \"boolean\"}\n",
        "# #@markdown 在过程结束（成功或失败）时删除临时文件？\n",
        "# wv_use_demucs_delete_tmp = False #@param {type: \"boolean\"}\n",
        "#@markdown 显示转换过程日志\n",
        "wv_show_log = True #@param :{type: \"boolean\"}\n",
        "#@markdown 选择模型\n",
        "wv_demucs_model_name = \"htdemucs_6s\" #@param {type: \"string\"}\n",
        "\n",
        "# (raws -> wavs)\n",
        "\n",
        "# wavs  -> raw_wavs\n",
        "#       -> wavs\n",
        "def fun_use_demucs():\n",
        "  if not os.path.exists(WV_WAV_DIR):\n",
        "    !cp -r {WV_RAW_DIR} {WV_WAV_DIR}\n",
        "  !mv {WV_WAV_DIR} {WV_RAW_WAV_DIR}\n",
        "  !mkdir {WV_WAV_DIR}\n",
        "  wv_log_option = \"\" if wv_show_log else \">/dev/null 2>&1\"\n",
        "  for _, _, files in os.walk(WV_RAW_WAV_DIR):\n",
        "    files.sort()\n",
        "    for file in tqdm(files):\n",
        "      old_file = f'{WV_RAW_WAV_DIR}/{file}'\n",
        "      new_file = f'{WV_WAV_DIR}/{\".\".join(file.split(\".\")[:-1])}.wav'\n",
        "      filename = file.split('.')[0]\n",
        "      !demucs --two-stems=vocals {old_file} -o {WV_TMP_DIR} -n {wv_demucs_model_name} {wv_log_option}\n",
        "      !ffmpeg -i {WV_TMP_DIR}/{wv_demucs_model_name}/{filename}/vocals.wav  -acodec pcm_s16le -ac 1 -ar 22050 {new_file} {wv_log_option}\n",
        "  # if wv_use_demucs_delete_tmp:\n",
        "  #  !rm -rf {WV_TMP_DIR}\n",
        "\n",
        "if wv_use_demucs:\n",
        "  fun_use_demucs()\n",
        "\n",
        "# "
      ]
    },
    {
      "cell_type": "markdown",
      "metadata": {
        "id": "L_Pbm1eEHEUa"
      },
      "source": [
        "关于demucs模型选择 （摘自官方[readme](https://github.com/facebookresearch/demucs/blob/main/README.md)）\n",
        "\n",
        "The list of pre-trained models is:\n",
        "- `htdemucs`: first version of Hybrid Transformer Demucs. Trained on MusDB + 800 songs. Default model.\n",
        "- `htdemucs_ft`: fine-tuned version of `htdemucs`, separation will take 4 times more time\n",
        "    but might be a bit better. Same training set as `htdemucs`.\n",
        "- `htdemucs_6s`: 6 sources version of `htdemucs`, with `piano` and `guitar` being added as sources.\n",
        "    Note that the `piano` source is not working great at the moment.\n",
        "- `hdemucs_mmi`: Hybrid Demucs v3, retrained on MusDB + 800 songs.\n",
        "- `mdx`: trained only on MusDB HQ, winning model on track A at the [MDX][mdx] challenge.\n",
        "- `mdx_extra`: trained with extra training data (including MusDB test set), ranked 2nd on the track B\n",
        "    of the [MDX][mdx] challenge.\n",
        "- `mdx_q`, `mdx_extra_q`: quantized version of the previous models. Smaller download and storage\n",
        "    but quality can be slightly worse.\n",
        "- `SIG`: where `SIG` is a single model from the [model zoo](docs/training.md#model-zoo)."
      ]
    },
    {
      "cell_type": "code",
      "execution_count": null,
      "metadata": {
        "cellView": "form",
        "id": "HH1fNg39gyj-"
      },
      "outputs": [],
      "source": [
        "#@markdown 清除上次slicer2缓存\n",
        "wv_check_if = False #@param {type: \"boolean\"}\n",
        "if wv_check_if:\n",
        "  if os.path.exists(WV_OLD_WAV_DIR):\n",
        "    !rm -rf {WV_WAV_DIR}\n",
        "    !mv {WV_OLD_WAV_DIR} {WV_WAV_DIR}"
      ]
    },
    {
      "cell_type": "code",
      "execution_count": null,
      "metadata": {
        "cellView": "form",
        "colab": {
          "base_uri": "https://localhost:8080/"
        },
        "id": "5xpXueT0DBdg",
        "outputId": "1e0618d7-09c4-4e24-9324-827dc82f4878"
      },
      "outputs": [
        {
          "name": "stderr",
          "output_type": "stream",
          "text": [
            "100%|██████████| 567/567 [00:03<00:00, 147.86it/s]\n"
          ]
        }
      ],
      "source": [
        "#@markdown ### 使用 [slicer2](https://github.com/openvpi/audio-slicer) 分割音频？\n",
        "\n",
        "wv_use_slicer = True #@param {type: \"boolean\"}\n",
        "\n",
        "#@markdown 下面的参数可以不改动\n",
        "wv_slicer_threshold   = -40   #@param {type: \"integer\"}\n",
        "wv_slicer_min_length  = 5000  #@param {type: \"integer\"}\n",
        "wv_slicer_min_interval= 300   #@param {type: \"integer\"}\n",
        "wv_slicer_hop_size    = 10    #@param {type: \"integer\"}\n",
        "wv_slicer_max_sil_kept= 100   #@param {type: \"integer\"}\n",
        "\n",
        "# wavs -> old_wavs\n",
        "#      -> wavs\n",
        "def fun_use_slicer():\n",
        "  if not os.path.exists(WV_WAV_DIR):\n",
        "    !cp -r {WV_RAW_DIR} {WV_WAV_DIR}\n",
        "  !mv {WV_WAV_DIR} {WV_OLD_WAV_DIR}\n",
        "  os.makedirs(WV_WAV_DIR, exist_ok=True)\n",
        "  for _, _, files in os.walk(WV_OLD_WAV_DIR):\n",
        "    files.sort()\n",
        "    for file in tqdm(files):\n",
        "      audio, sr = librosa.load(f'{WV_OLD_WAV_DIR}/{file}', sr=None, mono=False)  # Load an audio file with librosa.\n",
        "      slicer = Slicer(\n",
        "          sr=sr,\n",
        "          threshold=wv_slicer_threshold,\n",
        "          min_length=wv_slicer_min_length,\n",
        "          min_interval=wv_slicer_min_interval,\n",
        "          hop_size=wv_slicer_hop_size,\n",
        "          max_sil_kept=wv_slicer_max_sil_kept\n",
        "      )\n",
        "      chunks = slicer.slice(audio)\n",
        "      for i, chunk in enumerate(chunks):\n",
        "          if len(chunk.shape) > 1:\n",
        "              chunk = chunk.T  # Swap axes if the audio is stereo.\n",
        "          filename = file.split('.')[0]\n",
        "          soundfile.write(f'{WV_WAV_DIR}/{filename}_{str(i).zfill(4)}.wav', chunk, sr)  # Save sliced\n",
        "if wv_use_slicer:\n",
        "  fun_use_slicer()\n",
        "else:\n",
        "  !cp -r {WV_RAW_DIR} {WV_WAV_DIR}\n",
        "      "
      ]
    },
    {
      "cell_type": "code",
      "execution_count": null,
      "metadata": {
        "cellView": "form",
        "id": "BUxuP9PxhEI7"
      },
      "outputs": [],
      "source": [
        "#@markdown 清除上次whisper缓存\n",
        "wv_check_if = False #@param {type: \"boolean\"}\n",
        "if wv_check_if:\n",
        "  wv_whisper_model = 0\n",
        "  if os.path.exists(WV_WHISPER_TMP_DIR):\n",
        "    !rm -rf {WV_WAV_DIR}\n",
        "    !mv {WV_WHISPER_TMP_DIR} {WV_WAV_DIR}\n",
        "  !rm -rf {WV_FILELIST_DIR} /content/whisper-vits-japanese"
      ]
    },
    {
      "cell_type": "code",
      "execution_count": 15,
      "metadata": {
        "colab": {
          "base_uri": "https://localhost:8080/"
        },
        "id": "hoorYo08S694",
        "outputId": "f5257bcd-ccb7-47a5-ff74-d4757386354f"
      },
      "outputs": [
        {
          "name": "stdout",
          "output_type": "stream",
          "text": [
            "Looking in indexes: https://pypi.org/simple, https://us-python.pkg.dev/colab-wheels/public/simple/\n",
            "Collecting pypinyin\n",
            "  Downloading pypinyin-0.48.0-py2.py3-none-any.whl (1.4 MB)\n",
            "\u001b[2K     \u001b[90m━━━━━━━━━━━━━━━━━━━━━━━━━━━━━━━━━━━━━━━━\u001b[0m \u001b[32m1.4/1.4 MB\u001b[0m \u001b[31m18.1 MB/s\u001b[0m eta \u001b[36m0:00:00\u001b[0m\n",
            "\u001b[?25hInstalling collected packages: pypinyin\n",
            "Successfully installed pypinyin-0.48.0\n"
          ]
        }
      ],
      "source": [
        "#@markdown ### whisper 转写 (用时较长)\n",
        "\n",
        "#@markdown **单个音频不能超过30秒，可使用前面的slicer2分割**\n",
        "\n",
        "#@markdown 0 - 不使用whisper转写\n",
        "\n",
        "#@markdown 1 - 直接使用whisper转写\n",
        "\n",
        "#@markdown 2 - 调用 [auto.py](https://github.com/AlexandaJerry/whisper-vits-japanese/blob/main/auto.py) 进一步分割音频\n",
        "wv_whisper_option = 1 #@param {type: \"integer\"}\n",
        "#@markdown whisper 语种\n",
        "wv_language = \"Chinese\" #@param {type: \"string\"}\n",
        "#@markdown whisper 模型\n",
        "wv_whisper_model_name = \"large\" #@param {type: \"string\"}\n"
      ]
    },
    {
      "cell_type": "markdown",
      "metadata": {
        "id": "x2jwAR4fLSWe"
      },
      "source": [
        "关于whisper模型选择 （摘自官方[readme](https://github.com/openai/whisper/blob/main/README.md)）\n",
        "\n",
        "**Available models and languages**\n",
        "\n",
        "There are five model sizes, four with English-only versions, offering speed and accuracy tradeoffs. Below are the names of the available models and their approximate memory requirements and relative speed. \n",
        "\n",
        "\n",
        "|  Size  | Parameters | English-only model | Multilingual model | Required VRAM | Relative speed |\n",
        "|:------:|:----------:|:------------------:|:------------------:|:-------------:|:--------------:|\n",
        "|  tiny  |    39 M    |     `tiny.en`      |       `tiny`       |     ~1 GB     |      ~32x      |\n",
        "|  base  |    74 M    |     `base.en`      |       `base`       |     ~1 GB     |      ~16x      |\n",
        "| small  |   244 M    |     `small.en`     |      `small`       |     ~2 GB     |      ~6x       |\n",
        "| medium |   769 M    |    `medium.en`     |      `medium`      |     ~5 GB     |      ~2x       |\n",
        "| large  |   1550 M   |        N/A         |      `large`       |    ~10 GB     |       1x       |"
      ]
    },
    {
      "cell_type": "code",
      "execution_count": 16,
      "metadata": {
        "colab": {
          "base_uri": "https://localhost:8080/"
        },
        "id": "wO-D3qS5De4h",
        "outputId": "5286c05d-d839-451c-8ce2-62f57304ab2c"
      },
      "outputs": [
        {
          "name": "stderr",
          "output_type": "stream",
          "text": [
            "  0%|          | 1/569 [00:01<13:33,  1.43s/it]"
          ]
        },
        {
          "name": "stdout",
          "output_type": "stream",
          "text": [
            "wo3\n",
            "hao2\n",
            "bu4\n",
            "dan1\n",
            "xin1\n",
            "yin1\n",
            "wei4\n",
            "wo3\n",
            "zao3\n",
            "you3\n",
            "dui4\n",
            "ce4\n"
          ]
        },
        {
          "name": "stderr",
          "output_type": "stream",
          "text": [
            "\r  0%|          | 2/569 [00:02<11:32,  1.22s/it]"
          ]
        },
        {
          "name": "stdout",
          "output_type": "stream",
          "text": [
            "mei2\n",
            "da2\n",
            "dao4\n",
            "biao1\n",
            "zhun3\n"
          ]
        },
        {
          "name": "stderr",
          "output_type": "stream",
          "text": [
            "\r  1%|          | 3/569 [00:03<11:40,  1.24s/it]"
          ]
        },
        {
          "name": "stdout",
          "output_type": "stream",
          "text": [
            "wo3\n",
            "na2\n",
            "di4\n",
            "yi1\n",
            "shi4\n",
            "you3\n",
            "dao4\n",
            "li3\n",
            "de\n"
          ]
        },
        {
          "name": "stderr",
          "output_type": "stream",
          "text": [
            "\r  1%|          | 4/569 [00:05<12:08,  1.29s/it]"
          ]
        },
        {
          "name": "stdout",
          "output_type": "stream",
          "text": [
            "ni3\n",
            "bu4\n",
            "bi4\n",
            "nu3\n",
            "li4\n",
            "le\n"
          ]
        },
        {
          "name": "stderr",
          "output_type": "stream",
          "text": [
            "  1%|          | 7/569 [00:08<10:59,  1.17s/it]"
          ]
        },
        {
          "name": "stdout",
          "output_type": "stream",
          "text": [
            "zhen1\n",
            "la1\n",
            "ta1\n"
          ]
        },
        {
          "name": "stderr",
          "output_type": "stream",
          "text": [
            "\r  1%|▏         | 8/569 [00:10<11:33,  1.24s/it]"
          ]
        },
        {
          "name": "stdout",
          "output_type": "stream",
          "text": [
            "yi1\n",
            "ze2\n",
            "rui4\n",
            "er3\n",
            "ni3\n",
            "hai2\n",
            "xiao4\n",
            "de2\n",
            "chu1\n",
            "lai2\n",
            "bie2\n",
            "xiao4\n",
            "le\n"
          ]
        },
        {
          "name": "stderr",
          "output_type": "stream",
          "text": [
            "\r  2%|▏         | 9/569 [00:11<11:15,  1.21s/it]"
          ]
        },
        {
          "name": "stdout",
          "output_type": "stream",
          "text": [
            "wo3\n",
            "de\n",
            "ji4\n",
            "hua4\n",
            "wu2\n",
            "xian4\n",
            "ke3\n",
            "ji2\n"
          ]
        },
        {
          "name": "stderr",
          "output_type": "stream",
          "text": [
            "\r  2%|▏         | 10/569 [00:12<11:22,  1.22s/it]"
          ]
        },
        {
          "name": "stdout",
          "output_type": "stream",
          "text": [
            "wo3\n",
            "lai2\n",
            "bu4\n",
            "wei4\n",
            "bie2\n",
            "de\n",
            "zhi3\n",
            "wei4\n",
            "qu3\n",
            "sheng4\n"
          ]
        },
        {
          "name": "stderr",
          "output_type": "stream",
          "text": [
            "\r  2%|▏         | 11/569 [00:14<12:34,  1.35s/it]"
          ]
        },
        {
          "name": "stdout",
          "output_type": "stream",
          "text": [
            "ru2\n",
            "guo3\n",
            "wo3\n",
            "dou1\n",
            "bu4\n",
            "quan2\n",
            "li4\n",
            "yi3\n",
            "fu4\n",
            "na4\n",
            "bie2\n",
            "ren2\n",
            "jiu4\n",
            "hui4\n",
            "geng4\n",
            "jia1\n",
            "fu1\n",
            "yan3\n"
          ]
        },
        {
          "name": "stderr",
          "output_type": "stream",
          "text": [
            "\r  2%|▏         | 12/569 [00:15<12:25,  1.34s/it]"
          ]
        },
        {
          "name": "stdout",
          "output_type": "stream",
          "text": [
            "wo3\n",
            "mei2\n",
            "kong4\n",
            "ting1\n",
            "ni3\n",
            "xian2\n",
            "che3\n"
          ]
        },
        {
          "name": "stderr",
          "output_type": "stream",
          "text": [
            "\r  2%|▏         | 13/569 [00:16<12:23,  1.34s/it]"
          ]
        },
        {
          "name": "stdout",
          "output_type": "stream",
          "text": [
            "wo3\n",
            "zen3\n",
            "me\n",
            "hui4\n",
            "shu1\n"
          ]
        },
        {
          "name": "stderr",
          "output_type": "stream",
          "text": [
            "\r  2%|▏         | 14/569 [00:17<11:15,  1.22s/it]"
          ]
        },
        {
          "name": "stdout",
          "output_type": "stream",
          "text": [
            "lun2\n",
            "dao4\n",
            "wo3\n",
            "le\n"
          ]
        },
        {
          "name": "stderr",
          "output_type": "stream",
          "text": [
            "\r  3%|▎         | 15/569 [00:19<12:17,  1.33s/it]"
          ]
        },
        {
          "name": "stdout",
          "output_type": "stream",
          "text": [
            "zhe4\n",
            "xie1\n",
            "bing1\n",
            "zu2\n",
            "xu1\n",
            "yao4\n",
            "yi1\n",
            "ming2\n",
            "wang2\n",
            "hou4\n",
            "dai4\n",
            "ling3\n"
          ]
        },
        {
          "name": "stderr",
          "output_type": "stream",
          "text": [
            "\r  3%|▎         | 16/569 [00:20<12:03,  1.31s/it]"
          ]
        },
        {
          "name": "stdout",
          "output_type": "stream",
          "text": [
            "wo3\n",
            "hui4\n",
            "yi4\n",
            "zhi2\n",
            "ying2\n",
            "xia4\n",
            "qu4\n"
          ]
        },
        {
          "name": "stderr",
          "output_type": "stream",
          "text": [
            "\r  3%|▎         | 17/569 [00:22<13:37,  1.48s/it]"
          ]
        },
        {
          "name": "stdout",
          "output_type": "stream",
          "text": [
            "shi1\n",
            "wu4\n",
            "de\n",
            "dai4\n",
            "jia4\n",
            "wo3\n",
            "cheng2\n",
            "dan1\n",
            "bu4\n",
            "qi3\n"
          ]
        },
        {
          "name": "stderr",
          "output_type": "stream",
          "text": [
            "\r  3%|▎         | 18/569 [00:23<12:55,  1.41s/it]"
          ]
        },
        {
          "name": "stdout",
          "output_type": "stream",
          "text": [
            "wo3\n",
            "de\n",
            "ji4\n",
            "hua4\n",
            "wu2\n",
            "xian4\n",
            "ke3\n",
            "ji2\n"
          ]
        },
        {
          "name": "stderr",
          "output_type": "stream",
          "text": [
            "  4%|▎         | 20/569 [00:25<11:02,  1.21s/it]"
          ]
        },
        {
          "name": "stdout",
          "output_type": "stream",
          "text": [
            "shang4\n",
            "ba\n",
            "lai2\n",
            "bu4\n",
            "li4\n",
            "si1\n"
          ]
        },
        {
          "name": "stderr",
          "output_type": "stream",
          "text": [
            "\r  4%|▎         | 21/569 [00:28<15:25,  1.69s/it]"
          ]
        },
        {
          "name": "stdout",
          "output_type": "stream",
          "text": [
            "lai2\n",
            "bu4\n",
            "li4\n",
            "si1\n",
            "pei4\n",
            "bu4\n",
            "shang4\n",
            "ni3\n",
            "ma\n",
            "ka3\n",
            "te4\n",
            "lin2\n",
            "na4\n",
            "hai2\n",
            "shi4\n",
            "ni3\n",
            "bu4\n",
            "pei4\n"
          ]
        },
        {
          "name": "stderr",
          "output_type": "stream",
          "text": [
            "\r  4%|▍         | 22/569 [00:29<13:47,  1.51s/it]"
          ]
        },
        {
          "name": "stdout",
          "output_type": "stream",
          "text": [
            "zhe4\n",
            "shi4\n",
            "zen3\n",
            "me\n",
            "hui2\n",
            "shi4\n"
          ]
        },
        {
          "name": "stderr",
          "output_type": "stream",
          "text": [
            "\r  4%|▍         | 23/569 [00:30<12:26,  1.37s/it]"
          ]
        },
        {
          "name": "stdout",
          "output_type": "stream",
          "text": [
            "yi1\n",
            "qie4\n",
            "dou1\n",
            "ru2\n",
            "wo3\n",
            "suo3\n",
            "liao4\n"
          ]
        },
        {
          "name": "stderr",
          "output_type": "stream",
          "text": [
            "  5%|▍         | 26/569 [00:34<12:24,  1.37s/it]"
          ]
        },
        {
          "name": "stdout",
          "output_type": "stream",
          "text": [
            "wo3\n",
            "neng2\n",
            "zuo4\n",
            "dao4\n",
            "geng4\n",
            "hao3\n",
            "wo3\n",
            "bie2\n",
            "wu2\n",
            "xuan3\n",
            "ze2\n"
          ]
        },
        {
          "name": "stderr",
          "output_type": "stream",
          "text": [
            "\r  5%|▍         | 27/569 [00:35<11:40,  1.29s/it]"
          ]
        },
        {
          "name": "stdout",
          "output_type": "stream",
          "text": [
            "ji2\n",
            "zhong1\n",
            "jing1\n",
            "shen2\n"
          ]
        },
        {
          "name": "stderr",
          "output_type": "stream",
          "text": [
            "\r  5%|▍         | 28/569 [00:37<14:15,  1.58s/it]"
          ]
        },
        {
          "name": "stdout",
          "output_type": "stream",
          "text": [
            "bing4\n",
            "bu2\n",
            "shi4\n",
            "wo3\n",
            "tai4\n",
            "tu1\n",
            "chu1\n",
            "zhi3\n",
            "neng2\n",
            "shuo1\n",
            "shi4\n",
            "qi2\n",
            "ta1\n",
            "ren2\n",
            "tai4\n",
            "ping2\n",
            "yong1\n",
            "le\n"
          ]
        },
        {
          "name": "stderr",
          "output_type": "stream",
          "text": [
            "  5%|▌         | 30/569 [00:40<12:53,  1.43s/it]"
          ]
        },
        {
          "name": "stdout",
          "output_type": "stream",
          "text": [
            "zai4\n",
            "duo1\n",
            "zuo4\n",
            "yi1\n",
            "xie1\n",
            "gong1\n",
            "ke4\n",
            "ba\n"
          ]
        },
        {
          "name": "stderr",
          "output_type": "stream",
          "text": [
            "\r  5%|▌         | 31/569 [00:42<15:39,  1.75s/it]"
          ]
        },
        {
          "name": "stdout",
          "output_type": "stream",
          "text": [
            "hen3\n",
            "duo1\n",
            "ling3\n",
            "xiu4\n",
            "xi3\n",
            "huan1\n",
            "yong4\n",
            "hu2\n",
            "luo2\n",
            "bo\n",
            "jia1\n",
            "da4\n",
            "bang4\n",
            "lai2\n",
            "jian4\n",
            "li4\n",
            "wei1\n",
            "wang4\n",
            "er2\n",
            "wo3\n",
            "xi3\n",
            "huan1\n",
            "de\n",
            "shi4\n",
            "gong1\n",
            "ke4\n",
            "fu3\n",
            "dao3\n",
            "jia1\n",
            "jin4\n",
            "shen1\n",
            "bo2\n",
            "dou4\n"
          ]
        },
        {
          "name": "stderr",
          "output_type": "stream",
          "text": [
            "  6%|▌         | 33/569 [00:45<13:02,  1.46s/it]"
          ]
        },
        {
          "name": "stdout",
          "output_type": "stream",
          "text": [
            "lai2\n",
            "bu4\n",
            "li4\n",
            "si1\n",
            "yan3\n",
            "hu4\n",
            "wo3\n",
            "de\n",
            "ce4\n",
            "yi4\n"
          ]
        },
        {
          "name": "stderr",
          "output_type": "stream",
          "text": [
            "\r  6%|▌         | 34/569 [00:46<11:45,  1.32s/it]"
          ]
        },
        {
          "name": "stdout",
          "output_type": "stream",
          "text": [
            "xian4\n",
            "jing3\n",
            "fa1\n",
            "dong4\n"
          ]
        },
        {
          "name": "stderr",
          "output_type": "stream",
          "text": [
            "\r  6%|▌         | 35/569 [00:47<10:39,  1.20s/it]"
          ]
        },
        {
          "name": "stdout",
          "output_type": "stream",
          "text": [
            "ni3\n",
            "suan4\n",
            "cuo4\n",
            "le\n"
          ]
        },
        {
          "name": "stderr",
          "output_type": "stream",
          "text": [
            "\r  6%|▋         | 36/569 [00:49<13:15,  1.49s/it]"
          ]
        },
        {
          "name": "stdout",
          "output_type": "stream",
          "text": [
            "yi1\n",
            "ze2\n",
            "rui4\n",
            "er3\n",
            "ni3\n",
            "de\n",
            "le4\n",
            "guan1\n",
            "jie4\n",
            "zhen1\n",
            "shi4\n",
            "ke3\n",
            "ai4\n",
            "wo3\n",
            "jiu4\n",
            "shi4\n",
            "lai2\n",
            "po1\n",
            "leng3\n",
            "shui3\n",
            "de\n"
          ]
        },
        {
          "name": "stderr",
          "output_type": "stream",
          "text": [
            "\r  7%|▋         | 37/569 [00:51<15:03,  1.70s/it]"
          ]
        },
        {
          "name": "stdout",
          "output_type": "stream",
          "text": [
            "ni3\n",
            "ben3\n",
            "lai2\n",
            "ke3\n",
            "yi3\n",
            "geng4\n",
            "jia1\n",
            "chu1\n",
            "se4\n",
            "de\n",
            "ka3\n",
            "te4\n",
            "lin2\n",
            "na4\n",
            "ke3\n",
            "xi1\n",
            "le\n"
          ]
        },
        {
          "name": "stderr",
          "output_type": "stream",
          "text": [
            "\r  7%|▋         | 38/569 [00:53<15:05,  1.71s/it]"
          ]
        },
        {
          "name": "stdout",
          "output_type": "stream",
          "text": [
            "jie2\n",
            "si1\n",
            "nian2\n",
            "ji2\n",
            "zhu3\n",
            "xi2\n",
            "zhe4\n",
            "ge4\n",
            "wei4\n",
            "zhi4\n",
            "zhi3\n",
            "rong2\n",
            "de2\n",
            "xia4\n",
            "yi2\n",
            "ge4\n",
            "ren2\n"
          ]
        },
        {
          "name": "stderr",
          "output_type": "stream",
          "text": [
            "\r  7%|▋         | 39/569 [00:54<13:55,  1.58s/it]"
          ]
        },
        {
          "name": "stdout",
          "output_type": "stream",
          "text": [
            "wo3\n",
            "xi3\n",
            "huan1\n",
            "ji4\n",
            "hua4\n",
            "shun4\n",
            "li4\n",
            "jin4\n",
            "xing2\n",
            "de\n",
            "gan3\n",
            "jue2\n"
          ]
        },
        {
          "name": "stderr",
          "output_type": "stream",
          "text": [
            "\r  7%|▋         | 40/569 [00:55<12:36,  1.43s/it]"
          ]
        },
        {
          "name": "stdout",
          "output_type": "stream",
          "text": [
            "wo3\n",
            "yi3\n",
            "jing1\n",
            "zuo4\n",
            "zu2\n",
            "le\n",
            "gong1\n",
            "ke4\n"
          ]
        },
        {
          "name": "stderr",
          "output_type": "stream",
          "text": [
            "\r  7%|▋         | 41/569 [00:56<12:03,  1.37s/it]"
          ]
        },
        {
          "name": "stdout",
          "output_type": "stream",
          "text": [
            "shi4\n",
            "wo3\n",
            "ma3\n",
            "hu3\n",
            "le\n",
            "xia4\n",
            "bu4\n",
            "wei2\n",
            "li4\n"
          ]
        },
        {
          "name": "stderr",
          "output_type": "stream",
          "text": [
            "\r  7%|▋         | 42/569 [00:58<12:25,  1.42s/it]"
          ]
        },
        {
          "name": "stdout",
          "output_type": "stream",
          "text": [
            "wo3\n",
            "zai4\n",
            "zhan4\n",
            "dou4\n",
            "zhong1\n",
            "xue2\n",
            "dao4\n",
            "de\n",
            "dong1\n",
            "xi1\n",
            "bi3\n",
            "zai4\n",
            "ke4\n",
            "tang2\n",
            "shang4\n",
            "duo1\n"
          ]
        },
        {
          "name": "stderr",
          "output_type": "stream",
          "text": [
            "\r  8%|▊         | 43/569 [00:59<11:10,  1.27s/it]"
          ]
        },
        {
          "name": "stdout",
          "output_type": "stream",
          "text": [
            "zuo4\n",
            "ge4\n",
            "liang3\n",
            "duan4\n",
            "ba\n"
          ]
        },
        {
          "name": "stderr",
          "output_type": "stream",
          "text": [
            "\r  8%|▊         | 44/569 [01:00<12:27,  1.42s/it]"
          ]
        },
        {
          "name": "stdout",
          "output_type": "stream",
          "text": [
            "wo3\n",
            "de\n",
            "tong2\n",
            "xue2\n",
            "dou1\n",
            "you3\n",
            "qian2\n",
            "li4\n",
            "dan4\n",
            "bu4\n",
            "gou4\n",
            "ke4\n",
            "ku3\n",
            "wo3\n",
            "shi4\n",
            "ta1\n",
            "men\n",
            "zhi1\n",
            "zhong1\n",
            "wei2\n",
            "yi1\n",
            "de\n",
            "xi1\n",
            "wang4\n"
          ]
        },
        {
          "name": "stderr",
          "output_type": "stream",
          "text": [
            "\r  8%|▊         | 45/569 [01:01<11:03,  1.27s/it]"
          ]
        },
        {
          "name": "stdout",
          "output_type": "stream",
          "text": [
            "wo3\n",
            "you3\n",
            "bei4\n",
            "er2\n",
            "lai2\n"
          ]
        },
        {
          "name": "stderr",
          "output_type": "stream",
          "text": [
            "\r  8%|▊         | 46/569 [01:02<10:32,  1.21s/it]"
          ]
        },
        {
          "name": "stdout",
          "output_type": "stream",
          "text": [
            "kan4\n",
            "zi3\n",
            "xi4\n",
            "le\n"
          ]
        },
        {
          "name": "stderr",
          "output_type": "stream",
          "text": [
            "\r  8%|▊         | 47/569 [01:04<12:40,  1.46s/it]"
          ]
        },
        {
          "name": "stdout",
          "output_type": "stream",
          "text": [
            "shi4\n",
            "wo3\n",
            "de\n",
            "gong1\n",
            "lao2\n",
            "ma\n",
            "wo3\n",
            "zi4\n",
            "ji3\n",
            "de\n",
            "li4\n",
            "liang4\n",
            "ye3\n",
            "zai4\n",
            "zeng1\n",
            "zhang3\n"
          ]
        },
        {
          "name": "stderr",
          "output_type": "stream",
          "text": [
            "  9%|▊         | 49/569 [01:08<13:39,  1.58s/it]"
          ]
        },
        {
          "name": "stdout",
          "output_type": "stream",
          "text": [
            "lai2\n",
            "bu4\n",
            "li4\n",
            "si1\n",
            "de\n",
            "yan3\n",
            "jing1\n",
            "shi3\n",
            "zhong1\n",
            "dou1\n",
            "zai4\n",
            "zhu4\n",
            "shi4\n",
            "zhu4\n"
          ]
        },
        {
          "name": "stderr",
          "output_type": "stream",
          "text": [
            "\r  9%|▉         | 50/569 [01:10<13:42,  1.58s/it]"
          ]
        },
        {
          "name": "stdout",
          "output_type": "stream",
          "text": [
            "zuo4\n",
            "meng4\n",
            "dou1\n",
            "xiang3\n",
            "bu2\n",
            "dao4\n",
            "hui4\n",
            "you3\n",
            "zhe4\n",
            "yang4\n",
            "de\n",
            "cheng2\n",
            "guo3\n",
            "gai1\n",
            "zhi4\n",
            "ding4\n",
            "xin1\n",
            "ji4\n",
            "hua4\n",
            "le\n"
          ]
        },
        {
          "name": "stderr",
          "output_type": "stream",
          "text": [
            "  9%|▉         | 53/569 [01:13<10:24,  1.21s/it]"
          ]
        },
        {
          "name": "stdout",
          "output_type": "stream",
          "text": [
            "zhe4\n",
            "yi1\n",
            "ci4\n",
            "wo3\n",
            "bi4\n",
            "xu1\n",
            "zuo4\n",
            "dao4\n",
            "wan2\n",
            "mei3\n"
          ]
        },
        {
          "name": "stderr",
          "output_type": "stream",
          "text": [
            "\r  9%|▉         | 54/569 [01:14<11:17,  1.32s/it]"
          ]
        },
        {
          "name": "stdout",
          "output_type": "stream",
          "text": [
            "lian2\n",
            "jiao1\n",
            "shu1\n",
            "dou1\n",
            "jiao4\n",
            "bu4\n",
            "hao3\n",
            "de\n",
            "jiu4\n",
            "shi4\n",
            "ni3\n",
            "si1\n",
            "wei2\n",
            "yin1\n",
            "xiao4\n",
            "zhang3\n"
          ]
        },
        {
          "name": "stderr",
          "output_type": "stream",
          "text": [
            "\r 10%|▉         | 55/569 [01:15<10:14,  1.20s/it]"
          ]
        },
        {
          "name": "stdout",
          "output_type": "stream",
          "text": [
            "wang2\n",
            "hai2\n",
            "zai4\n",
            "shou3\n"
          ]
        },
        {
          "name": "stderr",
          "output_type": "stream",
          "text": [
            "\r 10%|▉         | 56/569 [01:16<10:31,  1.23s/it]"
          ]
        },
        {
          "name": "stdout",
          "output_type": "stream",
          "text": [
            "quan2\n",
            "shi4\n",
            "jie4\n",
            "dou1\n",
            "zai4\n",
            "kan4\n",
            "zhu4\n",
            "bie2\n",
            "song1\n",
            "xie4\n"
          ]
        },
        {
          "name": "stderr",
          "output_type": "stream",
          "text": [
            "\r 10%|█         | 57/569 [01:18<12:32,  1.47s/it]"
          ]
        },
        {
          "name": "stdout",
          "output_type": "stream",
          "text": [
            "wo3\n",
            "gan3\n",
            "jue2\n",
            "zi4\n",
            "ji3\n",
            "ye3\n",
            "bian4\n",
            "le\n",
            "wo3\n",
            "men\n",
            "zai4\n",
            "yi1\n",
            "tong2\n",
            "cheng2\n",
            "zhang3\n",
            "jing1\n",
            "ji4\n"
          ]
        },
        {
          "name": "stderr",
          "output_type": "stream",
          "text": [
            "\r 10%|█         | 58/569 [01:21<14:32,  1.71s/it]"
          ]
        },
        {
          "name": "stdout",
          "output_type": "stream",
          "text": [
            "yao4\n",
            "dong3\n",
            "de\n",
            "zi4\n",
            "kong4\n",
            "wu4\n",
            "kong1\n",
            "fou3\n",
            "ze2\n",
            "yong3\n",
            "yuan3\n",
            "dou1\n",
            "bie2\n",
            "xiang3\n",
            "zhan4\n",
            "sheng4\n",
            "wo3\n",
            "。\n"
          ]
        },
        {
          "name": "stderr",
          "output_type": "stream",
          "text": [
            "\r 10%|█         | 59/569 [01:22<12:33,  1.48s/it]"
          ]
        },
        {
          "name": "stdout",
          "output_type": "stream",
          "text": [
            "wo3\n",
            "shi4\n",
            "tian1\n",
            "cai2\n"
          ]
        },
        {
          "name": "stderr",
          "output_type": "stream",
          "text": [
            "\r 11%|█         | 60/569 [01:23<12:57,  1.53s/it]"
          ]
        },
        {
          "name": "stdout",
          "output_type": "stream",
          "text": [
            "wo3\n",
            "yi4\n",
            "nian2\n",
            "ji2\n",
            "jiu4\n",
            "dao4\n",
            "ding3\n",
            "le\n",
            "na4\n",
            "er4\n",
            "nian2\n",
            "ji2\n",
            "hai2\n",
            "you3\n",
            "shen2\n",
            "me\n",
            "tiao3\n",
            "zhan4\n"
          ]
        },
        {
          "name": "stderr",
          "output_type": "stream",
          "text": [
            "\r 11%|█         | 61/569 [01:25<12:53,  1.52s/it]"
          ]
        },
        {
          "name": "stdout",
          "output_type": "stream",
          "text": [
            "zhe4\n",
            "shi4\n",
            "wo3\n",
            "de\n",
            "tian2\n",
            "dian3\n",
            "shi4\n",
            "wo3\n",
            "mai4\n",
            "xiang4\n",
            "cheng2\n",
            "gong1\n",
            "de\n",
            "mi4\n",
            "jue2\n"
          ]
        },
        {
          "name": "stderr",
          "output_type": "stream",
          "text": [
            "\r 11%|█         | 62/569 [01:26<11:49,  1.40s/it]"
          ]
        },
        {
          "name": "stdout",
          "output_type": "stream",
          "text": [
            "jin4\n",
            "li4\n",
            "le\n",
            "jin1\n",
            "sheng1\n",
            "ke3\n",
            "jia1\n"
          ]
        },
        {
          "name": "stderr",
          "output_type": "stream",
          "text": [
            "\r 11%|█         | 63/569 [01:27<10:52,  1.29s/it]"
          ]
        },
        {
          "name": "stdout",
          "output_type": "stream",
          "text": [
            "shi1\n",
            "bai4\n",
            "shi4\n",
            "ni3\n",
            "huo2\n",
            "gai1\n"
          ]
        },
        {
          "name": "stderr",
          "output_type": "stream",
          "text": [
            "\r 11%|█         | 64/569 [01:29<12:07,  1.44s/it]"
          ]
        },
        {
          "name": "stdout",
          "output_type": "stream",
          "text": [
            "wo3\n",
            "xuan3\n",
            "ze2\n",
            "le\n",
            "lai2\n",
            "bu4\n",
            "li4\n",
            "si1\n",
            "ta1\n",
            "ye3\n",
            "tong2\n",
            "yang4\n",
            "xuan3\n",
            "ze2\n",
            "le\n",
            "wo3\n"
          ]
        },
        {
          "name": "stderr",
          "output_type": "stream",
          "text": [
            "\r 11%|█▏        | 65/569 [01:30<12:08,  1.45s/it]"
          ]
        },
        {
          "name": "stdout",
          "output_type": "stream",
          "text": [
            "wo3\n",
            "bu2\n",
            "shi4\n",
            "lai2\n",
            "jiao1\n",
            "peng2\n",
            "you3\n",
            "de\n",
            "wo3\n",
            "yao4\n",
            "de\n",
            "shi4\n",
            "chuang3\n",
            "chu1\n",
            "ming2\n",
            "tang2\n"
          ]
        },
        {
          "name": "stderr",
          "output_type": "stream",
          "text": [
            " 12%|█▏        | 68/569 [01:34<11:02,  1.32s/it]"
          ]
        },
        {
          "name": "stdout",
          "output_type": "stream",
          "text": [
            "ni3\n",
            "hui4\n",
            "shi1\n",
            "bai4\n",
            "de\n"
          ]
        },
        {
          "name": "stderr",
          "output_type": "stream",
          "text": [
            "\r 12%|█▏        | 69/569 [01:35<11:27,  1.37s/it]"
          ]
        },
        {
          "name": "stdout",
          "output_type": "stream",
          "text": [
            "gen1\n",
            "ben3\n",
            "jiu4\n",
            "shi4\n",
            "lang4\n",
            "fei4\n",
            "shi2\n",
            "jian1\n"
          ]
        },
        {
          "name": "stderr",
          "output_type": "stream",
          "text": [
            " 12%|█▏        | 71/569 [01:38<10:23,  1.25s/it]"
          ]
        },
        {
          "name": "stdout",
          "output_type": "stream",
          "text": [
            "ni3\n",
            "yi3\n",
            "wei2\n",
            "wo3\n",
            "zhi3\n",
            "you3\n",
            "zhe4\n",
            "yi2\n",
            "ge4\n",
            "ji4\n",
            "hua4\n",
            "ma\n"
          ]
        },
        {
          "name": "stderr",
          "output_type": "stream",
          "text": [
            "\r 13%|█▎        | 72/569 [01:39<09:56,  1.20s/it]"
          ]
        },
        {
          "name": "stdout",
          "output_type": "stream",
          "text": [
            "ji4\n",
            "hua4\n",
            "tiao2\n",
            "zheng3\n",
            "le\n"
          ]
        },
        {
          "name": "stderr",
          "output_type": "stream",
          "text": [
            "\r 13%|█▎        | 73/569 [01:40<10:01,  1.21s/it]"
          ]
        },
        {
          "name": "stdout",
          "output_type": "stream",
          "text": [
            "wo3\n",
            "de\n",
            "zi4\n",
            "dian3\n",
            "li3\n",
            "mei2\n",
            "you3\n",
            "shi1\n",
            "bai4\n",
            "er4\n",
            "zi4\n"
          ]
        },
        {
          "name": "stderr",
          "output_type": "stream",
          "text": [
            "\r 13%|█▎        | 74/569 [01:41<09:54,  1.20s/it]"
          ]
        },
        {
          "name": "stdout",
          "output_type": "stream",
          "text": [
            "ju1\n",
            "ran2\n",
            "hai2\n",
            "you3\n",
            "geng4\n",
            "qiang2\n",
            "de\n",
            "li4\n",
            "liang4\n"
          ]
        },
        {
          "name": "stderr",
          "output_type": "stream",
          "text": [
            "\r 13%|█▎        | 75/569 [01:42<08:54,  1.08s/it]"
          ]
        },
        {
          "name": "stdout",
          "output_type": "stream",
          "text": [
            "wan2\n",
            "mei3\n"
          ]
        },
        {
          "name": "stderr",
          "output_type": "stream",
          "text": [
            " 14%|█▎        | 77/569 [01:44<10:16,  1.25s/it]"
          ]
        },
        {
          "name": "stdout",
          "output_type": "stream",
          "text": [
            "mei3\n",
            "yi1\n",
            "wei4\n",
            "wei3\n",
            "da4\n",
            "de\n",
            "jiang1\n",
            "jun1\n",
            "dou1\n",
            "zai4\n",
            "lai2\n",
            "bu4\n",
            "li4\n",
            "si1\n",
            "shou4\n",
            "xun4\n",
            "guo4\n",
            "suo3\n",
            "yi3\n",
            "wo3\n",
            "jiu4\n",
            "bao4\n",
            "le\n",
            "ming2\n"
          ]
        },
        {
          "name": "stderr",
          "output_type": "stream",
          "text": [
            "\r 14%|█▎        | 78/569 [01:46<09:57,  1.22s/it]"
          ]
        },
        {
          "name": "stdout",
          "output_type": "stream",
          "text": [
            "wo3\n",
            "jue2\n",
            "bu4\n",
            "jie1\n",
            "shou4\n",
            "shi1\n",
            "bai4\n"
          ]
        },
        {
          "name": "stderr",
          "output_type": "stream",
          "text": [
            " 14%|█▍        | 80/569 [01:48<10:58,  1.35s/it]"
          ]
        },
        {
          "name": "stdout",
          "output_type": "stream",
          "text": [
            "wo3\n",
            "ming2\n",
            "bai2\n",
            "le\n",
            "la1\n",
            "ke4\n",
            "si1\n",
            "ni3\n",
            "jiu4\n",
            "shi4\n",
            "jia1\n",
            "zu2\n",
            "zhi1\n",
            "chi3\n"
          ]
        },
        {
          "name": "stderr",
          "output_type": "stream",
          "text": [
            "\r 14%|█▍        | 81/569 [01:49<10:01,  1.23s/it]"
          ]
        },
        {
          "name": "stdout",
          "output_type": "stream",
          "text": [
            "ha1\n"
          ]
        },
        {
          "name": "stderr",
          "output_type": "stream",
          "text": [
            "\r 14%|█▍        | 82/569 [01:51<11:17,  1.39s/it]"
          ]
        },
        {
          "name": "stdout",
          "output_type": "stream",
          "text": [
            "hai2\n",
            "xing2\n",
            " \n",
            "dan4\n",
            "li2\n",
            "you1\n",
            "xiu4\n",
            "hai2\n",
            "hen3\n",
            "yuan3\n"
          ]
        },
        {
          "name": "stderr",
          "output_type": "stream",
          "text": [
            " 15%|█▍        | 84/569 [01:53<09:15,  1.15s/it]"
          ]
        },
        {
          "name": "stdout",
          "output_type": "stream",
          "text": [
            "qing1\n",
            "song1\n",
            "man3\n",
            "fen1\n"
          ]
        },
        {
          "name": "stderr",
          "output_type": "stream",
          "text": [
            "\r 15%|█▍        | 85/569 [01:55<10:25,  1.29s/it]"
          ]
        },
        {
          "name": "stdout",
          "output_type": "stream",
          "text": [
            "ta1\n",
            "men\n",
            "shuo1\n",
            "zuo4\n",
            "bu4\n",
            "cheng2\n",
            "shi4\n",
            "de\n",
            "cai2\n",
            "qu4\n",
            "jiao1\n",
            "shu1\n",
            "shi4\n",
            "zhe4\n",
            "yang4\n",
            "ma\n",
            "xiao4\n",
            "zhang3\n"
          ]
        },
        {
          "name": "stderr",
          "output_type": "stream",
          "text": [
            "\r 15%|█▌        | 86/569 [01:56<10:20,  1.29s/it]"
          ]
        },
        {
          "name": "stdout",
          "output_type": "stream",
          "text": [
            "lai2\n",
            "bu4\n",
            "li4\n",
            "si1\n",
            "zai4\n",
            "zhan4\n",
            "dou4\n",
            "li3\n"
          ]
        },
        {
          "name": "stderr",
          "output_type": "stream",
          "text": [
            "\r 15%|█▌        | 87/569 [01:57<11:13,  1.40s/it]"
          ]
        },
        {
          "name": "stdout",
          "output_type": "stream",
          "text": [
            "xian1\n",
            "ba3\n",
            "ke4\n",
            "ben3\n",
            "chi1\n",
            "tou4\n",
            "le\n",
            "zai4\n",
            "lai2\n",
            "tiao3\n",
            "zhan4\n",
            "wo3\n",
            "ba\n",
            " \n",
            "gai4\n",
            "lun2\n"
          ]
        },
        {
          "name": "stderr",
          "output_type": "stream",
          "text": [
            "\r 15%|█▌        | 88/569 [01:59<12:43,  1.59s/it]"
          ]
        },
        {
          "name": "stdout",
          "output_type": "stream",
          "text": [
            "ren2\n",
            "men\n",
            "jue2\n",
            "de\n",
            "lai2\n",
            "bu4\n",
            "li4\n",
            "si1\n",
            "xue2\n",
            "yuan4\n",
            "shou1\n",
            "jin4\n",
            "lai2\n",
            "de\n",
            "dou1\n",
            "shi4\n",
            "wen4\n",
            "ti2\n",
            "xue2\n",
            "sheng1\n",
            "dan4\n",
            "wo3\n",
            "men\n",
            "yong4\n",
            "zhan4\n",
            "ji4\n",
            "shuo1\n",
            "hua4\n"
          ]
        },
        {
          "name": "stderr",
          "output_type": "stream",
          "text": [
            "\r 16%|█▌        | 89/569 [02:02<13:53,  1.74s/it]"
          ]
        },
        {
          "name": "stdout",
          "output_type": "stream",
          "text": [
            "ni3\n",
            "zhe4\n",
            "shen1\n",
            "yi1\n",
            "fu2\n",
            "shi4\n",
            "you3\n",
            "shen2\n",
            "me\n",
            "mo2\n",
            "li4\n",
            "ma\n",
            "hai2\n",
            "shi4\n",
            "shuo1\n",
            "ni3\n",
            "zhi3\n",
            "shi4\n",
            "tai4\n",
            "lan3\n",
            "le\n"
          ]
        },
        {
          "name": "stderr",
          "output_type": "stream",
          "text": [
            "\r 16%|█▌        | 90/569 [02:04<14:47,  1.85s/it]"
          ]
        },
        {
          "name": "stdout",
          "output_type": "stream",
          "text": [
            "wo3\n",
            "zuo4\n",
            "de\n",
            "tian2\n",
            "dian3\n",
            "shui2\n",
            "ye3\n",
            "da3\n",
            "bu4\n",
            "guo4\n",
            "chu2\n",
            "fei1\n",
            "yong4\n",
            "shang4\n",
            "jiao3\n",
            "ban4\n",
            "qi4\n"
          ]
        },
        {
          "name": "stderr",
          "output_type": "stream",
          "text": [
            "\r 16%|█▌        | 91/569 [02:05<14:23,  1.81s/it]"
          ]
        },
        {
          "name": "stdout",
          "output_type": "stream",
          "text": [
            "wo3\n",
            "shi4\n",
            "lai2\n",
            "bu4\n",
            "li4\n",
            "si1\n",
            "zui4\n",
            "qiang2\n",
            "de\n",
            "ren2\n",
            "xuan3\n"
          ]
        },
        {
          "name": "stderr",
          "output_type": "stream",
          "text": [
            "\r 16%|█▌        | 92/569 [02:07<13:28,  1.70s/it]"
          ]
        },
        {
          "name": "stdout",
          "output_type": "stream",
          "text": [
            "zheng3\n",
            "chang3\n",
            "zhan4\n",
            "dou4\n",
            "wo3\n",
            "dou1\n",
            "ji4\n",
            "suan4\n",
            "dao4\n",
            "le\n",
            "wu3\n",
            "bu4\n",
            "yi3\n",
            "hou4\n"
          ]
        },
        {
          "name": "stderr",
          "output_type": "stream",
          "text": [
            " 17%|█▋        | 94/569 [02:09<10:00,  1.26s/it]"
          ]
        },
        {
          "name": "stdout",
          "output_type": "stream",
          "text": [
            "du1\n"
          ]
        },
        {
          "name": "stderr",
          "output_type": "stream",
          "text": [
            "\r 17%|█▋        | 95/569 [02:10<09:15,  1.17s/it]"
          ]
        },
        {
          "name": "stdout",
          "output_type": "stream",
          "text": [
            "wo3\n",
            "jiu4\n",
            "zhi1\n",
            "dao4\n",
            "ni3\n",
            "yao4\n",
            "zou3\n",
            "zhe4\n",
            "li3\n"
          ]
        },
        {
          "name": "stderr",
          "output_type": "stream",
          "text": [
            " 17%|█▋        | 97/569 [02:12<09:59,  1.27s/it]"
          ]
        },
        {
          "name": "stdout",
          "output_type": "stream",
          "text": [
            "kai3\n",
            "lun2\n",
            "wo3\n",
            "yuan2\n",
            "yi3\n",
            "wei2\n",
            "ni3\n",
            "shi4\n",
            "cong1\n",
            "ming2\n",
            "ren2\n",
            "kan4\n",
            "lai2\n",
            "wo3\n",
            "shi4\n",
            "kan4\n",
            "cuo4\n",
            "le\n"
          ]
        },
        {
          "name": "stderr",
          "output_type": "stream",
          "text": [
            "\r 17%|█▋        | 98/569 [02:13<09:42,  1.24s/it]"
          ]
        },
        {
          "name": "stdout",
          "output_type": "stream",
          "text": [
            "lai2\n",
            "bu4\n",
            "li4\n",
            "si1\n",
            "bian4\n",
            "qiang2\n",
            "le\n"
          ]
        },
        {
          "name": "stderr",
          "output_type": "stream",
          "text": [
            "\r 17%|█▋        | 99/569 [02:14<08:54,  1.14s/it]"
          ]
        },
        {
          "name": "stdout",
          "output_type": "stream",
          "text": [
            "wo3\n",
            "bu2\n",
            "hui4\n",
            "shu1\n"
          ]
        },
        {
          "name": "stderr",
          "output_type": "stream",
          "text": [
            "\r 18%|█▊        | 100/569 [02:16<09:42,  1.24s/it]"
          ]
        },
        {
          "name": "stdout",
          "output_type": "stream",
          "text": [
            "wai4\n",
            "ren2\n",
            "kan4\n",
            "lai2\n",
            "wo3\n",
            "cong2\n",
            "lai2\n",
            "dou1\n",
            "bu4\n",
            "fei4\n",
            "chui1\n",
            "hui1\n",
            "zhi1\n",
            "li4\n"
          ]
        },
        {
          "name": "stderr",
          "output_type": "stream",
          "text": [
            "\r 18%|█▊        | 101/569 [02:18<12:52,  1.65s/it]"
          ]
        },
        {
          "name": "stdout",
          "output_type": "stream",
          "text": [
            "zai4\n",
            "zhu1\n",
            "duo1\n",
            "shen2\n",
            "qi4\n",
            "zhi1\n",
            "zhong1\n",
            "lai2\n",
            "bu4\n",
            "li4\n",
            "si1\n",
            "zui4\n",
            "wei4\n",
            "leng3\n",
            "ku4\n",
            "wu2\n",
            "qing2\n",
            "tai4\n",
            "he2\n",
            "shi4\n",
            "le\n"
          ]
        },
        {
          "name": "stderr",
          "output_type": "stream",
          "text": [
            "\r 18%|█▊        | 102/569 [02:20<13:56,  1.79s/it]"
          ]
        },
        {
          "name": "stdout",
          "output_type": "stream",
          "text": [
            "kan4\n",
            "lai2\n",
            "yao4\n",
            "ji4\n",
            "ni3\n",
            "yi1\n",
            "ci4\n",
            "kuang4\n",
            "ke4\n",
            "le\n",
            "xiao4\n",
            "zhang3\n",
            "da4\n",
            "ren2\n"
          ]
        },
        {
          "name": "stderr",
          "output_type": "stream",
          "text": [
            "\r 18%|█▊        | 103/569 [02:22<12:42,  1.64s/it]"
          ]
        },
        {
          "name": "stdout",
          "output_type": "stream",
          "text": [
            "yue4\n",
            "shi4\n",
            "jing1\n",
            "ying1\n",
            "jiu4\n",
            "yue4\n",
            "shi4\n",
            "you3\n",
            "tiao2\n",
            "bu4\n",
            "wen3\n"
          ]
        },
        {
          "name": "stderr",
          "output_type": "stream",
          "text": [
            "\r 18%|█▊        | 104/569 [02:23<11:39,  1.51s/it]"
          ]
        },
        {
          "name": "stdout",
          "output_type": "stream",
          "text": [
            "yi4\n",
            "ban1\n",
            "shuo1\n",
            "lai2\n",
            "wo3\n",
            "xian4\n",
            "zai4\n",
            "yi3\n",
            "jing1\n",
            "ying2\n",
            "le\n"
          ]
        },
        {
          "name": "stderr",
          "output_type": "stream",
          "text": [
            "\r 18%|█▊        | 105/569 [02:24<10:15,  1.33s/it]"
          ]
        },
        {
          "name": "stdout",
          "output_type": "stream",
          "text": [
            "zai4\n",
            "ci4\n",
            "bian4\n",
            "xing2\n"
          ]
        },
        {
          "name": "stderr",
          "output_type": "stream",
          "text": [
            "\r 19%|█▊        | 106/569 [02:26<11:56,  1.55s/it]"
          ]
        },
        {
          "name": "stdout",
          "output_type": "stream",
          "text": [
            "zhi3\n",
            "you3\n",
            "wo3\n",
            "neng2\n",
            "fa1\n",
            "jue2\n",
            "chu1\n",
            "lai2\n",
            "bu4\n",
            "li4\n",
            "si1\n",
            "de\n",
            "zhen1\n",
            "zheng4\n",
            "qian2\n",
            "neng2\n",
            "wo3\n",
            "zhu4\n",
            "ding4\n",
            "yao4\n",
            "gan4\n",
            "yi1\n",
            "fan1\n",
            "da4\n",
            "shi4\n"
          ]
        },
        {
          "name": "stderr",
          "output_type": "stream",
          "text": [
            " 19%|█▉        | 108/569 [02:28<10:23,  1.35s/it]"
          ]
        },
        {
          "name": "stdout",
          "output_type": "stream",
          "text": [
            "wo3\n",
            "de\n",
            "ji4\n",
            "hua4\n",
            "mei3\n",
            "ci4\n",
            "dou1\n",
            "neng2\n",
            "cheng2\n",
            "gong1\n"
          ]
        },
        {
          "name": "stderr",
          "output_type": "stream",
          "text": [
            "\r 19%|█▉        | 109/569 [02:30<10:47,  1.41s/it]"
          ]
        },
        {
          "name": "stdout",
          "output_type": "stream",
          "text": [
            "dui4\n",
            "fang1\n",
            "de\n",
            "dang4\n",
            "an4\n",
            "wo3\n",
            "yi3\n",
            "jing1\n",
            "zhun3\n",
            "bei4\n",
            "hao3\n",
            "le\n",
            "lai2\n",
            "zuo4\n",
            "gong1\n",
            "ke4\n",
            "ba\n"
          ]
        },
        {
          "name": "stderr",
          "output_type": "stream",
          "text": [
            "\r 19%|█▉        | 110/569 [02:32<12:35,  1.65s/it]"
          ]
        },
        {
          "name": "stdout",
          "output_type": "stream",
          "text": [
            "you1\n",
            "mi3\n",
            "ta1\n",
            "men\n",
            "shuo1\n",
            "ni3\n",
            "jiao4\n",
            "chu1\n",
            "le\n",
            "hao3\n",
            "xie1\n",
            "ying1\n",
            "xiong2\n",
            "dan4\n",
            "ta1\n",
            "men\n",
            "ying2\n",
            "guo4\n",
            "ma\n"
          ]
        },
        {
          "name": "stderr",
          "output_type": "stream",
          "text": [
            "\r 20%|█▉        | 111/569 [02:33<12:20,  1.62s/it]"
          ]
        },
        {
          "name": "stdout",
          "output_type": "stream",
          "text": [
            "mei2\n",
            "you3\n",
            "jie2\n",
            "guo3\n",
            "de\n",
            "nu3\n",
            "li4\n",
            "shi4\n",
            "wu2\n",
            "yi4\n",
            "yi4\n",
            "de\n"
          ]
        },
        {
          "name": "stderr",
          "output_type": "stream",
          "text": [
            "\r 20%|█▉        | 112/569 [02:35<11:48,  1.55s/it]"
          ]
        },
        {
          "name": "stdout",
          "output_type": "stream",
          "text": [
            "wo3\n",
            "de\n",
            "wu3\n",
            "qi4\n",
            "bian4\n",
            "xing2\n",
            "le\n"
          ]
        },
        {
          "name": "stderr",
          "output_type": "stream",
          "text": [
            "\r 20%|█▉        | 113/569 [02:36<11:26,  1.50s/it]"
          ]
        },
        {
          "name": "stdout",
          "output_type": "stream",
          "text": [
            "bie2\n",
            "gen1\n",
            "tong2\n",
            "xue2\n",
            "zuo4\n",
            "peng2\n",
            "you3\n",
            "ta1\n",
            "men\n",
            "shi4\n",
            "qi2\n",
            "zi\n"
          ]
        },
        {
          "name": "stderr",
          "output_type": "stream",
          "text": [
            " 20%|██        | 115/569 [02:39<11:12,  1.48s/it]"
          ]
        },
        {
          "name": "stdout",
          "output_type": "stream",
          "text": [
            "you3\n",
            "le\n",
            "lai2\n",
            "bu4\n",
            "li4\n",
            "si1\n",
            "de\n",
            "li4\n",
            "liang4\n",
            "wo3\n",
            "bu4\n",
            "ke3\n",
            "neng2\n",
            "shu1\n"
          ]
        },
        {
          "name": "stderr",
          "output_type": "stream",
          "text": [
            "\r 20%|██        | 116/569 [02:40<09:52,  1.31s/it]"
          ]
        },
        {
          "name": "stdout",
          "output_type": "stream",
          "text": [
            "jia1\n",
            "kuai4\n",
            "jiao3\n",
            "bu4\n"
          ]
        },
        {
          "name": "stderr",
          "output_type": "stream",
          "text": [
            "\r 21%|██        | 117/569 [02:41<09:07,  1.21s/it]"
          ]
        },
        {
          "name": "stdout",
          "output_type": "stream",
          "text": [
            "bai3\n",
            "fen1\n",
            "bai3\n",
            "jing1\n",
            "zhun3\n"
          ]
        },
        {
          "name": "stderr",
          "output_type": "stream",
          "text": [
            "\r 21%|██        | 118/569 [02:42<08:40,  1.15s/it]"
          ]
        },
        {
          "name": "stdout",
          "output_type": "stream",
          "text": [
            "yi3\n",
            "si1\n",
            "bu4\n",
            "gou3\n"
          ]
        },
        {
          "name": "stderr",
          "output_type": "stream",
          "text": [
            "\r 21%|██        | 119/569 [02:43<08:05,  1.08s/it]"
          ]
        },
        {
          "name": "stdout",
          "output_type": "stream",
          "text": [
            "kai1\n",
            "shi3\n",
            "shang4\n",
            "ke4\n"
          ]
        },
        {
          "name": "stderr",
          "output_type": "stream",
          "text": [
            "\r 21%|██        | 120/569 [02:45<09:24,  1.26s/it]"
          ]
        },
        {
          "name": "stdout",
          "output_type": "stream",
          "text": [
            "hua1\n",
            "quan2\n",
            "xiu4\n",
            "tui3\n",
            " \n",
            "xiao1\n",
            "da3\n",
            "xiao3\n",
            "nao4\n",
            "wo3\n",
            "shi4\n",
            "zhen1\n",
            "gao3\n",
            "bu4\n",
            "dong3\n"
          ]
        },
        {
          "name": "stderr",
          "output_type": "stream",
          "text": [
            "\r 21%|██▏       | 121/569 [02:47<11:01,  1.48s/it]"
          ]
        },
        {
          "name": "stdout",
          "output_type": "stream",
          "text": [
            "lai2\n",
            "bu4\n",
            "li4\n",
            "si1\n",
            "de\n",
            "zui4\n",
            "zhong1\n",
            "xing2\n",
            "tai4\n",
            "wo3\n",
            "yi3\n",
            "wu2\n",
            "ren2\n",
            "neng2\n",
            "dang3\n"
          ]
        },
        {
          "name": "stderr",
          "output_type": "stream",
          "text": [
            "\r 21%|██▏       | 122/569 [02:49<12:47,  1.72s/it]"
          ]
        },
        {
          "name": "stdout",
          "output_type": "stream",
          "text": [
            "zhi3\n",
            "yao4\n",
            "ting1\n",
            "wo3\n",
            "de\n",
            "an1\n",
            "pai2\n",
            "shi4\n",
            "bu4\n",
            "ke3\n",
            "neng2\n",
            "shu1\n",
            "de\n",
            "zhu4\n",
            "yi4\n",
            "pei4\n",
            "he2\n",
            "wo3\n",
            "de\n",
            "xing2\n",
            "dong4\n",
            "jiu4\n",
            "hao3\n"
          ]
        },
        {
          "name": "stderr",
          "output_type": "stream",
          "text": [
            "\r 22%|██▏       | 123/569 [02:50<11:30,  1.55s/it]"
          ]
        },
        {
          "name": "stdout",
          "output_type": "stream",
          "text": [
            "ni3\n",
            "yao4\n",
            "gua4\n",
            "le\n"
          ]
        },
        {
          "name": "stderr",
          "output_type": "stream",
          "text": [
            "\r 22%|██▏       | 124/569 [02:52<11:32,  1.56s/it]"
          ]
        },
        {
          "name": "stdout",
          "output_type": "stream",
          "text": [
            "zen3\n",
            "me\n",
            "hui2\n",
            "shi4\n",
            " \n",
            "jie2\n",
            "si1\n",
            " \n",
            "zhe4\n",
            "xia4\n",
            "ni3\n",
            "ke3\n",
            "neng2\n",
            "yao4\n",
            "bei4\n",
            "che4\n",
            "diao4\n",
            "le\n"
          ]
        },
        {
          "name": "stderr",
          "output_type": "stream",
          "text": [
            "\r 22%|██▏       | 125/569 [02:53<10:29,  1.42s/it]"
          ]
        },
        {
          "name": "stdout",
          "output_type": "stream",
          "text": [
            "ni3\n",
            "wei4\n",
            "shen2\n",
            "me\n",
            "bu4\n",
            "ren4\n",
            "shu1\n",
            "ne\n"
          ]
        },
        {
          "name": "stderr",
          "output_type": "stream",
          "text": [
            "\r 22%|██▏       | 126/569 [02:54<09:31,  1.29s/it]"
          ]
        },
        {
          "name": "stdout",
          "output_type": "stream",
          "text": [
            "xue2\n",
            "jie3\n",
            "ji4\n",
            "zhu4\n",
            "ni3\n",
            "le\n"
          ]
        },
        {
          "name": "stderr",
          "output_type": "stream",
          "text": [
            "\r 22%|██▏       | 127/569 [02:55<08:41,  1.18s/it]"
          ]
        },
        {
          "name": "stdout",
          "output_type": "stream",
          "text": [
            "you4\n",
            "yi2\n",
            "ge4\n",
            "man3\n",
            "fen1\n"
          ]
        },
        {
          "name": "stderr",
          "output_type": "stream",
          "text": [
            "\r 22%|██▏       | 128/569 [02:56<09:42,  1.32s/it]"
          ]
        },
        {
          "name": "stdout",
          "output_type": "stream",
          "text": [
            "wo3\n",
            "bu4\n",
            "zhi3\n",
            "shi4\n",
            "zhan4\n",
            "sheng4\n",
            "le\n",
            "dui4\n",
            "shou3\n",
            "hai2\n",
            "jiao4\n",
            "hui4\n",
            "le\n",
            "ta1\n",
            "men\n",
            "yong3\n",
            "yuan3\n",
            "bu2\n",
            "yao4\n",
            "zai4\n",
            "tiao3\n",
            "zhan4\n",
            "wo3\n"
          ]
        },
        {
          "name": "stderr",
          "output_type": "stream",
          "text": [
            " 23%|██▎       | 130/569 [02:58<08:35,  1.17s/it]"
          ]
        },
        {
          "name": "stdout",
          "output_type": "stream",
          "text": [
            "xi1\n",
            "wang4\n",
            "ni3\n",
            "xia4\n",
            "ci4\n",
            "you3\n",
            "suo3\n",
            "zhang3\n",
            "jin4\n",
            "Leona\n"
          ]
        },
        {
          "name": "stderr",
          "output_type": "stream",
          "text": [
            "\r 23%|██▎       | 131/569 [03:00<09:51,  1.35s/it]"
          ]
        },
        {
          "name": "stdout",
          "output_type": "stream",
          "text": [
            "lai2\n",
            "bu4\n",
            "li4\n",
            "si1\n",
            "yi3\n",
            "jing1\n",
            "rang4\n",
            "wo3\n",
            "wu2\n",
            "ren2\n",
            "neng2\n",
            "dang3\n",
            "wo3\n",
            "jiang1\n",
            "suo3\n",
            "xiang4\n",
            "pi1\n",
            "mi3\n"
          ]
        },
        {
          "name": "stderr",
          "output_type": "stream",
          "text": [
            "\r 23%|██▎       | 132/569 [03:01<10:02,  1.38s/it]"
          ]
        },
        {
          "name": "stdout",
          "output_type": "stream",
          "text": [
            "ni3\n",
            "shi4\n",
            "xiang3\n",
            " \n",
            "xia4\n",
            "hu3\n",
            "wo3\n",
            "ma\n"
          ]
        },
        {
          "name": "stderr",
          "output_type": "stream",
          "text": [
            "\r 23%|██▎       | 133/569 [03:03<11:16,  1.55s/it]"
          ]
        },
        {
          "name": "stdout",
          "output_type": "stream",
          "text": [
            "lai2\n",
            "bu4\n",
            "li4\n",
            "si1\n",
            "huo4\n",
            "xu3\n",
            "hen3\n",
            "qiang2\n",
            "dan4\n",
            "ta1\n",
            "mei2\n",
            "wo3\n",
            "bu4\n",
            "xing2\n"
          ]
        },
        {
          "name": "stderr",
          "output_type": "stream",
          "text": [
            "\r 24%|██▎       | 134/569 [03:05<12:12,  1.68s/it]"
          ]
        },
        {
          "name": "stdout",
          "output_type": "stream",
          "text": [
            "cong2\n",
            "mei2\n",
            "yu4\n",
            "dao4\n",
            "guo4\n",
            "gou4\n",
            "ge2\n",
            "de\n",
            "dui4\n",
            "shou3\n",
            "ye3\n",
            "yong3\n",
            "yuan3\n",
            "dou1\n",
            "yu4\n",
            "bu2\n",
            "dao4\n"
          ]
        },
        {
          "name": "stderr",
          "output_type": "stream",
          "text": [
            "\r 24%|██▎       | 135/569 [03:07<12:13,  1.69s/it]"
          ]
        },
        {
          "name": "stdout",
          "output_type": "stream",
          "text": [
            "xiang3\n",
            "zhao3\n",
            "ren2\n",
            "qie1\n",
            "cuo1\n",
            "yi1\n",
            "xia4\n",
            "ma\n",
            "wu4\n",
            "kong1\n",
            "hao3\n",
            "ba\n",
            "wo3\n",
            "gei3\n",
            "ni3\n",
            "liang3\n",
            "fen1\n",
            "zhong1\n"
          ]
        },
        {
          "name": "stderr",
          "output_type": "stream",
          "text": [
            " 24%|██▍       | 137/569 [03:09<10:08,  1.41s/it]"
          ]
        },
        {
          "name": "stdout",
          "output_type": "stream",
          "text": [
            "yong3\n",
            "en1\n",
            "yi4\n",
            "dian3\n",
            "jiu4\n",
            "zha4\n",
            "yi1\n",
            "peng4\n",
            "jiu4\n",
            "dao4\n"
          ]
        },
        {
          "name": "stderr",
          "output_type": "stream",
          "text": [
            "\r 24%|██▍       | 138/569 [03:10<09:07,  1.27s/it]"
          ]
        },
        {
          "name": "stdout",
          "output_type": "stream",
          "text": [
            "wang2\n",
            "pai2\n",
            "zai4\n",
            "shou3\n"
          ]
        },
        {
          "name": "stderr",
          "output_type": "stream",
          "text": [
            "\r 24%|██▍       | 139/569 [03:11<08:23,  1.17s/it]"
          ]
        },
        {
          "name": "stdout",
          "output_type": "stream",
          "text": [
            "ni3\n",
            "bie2\n",
            "xiang3\n",
            "ying2\n"
          ]
        },
        {
          "name": "stderr",
          "output_type": "stream",
          "text": [
            "\r 25%|██▍       | 140/569 [03:12<07:30,  1.05s/it]"
          ]
        },
        {
          "name": "stdout",
          "output_type": "stream",
          "text": [
            "ha1\n"
          ]
        },
        {
          "name": "stderr",
          "output_type": "stream",
          "text": [
            "\r 25%|██▍       | 141/569 [03:13<07:32,  1.06s/it]"
          ]
        },
        {
          "name": "stdout",
          "output_type": "stream",
          "text": [
            "zhi2\n",
            "jie1\n",
            "tiao4\n",
            "dao4\n",
            "Q\n",
            "ji4\n",
            "hua4\n"
          ]
        },
        {
          "name": "stderr",
          "output_type": "stream",
          "text": [
            " 25%|██▌       | 143/569 [03:15<07:02,  1.01it/s]"
          ]
        },
        {
          "name": "stdout",
          "output_type": "stream",
          "text": [
            "he1\n"
          ]
        },
        {
          "name": "stderr",
          "output_type": "stream",
          "text": [
            "\r 25%|██▌       | 144/569 [03:16<07:29,  1.06s/it]"
          ]
        },
        {
          "name": "stdout",
          "output_type": "stream",
          "text": [
            "ni3\n",
            "mo4\n",
            "guo4\n",
            "guan1\n",
            "ne\n"
          ]
        },
        {
          "name": "stderr",
          "output_type": "stream",
          "text": [
            "\r 25%|██▌       | 145/569 [03:17<07:48,  1.10s/it]"
          ]
        },
        {
          "name": "stdout",
          "output_type": "stream",
          "text": [
            "wo3\n",
            "zhi3\n",
            "shi4\n",
            "geng4\n",
            "qiang2\n",
            "er2\n",
            "yi3\n"
          ]
        },
        {
          "name": "stderr",
          "output_type": "stream",
          "text": [
            "\r 26%|██▌       | 146/569 [03:20<10:13,  1.45s/it]"
          ]
        },
        {
          "name": "stdout",
          "output_type": "stream",
          "text": [
            "zai4\n",
            "jiao4\n",
            "shi4\n",
            "li3\n",
            " \n",
            "zai4\n",
            "zhan4\n",
            "chang3\n",
            "shang4\n",
            " \n",
            "wo3\n",
            "cong2\n",
            "lai2\n",
            "wu2\n",
            "ke3\n",
            "pi3\n",
            "di2\n"
          ]
        },
        {
          "name": "stderr",
          "output_type": "stream",
          "text": [
            "\r 26%|██▌       | 147/569 [03:21<10:01,  1.43s/it]"
          ]
        },
        {
          "name": "stdout",
          "output_type": "stream",
          "text": [
            "gai4\n",
            "lun2\n",
            "cong2\n",
            "lai2\n",
            "mei2\n",
            "ti2\n",
            "qi3\n",
            "guo4\n",
            "ni3\n",
            "qi2\n",
            "guai4\n"
          ]
        },
        {
          "name": "stderr",
          "output_type": "stream",
          "text": [
            "\r 26%|██▌       | 148/569 [03:22<09:04,  1.29s/it]"
          ]
        },
        {
          "name": "stdout",
          "output_type": "stream",
          "text": [
            "ji4\n",
            "xu4\n",
            "qian2\n",
            "jin4\n"
          ]
        },
        {
          "name": "stderr",
          "output_type": "stream",
          "text": [
            " 27%|██▋       | 151/569 [03:25<08:06,  1.16s/it]"
          ]
        },
        {
          "name": "stdout",
          "output_type": "stream",
          "text": [
            "wei4\n",
            "lai2\n",
            "you4\n",
            "ming2\n",
            "liang4\n",
            "le\n",
            "yi1\n",
            "xie1\n"
          ]
        },
        {
          "name": "stderr",
          "output_type": "stream",
          "text": [
            " 27%|██▋       | 153/569 [03:27<07:33,  1.09s/it]"
          ]
        },
        {
          "name": "stdout",
          "output_type": "stream",
          "text": [
            "ni3\n",
            "de\n",
            "wei4\n",
            "lai2\n",
            "ding4\n",
            "yi4\n",
            "wei4\n",
            "si3\n",
            "wang2\n"
          ]
        },
        {
          "name": "stderr",
          "output_type": "stream",
          "text": [
            "\r 27%|██▋       | 154/569 [03:28<07:28,  1.08s/it]"
          ]
        },
        {
          "name": "stdout",
          "output_type": "stream",
          "text": [
            "bu4\n",
            "ke3\n",
            "neng2\n",
            "da3\n",
            "bai4\n",
            "wei4\n",
            "lai2\n"
          ]
        },
        {
          "name": "stderr",
          "output_type": "stream",
          "text": [
            "\r 27%|██▋       | 155/569 [03:29<07:16,  1.05s/it]"
          ]
        },
        {
          "name": "stdout",
          "output_type": "stream",
          "text": [
            "lai2\n",
            "guo4\n",
            "zuo4\n",
            "guo4\n"
          ]
        },
        {
          "name": "stderr",
          "output_type": "stream",
          "text": [
            "\r 27%|██▋       | 156/569 [03:30<07:43,  1.12s/it]"
          ]
        },
        {
          "name": "stdout",
          "output_type": "stream",
          "text": [
            "wo3\n",
            "bu4\n",
            "xu1\n",
            "yao4\n",
            "xue4\n",
            "yue4\n",
            "de\n",
            "yun3\n",
            "xu3\n"
          ]
        },
        {
          "name": "stderr",
          "output_type": "stream",
          "text": [
            "\r 28%|██▊       | 157/569 [03:32<07:39,  1.12s/it]"
          ]
        },
        {
          "name": "stdout",
          "output_type": "stream",
          "text": [
            "shi2\n",
            "jian1\n",
            "bu4\n",
            "deng3\n",
            "ren2\n"
          ]
        },
        {
          "name": "stderr",
          "output_type": "stream",
          "text": [
            "\r 28%|██▊       | 158/569 [03:33<08:02,  1.17s/it]"
          ]
        },
        {
          "name": "stdout",
          "output_type": "stream",
          "text": [
            "shi2\n",
            "jian1\n",
            "tong2\n",
            "bu4\n",
            "yi3\n",
            "fu4\n",
            "wei4\n"
          ]
        },
        {
          "name": "stderr",
          "output_type": "stream",
          "text": [
            "\r 28%|██▊       | 159/569 [03:35<09:03,  1.33s/it]"
          ]
        },
        {
          "name": "stdout",
          "output_type": "stream",
          "text": [
            "qian2\n",
            "mai3\n",
            "bu2\n",
            "dao4\n",
            "kuai4\n",
            "le4\n",
            "dan4\n",
            "ke3\n",
            "yi3\n",
            "mai3\n",
            "tian2\n",
            "dian3\n"
          ]
        },
        {
          "name": "stderr",
          "output_type": "stream",
          "text": [
            "\r 28%|██▊       | 160/569 [03:36<08:21,  1.23s/it]"
          ]
        },
        {
          "name": "stdout",
          "output_type": "stream",
          "text": [
            "zhe4\n",
            "shi4\n",
            "ying1\n",
            "you3\n",
            "de\n",
            "jie2\n",
            "ju2\n"
          ]
        },
        {
          "name": "stderr",
          "output_type": "stream",
          "text": [
            "\r 28%|██▊       | 161/569 [03:36<07:36,  1.12s/it]"
          ]
        },
        {
          "name": "stdout",
          "output_type": "stream",
          "text": [
            "ru2\n",
            "ci3\n",
            "yuan2\n",
            "shi3\n"
          ]
        },
        {
          "name": "stderr",
          "output_type": "stream",
          "text": [
            " 29%|██▊       | 163/569 [03:39<07:21,  1.09s/it]"
          ]
        },
        {
          "name": "stdout",
          "output_type": "stream",
          "text": [
            "wo3\n",
            "yao4\n",
            "qu4\n",
            "de\n",
            "di4\n",
            "fang1\n",
            "bu4\n",
            "xu1\n",
            "yao4\n",
            "dao4\n",
            "lu4\n"
          ]
        },
        {
          "name": "stderr",
          "output_type": "stream",
          "text": [
            "\r 29%|██▉       | 164/569 [03:40<07:20,  1.09s/it]"
          ]
        },
        {
          "name": "stdout",
          "output_type": "stream",
          "text": [
            "ni3\n",
            "wu2\n",
            "fa3\n",
            "tao2\n",
            "li2\n",
            "wei4\n",
            "lai2\n"
          ]
        },
        {
          "name": "stderr",
          "output_type": "stream",
          "text": [
            "\r 29%|██▉       | 165/569 [03:41<06:58,  1.04s/it]"
          ]
        },
        {
          "name": "stdout",
          "output_type": "stream",
          "text": [
            "wei4\n",
            "le\n",
            "wei4\n",
            "lai2\n"
          ]
        },
        {
          "name": "stderr",
          "output_type": "stream",
          "text": [
            "\r 29%|██▉       | 166/569 [03:42<07:23,  1.10s/it]"
          ]
        },
        {
          "name": "stdout",
          "output_type": "stream",
          "text": [
            "o2\n",
            "zhe4\n",
            "ke3\n",
            "neng2\n",
            "hui4\n",
            "ying3\n",
            "xiang3\n",
            "wo3\n",
            "de\n",
            "shi2\n",
            "jian1\n",
            "xian4\n",
            "。\n"
          ]
        },
        {
          "name": "stderr",
          "output_type": "stream",
          "text": [
            "\r 29%|██▉       | 167/569 [03:43<07:08,  1.07s/it]"
          ]
        },
        {
          "name": "stdout",
          "output_type": "stream",
          "text": [
            "wan2\n",
            "ju4\n",
            "bu4\n",
            "cuo4\n",
            "xiao3\n",
            "hai2\n"
          ]
        },
        {
          "name": "stderr",
          "output_type": "stream",
          "text": [
            "\r 30%|██▉       | 168/569 [03:44<06:53,  1.03s/it]"
          ]
        },
        {
          "name": "stdout",
          "output_type": "stream",
          "text": [
            "wo3\n",
            "kan4\n",
            "jian4\n",
            "ni3\n",
            "le\n"
          ]
        },
        {
          "name": "stderr",
          "output_type": "stream",
          "text": [
            "\r 30%|██▉       | 169/569 [03:45<08:00,  1.20s/it]"
          ]
        },
        {
          "name": "stdout",
          "output_type": "stream",
          "text": [
            "wo3\n",
            "shi4\n",
            "duan4\n",
            "zi\n",
            "jing3\n",
            "cha2\n",
            "ni3\n",
            "bei4\n",
            "dai4\n",
            "bu3\n",
            "le\n"
          ]
        },
        {
          "name": "stderr",
          "output_type": "stream",
          "text": [
            "\r 30%|██▉       | 170/569 [03:47<08:05,  1.22s/it]"
          ]
        },
        {
          "name": "stdout",
          "output_type": "stream",
          "text": [
            "wo3\n",
            "mei2\n",
            "shi2\n",
            "jian1\n",
            "xian2\n",
            "liao2\n"
          ]
        },
        {
          "name": "stderr",
          "output_type": "stream",
          "text": [
            "\r 30%|███       | 171/569 [03:49<09:53,  1.49s/it]"
          ]
        },
        {
          "name": "stdout",
          "output_type": "stream",
          "text": [
            "qi2\n",
            "shi2\n",
            "shi2\n",
            "jian1\n",
            "geng4\n",
            "xiang4\n",
            "shi4\n",
            "yi2\n",
            "ge4\n",
            "bian3\n",
            "huan2\n",
            "zhong1\n",
            "jian1\n",
            "you3\n",
            "zhun3\n",
            "xin1\n"
          ]
        },
        {
          "name": "stderr",
          "output_type": "stream",
          "text": [
            "\r 30%|███       | 172/569 [03:50<09:54,  1.50s/it]"
          ]
        },
        {
          "name": "stdout",
          "output_type": "stream",
          "text": [
            "bu2\n",
            "shi4\n",
            "lun2\n",
            "qian2\n",
            "lian4\n",
            "jie2\n",
            "dan4\n",
            "ye3\n",
            "cou4\n",
            "he2\n"
          ]
        },
        {
          "name": "stderr",
          "output_type": "stream",
          "text": [
            "\r 30%|███       | 173/569 [03:51<09:04,  1.38s/it]"
          ]
        },
        {
          "name": "stdout",
          "output_type": "stream",
          "text": [
            "shi2\n",
            "jian1\n",
            "jing4\n",
            "tai4\n",
            "zhang3\n",
            "yi3\n",
            "jie3\n",
            "chu2\n"
          ]
        },
        {
          "name": "stderr",
          "output_type": "stream",
          "text": [
            "\r 31%|███       | 174/569 [03:52<08:34,  1.30s/it]"
          ]
        },
        {
          "name": "stdout",
          "output_type": "stream",
          "text": [
            "shi2\n",
            "jian1\n",
            "lie4\n",
            "kou3\n",
            "yi3\n",
            "feng1\n",
            "bi4\n"
          ]
        },
        {
          "name": "stderr",
          "output_type": "stream",
          "text": [
            " 31%|███       | 176/569 [03:55<07:50,  1.20s/it]"
          ]
        },
        {
          "name": "stdout",
          "output_type": "stream",
          "text": [
            "bi4\n",
            "he2\n",
            "de\n",
            "huan2\n",
            "lu4\n",
            "jiu4\n",
            "shi4\n",
            "wen3\n",
            "ding4\n",
            "de\n",
            "qing2\n",
            "kuang4\n"
          ]
        },
        {
          "name": "stderr",
          "output_type": "stream",
          "text": [
            "\r 31%|███       | 177/569 [03:56<07:32,  1.15s/it]"
          ]
        },
        {
          "name": "stdout",
          "output_type": "stream",
          "text": [
            "gai1\n",
            "ba3\n",
            "shi4\n",
            "jie4\n",
            "zheng3\n",
            "li3\n",
            "yi1\n",
            "xia4\n",
            "le\n"
          ]
        },
        {
          "name": "stderr",
          "output_type": "stream",
          "text": [
            "\r 31%|███▏      | 178/569 [03:57<07:05,  1.09s/it]"
          ]
        },
        {
          "name": "stdout",
          "output_type": "stream",
          "text": [
            "ta1\n",
            "zai4\n",
            "fu4\n",
            "jin4\n"
          ]
        },
        {
          "name": "stderr",
          "output_type": "stream",
          "text": [
            "\r 31%|███▏      | 179/569 [03:58<07:26,  1.14s/it]"
          ]
        },
        {
          "name": "stdout",
          "output_type": "stream",
          "text": [
            "beng4\n",
            " \n",
            "yong3\n",
            "jiu3\n",
            "nao3\n",
            "sun3\n",
            "shang1\n"
          ]
        },
        {
          "name": "stderr",
          "output_type": "stream",
          "text": [
            "\r 32%|███▏      | 180/569 [03:59<07:14,  1.12s/it]"
          ]
        },
        {
          "name": "stdout",
          "output_type": "stream",
          "text": [
            "ni3\n",
            "zhi3\n",
            "you3\n",
            "yi1\n",
            "fa4\n",
            "zi3\n",
            "dan4\n"
          ]
        },
        {
          "name": "stderr",
          "output_type": "stream",
          "text": [
            "\r 32%|███▏      | 181/569 [04:00<08:01,  1.24s/it]"
          ]
        },
        {
          "name": "stdout",
          "output_type": "stream",
          "text": [
            "zhe4\n",
            "zhen1\n",
            "shi4\n",
            "ta1\n",
            "men\n",
            "zui4\n",
            "hei1\n",
            "an4\n",
            "de\n",
            "shi2\n",
            "jian1\n",
            "xian4\n"
          ]
        },
        {
          "name": "stderr",
          "output_type": "stream",
          "text": [
            "\r 32%|███▏      | 182/569 [04:02<08:18,  1.29s/it]"
          ]
        },
        {
          "name": "stdout",
          "output_type": "stream",
          "text": [
            "wo3\n",
            "yu4\n",
            "ce4\n",
            "ni3\n",
            "hui4\n",
            "si3\n",
            "。\n"
          ]
        },
        {
          "name": "stderr",
          "output_type": "stream",
          "text": [
            "\r 32%|███▏      | 183/569 [04:04<09:21,  1.45s/it]"
          ]
        },
        {
          "name": "stdout",
          "output_type": "stream",
          "text": [
            "di4\n",
            "fa3\n",
            "tian1\n",
            "、\n",
            "tian1\n",
            "fa3\n",
            "shi2\n",
            "、\n",
            "shi2\n",
            "fa3\n",
            "zi4\n",
            "ran2\n"
          ]
        },
        {
          "name": "stderr",
          "output_type": "stream",
          "text": [
            "\r 32%|███▏      | 184/569 [04:05<08:40,  1.35s/it]"
          ]
        },
        {
          "name": "stdout",
          "output_type": "stream",
          "text": [
            "mei3\n",
            "ge4\n",
            "ren2\n",
            "dou1\n",
            "xiang3\n",
            "yao4\n",
            "geng4\n",
            "duo1\n",
            "shi2\n",
            "jian1\n"
          ]
        },
        {
          "name": "stderr",
          "output_type": "stream",
          "text": [
            "\r 33%|███▎      | 185/569 [04:06<09:18,  1.45s/it]"
          ]
        },
        {
          "name": "stdout",
          "output_type": "stream",
          "text": [
            "shi2\n",
            "jian1\n",
            "lun2\n",
            "hui2\n",
            "hen3\n",
            "rong2\n",
            "yi4\n",
            "li3\n",
            "jie3\n",
            "di4\n",
            "yi1\n",
            "bu4\n",
            "shi4\n",
            "ni3\n",
            "yao4\n",
            "li3\n",
            "jie3\n",
            "shi2\n",
            "jian1\n",
            "lun2\n",
            "hui2\n"
          ]
        },
        {
          "name": "stderr",
          "output_type": "stream",
          "text": [
            "\r 33%|███▎      | 186/569 [04:08<08:44,  1.37s/it]"
          ]
        },
        {
          "name": "stdout",
          "output_type": "stream",
          "text": [
            "gei3\n",
            "wo3\n",
            "5\n",
            "miao3\n",
            "tai4\n",
            "da2\n",
            "mi3\n",
            "er3\n"
          ]
        },
        {
          "name": "stderr",
          "output_type": "stream",
          "text": [
            "\r 33%|███▎      | 187/569 [04:09<08:24,  1.32s/it]"
          ]
        },
        {
          "name": "stdout",
          "output_type": "stream",
          "text": [
            "hai2\n",
            "bu4\n",
            "ru2\n",
            "wo3\n",
            "de\n",
            "mo2\n",
            "ni3\n",
            "xun4\n",
            "lian4\n"
          ]
        },
        {
          "name": "stderr",
          "output_type": "stream",
          "text": [
            "\r 33%|███▎      | 188/569 [04:10<07:18,  1.15s/it]"
          ]
        },
        {
          "name": "stdout",
          "output_type": "stream",
          "text": [
            "ha1\n"
          ]
        },
        {
          "name": "stderr",
          "output_type": "stream",
          "text": [
            "\r 33%|███▎      | 189/569 [04:10<06:53,  1.09s/it]"
          ]
        },
        {
          "name": "stdout",
          "output_type": "stream",
          "text": [
            "shi2\n",
            "jian1\n",
            "zhao4\n",
            "hui2\n",
            "kai1\n",
            "shi3\n"
          ]
        },
        {
          "name": "stderr",
          "output_type": "stream",
          "text": [
            "\r 33%|███▎      | 190/569 [04:12<07:12,  1.14s/it]"
          ]
        },
        {
          "name": "stdout",
          "output_type": "stream",
          "text": [
            "ni3\n",
            "shi4\n",
            "yi4\n",
            "lei4\n",
            "wo3\n",
            "zhong1\n",
            "jie2\n",
            "yi4\n",
            "lei4\n",
            "。\n"
          ]
        },
        {
          "name": "stderr",
          "output_type": "stream",
          "text": [
            "\r 34%|███▎      | 191/569 [04:13<06:28,  1.03s/it]"
          ]
        },
        {
          "name": "stdout",
          "output_type": "stream",
          "text": [
            "ha1\n"
          ]
        },
        {
          "name": "stderr",
          "output_type": "stream",
          "text": [
            "\r 34%|███▎      | 192/569 [04:14<07:06,  1.13s/it]"
          ]
        },
        {
          "name": "stdout",
          "output_type": "stream",
          "text": [
            "ji2\n",
            "shi3\n",
            "shi4\n",
            "heng2\n",
            "xing1\n",
            "ye3\n",
            "bu2\n",
            "hui4\n",
            "yong3\n",
            "yuan3\n",
            "shan3\n",
            "yao4\n"
          ]
        },
        {
          "name": "stderr",
          "output_type": "stream",
          "text": [
            "\r 34%|███▍      | 193/569 [04:16<08:04,  1.29s/it]"
          ]
        },
        {
          "name": "stdout",
          "output_type": "stream",
          "text": [
            "wo3\n",
            "huo4\n",
            "xu3\n",
            "you3\n",
            "shi2\n",
            "jian1\n",
            "shou4\n",
            "lie4\n",
            "da4\n",
            "kuai4\n",
            "tou2\n"
          ]
        },
        {
          "name": "stderr",
          "output_type": "stream",
          "text": [
            "\r 34%|███▍      | 194/569 [04:18<09:56,  1.59s/it]"
          ]
        },
        {
          "name": "stdout",
          "output_type": "stream",
          "text": [
            "bei4\n",
            "feng1\n",
            "zai4\n",
            "bing1\n",
            "li3\n",
            "yuan2\n",
            "shi3\n",
            "dan4\n",
            "you3\n",
            "xiao4\n",
            "de\n",
            "shi2\n",
            "jian1\n",
            "lv3\n",
            "xing2\n",
            "fang1\n",
            "shi4\n"
          ]
        },
        {
          "name": "stderr",
          "output_type": "stream",
          "text": [
            "\r 34%|███▍      | 195/569 [04:19<09:24,  1.51s/it]"
          ]
        },
        {
          "name": "stdout",
          "output_type": "stream",
          "text": [
            "ji1\n",
            "jia3\n",
            "lian2\n",
            "jie1\n",
            "yi3\n",
            "bei4\n",
            "zhong1\n",
            "jie2\n"
          ]
        },
        {
          "name": "stderr",
          "output_type": "stream",
          "text": [
            " 35%|███▍      | 197/569 [04:22<08:10,  1.32s/it]"
          ]
        },
        {
          "name": "stdout",
          "output_type": "stream",
          "text": [
            "ha1\n"
          ]
        },
        {
          "name": "stderr",
          "output_type": "stream",
          "text": [
            "\r 35%|███▍      | 198/569 [04:23<08:54,  1.44s/it]"
          ]
        },
        {
          "name": "stdout",
          "output_type": "stream",
          "text": [
            "mu4\n",
            "ji1\n",
            "zhe3\n",
            "shuo1\n",
            "wo3\n",
            "de\n",
            "mu4\n",
            "biao1\n",
            "te4\n",
            "bie2\n",
            "fan2\n",
            "ren2\n",
            "n2\n",
            "shi4\n",
            "ni3\n",
            "ma\n"
          ]
        },
        {
          "name": "stderr",
          "output_type": "stream",
          "text": [
            "\r 35%|███▍      | 199/569 [04:25<08:35,  1.39s/it]"
          ]
        },
        {
          "name": "stdout",
          "output_type": "stream",
          "text": [
            "zhen1\n",
            "bu4\n",
            "gan3\n",
            "xiang1\n",
            "xin4\n",
            "wo3\n",
            "ceng2\n",
            "jing1\n",
            "chuan1\n",
            "cheng2\n",
            "na4\n",
            "yang4\n"
          ]
        },
        {
          "name": "stderr",
          "output_type": "stream",
          "text": [
            "\r 35%|███▌      | 200/569 [04:26<08:37,  1.40s/it]"
          ]
        },
        {
          "name": "stdout",
          "output_type": "stream",
          "text": [
            "wei4\n",
            "lai2\n",
            "de\n",
            "quan2\n",
            "bu4\n",
            "xi1\n",
            "wang4\n",
            "dou1\n",
            "ji4\n",
            "tuo1\n",
            "zai4\n",
            "wo3\n",
            "de\n",
            "qiang1\n",
            "guan3\n",
            "li3\n"
          ]
        },
        {
          "name": "stderr",
          "output_type": "stream",
          "text": [
            "\r 35%|███▌      | 201/569 [04:27<08:04,  1.32s/it]"
          ]
        },
        {
          "name": "stdout",
          "output_type": "stream",
          "text": [
            "si4\n",
            "ceng2\n",
            "xiang1\n",
            "shi2\n",
            "de\n",
            "gan3\n",
            "jue2\n"
          ]
        },
        {
          "name": "stderr",
          "output_type": "stream",
          "text": [
            "\r 36%|███▌      | 202/569 [04:28<08:01,  1.31s/it]"
          ]
        },
        {
          "name": "stdout",
          "output_type": "stream",
          "text": [
            "you3\n",
            "shi2\n",
            "ni3\n",
            "xu1\n",
            "yao4\n",
            "xian1\n",
            "tui4\n",
            "yi1\n",
            "bu4\n",
            "cai2\n",
            "neng2\n",
            "ji4\n",
            "xu4\n",
            "qian2\n",
            "jin4\n"
          ]
        },
        {
          "name": "stderr",
          "output_type": "stream",
          "text": [
            "\r 36%|███▌      | 203/569 [04:30<08:09,  1.34s/it]"
          ]
        },
        {
          "name": "stdout",
          "output_type": "stream",
          "text": [
            "shi2\n",
            "jian1\n",
            "xian4\n",
            "dao4\n",
            "tou2\n",
            "le\n",
            "xiao3\n",
            "hun4\n",
            "dan4\n"
          ]
        },
        {
          "name": "stderr",
          "output_type": "stream",
          "text": [
            "\r 36%|███▌      | 204/569 [04:31<08:17,  1.36s/it]"
          ]
        },
        {
          "name": "stdout",
          "output_type": "stream",
          "text": [
            "zhe4\n",
            "ge4\n",
            "shi2\n",
            "jian1\n",
            "xian4\n",
            "guo4\n",
            "le\n",
            "tang2\n",
            "yi1\n"
          ]
        },
        {
          "name": "stderr",
          "output_type": "stream",
          "text": [
            "\r 36%|███▌      | 205/569 [04:33<08:52,  1.46s/it]"
          ]
        },
        {
          "name": "stdout",
          "output_type": "stream",
          "text": [
            "shi2\n",
            "jian1\n",
            "tou2\n",
            "she4\n",
            "dian3\n",
            "she4\n",
            "ding4\n",
            "wan2\n",
            "bi4\n"
          ]
        },
        {
          "name": "stderr",
          "output_type": "stream",
          "text": [
            "\r 36%|███▌      | 206/569 [04:34<08:10,  1.35s/it]"
          ]
        },
        {
          "name": "stdout",
          "output_type": "stream",
          "text": [
            "zhua1\n",
            "bu3\n",
            "jin4\n",
            "xing2\n",
            "zhong1\n"
          ]
        },
        {
          "name": "stderr",
          "output_type": "stream",
          "text": [
            "\r 36%|███▋      | 207/569 [04:35<07:14,  1.20s/it]"
          ]
        },
        {
          "name": "stdout",
          "output_type": "stream",
          "text": [
            "bie2\n",
            "zhao2\n",
            "ji2\n"
          ]
        },
        {
          "name": "stderr",
          "output_type": "stream",
          "text": [
            "\r 37%|███▋      | 208/569 [04:36<07:17,  1.21s/it]"
          ]
        },
        {
          "name": "stdout",
          "output_type": "stream",
          "text": [
            "zai4\n",
            "guo4\n",
            "ji3\n",
            "ci4\n",
            "jin4\n",
            "hua4\n",
            "zhou1\n",
            "qi1\n",
            "ran2\n",
            "hou4\n",
            "ni3\n",
            "jiu4\n",
            "hao3\n",
            "le\n"
          ]
        },
        {
          "name": "stderr",
          "output_type": "stream",
          "text": [
            "\r 37%|███▋      | 209/569 [04:38<07:34,  1.26s/it]"
          ]
        },
        {
          "name": "stdout",
          "output_type": "stream",
          "text": [
            "qiang1\n",
            "shi4\n",
            "wo3\n",
            "de\n",
            "bu4\n",
            "guo4\n",
            "jie4\n",
            "ni3\n",
            "shi4\n",
            "she4\n",
            "ji3\n",
            "fa1\n"
          ]
        },
        {
          "name": "stderr",
          "output_type": "stream",
          "text": [
            "\r 37%|███▋      | 210/569 [04:39<07:54,  1.32s/it]"
          ]
        },
        {
          "name": "stdout",
          "output_type": "stream",
          "text": [
            "wo3\n",
            "men\n",
            "shi4\n",
            "meng2\n",
            "you3\n",
            "le\n",
            "zhe4\n",
            "ge4\n",
            "shi2\n",
            "jian1\n",
            "xian4\n",
            "cuo4\n",
            "luan4\n",
            "le\n"
          ]
        },
        {
          "name": "stderr",
          "output_type": "stream",
          "text": [
            " 37%|███▋      | 212/569 [04:41<06:53,  1.16s/it]"
          ]
        },
        {
          "name": "stdout",
          "output_type": "stream",
          "text": [
            "zhu4\n",
            "xia4\n",
            "ci4\n",
            "hao3\n",
            "yun4\n",
            "xiao3\n",
            "dian3\n",
            "xin1\n"
          ]
        },
        {
          "name": "stderr",
          "output_type": "stream",
          "text": [
            "\r 37%|███▋      | 213/569 [04:42<07:02,  1.19s/it]"
          ]
        },
        {
          "name": "stdout",
          "output_type": "stream",
          "text": [
            "mei2\n",
            "you3\n",
            "fa1\n",
            "xian4\n",
            "zhi4\n",
            "hui4\n",
            "sheng1\n",
            "wu4\n",
            "de\n",
            "ji4\n",
            "xiang4\n"
          ]
        },
        {
          "name": "stderr",
          "output_type": "stream",
          "text": [
            " 38%|███▊      | 216/569 [04:45<06:24,  1.09s/it]"
          ]
        },
        {
          "name": "stdout",
          "output_type": "stream",
          "text": [
            "ni3\n",
            "zai4\n",
            "wei4\n",
            "lai2\n",
            "wu2\n",
            "guan1\n",
            "jin3\n",
            "yao4\n"
          ]
        },
        {
          "name": "stderr",
          "output_type": "stream",
          "text": [
            "\r 38%|███▊      | 217/569 [04:46<06:27,  1.10s/it]"
          ]
        },
        {
          "name": "stdout",
          "output_type": "stream",
          "text": [
            "yi1\n",
            "ci4\n",
            "bi3\n",
            "yi1\n",
            "ci4\n",
            "jian3\n",
            "dan1\n"
          ]
        },
        {
          "name": "stderr",
          "output_type": "stream",
          "text": [
            "\r 38%|███▊      | 218/569 [04:47<06:43,  1.15s/it]"
          ]
        },
        {
          "name": "stdout",
          "output_type": "stream",
          "text": [
            "shou4\n",
            "lie4\n",
            "kai1\n",
            "shi3\n"
          ]
        },
        {
          "name": "stderr",
          "output_type": "stream",
          "text": [
            "\r 38%|███▊      | 219/569 [04:49<07:23,  1.27s/it]"
          ]
        },
        {
          "name": "stdout",
          "output_type": "stream",
          "text": [
            "shi2\n",
            "jian1\n",
            "bu4\n",
            "ke3\n",
            "neng2\n",
            "shi4\n",
            "yuan2\n",
            "xing2\n",
            "de\n",
            "shi2\n",
            "jian1\n",
            "bi4\n",
            "xu1\n",
            "shi4\n",
            "xian4\n",
            "xing2\n",
            "de\n"
          ]
        },
        {
          "name": "stderr",
          "output_type": "stream",
          "text": [
            "\r 39%|███▊      | 220/569 [04:50<07:06,  1.22s/it]"
          ]
        },
        {
          "name": "stdout",
          "output_type": "stream",
          "text": [
            "jue2\n",
            "de\n",
            "zi4\n",
            "ji3\n",
            "zou3\n",
            "yun4\n",
            "ma\n",
            "xiao3\n",
            "hun4\n",
            "dan4\n"
          ]
        },
        {
          "name": "stderr",
          "output_type": "stream",
          "text": [
            "\r 39%|███▉      | 221/569 [04:52<07:19,  1.26s/it]"
          ]
        },
        {
          "name": "stdout",
          "output_type": "stream",
          "text": [
            "ru2\n",
            "you3\n",
            "gu4\n",
            "zhang4\n",
            "qing3\n",
            "fan3\n",
            "hui2\n",
            "ai4\n",
            "xin1\n",
            "bu4\n",
            "。\n"
          ]
        },
        {
          "name": "stderr",
          "output_type": "stream",
          "text": [
            "\r 39%|███▉      | 222/569 [04:53<07:22,  1.28s/it]"
          ]
        },
        {
          "name": "stdout",
          "output_type": "stream",
          "text": [
            "ni3\n",
            "guo4\n",
            "qu4\n",
            "qian4\n",
            "xia4\n",
            "de\n",
            "zhai4\n",
            "zhong1\n",
            "yu2\n",
            "huan2\n",
            "qing1\n",
            "le\n"
          ]
        },
        {
          "name": "stderr",
          "output_type": "stream",
          "text": [
            " 39%|███▉      | 224/569 [04:56<07:52,  1.37s/it]"
          ]
        },
        {
          "name": "stdout",
          "output_type": "stream",
          "text": [
            "wo3\n",
            "bu4\n",
            "xiang3\n",
            "tan2\n",
            "lun4\n",
            "shi2\n",
            "jian1\n",
            "lv3\n",
            "xing2\n",
            "mei3\n",
            "ci4\n",
            "tan2\n",
            "dao4\n",
            "zui4\n",
            "hou4\n",
            "dou1\n",
            "shi4\n",
            "ge4\n",
            "zhong3\n",
            "tu2\n",
            "biao3\n"
          ]
        },
        {
          "name": "stderr",
          "output_type": "stream",
          "text": [
            "\r 40%|███▉      | 225/569 [04:57<07:53,  1.38s/it]"
          ]
        },
        {
          "name": "stdout",
          "output_type": "stream",
          "text": [
            "na4\n",
            "ge4\n",
            "shi2\n",
            "jian1\n",
            "tan4\n",
            "xian3\n",
            "xiao3\n",
            "jia1\n",
            "huo\n",
            "pao3\n",
            "na3\n",
            "er2\n",
            "le\n"
          ]
        },
        {
          "name": "stderr",
          "output_type": "stream",
          "text": [
            "\r 40%|███▉      | 226/569 [04:58<07:56,  1.39s/it]"
          ]
        },
        {
          "name": "stdout",
          "output_type": "stream",
          "text": [
            "yuan2\n",
            "shi3\n",
            "de\n",
            "pao1\n",
            "she4\n",
            "wu3\n",
            "qi4\n",
            "you3\n",
            "qu4\n"
          ]
        },
        {
          "name": "stderr",
          "output_type": "stream",
          "text": [
            "\r 40%|███▉      | 227/569 [05:00<07:45,  1.36s/it]"
          ]
        },
        {
          "name": "stdout",
          "output_type": "stream",
          "text": [
            "qi3\n",
            "dian3\n",
            "zhi1\n",
            "wang2\n",
            "yao4\n",
            "lai2\n",
            "le\n"
          ]
        },
        {
          "name": "stderr",
          "output_type": "stream",
          "text": [
            " 40%|████      | 229/569 [05:03<08:36,  1.52s/it]"
          ]
        },
        {
          "name": "stdout",
          "output_type": "stream",
          "text": [
            "mou3\n",
            "ren2\n",
            "zai4\n",
            "hu1\n",
            "ni3\n",
            "de\n",
            "si3\n",
            "chu2\n",
            "wo3\n",
            "zhi1\n",
            "wai4\n",
            "de\n",
            "mou3\n",
            "ren2\n",
            "。\n"
          ]
        },
        {
          "name": "stderr",
          "output_type": "stream",
          "text": [
            "\r 40%|████      | 230/569 [05:04<08:27,  1.50s/it]"
          ]
        },
        {
          "name": "stdout",
          "output_type": "stream",
          "text": [
            "zhen1\n",
            "ke3\n",
            "xi1\n",
            "zhe4\n",
            "ge4\n",
            "xing2\n",
            "hao4\n",
            "bu2\n",
            "shi4\n",
            "yan3\n",
            "lei4\n",
            "qu1\n",
            "dong4\n",
            "de\n"
          ]
        },
        {
          "name": "stderr",
          "output_type": "stream",
          "text": [
            "\r 41%|████      | 231/569 [05:05<07:44,  1.37s/it]"
          ]
        },
        {
          "name": "stdout",
          "output_type": "stream",
          "text": [
            "you3\n",
            "shi2\n",
            "yong3\n",
            "yuan3\n",
            "zhi3\n",
            "shi4\n",
            "yi1\n",
            "miao3\n",
            "zhong1\n"
          ]
        },
        {
          "name": "stderr",
          "output_type": "stream",
          "text": [
            "\r 41%|████      | 232/569 [05:07<07:35,  1.35s/it]"
          ]
        },
        {
          "name": "stdout",
          "output_type": "stream",
          "text": [
            "ji2\n",
            "shi3\n",
            "shi4\n",
            "shi2\n",
            "jian1\n",
            "ye3\n",
            "wu2\n",
            "fa3\n",
            "zhi4\n",
            "yu4\n",
            "bao4\n",
            "tou2\n"
          ]
        },
        {
          "name": "stderr",
          "output_type": "stream",
          "text": [
            "\r 41%|████      | 233/569 [05:08<07:01,  1.25s/it]"
          ]
        },
        {
          "name": "stdout",
          "output_type": "stream",
          "text": [
            "zhen1\n",
            "shi4\n",
            "ge4\n",
            "lao3\n",
            "gu3\n",
            "dong3\n"
          ]
        },
        {
          "name": "stderr",
          "output_type": "stream",
          "text": [
            "\r 41%|████      | 234/569 [05:09<06:52,  1.23s/it]"
          ]
        },
        {
          "name": "stdout",
          "output_type": "stream",
          "text": [
            "kuai4\n",
            "hen3\n",
            "hao3\n",
            "dan4\n",
            "jing1\n",
            "zhun3\n",
            "cai2\n",
            "shi4\n",
            "yi1\n",
            "qie4\n"
          ]
        },
        {
          "name": "stderr",
          "output_type": "stream",
          "text": [
            "\r 41%|████▏     | 235/569 [05:10<06:46,  1.22s/it]"
          ]
        },
        {
          "name": "stdout",
          "output_type": "stream",
          "text": [
            "shi2\n",
            "guang1\n",
            "ru2\n",
            "suo1\n",
            " \n",
            "za2\n",
            "sui4\n"
          ]
        },
        {
          "name": "stderr",
          "output_type": "stream",
          "text": [
            " 42%|████▏     | 238/569 [05:13<05:53,  1.07s/it]"
          ]
        },
        {
          "name": "stdout",
          "output_type": "stream",
          "text": [
            "shi2\n",
            "jian1\n",
            "yue4\n",
            "qian1\n",
            "zhang3\n",
            "zheng4\n",
            "zai4\n",
            "hui1\n",
            "fu4\n"
          ]
        },
        {
          "name": "stderr",
          "output_type": "stream",
          "text": [
            "\r 42%|████▏     | 239/569 [05:15<06:53,  1.25s/it]"
          ]
        },
        {
          "name": "stdout",
          "output_type": "stream",
          "text": [
            "xue4\n",
            "ji4\n",
            "de\n",
            "yi2\n",
            "shi4\n",
            "duo1\n",
            "me\n",
            "yuan2\n",
            "shi3\n"
          ]
        },
        {
          "name": "stderr",
          "output_type": "stream",
          "text": [
            "\r 42%|████▏     | 240/569 [05:17<08:05,  1.48s/it]"
          ]
        },
        {
          "name": "stdout",
          "output_type": "stream",
          "text": [
            "he2\n",
            "wo3\n",
            "yi4\n",
            "qi3\n",
            "zheng3\n",
            "jiu4\n",
            "wei4\n",
            "lai2\n",
            "ba\n",
            "ran2\n",
            "hou4\n",
            "tian2\n",
            "biao3\n",
            "da3\n",
            "bao4\n",
            "gao4\n"
          ]
        },
        {
          "name": "stderr",
          "output_type": "stream",
          "text": [
            "\r 42%|████▏     | 241/569 [05:18<08:11,  1.50s/it]"
          ]
        },
        {
          "name": "stdout",
          "output_type": "stream",
          "text": [
            "zhe4\n",
            "yi1\n",
            "qie4\n",
            "jie2\n",
            "shu4\n",
            "yi3\n",
            "hou4\n",
            "ni3\n",
            "gen1\n",
            "wo3\n",
            "zou3\n"
          ]
        },
        {
          "name": "stderr",
          "output_type": "stream",
          "text": [
            "\r 43%|████▎     | 242/569 [05:19<07:23,  1.36s/it]"
          ]
        },
        {
          "name": "stdout",
          "output_type": "stream",
          "text": [
            "shao1\n",
            "zong4\n",
            "ji2\n",
            "shi4\n"
          ]
        },
        {
          "name": "stderr",
          "output_type": "stream",
          "text": [
            "\r 43%|████▎     | 243/569 [05:21<07:48,  1.44s/it]"
          ]
        },
        {
          "name": "stdout",
          "output_type": "stream",
          "text": [
            "shi2\n",
            "jian1\n",
            "lv3\n",
            "xing2\n",
            "bing4\n",
            "fei1\n",
            "jue2\n",
            "wu2\n",
            "ke3\n",
            "neng2\n",
            "zhi3\n",
            "shi4\n",
            "fei1\n",
            "chang2\n",
            "bu4\n",
            "ke3\n",
            "si1\n",
            "yi4\n"
          ]
        },
        {
          "name": "stderr",
          "output_type": "stream",
          "text": [
            "\r 43%|████▎     | 244/569 [05:22<07:46,  1.43s/it]"
          ]
        },
        {
          "name": "stdout",
          "output_type": "stream",
          "text": [
            "ni3\n",
            "shi4\n",
            "di4\n",
            "liu4\n",
            "ban3\n",
            "hai2\n",
            "shi4\n",
            "di4\n",
            "qi1\n",
            "ban3\n",
            "wo3\n",
            "ji4\n",
            "bu4\n",
            "qing1\n",
            "le\n"
          ]
        },
        {
          "name": "stderr",
          "output_type": "stream",
          "text": [
            "\r 43%|████▎     | 245/569 [05:24<08:10,  1.51s/it]"
          ]
        },
        {
          "name": "stdout",
          "output_type": "stream",
          "text": [
            "shi2\n",
            "jian1\n",
            "dang1\n",
            "ran2\n",
            "ke3\n",
            "yi3\n",
            "bei4\n",
            "da3\n",
            "po4\n",
            "bu4\n",
            "ran2\n",
            "ni3\n",
            "yi3\n",
            "wei2\n",
            "wo3\n",
            "na2\n",
            "qiang1\n",
            "gan4\n",
            "shen2\n",
            "me\n"
          ]
        },
        {
          "name": "stderr",
          "output_type": "stream",
          "text": [
            "\r 43%|████▎     | 246/569 [05:25<08:14,  1.53s/it]"
          ]
        },
        {
          "name": "stdout",
          "output_type": "stream",
          "text": [
            "ru2\n",
            "guo3\n",
            "zai4\n",
            "sheng1\n",
            "chan3\n",
            "qian2\n",
            "jiu4\n",
            "sun3\n",
            "huai4\n",
            "le\n",
            "gei3\n",
            "bao3\n",
            "xiu1\n",
            "ma\n"
          ]
        },
        {
          "name": "stderr",
          "output_type": "stream",
          "text": [
            "\r 43%|████▎     | 247/569 [05:26<07:26,  1.39s/it]"
          ]
        },
        {
          "name": "stdout",
          "output_type": "stream",
          "text": [
            "shi2\n",
            "jian1\n",
            "shi4\n",
            "yi1\n",
            "qie4\n",
            "de\n",
            "jing1\n",
            "yao4\n"
          ]
        },
        {
          "name": "stderr",
          "output_type": "stream",
          "text": [
            "\r 44%|████▎     | 248/569 [05:28<06:49,  1.28s/it]"
          ]
        },
        {
          "name": "stdout",
          "output_type": "stream",
          "text": [
            "zhe4\n",
            "shi4\n",
            "bi4\n",
            "ran2\n",
            "de\n",
            "sheng1\n",
            "yi4\n"
          ]
        },
        {
          "name": "stderr",
          "output_type": "stream",
          "text": [
            "\r 44%|████▍     | 249/569 [05:29<06:31,  1.22s/it]"
          ]
        },
        {
          "name": "stdout",
          "output_type": "stream",
          "text": [
            "ni3\n",
            "de\n",
            "shi2\n",
            "jian1\n",
            "yi3\n",
            "jing1\n",
            "guo4\n",
            "qu4\n",
            "le\n"
          ]
        },
        {
          "name": "stderr",
          "output_type": "stream",
          "text": [
            " 44%|████▍     | 251/569 [05:31<06:47,  1.28s/it]"
          ]
        },
        {
          "name": "stdout",
          "output_type": "stream",
          "text": [
            "na4\n",
            "bu4\n",
            "jiao4\n",
            "qiang1\n",
            "zhe4\n",
            "cai2\n",
            "jiao4\n",
            "qiang1\n"
          ]
        },
        {
          "name": "stderr",
          "output_type": "stream",
          "text": [
            "\r 44%|████▍     | 252/569 [05:33<07:04,  1.34s/it]"
          ]
        },
        {
          "name": "stdout",
          "output_type": "stream",
          "text": [
            "ni3\n",
            "ke3\n",
            "yi3\n",
            "deng3\n",
            "xia4\n",
            "ci4\n",
            "zai4\n",
            "zheng3\n",
            "jiu4\n",
            "shi4\n",
            "jie4\n"
          ]
        },
        {
          "name": "stderr",
          "output_type": "stream",
          "text": [
            "\r 44%|████▍     | 253/569 [05:34<06:50,  1.30s/it]"
          ]
        },
        {
          "name": "stdout",
          "output_type": "stream",
          "text": [
            "lang4\n",
            "fei4\n",
            "wo3\n",
            "de\n",
            "shi2\n",
            "jian1\n",
            "jiu4\n",
            "shi4\n",
            "shi2\n",
            "jian1\n",
            "fan4\n",
            "zui4\n"
          ]
        },
        {
          "name": "stderr",
          "output_type": "stream",
          "text": [
            "\r 45%|████▍     | 254/569 [05:35<06:04,  1.16s/it]"
          ]
        },
        {
          "name": "stdout",
          "output_type": "stream",
          "text": [
            "shi2\n",
            "jian1\n",
            "dao4\n"
          ]
        },
        {
          "name": "stderr",
          "output_type": "stream",
          "text": [
            " 45%|████▍     | 256/569 [05:38<06:42,  1.29s/it]"
          ]
        },
        {
          "name": "stdout",
          "output_type": "stream",
          "text": [
            "ji2\n",
            "shi3\n",
            "shi4\n",
            "ge4\n",
            "lun2\n",
            "hou4\n",
            "ren2\n",
            "ye3\n",
            "neng2\n",
            "duo3\n",
            "de2\n",
            "kai1\n"
          ]
        },
        {
          "name": "stderr",
          "output_type": "stream",
          "text": [
            "\r 45%|████▌     | 257/569 [05:39<06:44,  1.30s/it]"
          ]
        },
        {
          "name": "stdout",
          "output_type": "stream",
          "text": [
            "zhe4\n",
            "yi1\n",
            "shun4\n",
            "jian1\n",
            "shi4\n",
            "ni3\n",
            "wei2\n",
            "yi1\n",
            "de\n",
            "ji1\n",
            "hui4\n"
          ]
        },
        {
          "name": "stderr",
          "output_type": "stream",
          "text": [
            "\r 45%|████▌     | 258/569 [05:40<06:01,  1.16s/it]"
          ]
        },
        {
          "name": "stdout",
          "output_type": "stream",
          "text": [
            "jing1\n",
            "dian3\n"
          ]
        },
        {
          "name": "stderr",
          "output_type": "stream",
          "text": [
            "\r 46%|████▌     | 259/569 [05:41<05:59,  1.16s/it]"
          ]
        },
        {
          "name": "stdout",
          "output_type": "stream",
          "text": [
            "tuo1\n",
            "yan2\n",
            "shi2\n",
            "jian1\n",
            "hui4\n",
            "hen3\n",
            "tong4\n",
            "ku3\n"
          ]
        },
        {
          "name": "stderr",
          "output_type": "stream",
          "text": [
            "\r 46%|████▌     | 260/569 [05:42<06:30,  1.26s/it]"
          ]
        },
        {
          "name": "stdout",
          "output_type": "stream",
          "text": [
            "ying1\n",
            "gai1\n",
            "mei2\n",
            "wen4\n",
            "ti2\n",
            "wo3\n",
            "de\n",
            "wu3\n",
            "qi4\n",
            "neng2\n",
            "liang4\n",
            "lai2\n",
            "yuan2\n",
            "shi4\n",
            "la1\n",
            "ji1\n"
          ]
        },
        {
          "name": "stderr",
          "output_type": "stream",
          "text": [
            " 46%|████▌     | 262/569 [05:45<06:19,  1.24s/it]"
          ]
        },
        {
          "name": "stdout",
          "output_type": "stream",
          "text": [
            "wei4\n",
            "lai2\n",
            "zhan4\n",
            "shi4\n",
            "zhun3\n",
            "bei4\n",
            "jiu4\n",
            "xu4\n"
          ]
        },
        {
          "name": "stderr",
          "output_type": "stream",
          "text": [
            "\r 46%|████▌     | 263/569 [05:46<06:50,  1.34s/it]"
          ]
        },
        {
          "name": "stdout",
          "output_type": "stream",
          "text": [
            "he2\n",
            "ping2\n",
            "shi3\n",
            "zhe3\n",
            "liu2\n",
            "cheng2\n",
            "yi3\n",
            "qi3\n",
            "dong4\n"
          ]
        },
        {
          "name": "stderr",
          "output_type": "stream",
          "text": [
            " 47%|████▋     | 265/569 [05:48<05:53,  1.16s/it]"
          ]
        },
        {
          "name": "stdout",
          "output_type": "stream",
          "text": [
            "zai4\n",
            "wo3\n",
            "shi4\n",
            "ye3\n",
            "nei4\n"
          ]
        },
        {
          "name": "stderr",
          "output_type": "stream",
          "text": [
            "\r 47%|████▋     | 266/569 [05:49<05:29,  1.09s/it]"
          ]
        },
        {
          "name": "stdout",
          "output_type": "stream",
          "text": [
            "ming2\n",
            "tian1\n",
            "jiu4\n",
            "shi4\n",
            "xian4\n",
            "zai4\n"
          ]
        },
        {
          "name": "stderr",
          "output_type": "stream",
          "text": [
            "\r 47%|████▋     | 267/569 [05:51<05:49,  1.16s/it]"
          ]
        },
        {
          "name": "stdout",
          "output_type": "stream",
          "text": [
            "o2\n",
            "zhe4\n",
            "ke3\n",
            "neng2\n",
            "hui4\n",
            "da3\n",
            "po4\n",
            "shi2\n",
            "jian1\n",
            "lian2\n",
            "xu4\n",
            "xing4\n"
          ]
        },
        {
          "name": "stderr",
          "output_type": "stream",
          "text": [
            "\r 47%|████▋     | 268/569 [05:52<05:55,  1.18s/it]"
          ]
        },
        {
          "name": "stdout",
          "output_type": "stream",
          "text": [
            "xian4\n",
            "shi2\n",
            "shi4\n",
            "you2\n",
            "fa3\n",
            "lv4\n",
            "wei2\n",
            "chi2\n",
            "de\n"
          ]
        },
        {
          "name": "stderr",
          "output_type": "stream",
          "text": [
            "\r 47%|████▋     | 269/569 [05:53<05:15,  1.05s/it]"
          ]
        },
        {
          "name": "stdout",
          "output_type": "stream",
          "text": [
            "ha1\n"
          ]
        },
        {
          "name": "stderr",
          "output_type": "stream",
          "text": [
            "\r 47%|████▋     | 270/569 [05:54<05:58,  1.20s/it]"
          ]
        },
        {
          "name": "stdout",
          "output_type": "stream",
          "text": [
            "hen3\n",
            "jian3\n",
            "dan1\n",
            "kou4\n",
            "dong4\n",
            "ban1\n",
            "ji1\n",
            "zhong1\n",
            "jie2\n",
            "ta1\n",
            "men\n",
            "de\n",
            "shi2\n",
            "jian1\n",
            "xian4\n"
          ]
        },
        {
          "name": "stderr",
          "output_type": "stream",
          "text": [
            "\r 48%|████▊     | 271/569 [05:55<06:13,  1.25s/it]"
          ]
        },
        {
          "name": "stdout",
          "output_type": "stream",
          "text": [
            "ni3\n",
            "cai1\n",
            "wo3\n",
            "zui4\n",
            "xi3\n",
            "huan1\n",
            "shen2\n",
            "me\n",
            "geng4\n",
            "da4\n",
            "de\n",
            "qiang1\n"
          ]
        },
        {
          "name": "stderr",
          "output_type": "stream",
          "text": [
            "\r 48%|████▊     | 272/569 [05:56<05:43,  1.16s/it]"
          ]
        },
        {
          "name": "stdout",
          "output_type": "stream",
          "text": [
            "ni3\n",
            "da3\n",
            "bu4\n",
            "guo4\n",
            "shi2\n",
            "jian1\n"
          ]
        },
        {
          "name": "stderr",
          "output_type": "stream",
          "text": [
            "\r 48%|████▊     | 273/569 [05:58<06:49,  1.38s/it]"
          ]
        },
        {
          "name": "stdout",
          "output_type": "stream",
          "text": [
            "o2\n",
            "xi1\n",
            "wang4\n",
            "ni3\n",
            "bu2\n",
            "shi4\n",
            "wo3\n",
            "de\n",
            "zu3\n",
            "mu3\n",
            "o2\n",
            "ta1\n",
            "zuo4\n",
            "de\n",
            "xiao3\n",
            "dian3\n",
            "xin1\n",
            "hen3\n",
            "hao3\n",
            "chi1\n"
          ]
        },
        {
          "name": "stderr",
          "output_type": "stream",
          "text": [
            "\r 48%|████▊     | 274/569 [06:00<06:47,  1.38s/it]"
          ]
        },
        {
          "name": "stdout",
          "output_type": "stream",
          "text": [
            "suo3\n",
            "you3\n",
            "ren2\n",
            "dou1\n",
            "tao2\n",
            "bu4\n",
            "guo4\n",
            "wei4\n",
            "lai2\n"
          ]
        },
        {
          "name": "stderr",
          "output_type": "stream",
          "text": [
            "\r 48%|████▊     | 275/569 [06:01<06:51,  1.40s/it]"
          ]
        },
        {
          "name": "stdout",
          "output_type": "stream",
          "text": [
            "mei2\n",
            "shen2\n",
            "me\n",
            "neng2\n",
            "zu3\n",
            "zhi3\n",
            "wo3\n",
            "le\n"
          ]
        },
        {
          "name": "stderr",
          "output_type": "stream",
          "text": [
            "\r 49%|████▊     | 276/569 [06:02<06:35,  1.35s/it]"
          ]
        },
        {
          "name": "stdout",
          "output_type": "stream",
          "text": [
            "jian1\n",
            "chi2\n",
            "zou3\n",
            "xia4\n",
            "qu4\n"
          ]
        },
        {
          "name": "stderr",
          "output_type": "stream",
          "text": [
            "\r 49%|████▊     | 277/569 [06:04<06:26,  1.32s/it]"
          ]
        },
        {
          "name": "stdout",
          "output_type": "stream",
          "text": [
            "fu4\n",
            "zui4\n",
            "zhi1\n",
            "ren2\n",
            "zong3\n",
            "shi4\n",
            "hui4\n",
            "shi1\n",
            "wu4\n"
          ]
        },
        {
          "name": "stderr",
          "output_type": "stream",
          "text": [
            "\r 49%|████▉     | 278/569 [06:05<06:11,  1.28s/it]"
          ]
        },
        {
          "name": "stdout",
          "output_type": "stream",
          "text": [
            "ni3\n",
            "si3\n",
            "le\n",
            "yi3\n",
            "hou4\n",
            "cai2\n",
            "ke3\n",
            "yi3\n",
            "kan4\n",
            "dao4\n",
            "wei4\n",
            "lai2\n"
          ]
        },
        {
          "name": "stderr",
          "output_type": "stream",
          "text": [
            " 49%|████▉     | 281/569 [06:08<05:04,  1.06s/it]"
          ]
        },
        {
          "name": "stdout",
          "output_type": "stream",
          "text": [
            "2016\n",
            "de\n",
            "feng1\n",
            "ge2\n"
          ]
        },
        {
          "name": "stderr",
          "output_type": "stream",
          "text": [
            "\r 50%|████▉     | 282/569 [06:09<05:15,  1.10s/it]"
          ]
        },
        {
          "name": "stdout",
          "output_type": "stream",
          "text": [
            "bao4\n",
            "tou2\n",
            "zai4\n",
            "wo3\n",
            "de\n",
            "shi2\n",
            "dai4\n",
            "shi4\n",
            "zhi4\n",
            "ming4\n",
            "de\n"
          ]
        },
        {
          "name": "stderr",
          "output_type": "stream",
          "text": [
            "\r 50%|████▉     | 283/569 [06:10<05:19,  1.12s/it]"
          ]
        },
        {
          "name": "stdout",
          "output_type": "stream",
          "text": [
            "fan3\n",
            "zhi4\n",
            "cuo4\n",
            "shi1\n",
            "yu3\n",
            "bu4\n",
            "shu3\n"
          ]
        },
        {
          "name": "stderr",
          "output_type": "stream",
          "text": [
            "\r 50%|████▉     | 284/569 [06:12<05:49,  1.23s/it]"
          ]
        },
        {
          "name": "stdout",
          "output_type": "stream",
          "text": [
            "wo3\n",
            "men\n",
            "bu4\n",
            "neng2\n",
            "zhi3\n",
            "shi4\n",
            "kan4\n",
            "dao4\n",
            "li4\n",
            "shi3\n",
            "wo3\n",
            "men\n",
            "hai2\n",
            "bi4\n",
            "xu1\n",
            "zun1\n",
            "shou3\n",
            "。\n"
          ]
        },
        {
          "name": "stderr",
          "output_type": "stream",
          "text": [
            "\r 50%|█████     | 285/569 [06:13<06:31,  1.38s/it]"
          ]
        },
        {
          "name": "stdout",
          "output_type": "stream",
          "text": [
            "wo3\n",
            "men\n",
            "bu4\n",
            "neng2\n",
            "zhi3\n",
            "shi4\n",
            "kan4\n",
            "dao4\n",
            "li4\n",
            "shi3\n",
            "wo3\n",
            "men\n",
            "hai2\n",
            "bi4\n",
            "xu1\n",
            "zun1\n",
            "shou3\n"
          ]
        },
        {
          "name": "stderr",
          "output_type": "stream",
          "text": [
            "\r 50%|█████     | 286/569 [06:14<05:51,  1.24s/it]"
          ]
        },
        {
          "name": "stdout",
          "output_type": "stream",
          "text": [
            "piao4\n",
            "liang4\n"
          ]
        },
        {
          "name": "stderr",
          "output_type": "stream",
          "text": [
            " 51%|█████     | 288/569 [06:18<06:39,  1.42s/it]"
          ]
        },
        {
          "name": "stdout",
          "output_type": "stream",
          "text": [
            "mei2\n",
            "shen2\n",
            "me\n",
            "neng2\n",
            "di3\n",
            "dang3\n",
            "wei4\n",
            "lai2\n"
          ]
        },
        {
          "name": "stderr",
          "output_type": "stream",
          "text": [
            " 51%|█████     | 290/569 [06:20<05:56,  1.28s/it]"
          ]
        },
        {
          "name": "stdout",
          "output_type": "stream",
          "text": [
            "ji4\n",
            "shi1\n",
            "shuo1\n",
            "「\n",
            "wo3\n",
            "ying2\n",
            "le\n",
            "zhe4\n",
            "yi1\n",
            "zhan4\n",
            "。」\n"
          ]
        },
        {
          "name": "stderr",
          "output_type": "stream",
          "text": [
            "\r 51%|█████     | 291/569 [06:21<05:27,  1.18s/it]"
          ]
        },
        {
          "name": "stdout",
          "output_type": "stream",
          "text": [
            "zheng4\n",
            "zhong4\n",
            "xia4\n",
            "huai2\n"
          ]
        },
        {
          "name": "stderr",
          "output_type": "stream",
          "text": [
            "\r 51%|█████▏    | 292/569 [06:22<05:07,  1.11s/it]"
          ]
        },
        {
          "name": "stdout",
          "output_type": "stream",
          "text": [
            "shi2\n",
            "jian1\n",
            "sheng1\n",
            "ji2\n",
            "yi3\n",
            "wan2\n",
            "cheng2\n"
          ]
        },
        {
          "name": "stderr",
          "output_type": "stream",
          "text": [
            "\r 51%|█████▏    | 293/569 [06:23<04:56,  1.08s/it]"
          ]
        },
        {
          "name": "stdout",
          "output_type": "stream",
          "text": [
            "ding4\n",
            "lv4\n",
            "shi4\n",
            "yi1\n",
            "qie4\n"
          ]
        },
        {
          "name": "stderr",
          "output_type": "stream",
          "text": [
            "\r 52%|█████▏    | 294/569 [06:24<05:02,  1.10s/it]"
          ]
        },
        {
          "name": "stdout",
          "output_type": "stream",
          "text": [
            "o2\n",
            " \n",
            "hou4\n",
            "zuo4\n",
            "li4\n",
            "bu4\n",
            "xiao3\n"
          ]
        },
        {
          "name": "stderr",
          "output_type": "stream",
          "text": [
            " 52%|█████▏    | 296/569 [06:26<05:17,  1.16s/it]"
          ]
        },
        {
          "name": "stdout",
          "output_type": "stream",
          "text": [
            "zhe4\n",
            "tai2\n",
            "ji1\n",
            "qi4\n",
            "ke3\n",
            "yi3\n",
            "ba3\n",
            "ni3\n",
            "de\n",
            "nao3\n",
            "dai4\n",
            "qi2\n",
            "gen1\n",
            "hong1\n",
            "diao4\n"
          ]
        },
        {
          "name": "stderr",
          "output_type": "stream",
          "text": [
            "\r 52%|█████▏    | 297/569 [06:28<05:46,  1.27s/it]"
          ]
        },
        {
          "name": "stdout",
          "output_type": "stream",
          "text": [
            "qu1\n",
            "ce4\n",
            "wo3\n",
            "de\n",
            "bu2\n",
            "shi4\n",
            "guo4\n",
            "qu4\n",
            "er2\n",
            "shi4\n",
            "wei4\n",
            "lai2\n"
          ]
        },
        {
          "name": "stderr",
          "output_type": "stream",
          "text": [
            "\r 52%|█████▏    | 298/569 [06:30<06:47,  1.50s/it]"
          ]
        },
        {
          "name": "stdout",
          "output_type": "stream",
          "text": [
            "cheng2\n",
            "nuo4\n",
            "ni3\n",
            "you3\n",
            "geng4\n",
            "duo1\n",
            "shi2\n",
            "jian1\n",
            "shi4\n",
            "zui4\n",
            "tian2\n",
            "mi4\n",
            "de\n",
            "huang3\n",
            "yan2\n"
          ]
        },
        {
          "name": "stderr",
          "output_type": "stream",
          "text": [
            "\r 53%|█████▎    | 299/569 [06:31<07:05,  1.58s/it]"
          ]
        },
        {
          "name": "stdout",
          "output_type": "stream",
          "text": [
            "yi1\n",
            "qie4\n",
            "dou1\n",
            "hui4\n",
            "sui2\n",
            "shi2\n",
            "jian1\n",
            "er2\n",
            "beng1\n",
            "ta1\n"
          ]
        },
        {
          "name": "stderr",
          "output_type": "stream",
          "text": [
            "\r 53%|█████▎    | 300/569 [06:33<06:25,  1.43s/it]"
          ]
        },
        {
          "name": "stdout",
          "output_type": "stream",
          "text": [
            "gai1\n",
            "ba2\n",
            "dian4\n",
            "yuan2\n",
            "le\n"
          ]
        },
        {
          "name": "stderr",
          "output_type": "stream",
          "text": [
            " 53%|█████▎    | 302/569 [06:35<05:47,  1.30s/it]"
          ]
        },
        {
          "name": "stdout",
          "output_type": "stream",
          "text": [
            "hui2\n",
            "dao4\n",
            "yuan2\n",
            "shi3\n",
            "de\n",
            "wu1\n",
            "ni2\n",
            "zhong1\n",
            "ba\n"
          ]
        },
        {
          "name": "stderr",
          "output_type": "stream",
          "text": [
            "\r 53%|█████▎    | 303/569 [06:36<05:27,  1.23s/it]"
          ]
        },
        {
          "name": "stdout",
          "output_type": "stream",
          "text": [
            "shui2\n",
            "xu1\n",
            "yao4\n",
            "dai4\n",
            "bu3\n",
            "ling4\n"
          ]
        },
        {
          "name": "stderr",
          "output_type": "stream",
          "text": [
            "\r 53%|█████▎    | 304/569 [06:37<05:02,  1.14s/it]"
          ]
        },
        {
          "name": "stdout",
          "output_type": "stream",
          "text": [
            "gai1\n",
            "tao2\n",
            "pao3\n",
            "luo1\n"
          ]
        },
        {
          "name": "stderr",
          "output_type": "stream",
          "text": [
            "\r 54%|█████▎    | 305/569 [06:38<05:01,  1.14s/it]"
          ]
        },
        {
          "name": "stdout",
          "output_type": "stream",
          "text": [
            "ni3\n",
            "bu2\n",
            "shi4\n",
            "wo3\n",
            "yao4\n",
            "zhao3\n",
            "de\n",
            "ren2\n",
            "bu4\n",
            "guo4\n",
            "cha4\n",
            "bu4\n",
            "duo1\n"
          ]
        },
        {
          "name": "stderr",
          "output_type": "stream",
          "text": [
            " 54%|█████▍    | 307/569 [06:40<04:46,  1.09s/it]"
          ]
        },
        {
          "name": "stdout",
          "output_type": "stream",
          "text": [
            "wo3\n",
            "gen1\n",
            "yu4\n",
            "yan2\n",
            "ta1\n",
            "shi4\n",
            "wang3\n",
            "zuo3\n",
            "bian1\n",
            "dao4\n",
            "de\n"
          ]
        },
        {
          "name": "stderr",
          "output_type": "stream",
          "text": [
            " 54%|█████▍    | 309/569 [06:43<05:12,  1.20s/it]"
          ]
        },
        {
          "name": "stdout",
          "output_type": "stream",
          "text": [
            "ta1\n",
            "hui4\n",
            "zai4\n",
            "shen2\n",
            "me\n",
            "shi2\n",
            "jian1\n",
            "ne\n"
          ]
        },
        {
          "name": "stderr",
          "output_type": "stream",
          "text": [
            " 55%|█████▍    | 311/569 [06:45<04:55,  1.14s/it]"
          ]
        },
        {
          "name": "stdout",
          "output_type": "stream",
          "text": [
            "zhun3\n",
            "bei4\n",
            "hao3\n",
            "le\n"
          ]
        },
        {
          "name": "stderr",
          "output_type": "stream",
          "text": [
            "\r 55%|█████▍    | 312/569 [06:47<05:43,  1.34s/it]"
          ]
        },
        {
          "name": "stdout",
          "output_type": "stream",
          "text": [
            "ta1\n",
            "men\n",
            "wu2\n",
            "fa3\n",
            "dai4\n",
            "bu3\n",
            "re4\n",
            "la4\n",
            "wu3\n",
            "bu4\n"
          ]
        },
        {
          "name": "stderr",
          "output_type": "stream",
          "text": [
            "\r 55%|█████▌    | 313/569 [06:48<05:24,  1.27s/it]"
          ]
        },
        {
          "name": "stdout",
          "output_type": "stream",
          "text": [
            "shi2\n",
            "jian1\n",
            "neng2\n",
            "ting2\n",
            "xia4\n",
            "wo3\n",
            "ting2\n",
            "bu4\n",
            "xia4\n"
          ]
        },
        {
          "name": "stderr",
          "output_type": "stream",
          "text": [
            "\r 55%|█████▌    | 314/569 [06:49<05:05,  1.20s/it]"
          ]
        },
        {
          "name": "stdout",
          "output_type": "stream",
          "text": [
            "ji1\n",
            "guang1\n",
            "ban1\n",
            "jing1\n",
            "zhun3\n"
          ]
        },
        {
          "name": "stderr",
          "output_type": "stream",
          "text": [
            "\r 55%|█████▌    | 315/569 [06:50<05:02,  1.19s/it]"
          ]
        },
        {
          "name": "stdout",
          "output_type": "stream",
          "text": [
            "li4\n",
            "shi3\n",
            "bu2\n",
            "hui4\n",
            "zi4\n",
            "wo3\n",
            "xiu1\n",
            "fu4\n"
          ]
        },
        {
          "name": "stderr",
          "output_type": "stream",
          "text": [
            "\r 56%|█████▌    | 316/569 [06:51<05:03,  1.20s/it]"
          ]
        },
        {
          "name": "stdout",
          "output_type": "stream",
          "text": [
            "wei4\n",
            "lai2\n",
            "ke3\n",
            "bu2\n",
            "shi4\n",
            "yong4\n",
            "lai2\n",
            "wan2\n",
            "nong4\n",
            "de\n"
          ]
        },
        {
          "name": "stderr",
          "output_type": "stream",
          "text": [
            "\r 56%|█████▌    | 317/569 [06:52<04:57,  1.18s/it]"
          ]
        },
        {
          "name": "stdout",
          "output_type": "stream",
          "text": [
            "wo3\n",
            "yao4\n",
            "qu4\n",
            "de\n",
            "di4\n",
            "fang1\n",
            "bu4\n",
            "xu1\n",
            "yao4\n",
            "mao4\n",
            "zi\n"
          ]
        },
        {
          "name": "stderr",
          "output_type": "stream",
          "text": [
            "\r 56%|█████▌    | 318/569 [06:53<05:00,  1.20s/it]"
          ]
        },
        {
          "name": "stdout",
          "output_type": "stream",
          "text": [
            "zhi4\n",
            "shao3\n",
            "ni3\n",
            "si3\n",
            "de\n",
            "shi2\n",
            "hou4\n",
            "chuan1\n",
            "le\n",
            "xue1\n",
            "zi\n"
          ]
        },
        {
          "name": "stderr",
          "output_type": "stream",
          "text": [
            "\r 56%|█████▌    | 319/569 [06:54<04:40,  1.12s/it]"
          ]
        },
        {
          "name": "stdout",
          "output_type": "stream",
          "text": [
            "gai1\n",
            "fa1\n",
            "she4\n",
            "le\n"
          ]
        },
        {
          "name": "stderr",
          "output_type": "stream",
          "text": [
            "\r 56%|█████▌    | 320/569 [06:56<04:36,  1.11s/it]"
          ]
        },
        {
          "name": "stdout",
          "output_type": "stream",
          "text": [
            "wo3\n",
            "yao4\n",
            "ba3\n",
            "ni3\n",
            "da3\n",
            "cheng2\n",
            "xu1\n",
            "wu2\n"
          ]
        },
        {
          "name": "stderr",
          "output_type": "stream",
          "text": [
            "\r 56%|█████▋    | 321/569 [06:56<04:23,  1.06s/it]"
          ]
        },
        {
          "name": "stdout",
          "output_type": "stream",
          "text": [
            "ni3\n",
            "de\n",
            "shi2\n",
            "jian1\n",
            "yi3\n",
            "jing1\n",
            "guo4\n",
            "qu4\n",
            "le\n"
          ]
        },
        {
          "name": "stderr",
          "output_type": "stream",
          "text": [
            "\r 57%|█████▋    | 322/569 [06:58<05:09,  1.25s/it]"
          ]
        },
        {
          "name": "stdout",
          "output_type": "stream",
          "text": [
            "wo3\n",
            "zhi1\n",
            "dao4\n",
            "zhe4\n",
            "tiao2\n",
            "lu4\n",
            "zhe4\n",
            "tiao2\n",
            "bu4\n",
            "gui1\n",
            "zhi1\n",
            "lu4\n",
            "。\n"
          ]
        },
        {
          "name": "stderr",
          "output_type": "stream",
          "text": [
            " 57%|█████▋    | 324/569 [07:01<05:05,  1.25s/it]"
          ]
        },
        {
          "name": "stdout",
          "output_type": "stream",
          "text": [
            "zhe4\n",
            "shi4\n",
            "hen3\n",
            "jiu3\n",
            "yi3\n",
            "hou4\n",
            "de\n",
            "shi4\n"
          ]
        },
        {
          "name": "stderr",
          "output_type": "stream",
          "text": [
            "\r 57%|█████▋    | 325/569 [07:02<05:11,  1.28s/it]"
          ]
        },
        {
          "name": "stdout",
          "output_type": "stream",
          "text": [
            "hui2\n",
            "gu4\n",
            "xing4\n",
            "zhun3\n",
            "bei4\n",
            "que4\n",
            "ren4\n",
            "wan2\n",
            "bi4\n"
          ]
        },
        {
          "name": "stderr",
          "output_type": "stream",
          "text": [
            "\r 57%|█████▋    | 326/569 [07:03<04:51,  1.20s/it]"
          ]
        },
        {
          "name": "stdout",
          "output_type": "stream",
          "text": [
            "suo3\n",
            "you3\n",
            "ren2\n",
            "dou1\n",
            "hui4\n",
            "tao2\n",
            "pao3\n"
          ]
        },
        {
          "name": "stderr",
          "output_type": "stream",
          "text": [
            "\r 57%|█████▋    | 327/569 [07:04<04:45,  1.18s/it]"
          ]
        },
        {
          "name": "stdout",
          "output_type": "stream",
          "text": [
            "o2\n",
            "ni3\n",
            "zhen1\n",
            "rang4\n",
            "wo3\n",
            "shang1\n",
            "xin1\n",
            "。\n"
          ]
        },
        {
          "name": "stderr",
          "output_type": "stream",
          "text": [
            "\r 58%|█████▊    | 328/569 [07:06<05:07,  1.28s/it]"
          ]
        },
        {
          "name": "stdout",
          "output_type": "stream",
          "text": [
            "wu3\n",
            "qi4\n",
            "gong1\n",
            "lv4\n",
            "she4\n",
            "wei4\n",
            "360\n",
            "guan1\n",
            "bi4\n",
            "miao2\n",
            "zhun3\n",
            "jing4\n"
          ]
        },
        {
          "name": "stderr",
          "output_type": "stream",
          "text": [
            "\r 58%|█████▊    | 329/569 [07:07<04:54,  1.23s/it]"
          ]
        },
        {
          "name": "stdout",
          "output_type": "stream",
          "text": [
            "zuo3\n",
            "san1\n",
            "quan1\n",
            "you4\n",
            "san1\n",
            "quan1\n"
          ]
        },
        {
          "name": "stderr",
          "output_type": "stream",
          "text": [
            "\r 58%|█████▊    | 330/569 [07:07<04:20,  1.09s/it]"
          ]
        },
        {
          "name": "stdout",
          "output_type": "stream",
          "text": [
            "ha1\n"
          ]
        },
        {
          "name": "stderr",
          "output_type": "stream",
          "text": [
            "\r 58%|█████▊    | 331/569 [07:09<04:25,  1.11s/it]"
          ]
        },
        {
          "name": "stdout",
          "output_type": "stream",
          "text": [
            "ying1\n",
            "gai1\n",
            "jia1\n",
            "yi1\n",
            "xie1\n",
            "tang2\n",
            "shuang1\n",
            "he2\n",
            "qi4\n",
            "pao4\n"
          ]
        },
        {
          "name": "stderr",
          "output_type": "stream",
          "text": [
            "\r 58%|█████▊    | 332/569 [07:10<04:48,  1.22s/it]"
          ]
        },
        {
          "name": "stdout",
          "output_type": "stream",
          "text": [
            "shi4\n",
            "jian1\n",
            "neng2\n",
            "zhi4\n",
            "yu4\n",
            "yi1\n",
            "qie4\n",
            "shang1\n",
            "tong4\n",
            "bu4\n",
            "jin4\n",
            "ran2\n",
            "。\n"
          ]
        },
        {
          "name": "stderr",
          "output_type": "stream",
          "text": [
            "\r 59%|█████▊    | 333/569 [07:11<04:19,  1.10s/it]"
          ]
        },
        {
          "name": "stdout",
          "output_type": "stream",
          "text": [
            "jiu4\n",
            "shi4\n",
            "xian4\n",
            "zai4\n"
          ]
        },
        {
          "name": "stderr",
          "output_type": "stream",
          "text": [
            " 59%|█████▉    | 335/569 [07:13<04:35,  1.18s/it]"
          ]
        },
        {
          "name": "stdout",
          "output_type": "stream",
          "text": [
            "xi1\n",
            "wang4\n",
            "zhe4\n",
            "ge4\n",
            "shi2\n",
            "jian1\n",
            "xian4\n",
            "li3\n",
            "you3\n",
            "ka1\n",
            "fei1\n"
          ]
        },
        {
          "name": "stderr",
          "output_type": "stream",
          "text": [
            "\r 59%|█████▉    | 336/569 [07:15<04:57,  1.28s/it]"
          ]
        },
        {
          "name": "stdout",
          "output_type": "stream",
          "text": [
            "mei3\n",
            "tiao2\n",
            "shi2\n",
            "jian1\n",
            "xian4\n",
            "wo3\n",
            "dou1\n",
            "xi3\n",
            "huan1\n",
            "zhe4\n",
            "duan4\n"
          ]
        },
        {
          "name": "stderr",
          "output_type": "stream",
          "text": [
            "\r 59%|█████▉    | 337/569 [07:17<05:43,  1.48s/it]"
          ]
        },
        {
          "name": "stdout",
          "output_type": "stream",
          "text": [
            "shi4\n",
            "fou3\n",
            "liao3\n",
            "jie3\n",
            "dang1\n",
            "xia4\n",
            "jue2\n",
            "ding4\n",
            "le\n",
            "shi4\n",
            "fou3\n",
            "yong1\n",
            "you3\n",
            "wei4\n",
            "lai2\n"
          ]
        },
        {
          "name": "stderr",
          "output_type": "stream",
          "text": [
            "\r 59%|█████▉    | 338/569 [07:18<05:14,  1.36s/it]"
          ]
        },
        {
          "name": "stdout",
          "output_type": "stream",
          "text": [
            "wo3\n",
            "men\n",
            "ying1\n",
            "gai1\n",
            "zao3\n",
            "dian3\n",
            "ba3\n",
            "ni3\n",
            "jiao4\n",
            "ting2\n"
          ]
        },
        {
          "name": "stderr",
          "output_type": "stream",
          "text": [
            "\r 60%|█████▉    | 339/569 [07:19<04:58,  1.30s/it]"
          ]
        },
        {
          "name": "stdout",
          "output_type": "stream",
          "text": [
            "na4\n",
            "ge4\n",
            "shi2\n",
            "jian1\n",
            "tao2\n",
            "fan4\n",
            "zai4\n",
            "fu4\n",
            "jin4\n"
          ]
        },
        {
          "name": "stderr",
          "output_type": "stream",
          "text": [
            "\r 60%|█████▉    | 340/569 [07:20<04:58,  1.30s/it]"
          ]
        },
        {
          "name": "stdout",
          "output_type": "stream",
          "text": [
            "zhe4\n",
            "xia4\n",
            "de2\n",
            "xu1\n",
            "yao4\n",
            "cheng2\n",
            "dun1\n",
            "de\n",
            "bao4\n",
            "gao4\n",
            "wen2\n",
            "jian4\n",
            "le\n"
          ]
        },
        {
          "name": "stderr",
          "output_type": "stream",
          "text": [
            " 60%|██████    | 342/569 [07:22<04:34,  1.21s/it]"
          ]
        },
        {
          "name": "stdout",
          "output_type": "stream",
          "text": [
            "dao4\n",
            "zui4\n",
            "hou4\n",
            "wo3\n",
            "zong3\n",
            "shi4\n",
            "hui4\n",
            "zhua1\n",
            "zhu4\n",
            "ni3\n",
            "。\n"
          ]
        },
        {
          "name": "stderr",
          "output_type": "stream",
          "text": [
            "\r 60%|██████    | 343/569 [07:24<04:22,  1.16s/it]"
          ]
        },
        {
          "name": "stdout",
          "output_type": "stream",
          "text": [
            "wei4\n",
            "lai2\n",
            "bu4\n",
            "rong2\n",
            "cha4\n",
            "chi2\n"
          ]
        },
        {
          "name": "stderr",
          "output_type": "stream",
          "text": [
            "\r 60%|██████    | 344/569 [07:25<04:12,  1.12s/it]"
          ]
        },
        {
          "name": "stdout",
          "output_type": "stream",
          "text": [
            "shi2\n",
            "jian1\n",
            "huan2\n",
            "yi3\n",
            "bi4\n",
            "he2\n"
          ]
        },
        {
          "name": "stderr",
          "output_type": "stream",
          "text": [
            "\r 61%|██████    | 345/569 [07:26<04:12,  1.13s/it]"
          ]
        },
        {
          "name": "stdout",
          "output_type": "stream",
          "text": [
            "wo3\n",
            "yi3\n",
            "pi4\n",
            "he2\n",
            "shi2\n",
            "jian1\n",
            "xing4\n",
            "qu1\n",
            "xian4\n"
          ]
        },
        {
          "name": "stderr",
          "output_type": "stream",
          "text": [
            "\r 61%|██████    | 346/569 [07:27<04:31,  1.22s/it]"
          ]
        },
        {
          "name": "stdout",
          "output_type": "stream",
          "text": [
            "xing4\n",
            "fu2\n",
            "jiu4\n",
            "shi4\n",
            "re4\n",
            "gan3\n",
            "ying4\n",
            "shi2\n",
            "jian1\n",
            "qiang1\n"
          ]
        },
        {
          "name": "stderr",
          "output_type": "stream",
          "text": [
            "\r 61%|██████    | 347/569 [07:29<04:40,  1.26s/it]"
          ]
        },
        {
          "name": "stdout",
          "output_type": "stream",
          "text": [
            "jian4\n",
            "shi2\n",
            "xia4\n",
            "chao1\n",
            "qian2\n",
            "ke1\n",
            "ji4\n"
          ]
        },
        {
          "name": "stderr",
          "output_type": "stream",
          "text": [
            "\r 61%|██████    | 348/569 [07:30<04:55,  1.34s/it]"
          ]
        },
        {
          "name": "stdout",
          "output_type": "stream",
          "text": [
            "zheng4\n",
            "zai4\n",
            "cai3\n",
            "qu3\n",
            "bi4\n",
            "yao4\n",
            "shou3\n",
            "duan4\n"
          ]
        },
        {
          "name": "stderr",
          "output_type": "stream",
          "text": [
            "\r 61%|██████▏   | 349/569 [07:31<04:59,  1.36s/it]"
          ]
        },
        {
          "name": "stdout",
          "output_type": "stream",
          "text": [
            "duo1\n",
            "me\n",
            "you1\n",
            "ya3\n",
            "de\n",
            "fu4\n",
            "gu3\n"
          ]
        },
        {
          "name": "stderr",
          "output_type": "stream",
          "text": [
            "\r 62%|██████▏   | 350/569 [07:32<04:34,  1.25s/it]"
          ]
        },
        {
          "name": "stdout",
          "output_type": "stream",
          "text": [
            "gai3\n",
            "kou3\n",
            "ban1\n",
            "ji1\n",
            "le\n"
          ]
        },
        {
          "name": "stderr",
          "output_type": "stream",
          "text": [
            " 62%|██████▏   | 352/569 [07:34<03:52,  1.07s/it]"
          ]
        },
        {
          "name": "stdout",
          "output_type": "stream",
          "text": [
            "gan3\n",
            "jue2\n",
            "hao3\n",
            "duo1\n",
            "le\n"
          ]
        },
        {
          "name": "stderr",
          "output_type": "stream",
          "text": [
            "\r 62%|██████▏   | 353/569 [07:35<03:31,  1.02it/s]"
          ]
        },
        {
          "name": "stdout",
          "output_type": "stream",
          "text": [
            "ha1\n"
          ]
        },
        {
          "name": "stderr",
          "output_type": "stream",
          "text": [
            "\r 62%|██████▏   | 354/569 [07:36<03:25,  1.04it/s]"
          ]
        },
        {
          "name": "stdout",
          "output_type": "stream",
          "text": [
            "duo1\n",
            "me\n",
            "tian2\n",
            "le\n"
          ]
        },
        {
          "name": "stderr",
          "output_type": "stream",
          "text": [
            "\r 62%|██████▏   | 355/569 [07:37<03:35,  1.01s/it]"
          ]
        },
        {
          "name": "stdout",
          "output_type": "stream",
          "text": [
            "zai4\n",
            "wei4\n",
            "lai2\n",
            " \n",
            "tiao4\n",
            "wu3\n",
            "fan4\n",
            "fa3\n"
          ]
        },
        {
          "name": "stderr",
          "output_type": "stream",
          "text": [
            "\r 63%|██████▎   | 356/569 [07:38<03:41,  1.04s/it]"
          ]
        },
        {
          "name": "stdout",
          "output_type": "stream",
          "text": [
            "jing3\n",
            "gao4\n",
            "ni3\n",
            "zhe4\n",
            "shi4\n",
            "xian4\n",
            "jing3\n"
          ]
        },
        {
          "name": "stderr",
          "output_type": "stream",
          "text": [
            "\r 63%|██████▎   | 357/569 [07:39<03:26,  1.03it/s]"
          ]
        },
        {
          "name": "stdout",
          "output_type": "stream",
          "text": [
            "gan1\n",
            "bei1\n"
          ]
        },
        {
          "name": "stderr",
          "output_type": "stream",
          "text": [
            "\r 63%|██████▎   | 358/569 [07:40<03:29,  1.01it/s]"
          ]
        },
        {
          "name": "stdout",
          "output_type": "stream",
          "text": [
            "shi2\n",
            "jian1\n",
            "jia1\n",
            "su4\n",
            "yi3\n",
            "huo4\n",
            "qu3\n"
          ]
        },
        {
          "name": "stderr",
          "output_type": "stream",
          "text": [
            "\r 63%|██████▎   | 359/569 [07:41<03:56,  1.12s/it]"
          ]
        },
        {
          "name": "stdout",
          "output_type": "stream",
          "text": [
            "zai4\n",
            "wo3\n",
            "dang1\n",
            "ban1\n",
            "de\n",
            "shi2\n",
            "hou4\n",
            "shui2\n",
            "ye3\n",
            "bie2\n",
            "xiang3\n",
            "gai3\n",
            "bian4\n",
            "guo4\n",
            "qu4\n"
          ]
        },
        {
          "name": "stderr",
          "output_type": "stream",
          "text": [
            "\r 63%|██████▎   | 360/569 [07:44<05:14,  1.51s/it]"
          ]
        },
        {
          "name": "stdout",
          "output_type": "stream",
          "text": [
            "wo3\n",
            "qing1\n",
            "li3\n",
            "la1\n",
            "ji1\n",
            "shi2\n",
            "jian1\n",
            "de\n",
            "la1\n",
            "ji1\n",
            "wo3\n",
            "shi4\n",
            "ge4\n",
            "shi2\n",
            "jian1\n",
            "la1\n",
            "ji1\n",
            "nv3\n",
            "gong1\n"
          ]
        },
        {
          "name": "stderr",
          "output_type": "stream",
          "text": [
            "\r 63%|██████▎   | 361/569 [07:46<05:42,  1.65s/it]"
          ]
        },
        {
          "name": "stdout",
          "output_type": "stream",
          "text": [
            "wu2\n",
            "lun4\n",
            "he2\n",
            "shi2\n",
            "he2\n",
            "di4\n",
            "wo3\n",
            "dou1\n",
            "hui4\n",
            "zhao3\n",
            "dao4\n",
            "ta1\n",
            "men\n",
            "。\n"
          ]
        },
        {
          "name": "stderr",
          "output_type": "stream",
          "text": [
            "\r 64%|██████▎   | 362/569 [07:47<05:03,  1.47s/it]"
          ]
        },
        {
          "name": "stdout",
          "output_type": "stream",
          "text": [
            "bei4\n",
            "lun4\n",
            "yi3\n",
            "jie3\n",
            "chu2\n"
          ]
        },
        {
          "name": "stderr",
          "output_type": "stream",
          "text": [
            "\r 64%|██████▍   | 363/569 [07:48<04:35,  1.34s/it]"
          ]
        },
        {
          "name": "stdout",
          "output_type": "stream",
          "text": [
            "hu1\n",
            "qi4\n",
            "she4\n",
            "ji1\n"
          ]
        },
        {
          "name": "stderr",
          "output_type": "stream",
          "text": [
            "\r 64%|██████▍   | 364/569 [07:49<04:18,  1.26s/it]"
          ]
        },
        {
          "name": "stdout",
          "output_type": "stream",
          "text": [
            "ni3\n",
            "de\n",
            "wei4\n",
            "lai2\n",
            "you2\n",
            "wo3\n",
            "zhong1\n",
            "jie2\n"
          ]
        },
        {
          "name": "stderr",
          "output_type": "stream",
          "text": [
            "\r 64%|██████▍   | 365/569 [07:51<05:01,  1.48s/it]"
          ]
        },
        {
          "name": "stdout",
          "output_type": "stream",
          "text": [
            "wo3\n",
            "bi4\n",
            "xu1\n",
            "zu3\n",
            "zhi3\n",
            "ta1\n",
            "niang4\n",
            "cheng2\n",
            "bei1\n",
            "ju4\n",
            "bi3\n",
            "ru2\n",
            "mo3\n",
            "chu2\n",
            "bao4\n",
            "tou2\n",
            "de\n",
            "fa1\n",
            "ming2\n"
          ]
        },
        {
          "name": "stderr",
          "output_type": "stream",
          "text": [
            "\r 64%|██████▍   | 366/569 [07:52<04:47,  1.41s/it]"
          ]
        },
        {
          "name": "stdout",
          "output_type": "stream",
          "text": [
            "ni3\n",
            "wu2\n",
            "chu3\n",
            "ke3\n",
            "tao2\n",
            "wu2\n",
            "chu3\n",
            "ke3\n",
            "cang2\n"
          ]
        },
        {
          "name": "stderr",
          "output_type": "stream",
          "text": [
            "\r 64%|██████▍   | 367/569 [07:53<04:34,  1.36s/it]"
          ]
        },
        {
          "name": "stdout",
          "output_type": "stream",
          "text": [
            "li4\n",
            "shi3\n",
            "bi3\n",
            "ni3\n",
            "xiang3\n",
            "xiang4\n",
            "de\n",
            "geng4\n",
            "nai4\n",
            "jiu3\n"
          ]
        },
        {
          "name": "stderr",
          "output_type": "stream",
          "text": [
            "\r 65%|██████▍   | 368/569 [07:55<04:25,  1.32s/it]"
          ]
        },
        {
          "name": "stdout",
          "output_type": "stream",
          "text": [
            "hao3\n",
            "le\n",
            "yi1\n",
            "qie4\n",
            "dou1\n",
            "jing3\n",
            "ran2\n",
            "you3\n",
            "xu4\n"
          ]
        },
        {
          "name": "stderr",
          "output_type": "stream",
          "text": [
            " 65%|██████▌   | 370/569 [07:57<04:16,  1.29s/it]"
          ]
        },
        {
          "name": "stdout",
          "output_type": "stream",
          "text": [
            "wo3\n",
            "de\n",
            "qiang1\n",
            "bi3\n",
            "ni3\n",
            "de\n",
            "da4\n"
          ]
        },
        {
          "name": "stderr",
          "output_type": "stream",
          "text": [
            "\r 65%|██████▌   | 371/569 [07:58<04:17,  1.30s/it]"
          ]
        },
        {
          "name": "stdout",
          "output_type": "stream",
          "text": [
            "ni3\n",
            "de\n",
            "wei4\n",
            "lai2\n",
            "bu4\n",
            "tai4\n",
            "guang1\n",
            "ming2\n"
          ]
        },
        {
          "name": "stderr",
          "output_type": "stream",
          "text": [
            " 66%|██████▌   | 373/569 [08:01<04:16,  1.31s/it]"
          ]
        },
        {
          "name": "stdout",
          "output_type": "stream",
          "text": [
            "ji4\n",
            "shi1\n",
            "hui4\n",
            "dui4\n",
            "ci3\n",
            "jin4\n",
            "xing2\n",
            "shi2\n",
            "di4\n",
            "kao3\n",
            "cha2\n"
          ]
        },
        {
          "name": "stderr",
          "output_type": "stream",
          "text": [
            "\r 66%|██████▌   | 374/569 [08:02<03:51,  1.19s/it]"
          ]
        },
        {
          "name": "stdout",
          "output_type": "stream",
          "text": [
            "ni3\n",
            "mei2\n",
            "shi2\n",
            "jian1\n",
            "le\n"
          ]
        },
        {
          "name": "stderr",
          "output_type": "stream",
          "text": [
            "\r 66%|██████▌   | 375/569 [08:03<04:05,  1.26s/it]"
          ]
        },
        {
          "name": "stdout",
          "output_type": "stream",
          "text": [
            "yuan2\n",
            "shi3\n",
            "ren2\n",
            "men\n",
            "ting1\n",
            "hao3\n",
            "le\n",
            "zhe4\n",
            "shi4\n",
            "wo3\n",
            "de\n",
            "hong1\n",
            "sha1\n",
            "da4\n",
            "gun4\n"
          ]
        },
        {
          "name": "stderr",
          "output_type": "stream",
          "text": [
            "\r 66%|██████▌   | 376/569 [08:04<03:46,  1.17s/it]"
          ]
        },
        {
          "name": "stdout",
          "output_type": "stream",
          "text": [
            "fei1\n",
            "tong2\n",
            "xun2\n",
            "chang2\n"
          ]
        },
        {
          "name": "stderr",
          "output_type": "stream",
          "text": [
            "\r 66%|██████▋   | 377/569 [08:05<03:31,  1.10s/it]"
          ]
        },
        {
          "name": "stdout",
          "output_type": "stream",
          "text": [
            "qing1\n",
            "er2\n",
            "yi4\n",
            "ju3\n"
          ]
        },
        {
          "name": "stderr",
          "output_type": "stream",
          "text": [
            "\r 66%|██████▋   | 378/569 [08:06<03:16,  1.03s/it]"
          ]
        },
        {
          "name": "stdout",
          "output_type": "stream",
          "text": [
            "kai1\n",
            "gong1\n",
            "le\n"
          ]
        },
        {
          "name": "stderr",
          "output_type": "stream",
          "text": [
            "\r 67%|██████▋   | 379/569 [08:07<03:18,  1.04s/it]"
          ]
        },
        {
          "name": "stdout",
          "output_type": "stream",
          "text": [
            "ru2\n",
            "tong2\n",
            "ni3\n",
            "cong2\n",
            "wei4\n",
            "cun2\n",
            "zai4\n",
            "guo4\n"
          ]
        },
        {
          "name": "stderr",
          "output_type": "stream",
          "text": [
            "\r 67%|██████▋   | 380/569 [08:08<03:10,  1.01s/it]"
          ]
        },
        {
          "name": "stdout",
          "output_type": "stream",
          "text": [
            "gai1\n",
            "fa1\n",
            "she4\n",
            "le\n"
          ]
        },
        {
          "name": "stderr",
          "output_type": "stream",
          "text": [
            " 67%|██████▋   | 382/569 [08:10<03:09,  1.01s/it]"
          ]
        },
        {
          "name": "stdout",
          "output_type": "stream",
          "text": [
            "wu2\n",
            "chu3\n",
            "ke3\n",
            "tao2\n"
          ]
        },
        {
          "name": "stderr",
          "output_type": "stream",
          "text": [
            " 67%|██████▋   | 384/569 [08:14<04:22,  1.42s/it]"
          ]
        },
        {
          "name": "stdout",
          "output_type": "stream",
          "text": [
            "bu2\n",
            "yao4\n",
            "miao2\n",
            "zhun3\n",
            "dang1\n",
            "qian2\n",
            "de\n",
            "wei4\n",
            "zhi4\n",
            "yao4\n",
            "miao2\n",
            "zhun3\n",
            "guo4\n",
            "qu4\n",
            "de\n",
            "wei4\n",
            "zhi4\n"
          ]
        },
        {
          "name": "stderr",
          "output_type": "stream",
          "text": [
            " 68%|██████▊   | 386/569 [08:16<03:56,  1.29s/it]"
          ]
        },
        {
          "name": "stdout",
          "output_type": "stream",
          "text": [
            "yi3\n",
            "jing1\n",
            "mei2\n",
            "you3\n",
            "shi2\n",
            "jian1\n",
            "rang4\n",
            "ni3\n",
            "duo3\n",
            "cang2\n",
            "le\n"
          ]
        },
        {
          "name": "stderr",
          "output_type": "stream",
          "text": [
            "\r 68%|██████▊   | 387/569 [08:17<04:03,  1.34s/it]"
          ]
        },
        {
          "name": "stdout",
          "output_type": "stream",
          "text": [
            "zai4\n",
            "wei4\n",
            "lai2\n",
            "wo3\n",
            "men\n",
            "lia3\n",
            "zhi3\n",
            "you3\n",
            "yi2\n",
            "ge4\n",
            "huo2\n",
            "zhu4\n",
            "na4\n",
            "ren2\n",
            "bu2\n",
            "shi4\n",
            "ni3\n"
          ]
        },
        {
          "name": "stderr",
          "output_type": "stream",
          "text": [
            " 68%|██████▊   | 389/569 [08:20<03:53,  1.30s/it]"
          ]
        },
        {
          "name": "stdout",
          "output_type": "stream",
          "text": [
            "mei3\n",
            "ge4\n",
            "ren2\n",
            "dou1\n",
            "hui4\n",
            "liu2\n",
            "xia4\n",
            "zu2\n",
            "ji4\n",
            "ta1\n",
            "de\n",
            "zu2\n",
            "ji4\n",
            "bian4\n",
            "bu4\n",
            "shi2\n",
            "jian1\n",
            "zhang3\n"
          ]
        },
        {
          "name": "stderr",
          "output_type": "stream",
          "text": [
            "\r 69%|██████▊   | 390/569 [08:21<03:39,  1.23s/it]"
          ]
        },
        {
          "name": "stdout",
          "output_type": "stream",
          "text": [
            "zhe4\n",
            "ge4\n",
            "shi2\n",
            "jian1\n",
            "xian4\n",
            "fei1\n",
            "chang2\n",
            "pei4\n",
            "ni3\n"
          ]
        },
        {
          "name": "stderr",
          "output_type": "stream",
          "text": [
            "\r 69%|██████▊   | 391/569 [08:22<03:33,  1.20s/it]"
          ]
        },
        {
          "name": "stdout",
          "output_type": "stream",
          "text": [
            "suo3\n",
            "you3\n",
            "shi2\n",
            "jian1\n",
            "xian4\n",
            "li3\n",
            "shang1\n",
            "wei4\n",
            "chang2\n",
            "shu4\n"
          ]
        },
        {
          "name": "stderr",
          "output_type": "stream",
          "text": [
            "\r 69%|██████▉   | 392/569 [08:23<03:19,  1.13s/it]"
          ]
        },
        {
          "name": "stdout",
          "output_type": "stream",
          "text": [
            "wo3\n",
            "lai2\n",
            "zi4\n",
            "wei4\n",
            "lai2\n"
          ]
        },
        {
          "name": "stderr",
          "output_type": "stream",
          "text": [
            "\r 69%|██████▉   | 393/569 [08:24<03:14,  1.11s/it]"
          ]
        },
        {
          "name": "stdout",
          "output_type": "stream",
          "text": [
            "ni3\n",
            "zai4\n",
            "lang4\n",
            "fei4\n",
            "zi4\n",
            "ji3\n",
            "de\n",
            "shi2\n",
            "jian1\n"
          ]
        },
        {
          "name": "stderr",
          "output_type": "stream",
          "text": [
            "\r 69%|██████▉   | 394/569 [08:25<03:30,  1.20s/it]"
          ]
        },
        {
          "name": "stdout",
          "output_type": "stream",
          "text": [
            "zai4\n",
            "shuo1\n",
            "yi1\n",
            "bian4\n",
            "shui2\n",
            "gai1\n",
            "jin4\n",
            "bo2\n",
            "wu4\n",
            "guan3\n"
          ]
        },
        {
          "name": "stderr",
          "output_type": "stream",
          "text": [
            "\r 69%|██████▉   | 395/569 [08:27<03:35,  1.24s/it]"
          ]
        },
        {
          "name": "stdout",
          "output_type": "stream",
          "text": [
            "zai4\n",
            "ye3\n",
            "mai3\n",
            "bu2\n",
            "dao4\n",
            "zhe4\n",
            "yang4\n",
            "de\n",
            "le\n"
          ]
        },
        {
          "name": "stderr",
          "output_type": "stream",
          "text": [
            "\r 70%|██████▉   | 396/569 [08:28<03:41,  1.28s/it]"
          ]
        },
        {
          "name": "stdout",
          "output_type": "stream",
          "text": [
            "wo3\n",
            "jiang1\n",
            "hui4\n",
            "xu1\n",
            "yao4\n",
            "geng4\n",
            "da4\n",
            "de\n",
            "qiang1\n"
          ]
        },
        {
          "name": "stderr",
          "output_type": "stream",
          "text": [
            "\r 70%|██████▉   | 397/569 [08:30<03:56,  1.37s/it]"
          ]
        },
        {
          "name": "stdout",
          "output_type": "stream",
          "text": [
            "shi2\n",
            "jian1\n",
            "fan4\n",
            "zui4\n",
            "yi3\n",
            "bei4\n",
            "zhong1\n",
            "zhi3\n"
          ]
        },
        {
          "name": "stderr",
          "output_type": "stream",
          "text": [
            "\r 70%|██████▉   | 398/569 [08:31<03:41,  1.29s/it]"
          ]
        },
        {
          "name": "stdout",
          "output_type": "stream",
          "text": [
            "shi2\n",
            "jian1\n",
            "zhang3\n",
            "yi3\n",
            "wen3\n",
            "ding4\n"
          ]
        },
        {
          "name": "stderr",
          "output_type": "stream",
          "text": [
            "\r 70%|███████   | 399/569 [08:32<03:41,  1.30s/it]"
          ]
        },
        {
          "name": "stdout",
          "output_type": "stream",
          "text": [
            "zui4\n",
            "hou4\n",
            "yi1\n",
            "ci4\n",
            "xiu1\n",
            "bu3\n",
            "cai2\n",
            "shi4\n",
            "wei2\n",
            "yi1\n",
            "you3\n",
            "xiao4\n",
            "de\n"
          ]
        },
        {
          "name": "stderr",
          "output_type": "stream",
          "text": [
            "\r 70%|███████   | 400/569 [08:33<03:28,  1.23s/it]"
          ]
        },
        {
          "name": "stdout",
          "output_type": "stream",
          "text": [
            "ni3\n",
            "de\n",
            "shi2\n",
            "dai4\n",
            "hao2\n",
            "wu2\n",
            "tiao3\n",
            "zhan4\n"
          ]
        },
        {
          "name": "stderr",
          "output_type": "stream",
          "text": [
            "\r 70%|███████   | 401/569 [08:34<03:29,  1.25s/it]"
          ]
        },
        {
          "name": "stdout",
          "output_type": "stream",
          "text": [
            "wo3\n",
            "da3\n",
            "guo4\n",
            "zhe4\n",
            "chang3\n",
            "zhang4\n",
            "wo3\n",
            "men\n",
            "ying2\n",
            "le\n"
          ]
        },
        {
          "name": "stderr",
          "output_type": "stream",
          "text": [
            "\r 71%|███████   | 402/569 [08:35<03:17,  1.18s/it]"
          ]
        },
        {
          "name": "stdout",
          "output_type": "stream",
          "text": [
            "wo3\n",
            "zao3\n",
            "yi3\n",
            "wu2\n",
            "lu4\n",
            "ke3\n",
            "tui4\n"
          ]
        },
        {
          "name": "stderr",
          "output_type": "stream",
          "text": [
            "\r 71%|███████   | 403/569 [08:37<03:13,  1.17s/it]"
          ]
        },
        {
          "name": "stdout",
          "output_type": "stream",
          "text": [
            "beng1\n",
            "bu4\n",
            "fu4\n",
            "cun2\n",
            "zai4\n"
          ]
        },
        {
          "name": "stderr",
          "output_type": "stream",
          "text": [
            "\r 71%|███████   | 404/569 [08:38<03:23,  1.23s/it]"
          ]
        },
        {
          "name": "stdout",
          "output_type": "stream",
          "text": [
            "ru2\n",
            "guo3\n",
            "wo3\n",
            "men\n",
            "liu2\n",
            "zai4\n",
            "wei4\n",
            "lai2\n",
            "jiu4\n",
            "bu4\n",
            "neng2\n",
            "xiu1\n",
            "bu3\n",
            "guo4\n",
            "qu4\n"
          ]
        },
        {
          "name": "stderr",
          "output_type": "stream",
          "text": [
            "\r 71%|███████   | 405/569 [08:39<03:21,  1.23s/it]"
          ]
        },
        {
          "name": "stdout",
          "output_type": "stream",
          "text": [
            "xiang3\n",
            "zhi1\n",
            "dao4\n",
            "wei4\n",
            "lai2\n",
            "ma\n",
            "ni3\n",
            "mei2\n",
            "you3\n",
            "wei4\n",
            "lai2\n"
          ]
        },
        {
          "name": "stderr",
          "output_type": "stream",
          "text": [
            "\r 71%|███████▏  | 406/569 [08:41<03:38,  1.34s/it]"
          ]
        },
        {
          "name": "stdout",
          "output_type": "stream",
          "text": [
            "xiao3\n",
            "xin1\n",
            "le\n",
            "huo3\n",
            "ji4\n",
            "men\n",
            "zhen4\n",
            "shang4\n",
            "lai2\n",
            "le\n",
            "ge4\n",
            "xin1\n",
            "jing3\n",
            "zhang3\n"
          ]
        },
        {
          "name": "stderr",
          "output_type": "stream",
          "text": [
            "\r 72%|███████▏  | 407/569 [08:42<03:34,  1.33s/it]"
          ]
        },
        {
          "name": "stdout",
          "output_type": "stream",
          "text": [
            "wo3\n",
            "hui4\n",
            "ji4\n",
            "de\n",
            "ni3\n",
            "shi4\n",
            "zen3\n",
            "me\n",
            "si3\n",
            "de\n"
          ]
        },
        {
          "name": "stderr",
          "output_type": "stream",
          "text": [
            "\r 72%|███████▏  | 408/569 [08:43<03:26,  1.28s/it]"
          ]
        },
        {
          "name": "stdout",
          "output_type": "stream",
          "text": [
            "zhen1\n",
            "cha2\n",
            "jie2\n",
            "shu4\n"
          ]
        },
        {
          "name": "stderr",
          "output_type": "stream",
          "text": [
            "\r 72%|███████▏  | 409/569 [08:45<03:42,  1.39s/it]"
          ]
        },
        {
          "name": "stdout",
          "output_type": "stream",
          "text": [
            "wu2\n",
            "fa3\n",
            "bao3\n",
            "zheng4\n",
            "mei3\n",
            "ge4\n",
            "ren2\n",
            "dou1\n",
            "you3\n",
            "wei4\n",
            "lai2\n"
          ]
        },
        {
          "name": "stderr",
          "output_type": "stream",
          "text": [
            "\r 72%|███████▏  | 410/569 [08:46<03:27,  1.30s/it]"
          ]
        },
        {
          "name": "stdout",
          "output_type": "stream",
          "text": [
            "ta1\n",
            "men\n",
            "bei4\n",
            "wo3\n",
            "miao2\n",
            "zhun3\n",
            "le\n"
          ]
        },
        {
          "name": "stderr",
          "output_type": "stream",
          "text": [
            "\r 72%|███████▏  | 411/569 [08:47<03:08,  1.19s/it]"
          ]
        },
        {
          "name": "stdout",
          "output_type": "stream",
          "text": [
            "zhi2\n",
            "qin2\n",
            "zhong1\n"
          ]
        },
        {
          "name": "stderr",
          "output_type": "stream",
          "text": [
            "\r 72%|███████▏  | 412/569 [08:48<02:57,  1.13s/it]"
          ]
        },
        {
          "name": "stdout",
          "output_type": "stream",
          "text": [
            "ni3\n",
            "xiang3\n",
            "qu4\n",
            "na3\n",
            "er2\n",
            "ne\n"
          ]
        },
        {
          "name": "stderr",
          "output_type": "stream",
          "text": [
            " 73%|███████▎  | 414/569 [08:51<03:19,  1.29s/it]"
          ]
        },
        {
          "name": "stdout",
          "output_type": "stream",
          "text": [
            "jie2\n",
            "an4\n",
            "le\n"
          ]
        },
        {
          "name": "stderr",
          "output_type": "stream",
          "text": [
            "\r 73%|███████▎  | 415/569 [08:52<02:58,  1.16s/it]"
          ]
        },
        {
          "name": "stdout",
          "output_type": "stream",
          "text": [
            "yi3\n",
            "qiu2\n",
            "wei4\n"
          ]
        },
        {
          "name": "stderr",
          "output_type": "stream",
          "text": [
            "\r 73%|███████▎  | 416/569 [08:53<02:39,  1.04s/it]"
          ]
        },
        {
          "name": "stdout",
          "output_type": "stream",
          "text": [
            "ha1\n"
          ]
        },
        {
          "name": "stderr",
          "output_type": "stream",
          "text": [
            " 74%|███████▎  | 419/569 [08:58<03:35,  1.43s/it]"
          ]
        },
        {
          "name": "stdout",
          "output_type": "stream",
          "text": [
            "bu4\n",
            "chu1\n",
            "suo3\n",
            "liao4\n"
          ]
        },
        {
          "name": "stderr",
          "output_type": "stream",
          "text": [
            "\r 74%|███████▍  | 420/569 [09:00<04:09,  1.67s/it]"
          ]
        },
        {
          "name": "stdout",
          "output_type": "stream",
          "text": [
            "e4\n",
            "jia1\n",
            "te4\n",
            "zhe4\n",
            "yi1\n",
            "ci4\n",
            "wo3\n",
            "hui4\n",
            "qin1\n",
            "shou3\n",
            "ba3\n",
            "ni3\n",
            "song4\n",
            "jin4\n",
            "jian1\n",
            "yu4\n"
          ]
        },
        {
          "name": "stderr",
          "output_type": "stream",
          "text": [
            " 74%|███████▍  | 422/569 [09:02<03:06,  1.27s/it]"
          ]
        },
        {
          "name": "stdout",
          "output_type": "stream",
          "text": [
            "hao3\n",
            "xi4\n",
            "kai1\n",
            "shi3\n",
            "le\n"
          ]
        },
        {
          "name": "stderr",
          "output_type": "stream",
          "text": [
            " 75%|███████▍  | 424/569 [09:04<02:50,  1.17s/it]"
          ]
        },
        {
          "name": "stdout",
          "output_type": "stream",
          "text": [
            "wo3\n",
            "jue2\n",
            "bu2\n",
            "hui4\n",
            "rong2\n",
            "ren3\n",
            "bu4\n",
            "fa3\n",
            "xing2\n",
            "wei2\n"
          ]
        },
        {
          "name": "stderr",
          "output_type": "stream",
          "text": [
            "\r 75%|███████▍  | 425/569 [09:05<02:42,  1.13s/it]"
          ]
        },
        {
          "name": "stdout",
          "output_type": "stream",
          "text": [
            "gai1\n",
            "ban4\n",
            "xia4\n",
            "yi2\n",
            "ge4\n",
            "an4\n",
            "zi\n",
            "le\n"
          ]
        },
        {
          "name": "stderr",
          "output_type": "stream",
          "text": [
            "\r 75%|███████▍  | 426/569 [09:06<02:56,  1.23s/it]"
          ]
        },
        {
          "name": "stdout",
          "output_type": "stream",
          "text": [
            "zui4\n",
            "bu4\n",
            "qi3\n",
            "yan3\n",
            "de\n",
            "xian4\n",
            "suo3\n",
            "ye3\n",
            "ke3\n",
            "neng2\n",
            "shi4\n",
            "po4\n",
            "an4\n",
            "de\n",
            "guan1\n",
            "jian4\n"
          ]
        },
        {
          "name": "stderr",
          "output_type": "stream",
          "text": [
            "\r 75%|███████▌  | 427/569 [09:08<03:04,  1.30s/it]"
          ]
        },
        {
          "name": "stdout",
          "output_type": "stream",
          "text": [
            "ni3\n",
            "cheng2\n",
            "ren4\n",
            "zi4\n",
            "ji3\n",
            "you3\n",
            "zui4\n",
            "hai2\n",
            "zhen1\n",
            "shi4\n",
            "kang1\n",
            "kai3\n"
          ]
        },
        {
          "name": "stderr",
          "output_type": "stream",
          "text": [
            "\r 75%|███████▌  | 428/569 [09:10<03:29,  1.48s/it]"
          ]
        },
        {
          "name": "stdout",
          "output_type": "stream",
          "text": [
            "wo3\n",
            "dui4\n",
            "ni3\n",
            "men\n",
            "ji3\n",
            "ge4\n",
            "ji4\n",
            "yu3\n",
            "le\n",
            "hen3\n",
            "gao1\n",
            "de\n",
            "qi1\n",
            "wang4\n",
            "zhe4\n",
            "ge4\n",
            "an4\n",
            "zi\n",
            "bi4\n",
            "xu1\n",
            "che4\n",
            "cha2\n",
            "dao4\n",
            "di3\n"
          ]
        },
        {
          "name": "stderr",
          "output_type": "stream",
          "text": [
            "\r 75%|███████▌  | 429/569 [09:11<03:14,  1.39s/it]"
          ]
        },
        {
          "name": "stdout",
          "output_type": "stream",
          "text": [
            "bie2\n",
            "rang4\n",
            "wo3\n",
            "shi1\n",
            "wang4\n"
          ]
        },
        {
          "name": "stderr",
          "output_type": "stream",
          "text": [
            "\r 76%|███████▌  | 430/569 [09:12<03:03,  1.32s/it]"
          ]
        },
        {
          "name": "stdout",
          "output_type": "stream",
          "text": [
            "bie2\n",
            "xiang3\n",
            "tao2\n",
            "pao3\n"
          ]
        },
        {
          "name": "stderr",
          "output_type": "stream",
          "text": [
            "\r 76%|███████▌  | 431/569 [09:14<03:15,  1.42s/it]"
          ]
        },
        {
          "name": "stdout",
          "output_type": "stream",
          "text": [
            "ni3\n",
            "duo3\n",
            "bu4\n",
            "guo4\n",
            "fa3\n",
            "lv4\n",
            "de\n",
            "zhi4\n",
            "cai2\n"
          ]
        },
        {
          "name": "stderr",
          "output_type": "stream",
          "text": [
            "\r 76%|███████▌  | 432/569 [09:16<03:30,  1.54s/it]"
          ]
        },
        {
          "name": "stdout",
          "output_type": "stream",
          "text": [
            "zhuan1\n",
            "ye4\n",
            "zhen1\n",
            "tan4\n",
            "bi4\n",
            "xu1\n",
            "shi2\n",
            "ke4\n",
            "liu2\n",
            "yi4\n",
            "zhou1\n",
            "wei2\n",
            "de\n",
            "huan2\n",
            "jing4\n"
          ]
        },
        {
          "name": "stderr",
          "output_type": "stream",
          "text": [
            "\r 76%|███████▌  | 433/569 [09:17<03:42,  1.63s/it]"
          ]
        },
        {
          "name": "stdout",
          "output_type": "stream",
          "text": [
            "wo3\n",
            "cai2\n",
            "bu2\n",
            "shi4\n",
            "pi2\n",
            "er3\n",
            "tuo1\n",
            "wo4\n",
            "fu1\n",
            "dang1\n",
            "ju2\n",
            "de\n",
            "zou3\n",
            "gou3\n",
            "wo3\n",
            "shi4\n",
            "wei4\n",
            "ta1\n",
            "de\n",
            "ren2\n",
            "min2\n",
            "xiao4\n",
            "li4\n"
          ]
        },
        {
          "name": "stderr",
          "output_type": "stream",
          "text": [
            "\r 76%|███████▋  | 434/569 [09:18<03:10,  1.41s/it]"
          ]
        },
        {
          "name": "stdout",
          "output_type": "stream",
          "text": [
            "gong1\n",
            "shi4\n",
            "gong1\n",
            "ban4\n"
          ]
        },
        {
          "name": "stderr",
          "output_type": "stream",
          "text": [
            "\r 76%|███████▋  | 435/569 [09:19<02:55,  1.31s/it]"
          ]
        },
        {
          "name": "stdout",
          "output_type": "stream",
          "text": [
            "fan4\n",
            "ren2\n",
            "zui4\n",
            "ming2\n",
            "cheng2\n",
            "li4\n"
          ]
        },
        {
          "name": "stderr",
          "output_type": "stream",
          "text": [
            "\r 77%|███████▋  | 436/569 [09:21<02:59,  1.35s/it]"
          ]
        },
        {
          "name": "stdout",
          "output_type": "stream",
          "text": [
            "wo3\n",
            "yi3\n",
            "jing1\n",
            "zhang3\n",
            "wo4\n",
            "le\n",
            "guan1\n",
            "yu2\n",
            "ni3\n",
            "de\n",
            "quan2\n",
            "tao4\n",
            "zheng4\n",
            "ju4\n"
          ]
        },
        {
          "name": "stderr",
          "output_type": "stream",
          "text": [
            "\r 77%|███████▋  | 437/569 [09:22<02:44,  1.25s/it]"
          ]
        },
        {
          "name": "stdout",
          "output_type": "stream",
          "text": [
            "ju3\n",
            "shou3\n",
            "tou2\n",
            "xiang2\n",
            "ba\n"
          ]
        },
        {
          "name": "stderr",
          "output_type": "stream",
          "text": [
            "\r 77%|███████▋  | 438/569 [09:23<02:35,  1.18s/it]"
          ]
        },
        {
          "name": "stdout",
          "output_type": "stream",
          "text": [
            "wo3\n",
            "men\n",
            "lai2\n",
            "che4\n",
            "cha2\n",
            "ci3\n",
            "an4\n"
          ]
        },
        {
          "name": "stderr",
          "output_type": "stream",
          "text": [
            "\r 77%|███████▋  | 439/569 [09:25<02:56,  1.36s/it]"
          ]
        },
        {
          "name": "stdout",
          "output_type": "stream",
          "text": [
            "ni3\n",
            "de\n",
            "xin1\n",
            "fa1\n",
            "ming2\n",
            "yao4\n",
            "zai4\n",
            "wo3\n",
            "shen1\n",
            "shang4\n",
            "zuo4\n",
            "shi2\n",
            "yan4\n",
            "ma\n",
            "hei1\n",
            "mo4\n",
            "ding1\n",
            "ge2\n"
          ]
        },
        {
          "name": "stderr",
          "output_type": "stream",
          "text": [
            " 78%|███████▊  | 442/569 [09:28<02:37,  1.24s/it]"
          ]
        },
        {
          "name": "stdout",
          "output_type": "stream",
          "text": [
            "xia4\n",
            "wu3\n",
            "cha2\n",
            "jie2\n",
            "shu4\n",
            "le\n"
          ]
        },
        {
          "name": "stderr",
          "output_type": "stream",
          "text": [
            "\r 78%|███████▊  | 443/569 [09:30<02:42,  1.29s/it]"
          ]
        },
        {
          "name": "stdout",
          "output_type": "stream",
          "text": [
            "shun4\n",
            "li4\n",
            "dai4\n",
            "bu3\n"
          ]
        },
        {
          "name": "stderr",
          "output_type": "stream",
          "text": [
            " 78%|███████▊  | 445/569 [09:31<02:18,  1.11s/it]"
          ]
        },
        {
          "name": "stdout",
          "output_type": "stream",
          "text": [
            "mu4\n",
            "biao1\n",
            "jin4\n",
            "ru4\n",
            "shi4\n",
            "ye3\n"
          ]
        },
        {
          "name": "stderr",
          "output_type": "stream",
          "text": [
            "\r 78%|███████▊  | 446/569 [09:32<02:11,  1.07s/it]"
          ]
        },
        {
          "name": "stdout",
          "output_type": "stream",
          "text": [
            "wo3\n",
            "de\n",
            "mu4\n",
            "biao1\n",
            "shi4\n",
            "ying2\n"
          ]
        },
        {
          "name": "stderr",
          "output_type": "stream",
          "text": [
            "\r 79%|███████▊  | 447/569 [09:34<02:36,  1.28s/it]"
          ]
        },
        {
          "name": "stdout",
          "output_type": "stream",
          "text": [
            "wo3\n",
            "hui4\n",
            "yi4\n",
            "zhi2\n",
            "ding1\n",
            "zhu4\n",
            "ni3\n",
            "de\n",
            "jin1\n",
            "ke4\n",
            "si1\n",
            "ni3\n",
            "nao4\n",
            "de\n",
            "luan4\n",
            "zi\n",
            "yi3\n",
            "jing1\n",
            "gou4\n",
            "duo1\n",
            "le\n"
          ]
        },
        {
          "name": "stderr",
          "output_type": "stream",
          "text": [
            "\r 79%|███████▊  | 448/569 [09:35<02:25,  1.20s/it]"
          ]
        },
        {
          "name": "stdout",
          "output_type": "stream",
          "text": [
            "su4\n",
            "zhan4\n",
            "su4\n",
            "jue2\n"
          ]
        },
        {
          "name": "stderr",
          "output_type": "stream",
          "text": [
            "\r 79%|███████▉  | 449/569 [09:36<02:21,  1.18s/it]"
          ]
        },
        {
          "name": "stdout",
          "output_type": "stream",
          "text": [
            "hai2\n",
            "bu4\n",
            "zhun3\n",
            "bei4\n",
            "hao3\n",
            "tou2\n",
            "xiang2\n"
          ]
        },
        {
          "name": "stderr",
          "output_type": "stream",
          "text": [
            "\r 79%|███████▉  | 450/569 [09:38<02:25,  1.22s/it]"
          ]
        },
        {
          "name": "stdout",
          "output_type": "stream",
          "text": [
            "zheng1\n",
            "qu3\n",
            "zai4\n",
            "xia4\n",
            "wu3\n",
            "cha2\n",
            "zhi1\n",
            "qian2\n",
            "ba3\n",
            "an4\n",
            "zi\n",
            "gei3\n",
            "jie2\n",
            "le\n"
          ]
        },
        {
          "name": "stderr",
          "output_type": "stream",
          "text": [
            "\r 79%|███████▉  | 451/569 [09:39<02:26,  1.24s/it]"
          ]
        },
        {
          "name": "stdout",
          "output_type": "stream",
          "text": [
            "mao1\n",
            "zhuo1\n",
            "lao3\n",
            "shu3\n",
            "de\n",
            "you2\n",
            "xi4\n",
            "gai1\n",
            "jie2\n",
            "shu4\n",
            "le\n"
          ]
        },
        {
          "name": "stderr",
          "output_type": "stream",
          "text": [
            " 80%|███████▉  | 453/569 [09:41<02:27,  1.27s/it]"
          ]
        },
        {
          "name": "stdout",
          "output_type": "stream",
          "text": [
            "zhe4\n",
            "bi3\n",
            "zuo4\n",
            "zai4\n",
            "ban4\n",
            "gong1\n",
            "shi4\n",
            "li3\n",
            "qiang2\n",
            "duo1\n",
            "le\n"
          ]
        },
        {
          "name": "stderr",
          "output_type": "stream",
          "text": [
            "\r 80%|███████▉  | 454/569 [09:44<03:11,  1.66s/it]"
          ]
        },
        {
          "name": "stdout",
          "output_type": "stream",
          "text": [
            "xiang3\n",
            "yao4\n",
            "chuang4\n",
            "zao4\n",
            "yi2\n",
            "ge4\n",
            "geng4\n",
            "you3\n",
            "shan4\n",
            "de\n",
            "shi4\n",
            "jie4\n",
            "zha1\n",
            "ke4\n",
            "qi2\n",
            "shi2\n",
            "you3\n",
            "geng4\n",
            "jian3\n",
            "dan1\n",
            "de\n",
            "fang1\n",
            "shi4\n"
          ]
        },
        {
          "name": "stderr",
          "output_type": "stream",
          "text": [
            "\r 80%|███████▉  | 455/569 [09:45<02:43,  1.43s/it]"
          ]
        },
        {
          "name": "stdout",
          "output_type": "stream",
          "text": [
            "wo3\n",
            "men\n",
            "zou3\n"
          ]
        },
        {
          "name": "stderr",
          "output_type": "stream",
          "text": [
            "\r 80%|████████  | 456/569 [09:46<02:35,  1.37s/it]"
          ]
        },
        {
          "name": "stdout",
          "output_type": "stream",
          "text": [
            "shou3\n",
            "fa3\n",
            "wan2\n",
            "mei3\n",
            "jie2\n",
            "guo3\n",
            "zi4\n",
            "ran2\n",
            "jing1\n",
            "que4\n"
          ]
        },
        {
          "name": "stderr",
          "output_type": "stream",
          "text": [
            " 80%|████████  | 458/569 [09:48<02:04,  1.12s/it]"
          ]
        },
        {
          "name": "stdout",
          "output_type": "stream",
          "text": [
            "ding1\n",
            "zhu4\n",
            "mu4\n",
            "biao1\n",
            "le\n"
          ]
        },
        {
          "name": "stderr",
          "output_type": "stream",
          "text": [
            "\r 81%|████████  | 459/569 [09:49<02:00,  1.09s/it]"
          ]
        },
        {
          "name": "stdout",
          "output_type": "stream",
          "text": [
            "suo3\n",
            "yi3\n",
            "wo3\n",
            "bie2\n",
            "wu2\n",
            "xuan3\n",
            "ze2\n"
          ]
        },
        {
          "name": "stderr",
          "output_type": "stream",
          "text": [
            " 81%|████████  | 461/569 [09:51<01:45,  1.02it/s]"
          ]
        },
        {
          "name": "stdout",
          "output_type": "stream",
          "text": [
            "wo3\n",
            "men\n",
            "qu4\n",
            "cha2\n",
            "an4\n",
            "ba\n"
          ]
        },
        {
          "name": "stderr",
          "output_type": "stream",
          "text": [
            "\r 81%|████████  | 462/569 [09:52<01:43,  1.03it/s]"
          ]
        },
        {
          "name": "stdout",
          "output_type": "stream",
          "text": [
            "zheng4\n",
            "zai4\n",
            "jiao4\n",
            "zhun3\n"
          ]
        },
        {
          "name": "stderr",
          "output_type": "stream",
          "text": [
            "\r 81%|████████▏ | 463/569 [09:53<02:00,  1.13s/it]"
          ]
        },
        {
          "name": "stdout",
          "output_type": "stream",
          "text": [
            "fan4\n",
            "zui4\n",
            "hen3\n",
            "chang2\n",
            "jian4\n",
            "luo2\n",
            "ji2\n",
            "que4\n",
            "hen3\n",
            "han3\n",
            "jian4\n"
          ]
        },
        {
          "name": "stderr",
          "output_type": "stream",
          "text": [
            "\r 82%|████████▏ | 464/569 [09:54<01:53,  1.08s/it]"
          ]
        },
        {
          "name": "stdout",
          "output_type": "stream",
          "text": [
            "wo3\n",
            "bu4\n",
            "xiang3\n",
            "zhe4\n",
            "yang4\n",
            "nan2\n",
            "wei2\n"
          ]
        },
        {
          "name": "stderr",
          "output_type": "stream",
          "text": [
            "\r 82%|████████▏ | 465/569 [09:56<02:31,  1.45s/it]"
          ]
        },
        {
          "name": "stdout",
          "output_type": "stream",
          "text": [
            "qiang2\n",
            "quan2\n",
            "he2\n",
            "kong3\n",
            "ju4\n",
            "dai4\n",
            "biao3\n",
            "bu4\n",
            "liao3\n",
            "pi2\n",
            "er3\n",
            "tuo1\n",
            "wo4\n",
            "fu1\n",
            "zhi3\n",
            "you3\n",
            "jin4\n",
            "bu4\n",
            "cai2\n",
            "shi4\n",
            "ta1\n",
            "de\n",
            "wei4\n",
            "lai2\n"
          ]
        },
        {
          "name": "stderr",
          "output_type": "stream",
          "text": [
            "\r 82%|████████▏ | 466/569 [09:58<02:29,  1.45s/it]"
          ]
        },
        {
          "name": "stdout",
          "output_type": "stream",
          "text": [
            "bie2\n",
            "fang2\n",
            "ai4\n",
            "zhi2\n",
            "fa3\n"
          ]
        },
        {
          "name": "stderr",
          "output_type": "stream",
          "text": [
            "\r 82%|████████▏ | 467/569 [10:00<02:55,  1.72s/it]"
          ]
        },
        {
          "name": "stdout",
          "output_type": "stream",
          "text": [
            "jin1\n",
            "ke4\n",
            "si1\n",
            "ni3\n",
            "de\n",
            "feng1\n",
            "kuang2\n",
            "shi4\n",
            "you3\n",
            "yi4\n",
            "yi4\n",
            "de\n",
            "ne\n",
            "hai2\n",
            "shi4\n",
            "shuo1\n",
            "zhi3\n",
            "shi4\n",
            "wei4\n",
            "le\n",
            "xuan1\n",
            "xie4\n",
            "ni3\n",
            "de\n",
            "tong4\n",
            "ku3\n"
          ]
        },
        {
          "name": "stderr",
          "output_type": "stream",
          "text": [
            "\r 82%|████████▏ | 468/569 [10:02<02:48,  1.66s/it]"
          ]
        },
        {
          "name": "stdout",
          "output_type": "stream",
          "text": [
            "jie2\n",
            "si1\n",
            "ni3\n",
            "zhen1\n",
            "de\n",
            "ren4\n",
            "wei2\n",
            "zhe4\n",
            "yang4\n",
            "jiu4\n",
            "neng2\n",
            "chuang4\n",
            "zao4\n",
            "mei3\n",
            "hao3\n",
            "de\n",
            "ming2\n",
            "tian1\n",
            "ma\n"
          ]
        },
        {
          "name": "stderr",
          "output_type": "stream",
          "text": [
            "\r 82%|████████▏ | 469/569 [10:03<02:29,  1.49s/it]"
          ]
        },
        {
          "name": "stdout",
          "output_type": "stream",
          "text": [
            "wo3\n",
            "bu4\n",
            "zai4\n",
            "de\n",
            "shi2\n",
            "hou4\n",
            "lao3\n",
            "shi2\n",
            "yi4\n",
            "dian3\n",
            " \n",
            "hao3\n",
            "ma\n"
          ]
        },
        {
          "name": "stderr",
          "output_type": "stream",
          "text": [
            "\r 83%|████████▎ | 470/569 [10:04<02:33,  1.55s/it]"
          ]
        },
        {
          "name": "stdout",
          "output_type": "stream",
          "text": [
            "ka3\n",
            "mi4\n",
            "er2\n",
            "zai4\n",
            "wo3\n",
            "zhao3\n",
            "dao4\n",
            "suo3\n",
            "you3\n",
            "da2\n",
            "an4\n",
            "zhi1\n",
            "qian2\n",
            "wo3\n",
            "jue2\n",
            "bu2\n",
            "hui4\n",
            "ting2\n",
            "xia4\n",
            "。\n"
          ]
        },
        {
          "name": "stderr",
          "output_type": "stream",
          "text": [
            "\r 83%|████████▎ | 471/569 [10:05<02:15,  1.38s/it]"
          ]
        },
        {
          "name": "stdout",
          "output_type": "stream",
          "text": [
            "ju3\n",
            "shou3\n",
            "tou2\n",
            "xiang2\n",
            "ba\n"
          ]
        },
        {
          "name": "stderr",
          "output_type": "stream",
          "text": [
            "\r 83%|████████▎ | 472/569 [10:07<02:18,  1.43s/it]"
          ]
        },
        {
          "name": "stdout",
          "output_type": "stream",
          "text": [
            "wo3\n",
            "you4\n",
            "hui2\n",
            "lai2\n",
            "cha2\n",
            "an4\n",
            "le\n",
            "zhe4\n",
            "yi1\n",
            "ci4\n",
            "wo3\n",
            "bu2\n",
            "hui4\n",
            "shi1\n",
            "bai4\n"
          ]
        },
        {
          "name": "stderr",
          "output_type": "stream",
          "text": [
            "\r 83%|████████▎ | 473/569 [10:08<02:12,  1.38s/it]"
          ]
        },
        {
          "name": "stdout",
          "output_type": "stream",
          "text": [
            "wo3\n",
            "hui4\n",
            "gei3\n",
            "ta1\n",
            "de\n",
            "zui4\n",
            "ming2\n",
            "zai4\n",
            "jia1\n",
            "shang4\n",
            "yi1\n",
            "tiao2\n"
          ]
        },
        {
          "name": "stderr",
          "output_type": "stream",
          "text": [
            "\r 83%|████████▎ | 474/569 [10:10<02:10,  1.37s/it]"
          ]
        },
        {
          "name": "stdout",
          "output_type": "stream",
          "text": [
            "wo3\n",
            "bi4\n",
            "xu1\n",
            "yong3\n",
            "yuan3\n",
            "kuai4\n",
            "ren2\n",
            "san1\n",
            "bu4\n"
          ]
        },
        {
          "name": "stderr",
          "output_type": "stream",
          "text": [
            "\r 83%|████████▎ | 475/569 [10:11<02:02,  1.30s/it]"
          ]
        },
        {
          "name": "stdout",
          "output_type": "stream",
          "text": [
            "huo3\n",
            "su4\n",
            "chu1\n",
            "ji1\n"
          ]
        },
        {
          "name": "stderr",
          "output_type": "stream",
          "text": [
            "\r 84%|████████▎ | 476/569 [10:13<02:16,  1.46s/it]"
          ]
        },
        {
          "name": "stdout",
          "output_type": "stream",
          "text": [
            "kai1\n",
            "shi3\n",
            "diao4\n",
            "cha2\n",
            "zhi1\n",
            "qian2\n",
            " \n",
            "shou3\n",
            "xian1\n",
            "yao4\n",
            "zuo4\n",
            "de\n",
            "shi4\n",
            "jian3\n",
            "cha2\n",
            "zheng4\n",
            "ju4\n"
          ]
        },
        {
          "name": "stderr",
          "output_type": "stream",
          "text": [
            "\r 84%|████████▍ | 477/569 [10:14<02:24,  1.57s/it]"
          ]
        },
        {
          "name": "stdout",
          "output_type": "stream",
          "text": [
            "wo3\n",
            "de\n",
            "mu4\n",
            "biao1\n",
            "shi4\n",
            "ying2\n",
            "er2\n",
            "wo3\n",
            "zong3\n",
            "shi4\n",
            "neng2\n",
            "jing1\n",
            "que4\n",
            "ming4\n",
            "zhong4\n",
            "mu4\n",
            "biao1\n"
          ]
        },
        {
          "name": "stderr",
          "output_type": "stream",
          "text": [
            "\r 84%|████████▍ | 478/569 [10:15<02:05,  1.38s/it]"
          ]
        },
        {
          "name": "stdout",
          "output_type": "stream",
          "text": [
            "fang4\n",
            "xia4\n",
            "ni3\n",
            "de\n",
            "wu3\n",
            "qi4\n"
          ]
        },
        {
          "name": "stderr",
          "output_type": "stream",
          "text": [
            "\r 84%|████████▍ | 479/569 [10:16<01:57,  1.30s/it]"
          ]
        },
        {
          "name": "stdout",
          "output_type": "stream",
          "text": [
            "bao3\n",
            "hu4\n",
            "jing3\n",
            "jie4\n",
            "fan4\n",
            "wei2\n"
          ]
        },
        {
          "name": "stderr",
          "output_type": "stream",
          "text": [
            " 85%|████████▍ | 481/569 [10:18<01:36,  1.10s/it]"
          ]
        },
        {
          "name": "stdout",
          "output_type": "stream",
          "text": [
            "ru2\n",
            "jiao4\n",
            "ke1\n",
            "shu1\n",
            "yi4\n",
            "ban1\n"
          ]
        },
        {
          "name": "stderr",
          "output_type": "stream",
          "text": [
            "\r 85%|████████▍ | 482/569 [10:19<01:29,  1.02s/it]"
          ]
        },
        {
          "name": "stdout",
          "output_type": "stream",
          "text": [
            "wen3\n",
            "zhu4\n"
          ]
        },
        {
          "name": "stderr",
          "output_type": "stream",
          "text": [
            "\r 85%|████████▍ | 483/569 [10:21<01:40,  1.17s/it]"
          ]
        },
        {
          "name": "stdout",
          "output_type": "stream",
          "text": [
            "ni3\n",
            "suo3\n",
            "shuo1\n",
            "de\n",
            "yi1\n",
            "qie4\n",
            "dou1\n",
            "jiang1\n",
            "cheng2\n",
            "wei2\n",
            "cheng2\n",
            "tang2\n",
            "zheng4\n",
            "gong1\n"
          ]
        },
        {
          "name": "stderr",
          "output_type": "stream",
          "text": [
            "\r 85%|████████▌ | 484/569 [10:22<01:50,  1.30s/it]"
          ]
        },
        {
          "name": "stdout",
          "output_type": "stream",
          "text": [
            "bao3\n",
            "chi2\n",
            "zhen4\n",
            "ding4\n",
            "cong2\n",
            "rong2\n",
            "shi4\n",
            "hao3\n",
            "zhen1\n",
            "tan4\n",
            "de\n",
            "bi4\n",
            "bei4\n",
            "su4\n",
            "yang3\n"
          ]
        },
        {
          "name": "stderr",
          "output_type": "stream",
          "text": [
            "\r 85%|████████▌ | 485/569 [10:23<01:40,  1.19s/it]"
          ]
        },
        {
          "name": "stdout",
          "output_type": "stream",
          "text": [
            "dai3\n",
            "dao4\n",
            "ni3\n",
            "le\n"
          ]
        },
        {
          "name": "stderr",
          "output_type": "stream",
          "text": [
            "\r 85%|████████▌ | 486/569 [10:24<01:37,  1.18s/it]"
          ]
        },
        {
          "name": "stdout",
          "output_type": "stream",
          "text": [
            "gao4\n",
            "su4\n",
            "wei4\n",
            " \n",
            "qi2\n",
            "shi2\n",
            "wo3\n"
          ]
        },
        {
          "name": "stderr",
          "output_type": "stream",
          "text": [
            " 86%|████████▌ | 488/569 [10:27<01:36,  1.20s/it]"
          ]
        },
        {
          "name": "stdout",
          "output_type": "stream",
          "text": [
            "wo3\n",
            "chao1\n",
            "ai4\n",
            "zhui1\n",
            "sha1\n",
            "de\n"
          ]
        },
        {
          "name": "stderr",
          "output_type": "stream",
          "text": [
            "\r 86%|████████▌ | 489/569 [10:28<01:38,  1.23s/it]"
          ]
        },
        {
          "name": "stdout",
          "output_type": "stream",
          "text": [
            "bie2\n",
            "kao4\n",
            "tai4\n",
            "jin4\n"
          ]
        },
        {
          "name": "stderr",
          "output_type": "stream",
          "text": [
            "\r 86%|████████▌ | 490/569 [10:29<01:41,  1.29s/it]"
          ]
        },
        {
          "name": "stdout",
          "output_type": "stream",
          "text": [
            "pi2\n",
            "er3\n",
            "tuo1\n",
            "wo4\n",
            "fu1\n",
            "de\n",
            "liang2\n",
            "xin1\n",
            "shi4\n",
            "ta1\n",
            "de\n",
            "ren2\n",
            "min2\n"
          ]
        },
        {
          "name": "stderr",
          "output_type": "stream",
          "text": [
            "\r 86%|████████▋ | 491/569 [10:30<01:32,  1.18s/it]"
          ]
        },
        {
          "name": "stdout",
          "output_type": "stream",
          "text": [
            "heng1\n",
            " \n",
            "heng1\n"
          ]
        },
        {
          "name": "stderr",
          "output_type": "stream",
          "text": [
            "\r 86%|████████▋ | 492/569 [10:31<01:25,  1.11s/it]"
          ]
        },
        {
          "name": "stdout",
          "output_type": "stream",
          "text": [
            "bu4\n",
            "neng2\n",
            "rang4\n",
            "ta1\n",
            "men\n",
            "shi1\n",
            "wang4\n"
          ]
        },
        {
          "name": "stderr",
          "output_type": "stream",
          "text": [
            "\r 87%|████████▋ | 493/569 [10:33<01:29,  1.18s/it]"
          ]
        },
        {
          "name": "stdout",
          "output_type": "stream",
          "text": [
            "wo3\n",
            "hui4\n",
            "ba3\n",
            "ni3\n",
            "he2\n",
            "ni3\n",
            "de\n",
            "kou3\n",
            "gong4\n",
            "dou1\n",
            "dai4\n",
            "hui2\n",
            "ju2\n",
            "li3\n"
          ]
        },
        {
          "name": "stderr",
          "output_type": "stream",
          "text": [
            "\r 87%|████████▋ | 494/569 [10:33<01:22,  1.10s/it]"
          ]
        },
        {
          "name": "stdout",
          "output_type": "stream",
          "text": [
            "hao3\n",
            "qiang1\n",
            "fa3\n"
          ]
        },
        {
          "name": "stderr",
          "output_type": "stream",
          "text": [
            "\r 87%|████████▋ | 495/569 [10:34<01:18,  1.06s/it]"
          ]
        },
        {
          "name": "stdout",
          "output_type": "stream",
          "text": [
            "zhen1\n",
            "shi4\n",
            "lang4\n",
            "fei4\n"
          ]
        },
        {
          "name": "stderr",
          "output_type": "stream",
          "text": [
            "\r 87%|████████▋ | 496/569 [10:36<01:19,  1.09s/it]"
          ]
        },
        {
          "name": "stdout",
          "output_type": "stream",
          "text": [
            "wo3\n",
            "ke3\n",
            "rong2\n",
            "bu4\n",
            "de2\n",
            "ban4\n",
            "dian3\n",
            "shi1\n",
            "wu4\n"
          ]
        },
        {
          "name": "stderr",
          "output_type": "stream",
          "text": [
            "\r 87%|████████▋ | 497/569 [10:37<01:18,  1.08s/it]"
          ]
        },
        {
          "name": "stdout",
          "output_type": "stream",
          "text": [
            "zhou1\n",
            "bian1\n",
            "qu1\n",
            "yu4\n",
            "yi3\n",
            "an1\n",
            "quan2\n"
          ]
        },
        {
          "name": "stderr",
          "output_type": "stream",
          "text": [
            "\r 88%|████████▊ | 498/569 [10:38<01:25,  1.20s/it]"
          ]
        },
        {
          "name": "stdout",
          "output_type": "stream",
          "text": [
            "wo3\n",
            "men\n",
            "hui4\n",
            "you3\n",
            "guang1\n",
            "ming2\n",
            "de\n",
            "wei4\n",
            "lai2\n",
            "jie2\n",
            "si1\n",
            "wo3\n",
            "da1\n",
            "ying4\n",
            "ni3\n"
          ]
        },
        {
          "name": "stderr",
          "output_type": "stream",
          "text": [
            " 88%|████████▊ | 500/569 [10:41<01:33,  1.35s/it]"
          ]
        },
        {
          "name": "stdout",
          "output_type": "stream",
          "text": [
            "wo3\n",
            "cong2\n",
            "mei2\n",
            "xiang3\n",
            "guo4\n",
            "ni3\n",
            "wo3\n",
            "hui4\n",
            "you3\n",
            "fan3\n",
            "mu4\n",
            "di4\n",
            "yi1\n",
            "tian1\n",
            "wei4\n"
          ]
        },
        {
          "name": "stderr",
          "output_type": "stream",
          "text": [
            " 88%|████████▊ | 502/569 [10:43<01:25,  1.28s/it]"
          ]
        },
        {
          "name": "stdout",
          "output_type": "stream",
          "text": [
            "cha2\n",
            "bian4\n",
            "suo3\n",
            "you3\n",
            "zhu1\n",
            "si1\n",
            "ma3\n",
            "ji4\n"
          ]
        },
        {
          "name": "stderr",
          "output_type": "stream",
          "text": [
            " 89%|████████▊ | 504/569 [10:45<01:09,  1.08s/it]"
          ]
        },
        {
          "name": "stdout",
          "output_type": "stream",
          "text": [
            "wu2\n",
            "ke3\n",
            "tiao1\n",
            "ti1\n"
          ]
        },
        {
          "name": "stderr",
          "output_type": "stream",
          "text": [
            "\r 89%|████████▉ | 505/569 [10:47<01:22,  1.28s/it]"
          ]
        },
        {
          "name": "stdout",
          "output_type": "stream",
          "text": [
            "ru2\n",
            "guo3\n",
            "zui4\n",
            "fan4\n",
            "cong2\n",
            "bu4\n",
            "shui4\n",
            "jiao4\n",
            "na4\n",
            "wo3\n",
            "zui4\n",
            "hao3\n",
            "zai4\n",
            "pao4\n",
            "shang4\n",
            "yi1\n",
            "hu2\n",
            "cha2\n"
          ]
        },
        {
          "name": "stderr",
          "output_type": "stream",
          "text": [
            "\r 89%|████████▉ | 506/569 [10:48<01:17,  1.23s/it]"
          ]
        },
        {
          "name": "stdout",
          "output_type": "stream",
          "text": [
            "zheng4\n",
            "zai4\n",
            "yu3\n",
            "xian2\n",
            "fan4\n",
            "jiao1\n",
            "huo3\n"
          ]
        },
        {
          "name": "stderr",
          "output_type": "stream",
          "text": [
            "\r 89%|████████▉ | 507/569 [10:49<01:22,  1.33s/it]"
          ]
        },
        {
          "name": "stdout",
          "output_type": "stream",
          "text": [
            "ni3\n",
            "you3\n",
            "quan2\n",
            "bao3\n",
            "chi2\n",
            "chen2\n",
            "mo4\n",
            "wo3\n",
            "jian4\n",
            "yi4\n",
            "ni3\n",
            "shi3\n",
            "yong4\n",
            "zhe4\n",
            "ge4\n",
            "quan2\n",
            "li4\n"
          ]
        },
        {
          "name": "stderr",
          "output_type": "stream",
          "text": [
            "\r 89%|████████▉ | 508/569 [10:51<01:17,  1.27s/it]"
          ]
        },
        {
          "name": "stdout",
          "output_type": "stream",
          "text": [
            "wo3\n",
            "ke3\n",
            "bu4\n",
            "hui4\n",
            "guan3\n",
            "zhe4\n",
            "jiao4\n",
            "fang2\n",
            "yu4\n"
          ]
        },
        {
          "name": "stderr",
          "output_type": "stream",
          "text": [
            "\r 89%|████████▉ | 509/569 [10:52<01:26,  1.44s/it]"
          ]
        },
        {
          "name": "stdout",
          "output_type": "stream",
          "text": [
            "mei3\n",
            "yi1\n",
            "lun2\n",
            "diao4\n",
            "cha2\n",
            "、\n",
            "mei3\n",
            "yi1\n",
            "ci4\n",
            "po4\n",
            "an4\n",
            "dou1\n",
            "rang4\n",
            "wo3\n",
            "li2\n",
            "zheng4\n",
            "yi4\n",
            "you4\n",
            "qian2\n",
            "jin4\n",
            "le\n",
            "yi1\n",
            "bu4\n"
          ]
        },
        {
          "name": "stderr",
          "output_type": "stream",
          "text": [
            "\r 90%|████████▉ | 510/569 [10:54<01:24,  1.43s/it]"
          ]
        },
        {
          "name": "stdout",
          "output_type": "stream",
          "text": [
            "wo3\n",
            "ben3\n",
            "lai2\n",
            "zhi3\n",
            "xiang3\n",
            "ba3\n",
            "ni3\n",
            "guan1\n",
            "qi3\n",
            "lai2\n",
            "de\n"
          ]
        },
        {
          "name": "stderr",
          "output_type": "stream",
          "text": [
            "\r 90%|████████▉ | 511/569 [10:56<01:28,  1.53s/it]"
          ]
        },
        {
          "name": "stdout",
          "output_type": "stream",
          "text": [
            "bu4\n",
            "neng2\n",
            "bao3\n",
            "hu4\n",
            "gong1\n",
            "zhong4\n",
            "de\n",
            "fa3\n",
            "lv4\n",
            "yi1\n",
            "wen2\n",
            "bu4\n",
            "zhi2\n"
          ]
        },
        {
          "name": "stderr",
          "output_type": "stream",
          "text": [
            "\r 90%|████████▉ | 512/569 [10:57<01:29,  1.57s/it]"
          ]
        },
        {
          "name": "stdout",
          "output_type": "stream",
          "text": [
            "zhi1\n",
            "dao4\n",
            "bie2\n",
            "ren2\n",
            "suo3\n",
            "bu4\n",
            "zhi1\n",
            "dao4\n",
            "de\n",
            "shi4\n",
            " \n",
            "jiu4\n",
            "shi4\n",
            "wo3\n",
            "de\n",
            "gong1\n",
            "zuo4\n"
          ]
        },
        {
          "name": "stderr",
          "output_type": "stream",
          "text": [
            "\r 90%|█████████ | 513/569 [10:59<01:32,  1.65s/it]"
          ]
        },
        {
          "name": "stdout",
          "output_type": "stream",
          "text": [
            "xian4\n",
            "zai4\n",
            "yi1\n",
            "ze2\n",
            "rui4\n",
            "er3\n",
            "wo3\n",
            "hui4\n",
            "ba3\n",
            "ni3\n",
            "de\n",
            "sheng4\n",
            "qi4\n",
            "zuo4\n",
            "wei2\n",
            "zheng4\n",
            "ju4\n",
            "mo4\n",
            "shou1\n"
          ]
        },
        {
          "name": "stderr",
          "output_type": "stream",
          "text": [
            " 91%|█████████ | 515/569 [11:02<01:19,  1.47s/it]"
          ]
        },
        {
          "name": "stdout",
          "output_type": "stream",
          "text": [
            "jin4\n",
            "hua4\n",
            "shi4\n",
            "sheng1\n",
            "cun2\n",
            "de\n",
            "bi4\n",
            "xu1\n",
            "mei2\n",
            "cuo4\n",
            "dan4\n",
            "bu2\n",
            "shi4\n",
            "xiang4\n",
            "ni3\n",
            "zhe4\n",
            "yang4\n",
            "wei2\n",
            "ke3\n",
            "tuo1\n"
          ]
        },
        {
          "name": "stderr",
          "output_type": "stream",
          "text": [
            "\r 91%|█████████ | 516/569 [11:03<01:10,  1.33s/it]"
          ]
        },
        {
          "name": "stdout",
          "output_type": "stream",
          "text": [
            "an4\n",
            "zi\n",
            "hai2\n",
            "mei2\n",
            "jie2\n",
            "shu4\n"
          ]
        },
        {
          "name": "stderr",
          "output_type": "stream",
          "text": [
            "\r 91%|█████████ | 517/569 [11:04<01:03,  1.21s/it]"
          ]
        },
        {
          "name": "stdout",
          "output_type": "stream",
          "text": [
            "dan4\n",
            "wu2\n",
            "xu1\n",
            "fa4\n"
          ]
        },
        {
          "name": "stderr",
          "output_type": "stream",
          "text": [
            "\r 91%|█████████ | 518/569 [11:05<01:02,  1.22s/it]"
          ]
        },
        {
          "name": "stdout",
          "output_type": "stream",
          "text": [
            "hao3\n",
            "ba\n",
            " \n",
            "jie1\n",
            "xia4\n",
            "lai2\n",
            "you3\n",
            "de\n",
            "shi4\n",
            "wen2\n",
            "jian4\n",
            "yao4\n",
            "chu3\n",
            "li3\n",
            "le\n"
          ]
        },
        {
          "name": "stderr",
          "output_type": "stream",
          "text": [
            " 91%|█████████▏| 520/569 [11:07<01:00,  1.24s/it]"
          ]
        },
        {
          "name": "stdout",
          "output_type": "stream",
          "text": [
            "lao2\n",
            "fang2\n",
            "cai2\n",
            "shi4\n",
            "ni3\n",
            "gai1\n",
            "dai4\n",
            "de\n",
            "di4\n",
            "fang1\n",
            "e4\n",
            "jia1\n",
            "te4\n"
          ]
        },
        {
          "name": "stderr",
          "output_type": "stream",
          "text": [
            "\r 92%|█████████▏| 521/569 [11:08<00:54,  1.13s/it]"
          ]
        },
        {
          "name": "stdout",
          "output_type": "stream",
          "text": [
            "duo1\n",
            "xie4\n"
          ]
        },
        {
          "name": "stderr",
          "output_type": "stream",
          "text": [
            "\r 92%|█████████▏| 522/569 [11:10<01:00,  1.30s/it]"
          ]
        },
        {
          "name": "stdout",
          "output_type": "stream",
          "text": [
            "mei2\n",
            "you3\n",
            "ren2\n",
            "neng2\n",
            "ling2\n",
            "jia4\n",
            "yu2\n",
            "fa3\n",
            "lv4\n",
            "zhi1\n",
            "shang4\n"
          ]
        },
        {
          "name": "stderr",
          "output_type": "stream",
          "text": [
            "\r 92%|█████████▏| 523/569 [11:11<00:58,  1.27s/it]"
          ]
        },
        {
          "name": "stdout",
          "output_type": "stream",
          "text": [
            "dang1\n",
            "chang3\n",
            "zhua1\n",
            "huo4\n"
          ]
        },
        {
          "name": "stderr",
          "output_type": "stream",
          "text": [
            "\r 92%|█████████▏| 524/569 [11:12<00:56,  1.25s/it]"
          ]
        },
        {
          "name": "stdout",
          "output_type": "stream",
          "text": [
            "gong1\n",
            "shi4\n",
            "gong1\n",
            "ban4\n"
          ]
        },
        {
          "name": "stderr",
          "output_type": "stream",
          "text": [
            "\r 92%|█████████▏| 525/569 [11:14<00:59,  1.34s/it]"
          ]
        },
        {
          "name": "stdout",
          "output_type": "stream",
          "text": [
            "wo3\n",
            "lai2\n",
            "zhe4\n",
            "er2\n",
            "bu2\n",
            "shi4\n",
            "wei4\n",
            "le\n",
            "fu2\n",
            "wu4\n",
            "er2\n",
            "shi4\n",
            "wei4\n",
            "le\n",
            "shou3\n",
            "hu4\n"
          ]
        },
        {
          "name": "stderr",
          "output_type": "stream",
          "text": [
            "\r 92%|█████████▏| 526/569 [11:15<00:57,  1.35s/it]"
          ]
        },
        {
          "name": "stdout",
          "output_type": "stream",
          "text": [
            "o2\n",
            "yi2\n",
            "ge4\n",
            "yue1\n",
            "de2\n",
            "er3\n",
            "ren2\n",
            "zhen1\n",
            "ke3\n",
            "ai4\n",
            "。\n"
          ]
        },
        {
          "name": "stderr",
          "output_type": "stream",
          "text": [
            "\r 93%|█████████▎| 527/569 [11:16<00:51,  1.22s/it]"
          ]
        },
        {
          "name": "stdout",
          "output_type": "stream",
          "text": [
            "dang1\n",
            "xin1\n",
            "jiao3\n",
            "xia4\n"
          ]
        },
        {
          "name": "stderr",
          "output_type": "stream",
          "text": [
            " 93%|█████████▎| 529/569 [11:19<00:51,  1.28s/it]"
          ]
        },
        {
          "name": "stdout",
          "output_type": "stream",
          "text": [
            "wo3\n",
            "ben3\n",
            "lai2\n",
            "hai2\n",
            "ting3\n",
            "qi1\n",
            "dai4\n",
            "ni3\n",
            "xia4\n",
            "yi1\n",
            "chang3\n",
            "xun2\n",
            "yan3\n",
            "de\n",
            "sa4\n",
            "luo4\n",
            "fen1\n",
            "ni2\n"
          ]
        },
        {
          "name": "stderr",
          "output_type": "stream",
          "text": [
            "\r 93%|█████████▎| 530/569 [11:20<00:55,  1.42s/it]"
          ]
        },
        {
          "name": "stdout",
          "output_type": "stream",
          "text": [
            "sheng1\n",
            "ming4\n",
            "de\n",
            "yi4\n",
            "yi4\n",
            "bu4\n",
            "zhi3\n",
            "shi4\n",
            "wei4\n",
            "le\n",
            "zhui1\n",
            "zhu2\n",
            "rong2\n",
            "yao4\n",
            "yi1\n",
            "ze2\n",
            "rui4\n",
            "er3\n"
          ]
        },
        {
          "name": "stderr",
          "output_type": "stream",
          "text": [
            "\r 93%|█████████▎| 531/569 [11:21<00:48,  1.28s/it]"
          ]
        },
        {
          "name": "stdout",
          "output_type": "stream",
          "text": [
            "du1\n",
            " \n",
            "bao4\n",
            "tou2\n"
          ]
        },
        {
          "name": "stderr",
          "output_type": "stream",
          "text": [
            "\r 93%|█████████▎| 532/569 [11:23<00:51,  1.39s/it]"
          ]
        },
        {
          "name": "stdout",
          "output_type": "stream",
          "text": [
            "wo3\n",
            "xi1\n",
            "wang4\n",
            "ni3\n",
            "yi3\n",
            "jing1\n",
            "de2\n",
            "dao4\n",
            "le\n",
            "xiang3\n",
            "yao4\n",
            "de\n",
            "jie2\n",
            "guo3\n",
            "hei1\n",
            "mo4\n",
            "ding1\n",
            "ge2\n"
          ]
        },
        {
          "name": "stderr",
          "output_type": "stream",
          "text": [
            "\r 94%|█████████▎| 533/569 [11:25<00:56,  1.58s/it]"
          ]
        },
        {
          "name": "stdout",
          "output_type": "stream",
          "text": [
            "guang1\n",
            "rong2\n",
            "jin4\n",
            "hua4\n",
            "zhe4\n",
            "bu2\n",
            "hui4\n",
            "shi4\n",
            "wo3\n",
            "men\n",
            "de\n",
            "ming4\n",
            "yun4\n",
            "wei2\n",
            "ke3\n",
            "tuo1\n"
          ]
        },
        {
          "name": "stderr",
          "output_type": "stream",
          "text": [
            "\r 94%|█████████▍| 534/569 [11:28<01:06,  1.90s/it]"
          ]
        },
        {
          "name": "stdout",
          "output_type": "stream",
          "text": [
            "bao3\n",
            "hu4\n",
            "pi2\n",
            "er3\n",
            "tuo1\n",
            "wo4\n",
            "fu1\n",
            "gong1\n",
            "min2\n",
            "shi4\n",
            "wo3\n",
            "de\n",
            "zhi2\n",
            "ze2\n",
            "er2\n",
            "wo3\n",
            "hui4\n",
            "jiang1\n",
            "ta1\n",
            "fu4\n",
            "ze2\n",
            "dao4\n",
            "di3\n"
          ]
        },
        {
          "name": "stderr",
          "output_type": "stream",
          "text": [
            "\r 94%|█████████▍| 535/569 [11:29<01:03,  1.86s/it]"
          ]
        },
        {
          "name": "stdout",
          "output_type": "stream",
          "text": [
            "an4\n",
            "qing2\n",
            "jiu4\n",
            "yao4\n",
            "qu3\n",
            "de\n",
            "tu1\n",
            "po4\n",
            "le\n",
            "wo3\n",
            "zhi3\n",
            "xu1\n",
            "yao4\n",
            "ba3\n",
            "xian4\n",
            "suo3\n",
            "gei3\n",
            "chuan4\n",
            "qi3\n",
            "lai2\n"
          ]
        },
        {
          "name": "stderr",
          "output_type": "stream",
          "text": [
            "\r 94%|█████████▍| 536/569 [11:30<00:53,  1.62s/it]"
          ]
        },
        {
          "name": "stdout",
          "output_type": "stream",
          "text": [
            "wo3\n",
            "men\n",
            "lai2\n",
            "liao3\n",
            "jie2\n",
            "zhe4\n",
            "yi1\n",
            "qie4\n",
            "ba\n"
          ]
        },
        {
          "name": "stderr",
          "output_type": "stream",
          "text": [
            " 95%|█████████▍| 538/569 [11:33<00:45,  1.48s/it]"
          ]
        },
        {
          "name": "stdout",
          "output_type": "stream",
          "text": [
            "o2\n",
            "zhe4\n",
            "xia4\n",
            "you3\n",
            "yi4\n",
            "si1\n",
            "le\n",
            "ni3\n",
            "jiao4\n",
            "zha1\n",
            "ke4\n",
            "dui4\n",
            "bu2\n",
            "dui4\n"
          ]
        },
        {
          "name": "stderr",
          "output_type": "stream",
          "text": [
            "\r 95%|█████████▍| 539/569 [11:34<00:38,  1.27s/it]"
          ]
        },
        {
          "name": "stdout",
          "output_type": "stream",
          "text": [
            "bie2\n",
            "dong4\n"
          ]
        },
        {
          "name": "stderr",
          "output_type": "stream",
          "text": [
            " 95%|█████████▌| 541/569 [11:36<00:34,  1.24s/it]"
          ]
        },
        {
          "name": "stdout",
          "output_type": "stream",
          "text": [
            "si4\n",
            "hu1\n",
            "wo3\n",
            "you3\n",
            "xin1\n",
            "de\n",
            "xian2\n",
            "yi2\n",
            "ren2\n",
            "yao4\n",
            "zhui1\n",
            "cha2\n",
            "le\n"
          ]
        },
        {
          "name": "stderr",
          "output_type": "stream",
          "text": [
            "\r 95%|█████████▌| 542/569 [11:37<00:32,  1.19s/it]"
          ]
        },
        {
          "name": "stdout",
          "output_type": "stream",
          "text": [
            "gen1\n",
            "ben3\n",
            "xian2\n",
            "bu4\n",
            "xia4\n",
            "lai2\n"
          ]
        },
        {
          "name": "stderr",
          "output_type": "stream",
          "text": [
            " 96%|█████████▌| 544/569 [11:41<00:40,  1.63s/it]"
          ]
        },
        {
          "name": "stdout",
          "output_type": "stream",
          "text": [
            "wo3\n",
            "ying1\n",
            "gai1\n",
            "gan3\n",
            "xie4\n",
            "C\n",
            "rang4\n",
            "wo3\n",
            "zou3\n",
            "shang4\n",
            "le\n",
            "zhe4\n",
            "tiao2\n",
            "lu4\n",
            "zhong1\n",
            "shen1\n",
            "jian1\n",
            "jin4\n",
            "jiu4\n",
            "shi4\n",
            "dui4\n",
            "ta1\n",
            "zui4\n",
            "hao3\n",
            "de\n",
            "hui2\n",
            "li3\n"
          ]
        },
        {
          "name": "stderr",
          "output_type": "stream",
          "text": [
            "\r 96%|█████████▌| 545/569 [11:42<00:34,  1.42s/it]"
          ]
        },
        {
          "name": "stdout",
          "output_type": "stream",
          "text": [
            "bu2\n",
            "shi4\n",
            "ma\n"
          ]
        },
        {
          "name": "stderr",
          "output_type": "stream",
          "text": [
            "\r 96%|█████████▌| 546/569 [11:43<00:31,  1.36s/it]"
          ]
        },
        {
          "name": "stdout",
          "output_type": "stream",
          "text": [
            "an4\n",
            "qing2\n",
            "yue4\n",
            "shen2\n",
            "mi4\n",
            "wo3\n",
            "jiu4\n",
            "yue4\n",
            "xi3\n",
            "huan1\n"
          ]
        },
        {
          "name": "stderr",
          "output_type": "stream",
          "text": [
            "\r 96%|█████████▌| 547/569 [11:45<00:33,  1.52s/it]"
          ]
        },
        {
          "name": "stdout",
          "output_type": "stream",
          "text": [
            "ai4\n",
            "ke4\n",
            "sui1\n",
            "ran2\n",
            "wo3\n",
            "bu4\n",
            "neng2\n",
            "gai3\n",
            "bian4\n",
            "guo4\n",
            "qu4\n",
            "dan4\n",
            "wo3\n",
            "men\n",
            "ke3\n",
            "yi3\n",
            "gong4\n",
            "tong2\n",
            "chuang4\n",
            "zao4\n",
            "yi2\n",
            "ge4\n",
            "geng4\n",
            "hao3\n",
            "de\n",
            "wei4\n",
            "lai2\n",
            "。\n"
          ]
        },
        {
          "name": "stderr",
          "output_type": "stream",
          "text": [
            "\r 96%|█████████▋| 548/569 [11:46<00:28,  1.37s/it]"
          ]
        },
        {
          "name": "stdout",
          "output_type": "stream",
          "text": [
            "shui2\n",
            "zai4\n",
            "hu1\n",
            "jiao4\n",
            "jing3\n",
            "zhang3\n"
          ]
        },
        {
          "name": "stderr",
          "output_type": "stream",
          "text": [
            "\r 96%|█████████▋| 549/569 [11:48<00:28,  1.43s/it]"
          ]
        },
        {
          "name": "stdout",
          "output_type": "stream",
          "text": [
            "mei2\n",
            "you3\n",
            "ni3\n",
            "huo4\n",
            "xu3\n",
            "pi2\n",
            "cheng2\n",
            "ren2\n",
            "min2\n",
            "ke3\n",
            "yi3\n",
            "shui4\n",
            "ge4\n",
            "hao3\n",
            "jue2\n",
            "le\n",
            "ke3\n",
            "shi4\n",
            "wei4\n",
            "ma\n"
          ]
        },
        {
          "name": "stderr",
          "output_type": "stream",
          "text": [
            "\r 97%|█████████▋| 550/569 [11:49<00:24,  1.28s/it]"
          ]
        },
        {
          "name": "stdout",
          "output_type": "stream",
          "text": [
            "mu4\n",
            "biao1\n",
            "yi3\n",
            "biao1\n",
            "ji4\n"
          ]
        },
        {
          "name": "stderr",
          "output_type": "stream",
          "text": [
            "\r 97%|█████████▋| 551/569 [11:50<00:23,  1.29s/it]"
          ]
        },
        {
          "name": "stdout",
          "output_type": "stream",
          "text": [
            "tie3\n",
            "chuang1\n",
            "sheng1\n",
            "ya2\n",
            "jiu4\n",
            "shi4\n",
            "ni3\n",
            "zui4\n",
            "hou4\n",
            "de\n",
            "jie2\n",
            "ju2\n"
          ]
        },
        {
          "name": "stderr",
          "output_type": "stream",
          "text": [
            "\r 97%|█████████▋| 552/569 [11:51<00:22,  1.34s/it]"
          ]
        },
        {
          "name": "stdout",
          "output_type": "stream",
          "text": [
            "zai4\n",
            "wo3\n",
            "hui2\n",
            "lai2\n",
            "zhi1\n",
            "qian2\n",
            " \n",
            "bu2\n",
            "yao4\n",
            "rao3\n",
            "luan4\n",
            "fan4\n",
            "zui4\n",
            "xian4\n",
            "chang3\n",
            "a\n"
          ]
        },
        {
          "name": "stderr",
          "output_type": "stream",
          "text": [
            "\r 97%|█████████▋| 553/569 [11:53<00:20,  1.29s/it]"
          ]
        },
        {
          "name": "stdout",
          "output_type": "stream",
          "text": [
            "zheng4\n",
            "zai4\n",
            "miao2\n",
            "zhun3\n"
          ]
        },
        {
          "name": "stderr",
          "output_type": "stream",
          "text": [
            "\r 97%|█████████▋| 554/569 [11:54<00:18,  1.22s/it]"
          ]
        },
        {
          "name": "stdout",
          "output_type": "stream",
          "text": [
            "bu4\n",
            "xu3\n",
            "dong4\n"
          ]
        },
        {
          "name": "stderr",
          "output_type": "stream",
          "text": [
            " 98%|█████████▊| 556/569 [11:56<00:15,  1.16s/it]"
          ]
        },
        {
          "name": "stdout",
          "output_type": "stream",
          "text": [
            "an4\n",
            "jian4\n",
            "yi3\n",
            "po4\n"
          ]
        },
        {
          "name": "stderr",
          "output_type": "stream",
          "text": [
            "\r 98%|█████████▊| 557/569 [11:58<00:16,  1.40s/it]"
          ]
        },
        {
          "name": "stdout",
          "output_type": "stream",
          "text": [
            "wo3\n",
            "men\n",
            "de\n",
            "jia4\n",
            "zhi2\n",
            "guan1\n",
            "mei2\n",
            "na4\n",
            "me\n",
            "duo1\n",
            "bu4\n",
            "tong2\n",
            "ai4\n",
            "ke4\n",
            "pi2\n",
            "er3\n",
            "tuo1\n",
            "wo4\n",
            "fu1\n",
            "he2\n",
            "zu3\n",
            "an1\n",
            "ye3\n",
            "shi4\n",
            "yi1\n",
            "yang4\n"
          ]
        },
        {
          "name": "stderr",
          "output_type": "stream",
          "text": [
            "\r 98%|█████████▊| 558/569 [11:59<00:13,  1.24s/it]"
          ]
        },
        {
          "name": "stdout",
          "output_type": "stream",
          "text": [
            "gan4\n",
            "diao4\n",
            "yi2\n",
            "ge4\n"
          ]
        },
        {
          "name": "stderr",
          "output_type": "stream",
          "text": [
            "\r 98%|█████████▊| 559/569 [11:59<00:11,  1.14s/it]"
          ]
        },
        {
          "name": "stdout",
          "output_type": "stream",
          "text": [
            "zhi3\n",
            "na3\n",
            "da3\n",
            "na3\n"
          ]
        },
        {
          "name": "stderr",
          "output_type": "stream",
          "text": [
            "\r 98%|█████████▊| 560/569 [12:01<00:10,  1.11s/it]"
          ]
        },
        {
          "name": "stdout",
          "output_type": "stream",
          "text": [
            "xiang3\n",
            "yao4\n",
            "xiao3\n",
            "dian3\n",
            "xin1\n",
            "ma\n"
          ]
        },
        {
          "name": "stderr",
          "output_type": "stream",
          "text": [
            "\r 99%|█████████▊| 561/569 [12:02<00:10,  1.37s/it]"
          ]
        },
        {
          "name": "stdout",
          "output_type": "stream",
          "text": [
            "wo3\n",
            "hen3\n",
            "gao1\n",
            "xing4\n",
            "you3\n",
            "ni3\n",
            "zhi1\n",
            "yuan2\n",
            "wei4\n",
            "bu4\n",
            "guo4\n",
            "jin3\n",
            "liang4\n",
            "ba3\n",
            "po4\n",
            "huai4\n",
            "jiang4\n",
            "dao4\n",
            "zui4\n",
            "di1\n",
            "hao3\n",
            "ma\n"
          ]
        },
        {
          "name": "stderr",
          "output_type": "stream",
          "text": [
            "\r 99%|█████████▉| 562/569 [12:04<00:09,  1.34s/it]"
          ]
        },
        {
          "name": "stdout",
          "output_type": "stream",
          "text": [
            "yan2\n",
            "ge2\n",
            "zun1\n",
            "zhao4\n",
            "zhi3\n",
            "hui1\n",
            "xi4\n",
            "tong3\n",
            "xing2\n",
            "shi4\n"
          ]
        },
        {
          "name": "stderr",
          "output_type": "stream",
          "text": [
            " 99%|█████████▉| 564/569 [12:06<00:05,  1.15s/it]"
          ]
        },
        {
          "name": "stdout",
          "output_type": "stream",
          "text": [
            "jue2\n",
            "bu4\n",
            "chi2\n",
            "yi2\n"
          ]
        },
        {
          "name": "stderr",
          "output_type": "stream",
          "text": [
            "\r 99%|█████████▉| 565/569 [12:07<00:04,  1.11s/it]"
          ]
        },
        {
          "name": "stdout",
          "output_type": "stream",
          "text": [
            "jing1\n",
            "cai3\n"
          ]
        },
        {
          "name": "stderr",
          "output_type": "stream",
          "text": [
            "\r 99%|█████████▉| 566/569 [12:09<00:04,  1.51s/it]"
          ]
        },
        {
          "name": "stdout",
          "output_type": "stream",
          "text": [
            "wo3\n",
            "zhi1\n",
            "dao4\n",
            "ni3\n",
            "cang2\n",
            "zhe\n",
            "shen2\n",
            "me\n",
            "mi4\n",
            "mi4\n",
            "ka3\n",
            "mi3\n",
            "er3\n",
            "。\n",
            "wo3\n",
            "zhi3\n",
            "xu1\n",
            "yao4\n",
            "yi4\n",
            "dian3\n",
            "zheng4\n",
            "ju4\n",
            "er2\n",
            "yi3\n",
            "。\n"
          ]
        },
        {
          "name": "stderr",
          "output_type": "stream",
          "text": [
            "\r100%|█████████▉| 567/569 [12:11<00:03,  1.70s/it]"
          ]
        },
        {
          "name": "stdout",
          "output_type": "stream",
          "text": [
            "zhun3\n",
            "bei4\n",
            " \n",
            "miao2\n",
            "zhun3\n",
            "a\n",
            "wo3\n",
            "wei4\n",
            "shen2\n",
            "me\n",
            "yi4\n",
            "dian3\n",
            "dou1\n",
            "bu4\n",
            "yi4\n",
            "wai4\n"
          ]
        },
        {
          "name": "stderr",
          "output_type": "stream",
          "text": [
            "\r100%|█████████▉| 568/569 [12:13<00:01,  1.80s/it]"
          ]
        },
        {
          "name": "stdout",
          "output_type": "stream",
          "text": [
            "o2\n",
            " \n",
            "sa4\n",
            "la1\n",
            "fen1\n",
            "ni1\n",
            " \n",
            "wo3\n",
            "neng2\n",
            "bu4\n",
            "neng2\n",
            "mao4\n",
            "mei4\n",
            "di4\n",
            "qing3\n",
            "ni3\n",
            "gei3\n",
            "wo3\n",
            "liu2\n",
            "ge4\n",
            "qian1\n",
            "ming2\n"
          ]
        },
        {
          "name": "stderr",
          "output_type": "stream",
          "text": [
            "100%|██████████| 569/569 [12:14<00:00,  1.29s/it]\n"
          ]
        },
        {
          "name": "stdout",
          "output_type": "stream",
          "text": [
            "fei1\n",
            "chang2\n",
            "gan3\n",
            "xie4\n"
          ]
        },
        {
          "name": "stderr",
          "output_type": "stream",
          "text": [
            "100%|██████████| 1/1 [00:00<00:00, 441.13it/s]\n",
            "0it [00:00, ?it/s]\n"
          ]
        }
      ],
      "source": [
        "#@markdown 转写方式1 - 直接使用whisper转写\n",
        "\n",
        "# snippet in https://github.com/openai/whisper/blob/main/README.md\n",
        "\n",
        "# load model\n",
        "def fun_use_whisper_way1_01():\n",
        "  global wv_whisper_model\n",
        "  if wv_whisper_model == 0:\n",
        "    wv_whisper_model = whisper.load_model(wv_whisper_model_name)\n",
        "# use model\n",
        "def fun_use_whisper_way1_02():\n",
        "  os.makedirs(WV_FILELIST_DIR, exist_ok=True)\n",
        "  wv_result_file = f'{WV_FILELIST_DIR}/{WV_FILELIST_FILE}'\n",
        "  wv_result = open(wv_result_file, \"a\", encoding=\"utf-8\")\n",
        "\n",
        "  for _, _, files in os.walk(WV_WAV_DIR):\n",
        "    files.sort()\n",
        "    for file in tqdm(files):\n",
        "      audio = whisper.load_audio(f\"{WV_WAV_DIR}/{file}\")\n",
        "      audio = whisper.pad_or_trim(audio)\n",
        "      mel = whisper.log_mel_spectrogram(audio).to(wv_whisper_model.device)\n",
        "      options = whisper.DecodingOptions(language=wv_language)\n",
        "      result = whisper.decode(wv_whisper_model, mel, options)\n",
        "      text = result.text\n",
        "      if wv_language == 'Chinese':\n",
        "        text = traditional_to_simplified(text.replace(' ', ','))\n",
        "        # 叠词且语气词小于5，则将该音频标注为语气词，方便后面筛掉\n",
        "        if (has_modal_particles(text) and has_reduplication(text)\n",
        "          and len(text) < 4):\n",
        "          print(f'wavs/{file}|语气词', file=wv_result)\n",
        "          continue\n",
        "        # text = remove_punctuation(text).\n",
        "        # text = chinese_to_pinyin(text)\n",
        "      print(f'wavs/{file}|{text}', file=wv_result)\n",
        "\n",
        "#繁体转简体\n",
        "import opencc\n",
        "def traditional_to_simplified(text):\n",
        "    # 创建 OpenCC 的简繁转换器\n",
        "    converter = opencc.OpenCC('t2s.json')\n",
        "    # 调用转换器进行转换\n",
        "    return converter.convert(text)\n",
        "\n",
        "\"\"\"\n",
        "  将中文转换成拼音\n",
        "\"\"\"\n",
        "import pypinyin\n",
        "def chinese_to_pinyin(chinese):\n",
        "\n",
        "    pinyin_list = pypinyin.pinyin(chinese, style=pypinyin.TONE3, neutral_tone_with_five=False)\n",
        "    result = []\n",
        "    for pinyin in pinyin_list:\n",
        "        # 将每个拼音的列表转换成字符串，用空格分隔每个拼音，然后加上声调标记\n",
        "        pinyin_str = \" \".join(pinyin)\n",
        "        result.append(pinyin_str)\n",
        "    return \" \".join(result)\n",
        "\n",
        "# 判断是否有叠词\n",
        "def has_reduplication(text):\n",
        "    n = len(text)\n",
        "    for i in range(n-1):\n",
        "        if text[i] == text[i+1]:\n",
        "            return True\n",
        "    return False\n",
        "\n",
        "# 判断是否有语气词\n",
        "import re\n",
        "def has_modal_particles(text):\n",
        "    modal_particles = ['嗯', '啧', '呢', '吧', '咳', '啊', '哦', '哇', '呃', '嘿']\n",
        "    pattern = \"|\".join(modal_particles)\n",
        "    match = re.search(pattern, text)\n",
        "    if match:\n",
        "        return True\n",
        "    else:\n",
        "        return False\n",
        "\n",
        "# 去除标点符号\n",
        "import string\n",
        "def remove_punctuation(text):\n",
        "  # 去除标点符号\n",
        "  text_without_punctuation = ''.join(c for c in text if c not in string.punctuation)\n",
        "    \n",
        "  # 将空格替换为逗号或移除空格\n",
        "  words = text_without_punctuation.split()\n",
        "  new_text = []\n",
        "  for i in range(len(words)):\n",
        "      if i == 0:\n",
        "          new_text.append(words[i])\n",
        "      elif i == len(words) - 1:\n",
        "          new_text.append(words[i])\n",
        "      elif (words[i-1] in string.punctuation) or (words[i+1] in string.punctuation):\n",
        "          new_text.append(words[i])\n",
        "      else:\n",
        "          new_text.append(',')\n",
        "    \n",
        "  return ' '.join(new_text)\n",
        "\n",
        "if wv_whisper_option == 1:\n",
        "  fun_use_whisper_way1_01()\n",
        "  fun_use_whisper_way1_02()\n",
        "  wv_clean_empty_lines_for_all()"
      ]
    },
    {
      "cell_type": "code",
      "execution_count": null,
      "metadata": {
        "cellView": "form",
        "id": "snc5RYR_TyNA"
      },
      "outputs": [],
      "source": [
        "#@markdown 转写方式2 - 调用 auto.py 进一步分割音频\n",
        "# import logging\n",
        "#@markdown Forked from: https://github.com/AlexandaJerry/whisper-vits-japanese/blob/main/Whisper_Vits_Japanese.ipynb\n",
        "def wv_split_way2_01():\n",
        "  # logging.setLevel(logging.INFO)\n",
        "\n",
        "  print(f'1. dependency')\n",
        "  wv_use_split_repo = \"https://github.com/wind4000/whisper-vits-japanese\" #@param {type: \"string\"}\n",
        "  wv_use_split_branch = \"fix-regex\" #@param {type: \"string\"}\n",
        "  !git clone {wv_use_split_repo} -b {wv_use_split_branch}\n",
        "\n",
        "  print(f'2. prepare')\n",
        "  wvj_audio_dir = f'whisper-vits-japanese/audio/'\n",
        "  # !cp /content/whisper-vits-japanese/whisper/transcribe.py /usr/local/lib/python3.8/dist-packages/whisper\n",
        "  # !cp /content/whisper-vits-japanese/whisper/utils.py /usr/local/lib/python3.8/dist-packages/whisper\n",
        "  !rm -rf {wvj_audio_dir}\n",
        "  !cp -r {WV_WAV_DIR} {wvj_audio_dir}\n",
        "\n",
        "  print(f'3. whisper transcribe')\n",
        "  for _, _, files in os.walk(wvj_audio_dir):\n",
        "    files.sort()\n",
        "    print(files)\n",
        "    files = \" \".join([wvj_audio_dir + file for file in files])\n",
        "    !whisper {files} -o /content/whisper-vits-japanese/srt_files --language {wv_language} --model {wv_whisper_model_name}\n",
        "\n",
        "def wv_split_way2_02():\n",
        "  print(f'4. run whisper-vits-japanese/auto.py')\n",
        "  %cd /content/whisper-vits-japanese\n",
        "  !python auto.py\n",
        "  %cd /content\n",
        "\n",
        "  print(f'5. final')\n",
        "  os.makedirs(WV_FILELIST_DIR, exist_ok=True)\n",
        "  !cp /content/whisper-vits-japanese/filelists/train_filelist.txt {WV_FILELIST_DIR}/{WV_FILELIST_FILE}\n",
        "  !sed -i \"s;/content/whisper-vits-japanese/sliced_audio/;wavs/;\" {WV_FILELIST_DIR}/{WV_FILELIST_FILE}\n",
        "  !mv {WV_WAV_DIR} {WV_WAV_DIR}_before\n",
        "  !mv /content/whisper-vits-japanese/sliced_audio {WV_WAV_DIR}\n",
        "\n",
        "  wv_clean_empty_lines_for_all()\n",
        "  \n",
        "  print(f'\\n6. done')\n",
        "\n",
        "if wv_whisper_option == 2:\n",
        "  %cd /content\n",
        "  wv_split_way2_01()\n",
        "  wv_split_way2_02()\n",
        "  \n"
      ]
    },
    {
      "cell_type": "markdown",
      "metadata": {
        "id": "hOdM9Rwa3hS0"
      },
      "source": [
        "## 导出"
      ]
    },
    {
      "cell_type": "code",
      "execution_count": null,
      "metadata": {
        "cellView": "form",
        "colab": {
          "base_uri": "https://localhost:8080/"
        },
        "id": "I4g4GLbuFnUW",
        "outputId": "7b6e2011-9955-41e1-8c63-ee217d418d9c"
      },
      "outputs": [
        {
          "name": "stdout",
          "output_type": "stream",
          "text": [
            "\n",
            "7-Zip [64] 16.02 : Copyright (c) 1999-2016 Igor Pavlov : 2016-05-21\n",
            "p7zip Version 16.02 (locale=en_US.UTF-8,Utf16=on,HugeFiles=on,64 bits,2 CPUs Intel(R) Xeon(R) CPU @ 2.30GHz (306F0),ASM,AES-NI)\n",
            "\n",
            "Scanning the drive:\n",
            "  0M Scan \b\b\b\b\b\b\b\b\b\b          \b\b\b\b\b\b\b\b\b\b\n",
            "WARNING: No more files\n",
            "filelists\n",
            "\n",
            "  0M 1 Scan  wavs/\b\b\b\b\b\b\b\b\b\b\b\b\b\b\b\b\b\b                  \b\b\b\b\b\b\b\b\b\b\b\b\b\b\b\b\b\b1 folder, 569 files, 59562686 bytes (57 MiB)\n",
            "\n",
            "Creating archive: /content/drive/MyDrive/dataset/YOUR_DATASET.7z\n",
            "\n",
            "Items to compress: 570\n",
            "\n",
            "  0%\b\b\b\b    \b\b\b\b  1% 30 + wavs/File0031_0000.wav\b\b\b\b\b\b\b\b\b\b\b\b\b\b\b\b\b\b\b\b\b\b\b\b\b\b\b\b\b\b\b\b                                \b\b\b\b\b\b\b\b\b\b\b\b\b\b\b\b\b\b\b\b\b\b\b\b\b\b\b\b\b\b\b\b  3% 40 + wavs/File0041_0000.wav\b\b\b\b\b\b\b\b\b\b\b\b\b\b\b\b\b\b\b\b\b\b\b\b\b\b\b\b\b\b\b\b                                \b\b\b\b\b\b\b\b\b\b\b\b\b\b\b\b\b\b\b\b\b\b\b\b\b\b\b\b\b\b\b\b  4% 48 + wavs/File0049_0000.wav\b\b\b\b\b\b\b\b\b\b\b\b\b\b\b\b\b\b\b\b\b\b\b\b\b\b\b\b\b\b\b\b                                \b\b\b\b\b\b\b\b\b\b\b\b\b\b\b\b\b\b\b\b\b\b\b\b\b\b\b\b\b\b\b\b  6% 56 + wavs/File0057_0000.wav\b\b\b\b\b\b\b\b\b\b\b\b\b\b\b\b\b\b\b\b\b\b\b\b\b\b\b\b\b\b\b\b                                \b\b\b\b\b\b\b\b\b\b\b\b\b\b\b\b\b\b\b\b\b\b\b\b\b\b\b\b\b\b\b\b  7% 56 + wavs/File0057_0000.wav\b\b\b\b\b\b\b\b\b\b\b\b\b\b\b\b\b\b\b\b\b\b\b\b\b\b\b\b\b\b\b\b                                \b\b\b\b\b\b\b\b\b\b\b\b\b\b\b\b\b\b\b\b\b\b\b\b\b\b\b\b\b\b\b\b  9% 63 + wavs/File0064_0000.wav\b\b\b\b\b\b\b\b\b\b\b\b\b\b\b\b\b\b\b\b\b\b\b\b\b\b\b\b\b\b\b\b                                \b\b\b\b\b\b\b\b\b\b\b\b\b\b\b\b\b\b\b\b\b\b\b\b\b\b\b\b\b\b\b\b 10% 76 + wavs/File0077_0000.wav\b\b\b\b\b\b\b\b\b\b\b\b\b\b\b\b\b\b\b\b\b\b\b\b\b\b\b\b\b\b\b\b                                \b\b\b\b\b\b\b\b\b\b\b\b\b\b\b\b\b\b\b\b\b\b\b\b\b\b\b\b\b\b\b\b 12% 86 + wavs/File0087_0000.wav\b\b\b\b\b\b\b\b\b\b\b\b\b\b\b\b\b\b\b\b\b\b\b\b\b\b\b\b\b\b\b\b                                \b\b\b\b\b\b\b\b\b\b\b\b\b\b\b\b\b\b\b\b\b\b\b\b\b\b\b\b\b\b\b\b 13% 94 + wavs/File0095_0000.wav\b\b\b\b\b\b\b\b\b\b\b\b\b\b\b\b\b\b\b\b\b\b\b\b\b\b\b\b\b\b\b\b                                \b\b\b\b\b\b\b\b\b\b\b\b\b\b\b\b\b\b\b\b\b\b\b\b\b\b\b\b\b\b\b\b 14% 94 + wavs/File0095_0000.wav\b\b\b\b\b\b\b\b\b\b\b\b\b\b\b\b\b\b\b\b\b\b\b\b\b\b\b\b\b\b\b\b                                \b\b\b\b\b\b\b\b\b\b\b\b\b\b\b\b\b\b\b\b\b\b\b\b\b\b\b\b\b\b\b\b 16% 102 + wavs/File0103_0000.wav\b\b\b\b\b\b\b\b\b\b\b\b\b\b\b\b\b\b\b\b\b\b\b\b\b\b\b\b\b\b\b\b\b                                 \b\b\b\b\b\b\b\b\b\b\b\b\b\b\b\b\b\b\b\b\b\b\b\b\b\b\b\b\b\b\b\b\b 17% 111 + wavs/File0112_0000.wav\b\b\b\b\b\b\b\b\b\b\b\b\b\b\b\b\b\b\b\b\b\b\b\b\b\b\b\b\b\b\b\b\b                                 \b\b\b\b\b\b\b\b\b\b\b\b\b\b\b\b\b\b\b\b\b\b\b\b\b\b\b\b\b\b\b\b\b 18% 112 + wavs/File0113_0000.wav\b\b\b\b\b\b\b\b\b\b\b\b\b\b\b\b\b\b\b\b\b\b\b\b\b\b\b\b\b\b\b\b\b                                 \b\b\b\b\b\b\b\b\b\b\b\b\b\b\b\b\b\b\b\b\b\b\b\b\b\b\b\b\b\b\b\b\b 19% 120 + wavs/File0121_0000.wav\b\b\b\b\b\b\b\b\b\b\b\b\b\b\b\b\b\b\b\b\b\b\b\b\b\b\b\b\b\b\b\b\b                                 \b\b\b\b\b\b\b\b\b\b\b\b\b\b\b\b\b\b\b\b\b\b\b\b\b\b\b\b\b\b\b\b\b 21% 129 + wavs/File0130_0000.wav\b\b\b\b\b\b\b\b\b\b\b\b\b\b\b\b\b\b\b\b\b\b\b\b\b\b\b\b\b\b\b\b\b                                 \b\b\b\b\b\b\b\b\b\b\b\b\b\b\b\b\b\b\b\b\b\b\b\b\b\b\b\b\b\b\b\b\b 22% 129 + wavs/File0130_0000.wav\b\b\b\b\b\b\b\b\b\b\b\b\b\b\b\b\b\b\b\b\b\b\b\b\b\b\b\b\b\b\b\b\b                                 \b\b\b\b\b\b\b\b\b\b\b\b\b\b\b\b\b\b\b\b\b\b\b\b\b\b\b\b\b\b\b\b\b 23% 136 + wavs/File0137_0000.wav\b\b\b\b\b\b\b\b\b\b\b\b\b\b\b\b\b\b\b\b\b\b\b\b\b\b\b\b\b\b\b\b\b                                 \b\b\b\b\b\b\b\b\b\b\b\b\b\b\b\b\b\b\b\b\b\b\b\b\b\b\b\b\b\b\b\b\b 24% 148 + wavs/File0149_0000.wav\b\b\b\b\b\b\b\b\b\b\b\b\b\b\b\b\b\b\b\b\b\b\b\b\b\b\b\b\b\b\b\b\b                                 \b\b\b\b\b\b\b\b\b\b\b\b\b\b\b\b\b\b\b\b\b\b\b\b\b\b\b\b\b\b\b\b\b 25% 148 + wavs/File0149_0000.wav\b\b\b\b\b\b\b\b\b\b\b\b\b\b\b\b\b\b\b\b\b\b\b\b\b\b\b\b\b\b\b\b\b                                 \b\b\b\b\b\b\b\b\b\b\b\b\b\b\b\b\b\b\b\b\b\b\b\b\b\b\b\b\b\b\b\b\b 26% 148 + wavs/File0149_0000.wav\b\b\b\b\b\b\b\b\b\b\b\b\b\b\b\b\b\b\b\b\b\b\b\b\b\b\b\b\b\b\b\b\b                                 \b\b\b\b\b\b\b\b\b\b\b\b\b\b\b\b\b\b\b\b\b\b\b\b\b\b\b\b\b\b\b\b\b 26% 160 + wavs/File0161_0000.wav\b\b\b\b\b\b\b\b\b\b\b\b\b\b\b\b\b\b\b\b\b\b\b\b\b\b\b\b\b\b\b\b\b                                 \b\b\b\b\b\b\b\b\b\b\b\b\b\b\b\b\b\b\b\b\b\b\b\b\b\b\b\b\b\b\b\b\b 27% 160 + wavs/File0161_0000.wav\b\b\b\b\b\b\b\b\b\b\b\b\b\b\b\b\b\b\b\b\b\b\b\b\b\b\b\b\b\b\b\b\b                                 \b\b\b\b\b\b\b\b\b\b\b\b\b\b\b\b\b\b\b\b\b\b\b\b\b\b\b\b\b\b\b\b\b 27% 161 + wavs/File0162_0000.wav\b\b\b\b\b\b\b\b\b\b\b\b\b\b\b\b\b\b\b\b\b\b\b\b\b\b\b\b\b\b\b\b\b                                 \b\b\b\b\b\b\b\b\b\b\b\b\b\b\b\b\b\b\b\b\b\b\b\b\b\b\b\b\b\b\b\b\b 28% 172 + wavs/File0173_0000.wav\b\b\b\b\b\b\b\b\b\b\b\b\b\b\b\b\b\b\b\b\b\b\b\b\b\b\b\b\b\b\b\b\b                                 \b\b\b\b\b\b\b\b\b\b\b\b\b\b\b\b\b\b\b\b\b\b\b\b\b\b\b\b\b\b\b\b\b 29% 172 + wavs/File0173_0000.wav\b\b\b\b\b\b\b\b\b\b\b\b\b\b\b\b\b\b\b\b\b\b\b\b\b\b\b\b\b\b\b\b\b                                 \b\b\b\b\b\b\b\b\b\b\b\b\b\b\b\b\b\b\b\b\b\b\b\b\b\b\b\b\b\b\b\b\b 29% 173 + wavs/File0174_0000.wav\b\b\b\b\b\b\b\b\b\b\b\b\b\b\b\b\b\b\b\b\b\b\b\b\b\b\b\b\b\b\b\b\b                                 \b\b\b\b\b\b\b\b\b\b\b\b\b\b\b\b\b\b\b\b\b\b\b\b\b\b\b\b\b\b\b\b\b 30% 183 + wavs/File0184_0000.wav\b\b\b\b\b\b\b\b\b\b\b\b\b\b\b\b\b\b\b\b\b\b\b\b\b\b\b\b\b\b\b\b\b                                 \b\b\b\b\b\b\b\b\b\b\b\b\b\b\b\b\b\b\b\b\b\b\b\b\b\b\b\b\b\b\b\b\b 31% 183 + wavs/File0184_0000.wav\b\b\b\b\b\b\b\b\b\b\b\b\b\b\b\b\b\b\b\b\b\b\b\b\b\b\b\b\b\b\b\b\b                                 \b\b\b\b\b\b\b\b\b\b\b\b\b\b\b\b\b\b\b\b\b\b\b\b\b\b\b\b\b\b\b\b\b 31% 193 + wavs/File0194_0000.wav\b\b\b\b\b\b\b\b\b\b\b\b\b\b\b\b\b\b\b\b\b\b\b\b\b\b\b\b\b\b\b\b\b                                 \b\b\b\b\b\b\b\b\b\b\b\b\b\b\b\b\b\b\b\b\b\b\b\b\b\b\b\b\b\b\b\b\b 32% 193 + wavs/File0194_0000.wav\b\b\b\b\b\b\b\b\b\b\b\b\b\b\b\b\b\b\b\b\b\b\b\b\b\b\b\b\b\b\b\b\b                                 \b\b\b\b\b\b\b\b\b\b\b\b\b\b\b\b\b\b\b\b\b\b\b\b\b\b\b\b\b\b\b\b\b 33% 193 + wavs/File0194_0000.wav\b\b\b\b\b\b\b\b\b\b\b\b\b\b\b\b\b\b\b\b\b\b\b\b\b\b\b\b\b\b\b\b\b                                 \b\b\b\b\b\b\b\b\b\b\b\b\b\b\b\b\b\b\b\b\b\b\b\b\b\b\b\b\b\b\b\b\b 33% 201 + wavs/File0202_0000.wav\b\b\b\b\b\b\b\b\b\b\b\b\b\b\b\b\b\b\b\b\b\b\b\b\b\b\b\b\b\b\b\b\b                                 \b\b\b\b\b\b\b\b\b\b\b\b\b\b\b\b\b\b\b\b\b\b\b\b\b\b\b\b\b\b\b\b\b 34% 201 + wavs/File0202_0000.wav\b\b\b\b\b\b\b\b\b\b\b\b\b\b\b\b\b\b\b\b\b\b\b\b\b\b\b\b\b\b\b\b\b                                 \b\b\b\b\b\b\b\b\b\b\b\b\b\b\b\b\b\b\b\b\b\b\b\b\b\b\b\b\b\b\b\b\b 34% 202 + wavs/File0203_0000.wav\b\b\b\b\b\b\b\b\b\b\b\b\b\b\b\b\b\b\b\b\b\b\b\b\b\b\b\b\b\b\b\b\b                                 \b\b\b\b\b\b\b\b\b\b\b\b\b\b\b\b\b\b\b\b\b\b\b\b\b\b\b\b\b\b\b\b\b 34% 212 + wavs/File0213_0000.wav\b\b\b\b\b\b\b\b\b\b\b\b\b\b\b\b\b\b\b\b\b\b\b\b\b\b\b\b\b\b\b\b\b                                 \b\b\b\b\b\b\b\b\b\b\b\b\b\b\b\b\b\b\b\b\b\b\b\b\b\b\b\b\b\b\b\b\b 35% 212 + wavs/File0213_0000.wav\b\b\b\b\b\b\b\b\b\b\b\b\b\b\b\b\b\b\b\b\b\b\b\b\b\b\b\b\b\b\b\b\b                                 \b\b\b\b\b\b\b\b\b\b\b\b\b\b\b\b\b\b\b\b\b\b\b\b\b\b\b\b\b\b\b\b\b 36% 212 + wavs/File0213_0000.wav\b\b\b\b\b\b\b\b\b\b\b\b\b\b\b\b\b\b\b\b\b\b\b\b\b\b\b\b\b\b\b\b\b                                 \b\b\b\b\b\b\b\b\b\b\b\b\b\b\b\b\b\b\b\b\b\b\b\b\b\b\b\b\b\b\b\b\b 36% 222 + wavs/File0223_0000.wav\b\b\b\b\b\b\b\b\b\b\b\b\b\b\b\b\b\b\b\b\b\b\b\b\b\b\b\b\b\b\b\b\b                                 \b\b\b\b\b\b\b\b\b\b\b\b\b\b\b\b\b\b\b\b\b\b\b\b\b\b\b\b\b\b\b\b\b 37% 222 + wavs/File0223_0000.wav\b\b\b\b\b\b\b\b\b\b\b\b\b\b\b\b\b\b\b\b\b\b\b\b\b\b\b\b\b\b\b\b\b                                 \b\b\b\b\b\b\b\b\b\b\b\b\b\b\b\b\b\b\b\b\b\b\b\b\b\b\b\b\b\b\b\b\b 38% 222 + wavs/File0223_0000.wav\b\b\b\b\b\b\b\b\b\b\b\b\b\b\b\b\b\b\b\b\b\b\b\b\b\b\b\b\b\b\b\b\b                                 \b\b\b\b\b\b\b\b\b\b\b\b\b\b\b\b\b\b\b\b\b\b\b\b\b\b\b\b\b\b\b\b\b 39% 231 + wavs/File0232_0000.wav\b\b\b\b\b\b\b\b\b\b\b\b\b\b\b\b\b\b\b\b\b\b\b\b\b\b\b\b\b\b\b\b\b                                 \b\b\b\b\b\b\b\b\b\b\b\b\b\b\b\b\b\b\b\b\b\b\b\b\b\b\b\b\b\b\b\b\b 40% 231 + wavs/File0232_0000.wav\b\b\b\b\b\b\b\b\b\b\b\b\b\b\b\b\b\b\b\b\b\b\b\b\b\b\b\b\b\b\b\b\b                                 \b\b\b\b\b\b\b\b\b\b\b\b\b\b\b\b\b\b\b\b\b\b\b\b\b\b\b\b\b\b\b\b\b 40% 240 + wavs/File0241_0000.wav\b\b\b\b\b\b\b\b\b\b\b\b\b\b\b\b\b\b\b\b\b\b\b\b\b\b\b\b\b\b\b\b\b                                 \b\b\b\b\b\b\b\b\b\b\b\b\b\b\b\b\b\b\b\b\b\b\b\b\b\b\b\b\b\b\b\b\b 41% 240 + wavs/File0241_0000.wav\b\b\b\b\b\b\b\b\b\b\b\b\b\b\b\b\b\b\b\b\b\b\b\b\b\b\b\b\b\b\b\b\b                                 \b\b\b\b\b\b\b\b\b\b\b\b\b\b\b\b\b\b\b\b\b\b\b\b\b\b\b\b\b\b\b\b\b 43% 248 + wavs/File0249_0000.wav\b\b\b\b\b\b\b\b\b\b\b\b\b\b\b\b\b\b\b\b\b\b\b\b\b\b\b\b\b\b\b\b\b                                 \b\b\b\b\b\b\b\b\b\b\b\b\b\b\b\b\b\b\b\b\b\b\b\b\b\b\b\b\b\b\b\b\b 44% 259 + wavs/File0260_0000.wav\b\b\b\b\b\b\b\b\b\b\b\b\b\b\b\b\b\b\b\b\b\b\b\b\b\b\b\b\b\b\b\b\b                                 \b\b\b\b\b\b\b\b\b\b\b\b\b\b\b\b\b\b\b\b\b\b\b\b\b\b\b\b\b\b\b\b\b 45% 259 + wavs/File0260_0000.wav\b\b\b\b\b\b\b\b\b\b\b\b\b\b\b\b\b\b\b\b\b\b\b\b\b\b\b\b\b\b\b\b\b                                 \b\b\b\b\b\b\b\b\b\b\b\b\b\b\b\b\b\b\b\b\b\b\b\b\b\b\b\b\b\b\b\b\b 46% 270 + wavs/File0271_0000.wav\b\b\b\b\b\b\b\b\b\b\b\b\b\b\b\b\b\b\b\b\b\b\b\b\b\b\b\b\b\b\b\b\b                                 \b\b\b\b\b\b\b\b\b\b\b\b\b\b\b\b\b\b\b\b\b\b\b\b\b\b\b\b\b\b\b\b\b 47% 280 + wavs/File0281_0000.wav\b\b\b\b\b\b\b\b\b\b\b\b\b\b\b\b\b\b\b\b\b\b\b\b\b\b\b\b\b\b\b\b\b                                 \b\b\b\b\b\b\b\b\b\b\b\b\b\b\b\b\b\b\b\b\b\b\b\b\b\b\b\b\b\b\b\b\b 48% 280 + wavs/File0281_0000.wav\b\b\b\b\b\b\b\b\b\b\b\b\b\b\b\b\b\b\b\b\b\b\b\b\b\b\b\b\b\b\b\b\b                                 \b\b\b\b\b\b\b\b\b\b\b\b\b\b\b\b\b\b\b\b\b\b\b\b\b\b\b\b\b\b\b\b\b 49% 290 + wavs/File0291_0000.wav\b\b\b\b\b\b\b\b\b\b\b\b\b\b\b\b\b\b\b\b\b\b\b\b\b\b\b\b\b\b\b\b\b                                 \b\b\b\b\b\b\b\b\b\b\b\b\b\b\b\b\b\b\b\b\b\b\b\b\b\b\b\b\b\b\b\b\b 51% 300 + wavs/File0301_0000.wav\b\b\b\b\b\b\b\b\b\b\b\b\b\b\b\b\b\b\b\b\b\b\b\b\b\b\b\b\b\b\b\b\b                                 \b\b\b\b\b\b\b\b\b\b\b\b\b\b\b\b\b\b\b\b\b\b\b\b\b\b\b\b\b\b\b\b\b 52% 300 + wavs/File0301_0000.wav\b\b\b\b\b\b\b\b\b\b\b\b\b\b\b\b\b\b\b\b\b\b\b\b\b\b\b\b\b\b\b\b\b                                 \b\b\b\b\b\b\b\b\b\b\b\b\b\b\b\b\b\b\b\b\b\b\b\b\b\b\b\b\b\b\b\b\b 53% 312 + wavs/File0313_0000.wav\b\b\b\b\b\b\b\b\b\b\b\b\b\b\b\b\b\b\b\b\b\b\b\b\b\b\b\b\b\b\b\b\b                                 \b\b\b\b\b\b\b\b\b\b\b\b\b\b\b\b\b\b\b\b\b\b\b\b\b\b\b\b\b\b\b\b\b 54% 324 + wavs/File0325_0000.wav\b\b\b\b\b\b\b\b\b\b\b\b\b\b\b\b\b\b\b\b\b\b\b\b\b\b\b\b\b\b\b\b\b                                 \b\b\b\b\b\b\b\b\b\b\b\b\b\b\b\b\b\b\b\b\b\b\b\b\b\b\b\b\b\b\b\b\b 55% 324 + wavs/File0325_0000.wav\b\b\b\b\b\b\b\b\b\b\b\b\b\b\b\b\b\b\b\b\b\b\b\b\b\b\b\b\b\b\b\b\b                                 \b\b\b\b\b\b\b\b\b\b\b\b\b\b\b\b\b\b\b\b\b\b\b\b\b\b\b\b\b\b\b\b\b 57% 335 + wavs/File0336_0000.wav\b\b\b\b\b\b\b\b\b\b\b\b\b\b\b\b\b\b\b\b\b\b\b\b\b\b\b\b\b\b\b\b\b                                 \b\b\b\b\b\b\b\b\b\b\b\b\b\b\b\b\b\b\b\b\b\b\b\b\b\b\b\b\b\b\b\b\b 58% 345 + wavs/File0346_0000.wav\b\b\b\b\b\b\b\b\b\b\b\b\b\b\b\b\b\b\b\b\b\b\b\b\b\b\b\b\b\b\b\b\b                                 \b\b\b\b\b\b\b\b\b\b\b\b\b\b\b\b\b\b\b\b\b\b\b\b\b\b\b\b\b\b\b\b\b 59% 345 + wavs/File0346_0000.wav\b\b\b\b\b\b\b\b\b\b\b\b\b\b\b\b\b\b\b\b\b\b\b\b\b\b\b\b\b\b\b\b\b                                 \b\b\b\b\b\b\b\b\b\b\b\b\b\b\b\b\b\b\b\b\b\b\b\b\b\b\b\b\b\b\b\b\b 60% 359 + wavs/File0360_0000.wav\b\b\b\b\b\b\b\b\b\b\b\b\b\b\b\b\b\b\b\b\b\b\b\b\b\b\b\b\b\b\b\b\b                                 \b\b\b\b\b\b\b\b\b\b\b\b\b\b\b\b\b\b\b\b\b\b\b\b\b\b\b\b\b\b\b\b\b 61% 359 + wavs/File0360_0000.wav\b\b\b\b\b\b\b\b\b\b\b\b\b\b\b\b\b\b\b\b\b\b\b\b\b\b\b\b\b\b\b\b\b                                 \b\b\b\b\b\b\b\b\b\b\b\b\b\b\b\b\b\b\b\b\b\b\b\b\b\b\b\b\b\b\b\b\b 62% 368 + wavs/File0369_0000.wav\b\b\b\b\b\b\b\b\b\b\b\b\b\b\b\b\b\b\b\b\b\b\b\b\b\b\b\b\b\b\b\b\b                                 \b\b\b\b\b\b\b\b\b\b\b\b\b\b\b\b\b\b\b\b\b\b\b\b\b\b\b\b\b\b\b\b\b 63% 382 + wavs/File0383_0000.wav\b\b\b\b\b\b\b\b\b\b\b\b\b\b\b\b\b\b\b\b\b\b\b\b\b\b\b\b\b\b\b\b\b                                 \b\b\b\b\b\b\b\b\b\b\b\b\b\b\b\b\b\b\b\b\b\b\b\b\b\b\b\b\b\b\b\b\b 64% 382 + wavs/File0383_0000.wav\b\b\b\b\b\b\b\b\b\b\b\b\b\b\b\b\b\b\b\b\b\b\b\b\b\b\b\b\b\b\b\b\b                                 \b\b\b\b\b\b\b\b\b\b\b\b\b\b\b\b\b\b\b\b\b\b\b\b\b\b\b\b\b\b\b\b\b 66% 391 + wavs/File0392_0000.wav\b\b\b\b\b\b\b\b\b\b\b\b\b\b\b\b\b\b\b\b\b\b\b\b\b\b\b\b\b\b\b\b\b                                 \b\b\b\b\b\b\b\b\b\b\b\b\b\b\b\b\b\b\b\b\b\b\b\b\b\b\b\b\b\b\b\b\b 67% 402 + wavs/File0403_0000.wav\b\b\b\b\b\b\b\b\b\b\b\b\b\b\b\b\b\b\b\b\b\b\b\b\b\b\b\b\b\b\b\b\b                                 \b\b\b\b\b\b\b\b\b\b\b\b\b\b\b\b\b\b\b\b\b\b\b\b\b\b\b\b\b\b\b\b\b 68% 402 + wavs/File0403_0000.wav\b\b\b\b\b\b\b\b\b\b\b\b\b\b\b\b\b\b\b\b\b\b\b\b\b\b\b\b\b\b\b\b\b                                 \b\b\b\b\b\b\b\b\b\b\b\b\b\b\b\b\b\b\b\b\b\b\b\b\b\b\b\b\b\b\b\b\b 69% 412 + wavs/File0413_0000.wav\b\b\b\b\b\b\b\b\b\b\b\b\b\b\b\b\b\b\b\b\b\b\b\b\b\b\b\b\b\b\b\b\b                                 \b\b\b\b\b\b\b\b\b\b\b\b\b\b\b\b\b\b\b\b\b\b\b\b\b\b\b\b\b\b\b\b\b 70% 423 + wavs/File0424_0000.wav\b\b\b\b\b\b\b\b\b\b\b\b\b\b\b\b\b\b\b\b\b\b\b\b\b\b\b\b\b\b\b\b\b                                 \b\b\b\b\b\b\b\b\b\b\b\b\b\b\b\b\b\b\b\b\b\b\b\b\b\b\b\b\b\b\b\b\b 71% 423 + wavs/File0424_0000.wav\b\b\b\b\b\b\b\b\b\b\b\b\b\b\b\b\b\b\b\b\b\b\b\b\b\b\b\b\b\b\b\b\b                                 \b\b\b\b\b\b\b\b\b\b\b\b\b\b\b\b\b\b\b\b\b\b\b\b\b\b\b\b\b\b\b\b\b 72% 432 + wavs/File0432_0000.wav\b\b\b\b\b\b\b\b\b\b\b\b\b\b\b\b\b\b\b\b\b\b\b\b\b\b\b\b\b\b\b\b\b                                 \b\b\b\b\b\b\b\b\b\b\b\b\b\b\b\b\b\b\b\b\b\b\b\b\b\b\b\b\b\b\b\b\b 73% 432 + wavs/File0432_0000.wav\b\b\b\b\b\b\b\b\b\b\b\b\b\b\b\b\b\b\b\b\b\b\b\b\b\b\b\b\b\b\b\b\b                                 \b\b\b\b\b\b\b\b\b\b\b\b\b\b\b\b\b\b\b\b\b\b\b\b\b\b\b\b\b\b\b\b\b 74% 446 + wavs/File0446_0000.wav\b\b\b\b\b\b\b\b\b\b\b\b\b\b\b\b\b\b\b\b\b\b\b\b\b\b\b\b\b\b\b\b\b                                 \b\b\b\b\b\b\b\b\b\b\b\b\b\b\b\b\b\b\b\b\b\b\b\b\b\b\b\b\b\b\b\b\b 75% 447 + wavs/File0447_0000.wav\b\b\b\b\b\b\b\b\b\b\b\b\b\b\b\b\b\b\b\b\b\b\b\b\b\b\b\b\b\b\b\b\b                                 \b\b\b\b\b\b\b\b\b\b\b\b\b\b\b\b\b\b\b\b\b\b\b\b\b\b\b\b\b\b\b\b\b 76% 456 + wavs/File0456_0000.wav\b\b\b\b\b\b\b\b\b\b\b\b\b\b\b\b\b\b\b\b\b\b\b\b\b\b\b\b\b\b\b\b\b                                 \b\b\b\b\b\b\b\b\b\b\b\b\b\b\b\b\b\b\b\b\b\b\b\b\b\b\b\b\b\b\b\b\b 77% 457 + wavs/File0457_0000.wav\b\b\b\b\b\b\b\b\b\b\b\b\b\b\b\b\b\b\b\b\b\b\b\b\b\b\b\b\b\b\b\b\b                                 \b\b\b\b\b\b\b\b\b\b\b\b\b\b\b\b\b\b\b\b\b\b\b\b\b\b\b\b\b\b\b\b\b 78% 466 + wavs/File0466_0000.wav\b\b\b\b\b\b\b\b\b\b\b\b\b\b\b\b\b\b\b\b\b\b\b\b\b\b\b\b\b\b\b\b\b                                 \b\b\b\b\b\b\b\b\b\b\b\b\b\b\b\b\b\b\b\b\b\b\b\b\b\b\b\b\b\b\b\b\b 79% 475 + wavs/File0475_0000.wav\b\b\b\b\b\b\b\b\b\b\b\b\b\b\b\b\b\b\b\b\b\b\b\b\b\b\b\b\b\b\b\b\b                                 \b\b\b\b\b\b\b\b\b\b\b\b\b\b\b\b\b\b\b\b\b\b\b\b\b\b\b\b\b\b\b\b\b 80% 475 + wavs/File0475_0000.wav\b\b\b\b\b\b\b\b\b\b\b\b\b\b\b\b\b\b\b\b\b\b\b\b\b\b\b\b\b\b\b\b\b                                 \b\b\b\b\b\b\b\b\b\b\b\b\b\b\b\b\b\b\b\b\b\b\b\b\b\b\b\b\b\b\b\b\b 81% 486 + wavs/File0486_0000.wav\b\b\b\b\b\b\b\b\b\b\b\b\b\b\b\b\b\b\b\b\b\b\b\b\b\b\b\b\b\b\b\b\b                                 \b\b\b\b\b\b\b\b\b\b\b\b\b\b\b\b\b\b\b\b\b\b\b\b\b\b\b\b\b\b\b\b\b 82% 499 + wavs/File0499_0000.wav\b\b\b\b\b\b\b\b\b\b\b\b\b\b\b\b\b\b\b\b\b\b\b\b\b\b\b\b\b\b\b\b\b                                 \b\b\b\b\b\b\b\b\b\b\b\b\b\b\b\b\b\b\b\b\b\b\b\b\b\b\b\b\b\b\b\b\b 83% 499 + wavs/File0499_0000.wav\b\b\b\b\b\b\b\b\b\b\b\b\b\b\b\b\b\b\b\b\b\b\b\b\b\b\b\b\b\b\b\b\b                                 \b\b\b\b\b\b\b\b\b\b\b\b\b\b\b\b\b\b\b\b\b\b\b\b\b\b\b\b\b\b\b\b\b 84% 509 + wavs/File0509_0000.wav\b\b\b\b\b\b\b\b\b\b\b\b\b\b\b\b\b\b\b\b\b\b\b\b\b\b\b\b\b\b\b\b\b                                 \b\b\b\b\b\b\b\b\b\b\b\b\b\b\b\b\b\b\b\b\b\b\b\b\b\b\b\b\b\b\b\b\b 85% 509 + wavs/File0509_0000.wav\b\b\b\b\b\b\b\b\b\b\b\b\b\b\b\b\b\b\b\b\b\b\b\b\b\b\b\b\b\b\b\b\b                                 \b\b\b\b\b\b\b\b\b\b\b\b\b\b\b\b\b\b\b\b\b\b\b\b\b\b\b\b\b\b\b\b\b 86% 517 + wavs/File0517_0000.wav\b\b\b\b\b\b\b\b\b\b\b\b\b\b\b\b\b\b\b\b\b\b\b\b\b\b\b\b\b\b\b\b\b                                 \b\b\b\b\b\b\b\b\b\b\b\b\b\b\b\b\b\b\b\b\b\b\b\b\b\b\b\b\b\b\b\b\b 87% 517 + wavs/File0517_0000.wav\b\b\b\b\b\b\b\b\b\b\b\b\b\b\b\b\b\b\b\b\b\b\b\b\b\b\b\b\b\b\b\b\b                                 \b\b\b\b\b\b\b\b\b\b\b\b\b\b\b\b\b\b\b\b\b\b\b\b\b\b\b\b\b\b\b\b\b 88% 529 + wavs/File0529_0000.wav\b\b\b\b\b\b\b\b\b\b\b\b\b\b\b\b\b\b\b\b\b\b\b\b\b\b\b\b\b\b\b\b\b                                 \b\b\b\b\b\b\b\b\b\b\b\b\b\b\b\b\b\b\b\b\b\b\b\b\b\b\b\b\b\b\b\b\b 88% 530 + wavs/File0530_0000.wav\b\b\b\b\b\b\b\b\b\b\b\b\b\b\b\b\b\b\b\b\b\b\b\b\b\b\b\b\b\b\b\b\b                                 \b\b\b\b\b\b\b\b\b\b\b\b\b\b\b\b\b\b\b\b\b\b\b\b\b\b\b\b\b\b\b\b\b 89% 535 + wavs/File0535_0000.wav\b\b\b\b\b\b\b\b\b\b\b\b\b\b\b\b\b\b\b\b\b\b\b\b\b\b\b\b\b\b\b\b\b                                 \b\b\b\b\b\b\b\b\b\b\b\b\b\b\b\b\b\b\b\b\b\b\b\b\b\b\b\b\b\b\b\b\b 90% 535 + wavs/File0535_0000.wav\b\b\b\b\b\b\b\b\b\b\b\b\b\b\b\b\b\b\b\b\b\b\b\b\b\b\b\b\b\b\b\b\b                                 \b\b\b\b\b\b\b\b\b\b\b\b\b\b\b\b\b\b\b\b\b\b\b\b\b\b\b\b\b\b\b\b\b 91% 545 + wavs/File0544_0000.wav\b\b\b\b\b\b\b\b\b\b\b\b\b\b\b\b\b\b\b\b\b\b\b\b\b\b\b\b\b\b\b\b\b                                 \b\b\b\b\b\b\b\b\b\b\b\b\b\b\b\b\b\b\b\b\b\b\b\b\b\b\b\b\b\b\b\b\b 92% 545 + wavs/File0544_0000.wav\b\b\b\b\b\b\b\b\b\b\b\b\b\b\b\b\b\b\b\b\b\b\b\b\b\b\b\b\b\b\b\b\b                                 \b\b\b\b\b\b\b\b\b\b\b\b\b\b\b\b\b\b\b\b\b\b\b\b\b\b\b\b\b\b\b\b\b 93% 545 + wavs/File0544_0000.wav\b\b\b\b\b\b\b\b\b\b\b\b\b\b\b\b\b\b\b\b\b\b\b\b\b\b\b\b\b\b\b\b\b                                 \b\b\b\b\b\b\b\b\b\b\b\b\b\b\b\b\b\b\b\b\b\b\b\b\b\b\b\b\b\b\b\b\b 93% 553 + wavs/File0552_0000.wav\b\b\b\b\b\b\b\b\b\b\b\b\b\b\b\b\b\b\b\b\b\b\b\b\b\b\b\b\b\b\b\b\b                                 \b\b\b\b\b\b\b\b\b\b\b\b\b\b\b\b\b\b\b\b\b\b\b\b\b\b\b\b\b\b\b\b\b 94% 553 + wavs/File0552_0000.wav\b\b\b\b\b\b\b\b\b\b\b\b\b\b\b\b\b\b\b\b\b\b\b\b\b\b\b\b\b\b\b\b\b                                 \b\b\b\b\b\b\b\b\b\b\b\b\b\b\b\b\b\b\b\b\b\b\b\b\b\b\b\b\b\b\b\b\b 94% 554 + wavs/File0553_0000.wav\b\b\b\b\b\b\b\b\b\b\b\b\b\b\b\b\b\b\b\b\b\b\b\b\b\b\b\b\b\b\b\b\b                                 \b\b\b\b\b\b\b\b\b\b\b\b\b\b\b\b\b\b\b\b\b\b\b\b\b\b\b\b\b\b\b\b\b 95% 563 + wavs/File0562_0000.wav\b\b\b\b\b\b\b\b\b\b\b\b\b\b\b\b\b\b\b\b\b\b\b\b\b\b\b\b\b\b\b\b\b                                 \b\b\b\b\b\b\b\b\b\b\b\b\b\b\b\b\b\b\b\b\b\b\b\b\b\b\b\b\b\b\b\b\b 96% 563 + wavs/File0562_0000.wav\b\b\b\b\b\b\b\b\b\b\b\b\b\b\b\b\b\b\b\b\b\b\b\b\b\b\b\b\b\b\b\b\b                                 \b\b\b\b\b\b\b\b\b\b\b\b\b\b\b\b\b\b\b\b\b\b\b\b\b\b\b\b\b\b\b\b\b 96% 564 + wavs/File0563_0000.wav\b\b\b\b\b\b\b\b\b\b\b\b\b\b\b\b\b\b\b\b\b\b\b\b\b\b\b\b\b\b\b\b\b                                 \b\b\b\b\b\b\b\b\b\b\b\b\b\b\b\b\b\b\b\b\b\b\b\b\b\b\b\b\b\b\b\b\b 97% 569 + wavs/File0567-broken_0000.wav\b\b\b\b\b\b\b\b\b\b\b\b\b\b\b\b\b\b\b\b\b\b\b\b\b\b\b\b\b\b\b\b\b\b\b\b\b\b\b\b                                        \b\b\b\b\b\b\b\b\b\b\b\b\b\b\b\b\b\b\b\b\b\b\b\b\b\b\b\b\b\b\b\b\b\b\b\b\b\b\b\b 98% 569 + wavs/File0567-broken_0000.wav\b\b\b\b\b\b\b\b\b\b\b\b\b\b\b\b\b\b\b\b\b\b\b\b\b\b\b\b\b\b\b\b\b\b\b\b\b\b\b\b                                        \b\b\b\b\b\b\b\b\b\b\b\b\b\b\b\b\b\b\b\b\b\b\b\b\b\b\b\b\b\b\b\b\b\b\b\b\b\b\b\b 99% 569 + wavs/File0567-broken_0000.wav\b\b\b\b\b\b\b\b\b\b\b\b\b\b\b\b\b\b\b\b\b\b\b\b\b\b\b\b\b\b\b\b\b\b\b\b\b\b\b\b                                        \b\b\b\b\b\b\b\b\b\b\b\b\b\b\b\b\b\b\b\b\b\b\b\b\b\b\b\b\b\b\b\b\b\b\b\b\b\b\b\b100% 569 + wavs/File0567-broken_0000.wav\b\b\b\b\b\b\b\b\b\b\b\b\b\b\b\b\b\b\b\b\b\b\b\b\b\b\b\b\b\b\b\b\b\b\b\b\b\b\b\b                                        \b\b\b\b\b\b\b\b\b\b\b\b\b\b\b\b\b\b\b\b\b\b\b\b\b\b\b\b\b\b\b\b\b\b\b\b\b\b\b\b\n",
            "Files read from disk: 569\n",
            "Archive size: 43303745 bytes (42 MiB)\n",
            "\n",
            "Scan WARNINGS for files and folders:\n",
            "\n",
            "filelists : No more files\n",
            "----------------\n",
            "Scan WARNINGS: 1\n"
          ]
        }
      ],
      "source": [
        "#@markdown 导出方式\n",
        "\n",
        "#@markdown 0 - 不导出\n",
        "\n",
        "#@markdown 1 - 导出filelists和wavs\n",
        "\n",
        "#@markdown 2 - 导出全部文件\n",
        "wv_export_way = 1 #@param {type: \"integer\"}\n",
        "wv_done_path = \"/content/drive/MyDrive/dataset/YOUR_DATASET.7z\" #@param {type: \"string\"}\n",
        "\n",
        "def fun_export():\n",
        "  if os.path.isfile(wv_done_path):\n",
        "    print(\"指定的路径已存在文件，会修改或覆盖原文件，请更换文件名\")\n",
        "    return\n",
        "  if wv_export_way == 1:\n",
        "    !7z a {wv_done_path} {WV_FILELIST_DIR}/ {WV_WAV_DIR}/\n",
        "    return\n",
        "  if wv_export_way == 2:\n",
        "    !7z a {wv_done_path} /content -xr!drive\n",
        "    return\n",
        "fun_export()\n"
      ]
    }
  ],
  "metadata": {
    "accelerator": "GPU",
    "colab": {
      "provenance": []
    },
    "gpuClass": "standard",
    "kernelspec": {
      "display_name": "Python 3",
      "name": "python3"
    },
    "language_info": {
      "name": "python"
    }
  },
  "nbformat": 4,
  "nbformat_minor": 0
}
